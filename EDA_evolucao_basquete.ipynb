{
  "cells": [
    {
      "cell_type": "code",
      "execution_count": 440,
      "metadata": {
        "colab": {
          "base_uri": "https://localhost:8080/"
        },
        "id": "r616joLXsOKH",
        "outputId": "4860a55c-d35b-4d19-97ec-13bcbbd19cb2"
      },
      "outputs": [
        {
          "name": "stdout",
          "output_type": "stream",
          "text": [
            "Requirement already satisfied: streamlit in c:\\users\\fred\\appdata\\local\\programs\\python\\python39\\lib\\site-packages (1.17.0)\n",
            "Requirement already satisfied: pandas>=0.21.0 in c:\\users\\fred\\appdata\\local\\programs\\python\\python39\\lib\\site-packages (from streamlit) (1.3.1)\n",
            "Requirement already satisfied: rich>=10.11.0 in c:\\users\\fred\\appdata\\local\\programs\\python\\python39\\lib\\site-packages (from streamlit) (12.6.0)\n",
            "Requirement already satisfied: altair>=3.2.0 in c:\\users\\fred\\appdata\\local\\programs\\python\\python39\\lib\\site-packages (from streamlit) (4.2.2)\n",
            "Requirement already satisfied: importlib-metadata>=1.4 in c:\\users\\fred\\appdata\\local\\programs\\python\\python39\\lib\\site-packages (from streamlit) (5.0.0)\n",
            "Requirement already satisfied: protobuf<4,>=3.12 in c:\\users\\fred\\appdata\\local\\programs\\python\\python39\\lib\\site-packages (from streamlit) (3.20.3)\n",
            "Requirement already satisfied: click>=7.0 in c:\\users\\fred\\appdata\\local\\programs\\python\\python39\\lib\\site-packages (from streamlit) (8.1.3)\n",
            "Requirement already satisfied: gitpython!=3.1.19 in c:\\users\\fred\\appdata\\local\\programs\\python\\python39\\lib\\site-packages (from streamlit) (3.1.30)\n",
            "Requirement already satisfied: numpy in c:\\users\\fred\\appdata\\local\\programs\\python\\python39\\lib\\site-packages (from streamlit) (1.21.1)\n",
            "Requirement already satisfied: typing-extensions>=3.10.0.0 in c:\\users\\fred\\appdata\\local\\programs\\python\\python39\\lib\\site-packages (from streamlit) (4.4.0)\n",
            "Requirement already satisfied: watchdog in c:\\users\\fred\\appdata\\local\\programs\\python\\python39\\lib\\site-packages (from streamlit) (2.2.1)\n",
            "Requirement already satisfied: semver in c:\\users\\fred\\appdata\\local\\programs\\python\\python39\\lib\\site-packages (from streamlit) (2.13.0)\n",
            "Requirement already satisfied: pyarrow>=4.0 in c:\\users\\fred\\appdata\\local\\programs\\python\\python39\\lib\\site-packages (from streamlit) (11.0.0)\n",
            "Requirement already satisfied: python-dateutil in c:\\users\\fred\\appdata\\local\\programs\\python\\python39\\lib\\site-packages (from streamlit) (2.8.2)\n",
            "Requirement already satisfied: toml in c:\\users\\fred\\appdata\\local\\programs\\python\\python39\\lib\\site-packages (from streamlit) (0.10.2)\n",
            "Requirement already satisfied: pillow>=6.2.0 in c:\\users\\fred\\appdata\\local\\programs\\python\\python39\\lib\\site-packages (from streamlit) (9.4.0)\n",
            "Requirement already satisfied: blinker>=1.0.0 in c:\\users\\fred\\appdata\\local\\programs\\python\\python39\\lib\\site-packages (from streamlit) (1.5)\n",
            "Requirement already satisfied: packaging>=14.1 in c:\\users\\fred\\appdata\\local\\programs\\python\\python39\\lib\\site-packages (from streamlit) (21.3)\n",
            "Requirement already satisfied: requests>=2.4 in c:\\users\\fred\\appdata\\local\\programs\\python\\python39\\lib\\site-packages (from streamlit) (2.28.2)\n",
            "Requirement already satisfied: tornado>=5.0 in c:\\users\\fred\\appdata\\local\\programs\\python\\python39\\lib\\site-packages (from streamlit) (6.1)\n",
            "Requirement already satisfied: validators>=0.2 in c:\\users\\fred\\appdata\\local\\programs\\python\\python39\\lib\\site-packages (from streamlit) (0.20.0)\n",
            "Requirement already satisfied: pydeck>=0.1.dev5 in c:\\users\\fred\\appdata\\local\\programs\\python\\python39\\lib\\site-packages (from streamlit) (0.8.0)\n",
            "Requirement already satisfied: cachetools>=4.0 in c:\\users\\fred\\appdata\\local\\programs\\python\\python39\\lib\\site-packages (from streamlit) (5.3.0)\n",
            "Requirement already satisfied: tzlocal>=1.1 in c:\\users\\fred\\appdata\\local\\programs\\python\\python39\\lib\\site-packages (from streamlit) (4.2)\n",
            "Requirement already satisfied: pympler>=0.9 in c:\\users\\fred\\appdata\\local\\programs\\python\\python39\\lib\\site-packages (from streamlit) (1.0.1)\n",
            "Requirement already satisfied: jsonschema>=3.0 in c:\\users\\fred\\appdata\\local\\programs\\python\\python39\\lib\\site-packages (from altair>=3.2.0->streamlit) (3.2.0)\n",
            "Requirement already satisfied: toolz in c:\\users\\fred\\appdata\\local\\programs\\python\\python39\\lib\\site-packages (from altair>=3.2.0->streamlit) (0.12.0)\n",
            "Requirement already satisfied: jinja2 in c:\\users\\fred\\appdata\\local\\programs\\python\\python39\\lib\\site-packages (from altair>=3.2.0->streamlit) (3.0.1)\n",
            "Requirement already satisfied: entrypoints in c:\\users\\fred\\appdata\\local\\programs\\python\\python39\\lib\\site-packages (from altair>=3.2.0->streamlit) (0.3)\n",
            "Requirement already satisfied: colorama in c:\\users\\fred\\appdata\\local\\programs\\python\\python39\\lib\\site-packages (from click>=7.0->streamlit) (0.4.4)\n",
            "Requirement already satisfied: gitdb<5,>=4.0.1 in c:\\users\\fred\\appdata\\local\\programs\\python\\python39\\lib\\site-packages (from gitpython!=3.1.19->streamlit) (4.0.10)\n",
            "Requirement already satisfied: zipp>=0.5 in c:\\users\\fred\\appdata\\local\\programs\\python\\python39\\lib\\site-packages (from importlib-metadata>=1.4->streamlit) (3.9.0)\n",
            "Requirement already satisfied: pyparsing!=3.0.5,>=2.0.2 in c:\\users\\fred\\appdata\\local\\programs\\python\\python39\\lib\\site-packages (from packaging>=14.1->streamlit) (3.0.10)\n",
            "Requirement already satisfied: pytz>=2017.3 in c:\\users\\fred\\appdata\\local\\programs\\python\\python39\\lib\\site-packages (from pandas>=0.21.0->streamlit) (2021.1)\n",
            "Requirement already satisfied: six>=1.5 in c:\\users\\fred\\appdata\\local\\programs\\python\\python39\\lib\\site-packages (from python-dateutil->streamlit) (1.16.0)\n",
            "Requirement already satisfied: urllib3<1.27,>=1.21.1 in c:\\users\\fred\\appdata\\local\\programs\\python\\python39\\lib\\site-packages (from requests>=2.4->streamlit) (1.26.7)\n",
            "Requirement already satisfied: idna<4,>=2.5 in c:\\users\\fred\\appdata\\local\\programs\\python\\python39\\lib\\site-packages (from requests>=2.4->streamlit) (3.3)\n",
            "Requirement already satisfied: charset-normalizer<4,>=2 in c:\\users\\fred\\appdata\\local\\programs\\python\\python39\\lib\\site-packages (from requests>=2.4->streamlit) (2.0.7)\n",
            "Requirement already satisfied: certifi>=2017.4.17 in c:\\users\\fred\\appdata\\local\\programs\\python\\python39\\lib\\site-packages (from requests>=2.4->streamlit) (2021.10.8)\n",
            "Requirement already satisfied: pygments<3.0.0,>=2.6.0 in c:\\users\\fred\\appdata\\local\\programs\\python\\python39\\lib\\site-packages (from rich>=10.11.0->streamlit) (2.10.0)\n",
            "Requirement already satisfied: commonmark<0.10.0,>=0.9.0 in c:\\users\\fred\\appdata\\local\\programs\\python\\python39\\lib\\site-packages (from rich>=10.11.0->streamlit) (0.9.1)\n",
            "Requirement already satisfied: pytz-deprecation-shim in c:\\users\\fred\\appdata\\local\\programs\\python\\python39\\lib\\site-packages (from tzlocal>=1.1->streamlit) (0.1.0.post0)\n",
            "Requirement already satisfied: tzdata in c:\\users\\fred\\appdata\\local\\programs\\python\\python39\\lib\\site-packages (from tzlocal>=1.1->streamlit) (2022.7)\n",
            "Requirement already satisfied: decorator>=3.4.0 in c:\\users\\fred\\appdata\\local\\programs\\python\\python39\\lib\\site-packages (from validators>=0.2->streamlit) (5.1.0)\n",
            "Requirement already satisfied: smmap<6,>=3.0.1 in c:\\users\\fred\\appdata\\local\\programs\\python\\python39\\lib\\site-packages (from gitdb<5,>=4.0.1->gitpython!=3.1.19->streamlit) (5.0.0)\n",
            "Requirement already satisfied: MarkupSafe>=2.0 in c:\\users\\fred\\appdata\\local\\programs\\python\\python39\\lib\\site-packages (from jinja2->altair>=3.2.0->streamlit) (2.1.1)\n",
            "Requirement already satisfied: pyrsistent>=0.14.0 in c:\\users\\fred\\appdata\\local\\programs\\python\\python39\\lib\\site-packages (from jsonschema>=3.0->altair>=3.2.0->streamlit) (0.18.0)\n",
            "Requirement already satisfied: attrs>=17.4.0 in c:\\users\\fred\\appdata\\local\\programs\\python\\python39\\lib\\site-packages (from jsonschema>=3.0->altair>=3.2.0->streamlit) (22.2.0)\n",
            "Requirement already satisfied: setuptools in c:\\users\\fred\\appdata\\local\\programs\\python\\python39\\lib\\site-packages (from jsonschema>=3.0->altair>=3.2.0->streamlit) (56.0.0)\n"
          ]
        },
        {
          "name": "stderr",
          "output_type": "stream",
          "text": [
            "WARNING: You are using pip version 21.3; however, version 23.1.2 is available.\n",
            "You should consider upgrading via the 'c:\\users\\fred\\appdata\\local\\programs\\python\\python39\\python.exe -m pip install --upgrade pip' command.\n"
          ]
        },
        {
          "name": "stdout",
          "output_type": "stream",
          "text": [
            "Requirement already satisfied: pymongo in c:\\users\\fred\\appdata\\local\\programs\\python\\python39\\lib\\site-packages (4.3.3)\n",
            "Requirement already satisfied: dnspython<3.0.0,>=1.16.0 in c:\\users\\fred\\appdata\\local\\programs\\python\\python39\\lib\\site-packages (from pymongo) (2.2.1)\n"
          ]
        },
        {
          "name": "stderr",
          "output_type": "stream",
          "text": [
            "WARNING: You are using pip version 21.3; however, version 23.1.2 is available.\n",
            "You should consider upgrading via the 'c:\\users\\fred\\appdata\\local\\programs\\python\\python39\\python.exe -m pip install --upgrade pip' command.\n"
          ]
        },
        {
          "name": "stdout",
          "output_type": "stream",
          "text": [
            "Requirement already satisfied: pandas in c:\\users\\fred\\appdata\\local\\programs\\python\\python39\\lib\\site-packages (1.3.1)\n",
            "Requirement already satisfied: python-dateutil>=2.7.3 in c:\\users\\fred\\appdata\\local\\programs\\python\\python39\\lib\\site-packages (from pandas) (2.8.2)\n",
            "Requirement already satisfied: pytz>=2017.3 in c:\\users\\fred\\appdata\\local\\programs\\python\\python39\\lib\\site-packages (from pandas) (2021.1)\n",
            "Requirement already satisfied: numpy>=1.17.3 in c:\\users\\fred\\appdata\\local\\programs\\python\\python39\\lib\\site-packages (from pandas) (1.21.1)\n",
            "Requirement already satisfied: six>=1.5 in c:\\users\\fred\\appdata\\local\\programs\\python\\python39\\lib\\site-packages (from python-dateutil>=2.7.3->pandas) (1.16.0)\n"
          ]
        },
        {
          "name": "stderr",
          "output_type": "stream",
          "text": [
            "WARNING: You are using pip version 21.3; however, version 23.1.2 is available.\n",
            "You should consider upgrading via the 'c:\\users\\fred\\appdata\\local\\programs\\python\\python39\\python.exe -m pip install --upgrade pip' command.\n"
          ]
        }
      ],
      "source": [
        "! pip install streamlit\n",
        "! pip install pymongo\n",
        "! pip install pandas"
      ]
    },
    {
      "cell_type": "code",
      "execution_count": 441,
      "metadata": {
        "id": "wFRkXGt6r869"
      },
      "outputs": [],
      "source": [
        "import streamlit as st\n",
        "from pymongo import MongoClient\n",
        "import pandas as pd\n",
        "import os\n",
        "import numpy as np\n",
        "import datetime\n",
        "from calendar import monthrange\n",
        "from datetime import timezone, timedelta\n",
        "import time\n",
        "import matplotlib\n",
        "import matplotlib.patches as patches\n",
        "import matplotlib.pyplot as plt\n",
        "import plotly.express as px"
      ]
    },
    {
      "cell_type": "code",
      "execution_count": 442,
      "metadata": {
        "id": "lbsN1Ho7sD1k"
      },
      "outputs": [],
      "source": [
        "with open('C:/Users/Fred/OneDrive/Documentos/FREDERICO/Frederico/6 python_dev/evolucao_basquete/credentials.txt', 'r') as file:\n",
        "    lines = file.readlines()\n",
        "    if len(lines) >= 3:\n",
        "        CLIENT_TOKEN = lines[2].strip().split()\n",
        "    else:\n",
        "        print('sem CLIENT_TOKEN')"
      ]
    },
    {
      "cell_type": "code",
      "execution_count": 443,
      "metadata": {
        "id": "vFlQmK0IsE8N"
      },
      "outputs": [],
      "source": [
        "def connect_to_mongodb():\n",
        "    \"\"\"\n",
        "    Function to connect to mongoDB\n",
        "    \"\"\"\n",
        "    global collection\n",
        "    # client = os.getenv('CLIENT_TOKEN')\n",
        "    # myclient = MongoClient(client)\n",
        "    myclient = MongoClient(CLIENT_TOKEN)\n",
        "    db = myclient.get_database('db_evolucao_basquete')\n",
        "    collection = db.collection_evolucao_basquete\n",
        "    return collection"
      ]
    },
    {
      "cell_type": "code",
      "execution_count": 444,
      "metadata": {
        "id": "RDGdRDUasF-_"
      },
      "outputs": [],
      "source": [
        "collection = connect_to_mongodb()"
      ]
    },
    {
      "cell_type": "code",
      "execution_count": 445,
      "metadata": {
        "id": "O3cOD10AsGwy"
      },
      "outputs": [],
      "source": [
        "def retrieve_data_from_mongodb():\n",
        "    global data_list\n",
        "    \"\"\"\n",
        "    Function to get all information from mongodb.\n",
        "    \"\"\"\n",
        "    data_list = []\n",
        "    data_list = [x for x in collection.find()]\n",
        "    return data_list"
      ]
    },
    {
      "cell_type": "code",
      "execution_count": 446,
      "metadata": {
        "id": "k_yjaMMiskNf"
      },
      "outputs": [],
      "source": [
        "data_list = retrieve_data_from_mongodb()\n",
        "def transform_to_dataframe():\n",
        "    data_list = retrieve_data_from_mongodb()\n",
        "    df_data_list = pd.DataFrame(data_list)\n",
        "    return df_data_list"
      ]
    },
    {
      "cell_type": "code",
      "execution_count": 447,
      "metadata": {
        "id": "9lF6UgiDsls1"
      },
      "outputs": [],
      "source": [
        "df_data_list = transform_to_dataframe()"
      ]
    },
    {
      "cell_type": "code",
      "execution_count": 448,
      "metadata": {
        "id": "ij7AkmQmsmv6"
      },
      "outputs": [],
      "source": [
        "df_data_list = df_data_list.fillna(value=np.nan)"
      ]
    },
    {
      "cell_type": "code",
      "execution_count": 449,
      "metadata": {
        "id": "ov0OuXT-snLf"
      },
      "outputs": [],
      "source": [
        "df_data_list['dia'] = df_data_list['dia'].astype('datetime64[ns]')\n",
        "df_data_list['hora_do_jogo'] = pd.to_datetime(df_data_list['hora_do_jogo'],format= '%H:%M').dt.time\n",
        "df_data_list['tempo_de_descanso'] = pd.to_numeric(df_data_list['tempo_de_descanso'], errors='coerce')\n",
        "df_data_list['nota'] = pd.to_numeric(df_data_list['nota'], errors='coerce')\n",
        "df_data_list['pai'] = pd.to_numeric(df_data_list['pai'], errors='coerce')\n",
        "df_data_list['calorias'] = pd.to_numeric(df_data_list['calorias'], errors='coerce')\n",
        "df_data_list['tempo_jogado'] = pd.to_numeric(df_data_list['tempo_jogado'], errors='coerce')\n",
        "df_data_list['animo_pra_jogar'] = pd.to_numeric(df_data_list['animo_pra_jogar'], errors='coerce')"
      ]
    },
    {
      "cell_type": "code",
      "execution_count": 450,
      "metadata": {},
      "outputs": [],
      "source": [
        "df_data_list['calorias_por_min'] = df_data_list['calorias']/df_data_list['tempo_jogado']"
      ]
    },
    {
      "cell_type": "code",
      "execution_count": 451,
      "metadata": {
        "id": "qnoFx0XhspSS"
      },
      "outputs": [],
      "source": [
        "df_data_list['numero_da_semana'] = df_data_list['dia'].apply(lambda x: datetime.date.isocalendar(x)[1])"
      ]
    },
    {
      "cell_type": "code",
      "execution_count": 452,
      "metadata": {
        "id": "4dmSjjScspxJ"
      },
      "outputs": [],
      "source": [
        "df_data_list_fred = df_data_list.query('jogador == \"Fred\"').sort_values(by='dia', ascending=False)"
      ]
    },
    {
      "cell_type": "code",
      "execution_count": 453,
      "metadata": {
        "id": "tdO1G_qIsroB"
      },
      "outputs": [],
      "source": [
        "df_data_list_bia = df_data_list.query('jogador == \"Bia\"').sort_values(by='dia', ascending=False)"
      ]
    },
    {
      "attachments": {},
      "cell_type": "markdown",
      "metadata": {
        "id": "GwvJG5Ghstmm"
      },
      "source": [
        "# KPIs"
      ]
    },
    {
      "cell_type": "code",
      "execution_count": 454,
      "metadata": {
        "colab": {
          "base_uri": "https://localhost:8080/",
          "height": 941
        },
        "id": "sb8jNtLMvwYX",
        "outputId": "ad4937ec-9fef-4c62-8899-a87ebe70887b"
      },
      "outputs": [
        {
          "data": {
            "text/html": [
              "<div>\n",
              "<style scoped>\n",
              "    .dataframe tbody tr th:only-of-type {\n",
              "        vertical-align: middle;\n",
              "    }\n",
              "\n",
              "    .dataframe tbody tr th {\n",
              "        vertical-align: top;\n",
              "    }\n",
              "\n",
              "    .dataframe thead th {\n",
              "        text-align: right;\n",
              "    }\n",
              "</style>\n",
              "<table border=\"1\" class=\"dataframe\">\n",
              "  <thead>\n",
              "    <tr style=\"text-align: right;\">\n",
              "      <th></th>\n",
              "      <th>_id</th>\n",
              "      <th>jogador</th>\n",
              "      <th>dia</th>\n",
              "      <th>hora_do_jogo</th>\n",
              "      <th>tempo_de_descanso</th>\n",
              "      <th>jogou_sozinho</th>\n",
              "      <th>ouviu_musica</th>\n",
              "      <th>nota</th>\n",
              "      <th>pai</th>\n",
              "      <th>calorias</th>\n",
              "      <th>tempo_jogado</th>\n",
              "      <th>animo_pra_jogar</th>\n",
              "      <th>sentimento_do_dia</th>\n",
              "      <th>calorias_por_min</th>\n",
              "      <th>numero_da_semana</th>\n",
              "    </tr>\n",
              "  </thead>\n",
              "  <tbody>\n",
              "    <tr>\n",
              "      <th>35</th>\n",
              "      <td>649a34ba9f3bcd9f9943dc46</td>\n",
              "      <td>Fred</td>\n",
              "      <td>2023-06-26</td>\n",
              "      <td>12:30:00</td>\n",
              "      <td>0</td>\n",
              "      <td>não</td>\n",
              "      <td>não</td>\n",
              "      <td>8.0</td>\n",
              "      <td>35</td>\n",
              "      <td>653</td>\n",
              "      <td>56</td>\n",
              "      <td>7.0</td>\n",
              "      <td>Meh</td>\n",
              "      <td>11.660714</td>\n",
              "      <td>26</td>\n",
              "    </tr>\n",
              "    <tr>\n",
              "      <th>34</th>\n",
              "      <td>64950503e237f2af8d243c4f</td>\n",
              "      <td>Fred</td>\n",
              "      <td>2023-06-21</td>\n",
              "      <td>21:45:00</td>\n",
              "      <td>0</td>\n",
              "      <td>não</td>\n",
              "      <td>não</td>\n",
              "      <td>8.0</td>\n",
              "      <td>8</td>\n",
              "      <td>451</td>\n",
              "      <td>48</td>\n",
              "      <td>8.0</td>\n",
              "      <td>Animado</td>\n",
              "      <td>9.395833</td>\n",
              "      <td>25</td>\n",
              "    </tr>\n",
              "    <tr>\n",
              "      <th>32</th>\n",
              "      <td>64938064e237f2af8d243c4a</td>\n",
              "      <td>Fred</td>\n",
              "      <td>2023-06-20</td>\n",
              "      <td>21:15:00</td>\n",
              "      <td>0</td>\n",
              "      <td>sim</td>\n",
              "      <td>não</td>\n",
              "      <td>9.0</td>\n",
              "      <td>4</td>\n",
              "      <td>176</td>\n",
              "      <td>18</td>\n",
              "      <td>10.0</td>\n",
              "      <td>Animado</td>\n",
              "      <td>9.777778</td>\n",
              "      <td>25</td>\n",
              "    </tr>\n",
              "    <tr>\n",
              "      <th>30</th>\n",
              "      <td>6491ec8fe237f2af8d243c3c</td>\n",
              "      <td>Fred</td>\n",
              "      <td>2023-06-20</td>\n",
              "      <td>12:14:00</td>\n",
              "      <td>5</td>\n",
              "      <td>não</td>\n",
              "      <td>não</td>\n",
              "      <td>7.0</td>\n",
              "      <td>22</td>\n",
              "      <td>651</td>\n",
              "      <td>61</td>\n",
              "      <td>8.0</td>\n",
              "      <td>Entusiasmado</td>\n",
              "      <td>10.672131</td>\n",
              "      <td>25</td>\n",
              "    </tr>\n",
              "    <tr>\n",
              "      <th>27</th>\n",
              "      <td>648d26a6ee84afa912c1466f</td>\n",
              "      <td>Fred</td>\n",
              "      <td>2023-06-16</td>\n",
              "      <td>22:15:00</td>\n",
              "      <td>0</td>\n",
              "      <td>não</td>\n",
              "      <td>não</td>\n",
              "      <td>7.0</td>\n",
              "      <td>28</td>\n",
              "      <td>696</td>\n",
              "      <td>61</td>\n",
              "      <td>8.0</td>\n",
              "      <td>Cansado</td>\n",
              "      <td>11.409836</td>\n",
              "      <td>24</td>\n",
              "    </tr>\n",
              "    <tr>\n",
              "      <th>26</th>\n",
              "      <td>648a947bee84afa912c1466b</td>\n",
              "      <td>Fred</td>\n",
              "      <td>2023-06-14</td>\n",
              "      <td>20:30:00</td>\n",
              "      <td>3</td>\n",
              "      <td>não</td>\n",
              "      <td>não</td>\n",
              "      <td>3.0</td>\n",
              "      <td>25</td>\n",
              "      <td>742</td>\n",
              "      <td>68</td>\n",
              "      <td>9.0</td>\n",
              "      <td>Entusiasmado</td>\n",
              "      <td>10.911765</td>\n",
              "      <td>24</td>\n",
              "    </tr>\n",
              "    <tr>\n",
              "      <th>25</th>\n",
              "      <td>6478cafc3e5cd7e83594a7ae</td>\n",
              "      <td>Fred</td>\n",
              "      <td>2023-06-01</td>\n",
              "      <td>12:30:00</td>\n",
              "      <td>0</td>\n",
              "      <td>não</td>\n",
              "      <td>não</td>\n",
              "      <td>9.0</td>\n",
              "      <td>47</td>\n",
              "      <td>891</td>\n",
              "      <td>78</td>\n",
              "      <td>9.0</td>\n",
              "      <td>Entusiasmado</td>\n",
              "      <td>11.423077</td>\n",
              "      <td>22</td>\n",
              "    </tr>\n",
              "    <tr>\n",
              "      <th>14</th>\n",
              "      <td>647695f03e5cd7e83594a78c</td>\n",
              "      <td>Fred</td>\n",
              "      <td>2023-05-30</td>\n",
              "      <td>20:30:00</td>\n",
              "      <td>0</td>\n",
              "      <td>não</td>\n",
              "      <td>não</td>\n",
              "      <td>6.0</td>\n",
              "      <td>12</td>\n",
              "      <td>657</td>\n",
              "      <td>67</td>\n",
              "      <td>5.0</td>\n",
              "      <td>Meh</td>\n",
              "      <td>9.805970</td>\n",
              "      <td>22</td>\n",
              "    </tr>\n",
              "    <tr>\n",
              "      <th>12</th>\n",
              "      <td>64755072c3a73b3d1379967e</td>\n",
              "      <td>Fred</td>\n",
              "      <td>2023-05-29</td>\n",
              "      <td>21:30:00</td>\n",
              "      <td>2</td>\n",
              "      <td>não</td>\n",
              "      <td>não</td>\n",
              "      <td>7.0</td>\n",
              "      <td>20</td>\n",
              "      <td>755</td>\n",
              "      <td>65</td>\n",
              "      <td>8.0</td>\n",
              "      <td>Triste</td>\n",
              "      <td>11.615385</td>\n",
              "      <td>22</td>\n",
              "    </tr>\n",
              "    <tr>\n",
              "      <th>6</th>\n",
              "      <td>6474257e1a1510fe3c358b13</td>\n",
              "      <td>Fred</td>\n",
              "      <td>2023-05-26</td>\n",
              "      <td>21:27:00</td>\n",
              "      <td>4</td>\n",
              "      <td>sim</td>\n",
              "      <td>sim</td>\n",
              "      <td>8.0</td>\n",
              "      <td>33</td>\n",
              "      <td>813</td>\n",
              "      <td>74</td>\n",
              "      <td>8.0</td>\n",
              "      <td>animado</td>\n",
              "      <td>10.986486</td>\n",
              "      <td>21</td>\n",
              "    </tr>\n",
              "    <tr>\n",
              "      <th>7</th>\n",
              "      <td>6474257e1a1510fe3c358b14</td>\n",
              "      <td>Fred</td>\n",
              "      <td>2023-05-25</td>\n",
              "      <td>12:19:00</td>\n",
              "      <td>2</td>\n",
              "      <td>sim</td>\n",
              "      <td>sim</td>\n",
              "      <td>8.5</td>\n",
              "      <td>35</td>\n",
              "      <td>538</td>\n",
              "      <td>50</td>\n",
              "      <td>8.0</td>\n",
              "      <td>animado</td>\n",
              "      <td>10.760000</td>\n",
              "      <td>21</td>\n",
              "    </tr>\n",
              "    <tr>\n",
              "      <th>0</th>\n",
              "      <td>6474257e1a1510fe3c358b15</td>\n",
              "      <td>Fred</td>\n",
              "      <td>2023-05-22</td>\n",
              "      <td>22:04:00</td>\n",
              "      <td>0</td>\n",
              "      <td>sim</td>\n",
              "      <td>não</td>\n",
              "      <td>6.0</td>\n",
              "      <td>11</td>\n",
              "      <td>325</td>\n",
              "      <td>30</td>\n",
              "      <td>6.0</td>\n",
              "      <td>Meh</td>\n",
              "      <td>10.833333</td>\n",
              "      <td>21</td>\n",
              "    </tr>\n",
              "    <tr>\n",
              "      <th>8</th>\n",
              "      <td>6474257e1a1510fe3c358b16</td>\n",
              "      <td>Fred</td>\n",
              "      <td>2023-05-18</td>\n",
              "      <td>11:55:00</td>\n",
              "      <td>0</td>\n",
              "      <td>sim</td>\n",
              "      <td>não</td>\n",
              "      <td>7.0</td>\n",
              "      <td>14</td>\n",
              "      <td>310</td>\n",
              "      <td>30</td>\n",
              "      <td>NaN</td>\n",
              "      <td>não coletado</td>\n",
              "      <td>10.333333</td>\n",
              "      <td>20</td>\n",
              "    </tr>\n",
              "    <tr>\n",
              "      <th>1</th>\n",
              "      <td>6474257e1a1510fe3c358b17</td>\n",
              "      <td>Fred</td>\n",
              "      <td>2023-05-16</td>\n",
              "      <td>20:13:00</td>\n",
              "      <td>0</td>\n",
              "      <td>não</td>\n",
              "      <td>não</td>\n",
              "      <td>5.0</td>\n",
              "      <td>16</td>\n",
              "      <td>264</td>\n",
              "      <td>22</td>\n",
              "      <td>NaN</td>\n",
              "      <td>não coletado</td>\n",
              "      <td>12.000000</td>\n",
              "      <td>20</td>\n",
              "    </tr>\n",
              "    <tr>\n",
              "      <th>4</th>\n",
              "      <td>6474257e1a1510fe3c358b18</td>\n",
              "      <td>Fred</td>\n",
              "      <td>2023-05-09</td>\n",
              "      <td>21:03:00</td>\n",
              "      <td>0</td>\n",
              "      <td>não</td>\n",
              "      <td>não</td>\n",
              "      <td>5.0</td>\n",
              "      <td>19</td>\n",
              "      <td>783</td>\n",
              "      <td>78</td>\n",
              "      <td>NaN</td>\n",
              "      <td>não coletado</td>\n",
              "      <td>10.038462</td>\n",
              "      <td>19</td>\n",
              "    </tr>\n",
              "    <tr>\n",
              "      <th>5</th>\n",
              "      <td>6474257e1a1510fe3c358b19</td>\n",
              "      <td>Fred</td>\n",
              "      <td>2023-05-08</td>\n",
              "      <td>12:37:00</td>\n",
              "      <td>0</td>\n",
              "      <td>não</td>\n",
              "      <td>não</td>\n",
              "      <td>8.0</td>\n",
              "      <td>21</td>\n",
              "      <td>560</td>\n",
              "      <td>51</td>\n",
              "      <td>NaN</td>\n",
              "      <td>não coletado</td>\n",
              "      <td>10.980392</td>\n",
              "      <td>19</td>\n",
              "    </tr>\n",
              "    <tr>\n",
              "      <th>9</th>\n",
              "      <td>6474257e1a1510fe3c358b1a</td>\n",
              "      <td>Fred</td>\n",
              "      <td>2023-05-05</td>\n",
              "      <td>12:12:00</td>\n",
              "      <td>0</td>\n",
              "      <td>não</td>\n",
              "      <td>não</td>\n",
              "      <td>7.0</td>\n",
              "      <td>14</td>\n",
              "      <td>543</td>\n",
              "      <td>50</td>\n",
              "      <td>NaN</td>\n",
              "      <td>não coletado</td>\n",
              "      <td>10.860000</td>\n",
              "      <td>18</td>\n",
              "    </tr>\n",
              "    <tr>\n",
              "      <th>10</th>\n",
              "      <td>6474257e1a1510fe3c358b1b</td>\n",
              "      <td>Fred</td>\n",
              "      <td>2023-05-03</td>\n",
              "      <td>11:49:00</td>\n",
              "      <td>0</td>\n",
              "      <td>não</td>\n",
              "      <td>não</td>\n",
              "      <td>6.0</td>\n",
              "      <td>31</td>\n",
              "      <td>880</td>\n",
              "      <td>84</td>\n",
              "      <td>NaN</td>\n",
              "      <td>não coletado</td>\n",
              "      <td>10.476190</td>\n",
              "      <td>18</td>\n",
              "    </tr>\n",
              "    <tr>\n",
              "      <th>11</th>\n",
              "      <td>6474257e1a1510fe3c358b1d</td>\n",
              "      <td>Fred</td>\n",
              "      <td>2023-04-30</td>\n",
              "      <td>19:30:00</td>\n",
              "      <td>0</td>\n",
              "      <td>não</td>\n",
              "      <td>não</td>\n",
              "      <td>7.0</td>\n",
              "      <td>22</td>\n",
              "      <td>751</td>\n",
              "      <td>69</td>\n",
              "      <td>NaN</td>\n",
              "      <td>não coletado</td>\n",
              "      <td>10.884058</td>\n",
              "      <td>17</td>\n",
              "    </tr>\n",
              "    <tr>\n",
              "      <th>2</th>\n",
              "      <td>6474257e1a1510fe3c358b1e</td>\n",
              "      <td>Fred</td>\n",
              "      <td>2023-04-26</td>\n",
              "      <td>21:35:00</td>\n",
              "      <td>0</td>\n",
              "      <td>não</td>\n",
              "      <td>não</td>\n",
              "      <td>7.0</td>\n",
              "      <td>26</td>\n",
              "      <td>821</td>\n",
              "      <td>73</td>\n",
              "      <td>NaN</td>\n",
              "      <td>não coletado</td>\n",
              "      <td>11.246575</td>\n",
              "      <td>17</td>\n",
              "    </tr>\n",
              "    <tr>\n",
              "      <th>3</th>\n",
              "      <td>6474257e1a1510fe3c358b1c</td>\n",
              "      <td>Fred</td>\n",
              "      <td>2023-04-25</td>\n",
              "      <td>12:24:00</td>\n",
              "      <td>0</td>\n",
              "      <td>não</td>\n",
              "      <td>não</td>\n",
              "      <td>6.0</td>\n",
              "      <td>16</td>\n",
              "      <td>529</td>\n",
              "      <td>50</td>\n",
              "      <td>NaN</td>\n",
              "      <td>não coletado</td>\n",
              "      <td>10.580000</td>\n",
              "      <td>17</td>\n",
              "    </tr>\n",
              "  </tbody>\n",
              "</table>\n",
              "</div>"
            ],
            "text/plain": [
              "                         _id jogador        dia hora_do_jogo  \\\n",
              "35  649a34ba9f3bcd9f9943dc46    Fred 2023-06-26     12:30:00   \n",
              "34  64950503e237f2af8d243c4f    Fred 2023-06-21     21:45:00   \n",
              "32  64938064e237f2af8d243c4a    Fred 2023-06-20     21:15:00   \n",
              "30  6491ec8fe237f2af8d243c3c    Fred 2023-06-20     12:14:00   \n",
              "27  648d26a6ee84afa912c1466f    Fred 2023-06-16     22:15:00   \n",
              "26  648a947bee84afa912c1466b    Fred 2023-06-14     20:30:00   \n",
              "25  6478cafc3e5cd7e83594a7ae    Fred 2023-06-01     12:30:00   \n",
              "14  647695f03e5cd7e83594a78c    Fred 2023-05-30     20:30:00   \n",
              "12  64755072c3a73b3d1379967e    Fred 2023-05-29     21:30:00   \n",
              "6   6474257e1a1510fe3c358b13    Fred 2023-05-26     21:27:00   \n",
              "7   6474257e1a1510fe3c358b14    Fred 2023-05-25     12:19:00   \n",
              "0   6474257e1a1510fe3c358b15    Fred 2023-05-22     22:04:00   \n",
              "8   6474257e1a1510fe3c358b16    Fred 2023-05-18     11:55:00   \n",
              "1   6474257e1a1510fe3c358b17    Fred 2023-05-16     20:13:00   \n",
              "4   6474257e1a1510fe3c358b18    Fred 2023-05-09     21:03:00   \n",
              "5   6474257e1a1510fe3c358b19    Fred 2023-05-08     12:37:00   \n",
              "9   6474257e1a1510fe3c358b1a    Fred 2023-05-05     12:12:00   \n",
              "10  6474257e1a1510fe3c358b1b    Fred 2023-05-03     11:49:00   \n",
              "11  6474257e1a1510fe3c358b1d    Fred 2023-04-30     19:30:00   \n",
              "2   6474257e1a1510fe3c358b1e    Fred 2023-04-26     21:35:00   \n",
              "3   6474257e1a1510fe3c358b1c    Fred 2023-04-25     12:24:00   \n",
              "\n",
              "    tempo_de_descanso jogou_sozinho ouviu_musica  nota  pai  calorias  \\\n",
              "35                  0           não          não   8.0   35       653   \n",
              "34                  0           não          não   8.0    8       451   \n",
              "32                  0           sim          não   9.0    4       176   \n",
              "30                  5           não          não   7.0   22       651   \n",
              "27                  0           não          não   7.0   28       696   \n",
              "26                  3           não          não   3.0   25       742   \n",
              "25                  0           não          não   9.0   47       891   \n",
              "14                  0           não          não   6.0   12       657   \n",
              "12                  2           não          não   7.0   20       755   \n",
              "6                   4           sim          sim   8.0   33       813   \n",
              "7                   2           sim          sim   8.5   35       538   \n",
              "0                   0           sim          não   6.0   11       325   \n",
              "8                   0           sim          não   7.0   14       310   \n",
              "1                   0           não          não   5.0   16       264   \n",
              "4                   0           não          não   5.0   19       783   \n",
              "5                   0           não          não   8.0   21       560   \n",
              "9                   0           não          não   7.0   14       543   \n",
              "10                  0           não          não   6.0   31       880   \n",
              "11                  0           não          não   7.0   22       751   \n",
              "2                   0           não          não   7.0   26       821   \n",
              "3                   0           não          não   6.0   16       529   \n",
              "\n",
              "    tempo_jogado  animo_pra_jogar sentimento_do_dia  calorias_por_min  \\\n",
              "35            56              7.0               Meh         11.660714   \n",
              "34            48              8.0           Animado          9.395833   \n",
              "32            18             10.0           Animado          9.777778   \n",
              "30            61              8.0      Entusiasmado         10.672131   \n",
              "27            61              8.0           Cansado         11.409836   \n",
              "26            68              9.0      Entusiasmado         10.911765   \n",
              "25            78              9.0      Entusiasmado         11.423077   \n",
              "14            67              5.0               Meh          9.805970   \n",
              "12            65              8.0            Triste         11.615385   \n",
              "6             74              8.0           animado         10.986486   \n",
              "7             50              8.0           animado         10.760000   \n",
              "0             30              6.0               Meh         10.833333   \n",
              "8             30              NaN      não coletado         10.333333   \n",
              "1             22              NaN      não coletado         12.000000   \n",
              "4             78              NaN      não coletado         10.038462   \n",
              "5             51              NaN      não coletado         10.980392   \n",
              "9             50              NaN      não coletado         10.860000   \n",
              "10            84              NaN      não coletado         10.476190   \n",
              "11            69              NaN      não coletado         10.884058   \n",
              "2             73              NaN      não coletado         11.246575   \n",
              "3             50              NaN      não coletado         10.580000   \n",
              "\n",
              "    numero_da_semana  \n",
              "35                26  \n",
              "34                25  \n",
              "32                25  \n",
              "30                25  \n",
              "27                24  \n",
              "26                24  \n",
              "25                22  \n",
              "14                22  \n",
              "12                22  \n",
              "6                 21  \n",
              "7                 21  \n",
              "0                 21  \n",
              "8                 20  \n",
              "1                 20  \n",
              "4                 19  \n",
              "5                 19  \n",
              "9                 18  \n",
              "10                18  \n",
              "11                17  \n",
              "2                 17  \n",
              "3                 17  "
            ]
          },
          "execution_count": 454,
          "metadata": {},
          "output_type": "execute_result"
        }
      ],
      "source": [
        "df_data_list_fred"
      ]
    },
    {
      "cell_type": "code",
      "execution_count": 455,
      "metadata": {
        "colab": {
          "base_uri": "https://localhost:8080/"
        },
        "id": "8_NshiF5sr20",
        "outputId": "b04095a9-6e1c-400a-bdd0-0f244e458628"
      },
      "outputs": [
        {
          "data": {
            "text/plain": [
              "21"
            ]
          },
          "execution_count": 455,
          "metadata": {},
          "output_type": "execute_result"
        }
      ],
      "source": [
        "# Dias que jogou\n",
        "len(df_data_list_fred['dia'])"
      ]
    },
    {
      "cell_type": "code",
      "execution_count": 456,
      "metadata": {
        "id": "QnjO0w_FsvwW"
      },
      "outputs": [],
      "source": [
        "today = datetime.datetime.now() - datetime.timedelta(hours=3)"
      ]
    },
    {
      "cell_type": "code",
      "execution_count": 457,
      "metadata": {
        "id": "dE2VsTNyswoD"
      },
      "outputs": [],
      "source": [
        "current_week = datetime.date.isocalendar(today)[1]\n",
        "\n",
        "# Dias que jogou essa semana\n",
        "df_games_by_week = (pd.DataFrame(df_data_list_fred['numero_da_semana'].value_counts().sort_index(ascending = False))).reset_index()\n",
        "df_games_by_week = df_games_by_week.rename(columns={'numero_da_semana':'qtd_jogos', 'index':'numero_da_semana'})"
      ]
    },
    {
      "cell_type": "code",
      "execution_count": 463,
      "metadata": {},
      "outputs": [
        {
          "name": "stdout",
          "output_type": "stream",
          "text": [
            "1\n"
          ]
        }
      ],
      "source": [
        "df_games_this_week = df_games_by_week.query(f'numero_da_semana == {current_week}')['qtd_jogos'][0]\n",
        "\n",
        "if df_games_this_week == 0:\n",
        "    print('sem jogos essa semana')\n",
        "else:\n",
        "    print(df_games_this_week)"
      ]
    },
    {
      "cell_type": "code",
      "execution_count": 464,
      "metadata": {},
      "outputs": [],
      "source": [
        "###################################################################\n",
        "def data_transformation(dataframe):\n",
        "    \"\"\"\n",
        "    Edit the columns, create new metrics and separate into new dataframes\n",
        "    \"\"\"\n",
        "    # Transforming all empty into nan\n",
        "    dataframe_transf = dataframe.fillna(value=np.nan)\n",
        "\n",
        "    # Editing the types of the columns\n",
        "    dataframe_transf['dia'] = dataframe_transf['dia'].astype('datetime64[ns]')\n",
        "    dataframe_transf['hora_do_jogo'] = pd.to_datetime(dataframe_transf['hora_do_jogo'], errors='coerce').dt.time\n",
        "    dataframe_transf['tempo_de_descanso'] = pd.to_numeric(dataframe_transf['tempo_de_descanso'], errors='coerce')\n",
        "    dataframe_transf['nota'] = pd.to_numeric(dataframe_transf['nota'], errors='coerce')\n",
        "    dataframe_transf['pai'] = pd.to_numeric(dataframe_transf['pai'], errors='coerce')\n",
        "    dataframe_transf['calorias'] = pd.to_numeric(dataframe_transf['calorias'], errors='coerce')\n",
        "    dataframe_transf['tempo_jogado'] = pd.to_numeric(dataframe_transf['tempo_jogado'], errors='coerce')\n",
        "    dataframe_transf['animo_pra_jogar'] = pd.to_numeric(dataframe_transf['animo_pra_jogar'], errors='coerce')\n",
        "\n",
        "    # Creating new metric \"calorias_por_min\"\n",
        "    dataframe_transf['calorias_por_min'] = dataframe_transf['calorias']/dataframe_transf['tempo_jogado']\n",
        "\n",
        "    # Creating a new column with the week number\n",
        "    dataframe_transf['numero_da_semana'] = dataframe_transf['dia'].apply(lambda x: datetime.date.isocalendar(x)[1])\n",
        "\n",
        "    # Separating into the player's dataframe_transfs\n",
        "    df_data_list_fred = dataframe_transf.query('jogador == \"Fred\"').sort_values(by='dia', ascending=False)\n",
        "    df_data_list_bia = dataframe_transf.query('jogador == \"Bia\"').sort_values(by='dia', ascending=False)\n",
        "\n",
        "    return [df_data_list_fred, df_data_list_bia]\n",
        "\n",
        "def main_metrics(dataframe, player):\n",
        "    global specific_dataframe\n",
        "    today = datetime.datetime.now() - datetime.timedelta(hours=3)\n",
        "    current_week = datetime.date.isocalendar(today)[1]\n",
        "\n",
        "    if player == 'Fred':\n",
        "        df_index = 0\n",
        "    elif player == 'Bia':\n",
        "        df_index = 1\n",
        "    \n",
        "    specific_dataframe = data_transformation(dataframe)[df_index]\n",
        "    df_current_week = specific_dataframe[specific_dataframe['numero_da_semana'] == current_week]\n",
        "    jogos_essa_semana = len(df_current_week)\n",
        "\n",
        "    return jogos_essa_semana"
      ]
    },
    {
      "cell_type": "code",
      "execution_count": 465,
      "metadata": {},
      "outputs": [
        {
          "data": {
            "text/plain": [
              "0"
            ]
          },
          "execution_count": 465,
          "metadata": {},
          "output_type": "execute_result"
        }
      ],
      "source": [
        "player = 'Bia'\n",
        "df_all_info = df_data_list\n",
        "a = data_transformation(df_data_list)\n",
        "main_metrics(df_all_info, player)"
      ]
    },
    {
      "cell_type": "code",
      "execution_count": 466,
      "metadata": {},
      "outputs": [],
      "source": [
        "import datetime\n",
        "import pandas as pd\n",
        "\n",
        "# Assuming the DataFrame is named 'df'\n",
        "today = datetime.datetime.now() - datetime.timedelta(hours=3)\n",
        "current_week = datetime.date.isocalendar(today)[1]\n",
        "\n",
        "\n"
      ]
    },
    {
      "cell_type": "code",
      "execution_count": 467,
      "metadata": {},
      "outputs": [
        {
          "data": {
            "text/plain": [
              "1"
            ]
          },
          "execution_count": 467,
          "metadata": {},
          "output_type": "execute_result"
        }
      ],
      "source": [
        "df_games_by_week[df_games_by_week['numero_da_semana'] == current_week]['qtd_jogos'][0]"
      ]
    },
    {
      "cell_type": "code",
      "execution_count": 468,
      "metadata": {
        "colab": {
          "base_uri": "https://localhost:8080/"
        },
        "id": "QxMXMAeWnZx3",
        "outputId": "1f54548d-70fe-4f82-93e6-3e7fd73c2f10"
      },
      "outputs": [],
      "source": [
        "df_grouped_by_week = pd.DataFrame(df_data_list_fred.groupby(by=\"numero_da_semana\").mean()[['pai', 'nota', 'calorias', 'animo_pra_jogar']])\n",
        "df_grouped_by_week['dias_jogados'] = df_data_list_fred.groupby(by='numero_da_semana').count()['jogador']\n",
        "df_grouped_by_week = df_grouped_by_week.reset_index()"
      ]
    },
    {
      "cell_type": "code",
      "execution_count": 469,
      "metadata": {},
      "outputs": [
        {
          "data": {
            "text/html": [
              "<div>\n",
              "<style scoped>\n",
              "    .dataframe tbody tr th:only-of-type {\n",
              "        vertical-align: middle;\n",
              "    }\n",
              "\n",
              "    .dataframe tbody tr th {\n",
              "        vertical-align: top;\n",
              "    }\n",
              "\n",
              "    .dataframe thead th {\n",
              "        text-align: right;\n",
              "    }\n",
              "</style>\n",
              "<table border=\"1\" class=\"dataframe\">\n",
              "  <thead>\n",
              "    <tr style=\"text-align: right;\">\n",
              "      <th></th>\n",
              "      <th>numero_da_semana</th>\n",
              "      <th>qtd</th>\n",
              "    </tr>\n",
              "  </thead>\n",
              "  <tbody>\n",
              "    <tr>\n",
              "      <th>0</th>\n",
              "      <td>17</td>\n",
              "      <td>4</td>\n",
              "    </tr>\n",
              "    <tr>\n",
              "      <th>1</th>\n",
              "      <td>25</td>\n",
              "      <td>2</td>\n",
              "    </tr>\n",
              "    <tr>\n",
              "      <th>2</th>\n",
              "      <td>24</td>\n",
              "      <td>2</td>\n",
              "    </tr>\n",
              "    <tr>\n",
              "      <th>3</th>\n",
              "      <td>22</td>\n",
              "      <td>2</td>\n",
              "    </tr>\n",
              "    <tr>\n",
              "      <th>4</th>\n",
              "      <td>19</td>\n",
              "      <td>2</td>\n",
              "    </tr>\n",
              "    <tr>\n",
              "      <th>5</th>\n",
              "      <td>18</td>\n",
              "      <td>2</td>\n",
              "    </tr>\n",
              "    <tr>\n",
              "      <th>6</th>\n",
              "      <td>16</td>\n",
              "      <td>1</td>\n",
              "    </tr>\n",
              "  </tbody>\n",
              "</table>\n",
              "</div>"
            ],
            "text/plain": [
              "   numero_da_semana  qtd\n",
              "0                17    4\n",
              "1                25    2\n",
              "2                24    2\n",
              "3                22    2\n",
              "4                19    2\n",
              "5                18    2\n",
              "6                16    1"
            ]
          },
          "execution_count": 469,
          "metadata": {},
          "output_type": "execute_result"
        }
      ],
      "source": [
        "jogos_por_semana = pd.DataFrame(specific_dataframe['numero_da_semana'].value_counts())\n",
        "jogos_por_semana = jogos_por_semana.reset_index()\n",
        "jogos_por_semana = jogos_por_semana.rename(columns={'numero_da_semana':'qtd','index':'numero_da_semana'})\n",
        "fig = px.bar(x=jogos_por_semana['numero_da_semana'], y=jogos_por_semana['qtd'])\n",
        "# fig.show()\n",
        "jogos_por_semana"
      ]
    },
    {
      "cell_type": "code",
      "execution_count": 470,
      "metadata": {
        "colab": {
          "base_uri": "https://localhost:8080/",
          "height": 269
        },
        "id": "dm7RJuX3oZmJ",
        "outputId": "f0e3cfca-187b-4558-bae5-dbdc0795b6a1"
      },
      "outputs": [
        {
          "data": {
            "text/html": [
              "<div>\n",
              "<style scoped>\n",
              "    .dataframe tbody tr th:only-of-type {\n",
              "        vertical-align: middle;\n",
              "    }\n",
              "\n",
              "    .dataframe tbody tr th {\n",
              "        vertical-align: top;\n",
              "    }\n",
              "\n",
              "    .dataframe thead th {\n",
              "        text-align: right;\n",
              "    }\n",
              "</style>\n",
              "<table border=\"1\" class=\"dataframe\">\n",
              "  <thead>\n",
              "    <tr style=\"text-align: right;\">\n",
              "      <th></th>\n",
              "      <th>numero_da_semana</th>\n",
              "      <th>pai</th>\n",
              "      <th>nota</th>\n",
              "      <th>calorias</th>\n",
              "      <th>animo_pra_jogar</th>\n",
              "      <th>dias_jogados</th>\n",
              "    </tr>\n",
              "  </thead>\n",
              "  <tbody>\n",
              "    <tr>\n",
              "      <th>0</th>\n",
              "      <td>17</td>\n",
              "      <td>21.333333</td>\n",
              "      <td>6.666667</td>\n",
              "      <td>700.333333</td>\n",
              "      <td>NaN</td>\n",
              "      <td>3</td>\n",
              "    </tr>\n",
              "    <tr>\n",
              "      <th>1</th>\n",
              "      <td>18</td>\n",
              "      <td>22.500000</td>\n",
              "      <td>6.500000</td>\n",
              "      <td>711.500000</td>\n",
              "      <td>NaN</td>\n",
              "      <td>2</td>\n",
              "    </tr>\n",
              "    <tr>\n",
              "      <th>2</th>\n",
              "      <td>19</td>\n",
              "      <td>20.000000</td>\n",
              "      <td>6.500000</td>\n",
              "      <td>671.500000</td>\n",
              "      <td>NaN</td>\n",
              "      <td>2</td>\n",
              "    </tr>\n",
              "    <tr>\n",
              "      <th>3</th>\n",
              "      <td>20</td>\n",
              "      <td>15.000000</td>\n",
              "      <td>6.000000</td>\n",
              "      <td>287.000000</td>\n",
              "      <td>NaN</td>\n",
              "      <td>2</td>\n",
              "    </tr>\n",
              "    <tr>\n",
              "      <th>4</th>\n",
              "      <td>21</td>\n",
              "      <td>26.333333</td>\n",
              "      <td>7.500000</td>\n",
              "      <td>558.666667</td>\n",
              "      <td>7.333333</td>\n",
              "      <td>3</td>\n",
              "    </tr>\n",
              "    <tr>\n",
              "      <th>5</th>\n",
              "      <td>22</td>\n",
              "      <td>26.333333</td>\n",
              "      <td>7.333333</td>\n",
              "      <td>767.666667</td>\n",
              "      <td>7.333333</td>\n",
              "      <td>3</td>\n",
              "    </tr>\n",
              "    <tr>\n",
              "      <th>6</th>\n",
              "      <td>24</td>\n",
              "      <td>26.500000</td>\n",
              "      <td>5.000000</td>\n",
              "      <td>719.000000</td>\n",
              "      <td>8.500000</td>\n",
              "      <td>2</td>\n",
              "    </tr>\n",
              "    <tr>\n",
              "      <th>7</th>\n",
              "      <td>25</td>\n",
              "      <td>11.333333</td>\n",
              "      <td>8.000000</td>\n",
              "      <td>426.000000</td>\n",
              "      <td>8.666667</td>\n",
              "      <td>3</td>\n",
              "    </tr>\n",
              "    <tr>\n",
              "      <th>8</th>\n",
              "      <td>26</td>\n",
              "      <td>35.000000</td>\n",
              "      <td>8.000000</td>\n",
              "      <td>653.000000</td>\n",
              "      <td>7.000000</td>\n",
              "      <td>1</td>\n",
              "    </tr>\n",
              "  </tbody>\n",
              "</table>\n",
              "</div>"
            ],
            "text/plain": [
              "   numero_da_semana        pai      nota    calorias  animo_pra_jogar  \\\n",
              "0                17  21.333333  6.666667  700.333333              NaN   \n",
              "1                18  22.500000  6.500000  711.500000              NaN   \n",
              "2                19  20.000000  6.500000  671.500000              NaN   \n",
              "3                20  15.000000  6.000000  287.000000              NaN   \n",
              "4                21  26.333333  7.500000  558.666667         7.333333   \n",
              "5                22  26.333333  7.333333  767.666667         7.333333   \n",
              "6                24  26.500000  5.000000  719.000000         8.500000   \n",
              "7                25  11.333333  8.000000  426.000000         8.666667   \n",
              "8                26  35.000000  8.000000  653.000000         7.000000   \n",
              "\n",
              "   dias_jogados  \n",
              "0             3  \n",
              "1             2  \n",
              "2             2  \n",
              "3             2  \n",
              "4             3  \n",
              "5             3  \n",
              "6             2  \n",
              "7             3  \n",
              "8             1  "
            ]
          },
          "execution_count": 470,
          "metadata": {},
          "output_type": "execute_result"
        }
      ],
      "source": [
        "df_grouped_by_week"
      ]
    },
    {
      "cell_type": "code",
      "execution_count": 471,
      "metadata": {
        "id": "tUeOLdYirVsq"
      },
      "outputs": [],
      "source": [
        "# import plotly.express as px\n",
        "\n",
        "# # Assuming you have a DataFrame df_grouped_by_week with columns 'numero_da_semana', 'animo_pra_jogar', and 'nota'\n",
        "\n",
        "# # Create a line chart with different colors for each line and custom legend text\n",
        "# fig = px.line(df_grouped_by_week,\n",
        "#               x='numero_da_semana',\n",
        "#               y=['animo_pra_jogar', 'nota'],\n",
        "#               color_discrete_sequence=['#FF7F0E', '#1F77B4'],\n",
        "#               markers=True)\n",
        "\n",
        "# # Set chart title and axis labels\n",
        "# fig.update_layout(title=dict(text='Número de dias jogados por semana', font=dict(size=20, color='black', family='Arial bold,  sans-serif')),\n",
        "#                   xaxis_title='número da semana',\n",
        "#                   yaxis_title='nota')\n",
        "\n",
        "# # Customize the legend\n",
        "# fig.update_layout(legend=dict(\n",
        "#     orientation=\"h\",\n",
        "#     yanchor=\"top\",\n",
        "#     y=1.05,\n",
        "#     xanchor=\"center\",\n",
        "#     x=0.5,\n",
        "#     bgcolor='rgba(255, 255, 255, 0.5)',\n",
        "#     font=dict(size=12),\n",
        "#     title=dict(text=\"\", font=dict(size=14))\n",
        "# ))\n",
        "\n",
        "# fig.data[0].name = 'Animo Pra Jogar'\n",
        "# fig.data[1].name = 'Nota'\n",
        "# fig.update_layout(width=600, height=400)\n",
        "\n",
        "\n",
        "# # Display the chart\n",
        "# fig.show()\n"
      ]
    },
    {
      "cell_type": "code",
      "execution_count": 472,
      "metadata": {
        "colab": {
          "base_uri": "https://localhost:8080/"
        },
        "id": "gyL-K5RSsy-P",
        "outputId": "e703ca54-f5a5-4dc8-87d6-1c107140a3a7"
      },
      "outputs": [
        {
          "name": "stdout",
          "output_type": "stream",
          "text": [
            "Dia que mais ganhou PAI: 2023-06-01\n",
            "Mais PAI ganho: 47\n"
          ]
        }
      ],
      "source": [
        "print(\"Dia que mais ganhou PAI: \" + df_data_list_fred.query(f\"pai == {df_data_list_fred['pai'].max()}\")['dia'].dt.strftime('%Y-%m-%d').to_string(index=False))\n",
        "print(\"Mais PAI ganho: \" + df_data_list_fred.query(f\"pai == {df_data_list_fred['pai'].max()}\")['pai'].to_string(index=False))"
      ]
    },
    {
      "attachments": {},
      "cell_type": "markdown",
      "metadata": {
        "id": "HYe6p3ejs2f0"
      },
      "source": [
        "## Sequência de dias jogados/não jogados"
      ]
    },
    {
      "cell_type": "code",
      "execution_count": 473,
      "metadata": {
        "colab": {
          "base_uri": "https://localhost:8080/"
        },
        "id": "6osLGDbFsy7r",
        "outputId": "c8936513-a37b-47b0-e023-c186666e3f67"
      },
      "outputs": [
        {
          "name": "stdout",
          "output_type": "stream",
          "text": [
            "Maior sequência de jogos: 2\n",
            "Começo da sequência: 2023-05-26\n",
            "Fim da sequência: 2023-05-25\n",
            "Há 32 dias atrás\n"
          ]
        }
      ],
      "source": [
        "df = df_data_list_fred[['dia']].copy()\n",
        "df['dia'] = pd.to_datetime(df['dia'])\n",
        "df.loc[len(df)] = today\n",
        "df = df.sort_values('dia', ascending=False)\n",
        "df['date_diff'] = df['dia'].diff()*-1\n",
        "\n",
        "# Find the highest number of consecutive days\n",
        "consecutive_days = (df['date_diff'] != pd.Timedelta(days=1)).cumsum()\n",
        "consecutive_days_count = consecutive_days.value_counts()\n",
        "max_streak = consecutive_days_count.max()\n",
        "\n",
        "# Get the start and end dates of the highest streak\n",
        "start_date = df.loc[consecutive_days.eq(consecutive_days_count.idxmax()), 'dia'].iloc[0]\n",
        "end_date = df.loc[consecutive_days.eq(consecutive_days_count.idxmax()), 'dia'].iloc[max_streak - 1]\n",
        "\n",
        "# Print the highest streak details\n",
        "print(\"Maior sequência de jogos:\", max_streak)\n",
        "print(\"Começo da sequência:\", start_date.date())\n",
        "print(\"Fim da sequência:\", end_date.date())\n",
        "print(\"Há \"+str(int((datetime.date.today() - end_date.date())/datetime.timedelta(days=1)))+\" dias atrás\")"
      ]
    },
    {
      "cell_type": "code",
      "execution_count": 474,
      "metadata": {
        "colab": {
          "base_uri": "https://localhost:8080/",
          "height": 613
        },
        "id": "_xxGyrjOa8Pa",
        "outputId": "d744247e-344b-4653-8637-8ff44cc13793"
      },
      "outputs": [
        {
          "data": {
            "text/html": [
              "<div>\n",
              "<style scoped>\n",
              "    .dataframe tbody tr th:only-of-type {\n",
              "        vertical-align: middle;\n",
              "    }\n",
              "\n",
              "    .dataframe tbody tr th {\n",
              "        vertical-align: top;\n",
              "    }\n",
              "\n",
              "    .dataframe thead th {\n",
              "        text-align: right;\n",
              "    }\n",
              "</style>\n",
              "<table border=\"1\" class=\"dataframe\">\n",
              "  <thead>\n",
              "    <tr style=\"text-align: right;\">\n",
              "      <th></th>\n",
              "      <th>dia</th>\n",
              "      <th>date_diff</th>\n",
              "    </tr>\n",
              "  </thead>\n",
              "  <tbody>\n",
              "    <tr>\n",
              "      <th>3</th>\n",
              "      <td>2023-04-25 00:00:00.000000</td>\n",
              "      <td>1 days 00:00:00</td>\n",
              "    </tr>\n",
              "    <tr>\n",
              "      <th>2</th>\n",
              "      <td>2023-04-26 00:00:00.000000</td>\n",
              "      <td>4 days 00:00:00</td>\n",
              "    </tr>\n",
              "    <tr>\n",
              "      <th>11</th>\n",
              "      <td>2023-04-30 00:00:00.000000</td>\n",
              "      <td>3 days 00:00:00</td>\n",
              "    </tr>\n",
              "    <tr>\n",
              "      <th>10</th>\n",
              "      <td>2023-05-03 00:00:00.000000</td>\n",
              "      <td>2 days 00:00:00</td>\n",
              "    </tr>\n",
              "    <tr>\n",
              "      <th>9</th>\n",
              "      <td>2023-05-05 00:00:00.000000</td>\n",
              "      <td>3 days 00:00:00</td>\n",
              "    </tr>\n",
              "    <tr>\n",
              "      <th>5</th>\n",
              "      <td>2023-05-08 00:00:00.000000</td>\n",
              "      <td>1 days 00:00:00</td>\n",
              "    </tr>\n",
              "    <tr>\n",
              "      <th>4</th>\n",
              "      <td>2023-05-09 00:00:00.000000</td>\n",
              "      <td>7 days 00:00:00</td>\n",
              "    </tr>\n",
              "    <tr>\n",
              "      <th>1</th>\n",
              "      <td>2023-05-16 00:00:00.000000</td>\n",
              "      <td>2 days 00:00:00</td>\n",
              "    </tr>\n",
              "    <tr>\n",
              "      <th>8</th>\n",
              "      <td>2023-05-18 00:00:00.000000</td>\n",
              "      <td>4 days 00:00:00</td>\n",
              "    </tr>\n",
              "    <tr>\n",
              "      <th>0</th>\n",
              "      <td>2023-05-22 00:00:00.000000</td>\n",
              "      <td>3 days 00:00:00</td>\n",
              "    </tr>\n",
              "    <tr>\n",
              "      <th>7</th>\n",
              "      <td>2023-05-25 00:00:00.000000</td>\n",
              "      <td>1 days 00:00:00</td>\n",
              "    </tr>\n",
              "    <tr>\n",
              "      <th>6</th>\n",
              "      <td>2023-05-26 00:00:00.000000</td>\n",
              "      <td>3 days 00:00:00</td>\n",
              "    </tr>\n",
              "    <tr>\n",
              "      <th>12</th>\n",
              "      <td>2023-05-29 00:00:00.000000</td>\n",
              "      <td>1 days 00:00:00</td>\n",
              "    </tr>\n",
              "    <tr>\n",
              "      <th>14</th>\n",
              "      <td>2023-05-30 00:00:00.000000</td>\n",
              "      <td>2 days 00:00:00</td>\n",
              "    </tr>\n",
              "    <tr>\n",
              "      <th>25</th>\n",
              "      <td>2023-06-01 00:00:00.000000</td>\n",
              "      <td>13 days 00:00:00</td>\n",
              "    </tr>\n",
              "    <tr>\n",
              "      <th>26</th>\n",
              "      <td>2023-06-14 00:00:00.000000</td>\n",
              "      <td>2 days 00:00:00</td>\n",
              "    </tr>\n",
              "    <tr>\n",
              "      <th>27</th>\n",
              "      <td>2023-06-16 00:00:00.000000</td>\n",
              "      <td>4 days 00:00:00</td>\n",
              "    </tr>\n",
              "    <tr>\n",
              "      <th>30</th>\n",
              "      <td>2023-06-20 00:00:00.000000</td>\n",
              "      <td>0 days 00:00:00</td>\n",
              "    </tr>\n",
              "    <tr>\n",
              "      <th>32</th>\n",
              "      <td>2023-06-20 00:00:00.000000</td>\n",
              "      <td>1 days 00:00:00</td>\n",
              "    </tr>\n",
              "    <tr>\n",
              "      <th>34</th>\n",
              "      <td>2023-06-21 00:00:00.000000</td>\n",
              "      <td>5 days 00:00:00</td>\n",
              "    </tr>\n",
              "    <tr>\n",
              "      <th>35</th>\n",
              "      <td>2023-06-26 00:00:00.000000</td>\n",
              "      <td>0 days 19:04:26.002030</td>\n",
              "    </tr>\n",
              "    <tr>\n",
              "      <th>21</th>\n",
              "      <td>2023-06-26 19:04:26.002030</td>\n",
              "      <td>NaT</td>\n",
              "    </tr>\n",
              "  </tbody>\n",
              "</table>\n",
              "</div>"
            ],
            "text/plain": [
              "                          dia              date_diff\n",
              "3  2023-04-25 00:00:00.000000        1 days 00:00:00\n",
              "2  2023-04-26 00:00:00.000000        4 days 00:00:00\n",
              "11 2023-04-30 00:00:00.000000        3 days 00:00:00\n",
              "10 2023-05-03 00:00:00.000000        2 days 00:00:00\n",
              "9  2023-05-05 00:00:00.000000        3 days 00:00:00\n",
              "5  2023-05-08 00:00:00.000000        1 days 00:00:00\n",
              "4  2023-05-09 00:00:00.000000        7 days 00:00:00\n",
              "1  2023-05-16 00:00:00.000000        2 days 00:00:00\n",
              "8  2023-05-18 00:00:00.000000        4 days 00:00:00\n",
              "0  2023-05-22 00:00:00.000000        3 days 00:00:00\n",
              "7  2023-05-25 00:00:00.000000        1 days 00:00:00\n",
              "6  2023-05-26 00:00:00.000000        3 days 00:00:00\n",
              "12 2023-05-29 00:00:00.000000        1 days 00:00:00\n",
              "14 2023-05-30 00:00:00.000000        2 days 00:00:00\n",
              "25 2023-06-01 00:00:00.000000       13 days 00:00:00\n",
              "26 2023-06-14 00:00:00.000000        2 days 00:00:00\n",
              "27 2023-06-16 00:00:00.000000        4 days 00:00:00\n",
              "30 2023-06-20 00:00:00.000000        0 days 00:00:00\n",
              "32 2023-06-20 00:00:00.000000        1 days 00:00:00\n",
              "34 2023-06-21 00:00:00.000000        5 days 00:00:00\n",
              "35 2023-06-26 00:00:00.000000 0 days 19:04:26.002030\n",
              "21 2023-06-26 19:04:26.002030                    NaT"
            ]
          },
          "execution_count": 474,
          "metadata": {},
          "output_type": "execute_result"
        }
      ],
      "source": [
        "df.sort_values(by='dia')"
      ]
    },
    {
      "cell_type": "code",
      "execution_count": 475,
      "metadata": {
        "colab": {
          "base_uri": "https://localhost:8080/"
        },
        "id": "zJobO36MuZ1O",
        "outputId": "64b0dae1-1e31-47fb-e81f-b9420b8011f1"
      },
      "outputs": [
        {
          "name": "stdout",
          "output_type": "stream",
          "text": [
            "O dia em que a sequência de dias sem jogar começou:  2023-06-01\n",
            "O dia em que a sequência de dias sem jogar terminou:  2023-06-14\n",
            "Quantidade de dias da sequência que não jogou:  13 days 00:00:00\n"
          ]
        }
      ],
      "source": [
        "df_dias_nao_jogados = df.sort_values(by = 'date_diff', ascending = False)\n",
        "primeiro_dia_da_sequencia_de_nao_jogados = df_dias_nao_jogados['dia'].iloc[0]\n",
        "primeiro_dia_da_sequencia_de_nao_jogados_txt = primeiro_dia_da_sequencia_de_nao_jogados.strftime('%Y-%m-%d')\n",
        "qtd_dias_da_sequencia_de_nao_jogados = df.sort_values(by = 'date_diff', ascending = False)['date_diff'].iloc[0]\n",
        "ultimo_dia_da_sequencia_de_nao_jogados = primeiro_dia_da_sequencia_de_nao_jogados + qtd_dias_da_sequencia_de_nao_jogados\n",
        "ultimo_dia_da_sequencia_de_nao_jogados_txt = ultimo_dia_da_sequencia_de_nao_jogados.strftime('%Y-%m-%d')\n",
        "print(\"O dia em que a sequência de dias sem jogar começou: \", primeiro_dia_da_sequencia_de_nao_jogados_txt)\n",
        "print(\"O dia em que a sequência de dias sem jogar terminou: \", ultimo_dia_da_sequencia_de_nao_jogados_txt)\n",
        "print(\"Quantidade de dias da sequência que não jogou: \", qtd_dias_da_sequencia_de_nao_jogados)"
      ]
    },
    {
      "attachments": {},
      "cell_type": "markdown",
      "metadata": {
        "id": "vgU86_M3s_GJ"
      },
      "source": [
        "## Calendário com dias jogados"
      ]
    },
    {
      "cell_type": "code",
      "execution_count": 476,
      "metadata": {
        "colab": {
          "base_uri": "https://localhost:8080/",
          "height": 512
        },
        "id": "SG4GTHYDsyz0",
        "outputId": "9427b13f-7c9c-4a05-feff-a0422836c748"
      },
      "outputs": [
        {
          "data": {
            "image/png": "[encoded data removed]",
            "text/plain": [
              "<Figure size 432x288 with 1 Axes>"
            ]
          },
          "metadata": {},
          "output_type": "display_data"
        }
      ],
      "source": [
        "def label_month(year, month, ax, i, j, cl=\"black\"):\n",
        "    months = [\n",
        "        \"Jan\",\n",
        "        \"Feb\",\n",
        "        \"Mar\",\n",
        "        \"Apr\",\n",
        "        \"May\",\n",
        "        \"Jun\",\n",
        "        \"Jul\",\n",
        "        \"Aug\",\n",
        "        \"Sep\",\n",
        "        \"Oct\",\n",
        "        \"Nov\",\n",
        "        \"Dec\",\n",
        "    ]\n",
        "    month_label = f\"{months[month-1]} {year}\"\n",
        "    ax.text(i, j, month_label, color=cl, va=\"center\")\n",
        "\n",
        "\n",
        "def label_weekday(ax, i, j, cl=\"black\"):\n",
        "    x_offset_rate = 1\n",
        "    for weekday in [\"Mo\", \"Tu\", \"We\", \"Th\", \"Fr\", \"Sa\", \"Su\"]:\n",
        "        ax.text(i, j, weekday, ha=\"center\", va=\"center\", color=cl)\n",
        "        i += x_offset_rate\n",
        "        ax.add_patch(\n",
        "            patches.Rectangle(\n",
        "            (i - 1.5, j - 0.5),\n",
        "            1,\n",
        "            1,\n",
        "            edgecolor=\"gray\",\n",
        "            facecolor=\"gray\",\n",
        "            alpha=0.1,\n",
        "            fill=True,\n",
        "            )\n",
        "        )\n",
        "\n",
        "\n",
        "def label_day(ax, day, i, j, cl=\"black\"):\n",
        "    ax.text(i, j, int(day), ha=\"center\", va=\"center\", color=cl)\n",
        "\n",
        "\n",
        "def pintar_dias_jogados(ax, i, j):\n",
        "    ax.add_patch(\n",
        "        patches.Rectangle(\n",
        "            (i - 0.5, j - 0.5),\n",
        "            1,\n",
        "            1,\n",
        "            edgecolor=\"blue\",\n",
        "            facecolor=\"blue\",\n",
        "            alpha=0.1,\n",
        "            fill=True,\n",
        "        )\n",
        "    )\n",
        "\n",
        "\n",
        "def pintar_dias_nao_jogados(ax, i, j):\n",
        "    ax.add_patch(\n",
        "        patches.Rectangle(\n",
        "            (i - 0.5, j - 0.5),\n",
        "            1,\n",
        "            1,\n",
        "            edgecolor=\"red\",\n",
        "            facecolor=\"yellow\",\n",
        "            alpha=0.1,\n",
        "            fill=True,\n",
        "        )\n",
        "    )\n",
        "\n",
        "\n",
        "def check_dias_jogados(year, month, day, weekday):\n",
        "    if (month, day) in lista_dias_jogados:\n",
        "        return True\n",
        "\n",
        "\n",
        "def check_dias_nao_jogados(year, month, day, weekday):\n",
        "    if (month, day) in lista_dias_nao_jogados_no_mes:\n",
        "        return True\n",
        "\n",
        "\n",
        "def check_color_day(year, month, day, weekday):\n",
        "    if weekday == 6:  # Sunday\n",
        "        return \"gray\"\n",
        "    if weekday == 5:  # Saturday\n",
        "        return \"gray\"\n",
        "    return \"black\"\n",
        "\n",
        "\n",
        "def month_calendar(ax, year, month, fill):\n",
        "    date = datetime.datetime(year, month, 1)\n",
        "    weekday, num_days = monthrange(year, month)\n",
        "    # adjust by 0.5 to set text at the ceter of grid square\n",
        "    x_start = 1 - 0.5\n",
        "    y_start = 5 + 0.5\n",
        "    x_offset_rate = 1\n",
        "    y_offset = -1\n",
        "\n",
        "    label_month(year, month, ax, x_start, y_start + 2)\n",
        "    label_weekday(ax, x_start, y_start + 1)\n",
        "\n",
        "    j = y_start\n",
        "\n",
        "    for day in range(1, num_days + 1):\n",
        "        i = x_start + weekday * x_offset_rate\n",
        "        color = check_color_day(year, month, day, weekday)\n",
        "\n",
        "        if fill and check_dias_jogados(year, month, day, weekday):\n",
        "            pintar_dias_jogados(ax, i, j)\n",
        "\n",
        "        if fill and check_dias_nao_jogados(year, month, day, weekday):\n",
        "            pintar_dias_nao_jogados(ax, i, j)\n",
        "\n",
        "        label_day(ax, day, i, j, color)\n",
        "        weekday = (weekday + 1) % 7\n",
        "        if weekday == 0:\n",
        "            j += y_offset\n",
        "\n",
        "\n",
        "def main(year, month, grid=True, fill=True):\n",
        "    fig = plt.figure()\n",
        "    ax = fig.add_subplot()\n",
        "    ax.axis([0, 7, 0, 7])\n",
        "    ax.axis(\"off\")\n",
        "\n",
        "    if grid:\n",
        "        ax.axis(\"on\")\n",
        "        ax.grid(grid)\n",
        "        for tick in ax.xaxis.get_major_ticks():\n",
        "            tick.tick1line.set_visible(False)\n",
        "            tick.tick2line.set_visible(False)\n",
        "            tick.label1.set_visible(False)\n",
        "            tick.label2.set_visible(False)\n",
        "\n",
        "        for tick in ax.yaxis.get_major_ticks():\n",
        "            tick.tick1line.set_visible(False)\n",
        "            tick.tick2line.set_visible(False)\n",
        "            tick.label1.set_visible(False)\n",
        "            tick.label2.set_visible(False)\n",
        "    month_calendar(ax, year, month, fill)\n",
        "    plt.show()\n",
        "\n",
        "\n",
        "if __name__ == \"__main__\":\n",
        "\n",
        "    # pegando só os dias jogados de todos os meses\n",
        "    lista_dias_jogados = [(i.date().month, i.date().day) for i in df_data_list_fred['dia']]\n",
        "\n",
        "    # pegando só os dias não jogados no mês atual\n",
        "    start_of_month = datetime.date(today.year, today.month, 1)\n",
        "    filtered_dates = [(index, date) for index, date in df_data_list_fred['dia'].iteritems() if date.month == today.month]\n",
        "    lista_dias_nao_jogados_no_mes = [(date.month, date.day) for date in pd.date_range(start_of_month, today) if date not in [date for _, date in filtered_dates]]\n",
        "\n",
        "    year = datetime.date.today().year\n",
        "    month = datetime.date.today().month\n",
        "    main(year, month, grid=True, fill=True)"
      ]
    },
    {
      "cell_type": "code",
      "execution_count": 477,
      "metadata": {
        "colab": {
          "base_uri": "https://localhost:8080/",
          "height": 512
        },
        "id": "ZcFKN01WsyxT",
        "outputId": "e6d5eedb-4fae-46a1-8ae9-62436deaf42a"
      },
      "outputs": [
        {
          "data": {
            "image/png": "[encoded data removed]",
            "text/plain": [
              "<Figure size 432x288 with 1 Axes>"
            ]
          },
          "metadata": {},
          "output_type": "display_data"
        }
      ],
      "source": [
        "def label_month(year, month, ax, i, j, cl=\"black\"):\n",
        "    months = [\n",
        "        \"Jan\",\n",
        "        \"Feb\",\n",
        "        \"Mar\",\n",
        "        \"Apr\",\n",
        "        \"May\",\n",
        "        \"Jun\",\n",
        "        \"Jul\",\n",
        "        \"Aug\",\n",
        "        \"Sep\",\n",
        "        \"Oct\",\n",
        "        \"Nov\",\n",
        "        \"Dec\",\n",
        "    ]\n",
        "    month_label = f\"{months[month-1]} {year}\"\n",
        "    ax.text(i, j, month_label, color=cl, va=\"center\")\n",
        "\n",
        "\n",
        "def label_weekday(ax, i, j, cl=\"black\"):\n",
        "    x_offset_rate = 1\n",
        "    for weekday in [\"Mo\", \"Tu\", \"We\", \"Th\", \"Fr\", \"Sa\", \"Su\"]:\n",
        "        ax.text(i, j, weekday, ha=\"center\", va=\"center\", color=cl)\n",
        "        i += x_offset_rate\n",
        "        ax.add_patch(\n",
        "        patches.Rectangle(\n",
        "        (i - 1.5, j - 0.5),\n",
        "        1,\n",
        "        1,\n",
        "        edgecolor=\"gray\",\n",
        "        facecolor=\"gray\",\n",
        "        alpha=0.1,\n",
        "        fill=True,\n",
        "            )\n",
        "        )\n",
        "\n",
        "\n",
        "def label_day(ax, day, i, j, cl=\"black\"):\n",
        "    ax.text(i, j, int(day), ha=\"center\", va=\"center\", color=cl)\n",
        "\n",
        "\n",
        "def pintar_dias_jogados(ax, i, j):\n",
        "    ax.add_patch(\n",
        "        patches.Rectangle(\n",
        "            (i - 0.5, j - 0.5),\n",
        "            1,\n",
        "            1,\n",
        "            edgecolor=\"blue\",\n",
        "            facecolor=\"blue\",\n",
        "            alpha=0.1,\n",
        "            fill=True,\n",
        "        )\n",
        "    )\n",
        "\n",
        "\n",
        "def pintar_dias_nao_jogados(ax, i, j):\n",
        "    ax.add_patch(\n",
        "        patches.Rectangle(\n",
        "            (i - 0.5, j - 0.5),\n",
        "            1,\n",
        "            1,\n",
        "            edgecolor=\"red\",\n",
        "            facecolor=\"yellow\",\n",
        "            alpha=0.1,\n",
        "            fill=True,\n",
        "        )\n",
        "    )\n",
        "\n",
        "\n",
        "def check_dias_jogados(year, month, day, weekday):\n",
        "    if (month, day) in lista_dias_jogados:\n",
        "        return True\n",
        "\n",
        "\n",
        "def check_dias_nao_jogados(year, month, day, weekday):\n",
        "    if (month, day) in lista_dias_nao_jogados_no_mes:\n",
        "        return True\n",
        "\n",
        "\n",
        "def check_color_day(year, month, day, weekday):\n",
        "    if weekday == 6:  # Sunday\n",
        "        return \"gray\"\n",
        "    if weekday == 5:  # Saturday\n",
        "        return \"gray\"\n",
        "    return \"black\"\n",
        "\n",
        "\n",
        "def month_calendar(ax, year, month, fill):\n",
        "    date = datetime.datetime(year, month, 1)\n",
        "    weekday, num_days = monthrange(year, month)\n",
        "    # adjust by 0.5 to set text at the ceter of grid square\n",
        "    x_start = 1 - 0.5\n",
        "    y_start = 5 + 0.5\n",
        "    x_offset_rate = 1\n",
        "    y_offset = -1\n",
        "\n",
        "    label_month(year, month, ax, x_start, y_start + 2)\n",
        "    label_weekday(ax, x_start, y_start + 1)\n",
        "\n",
        "    j = y_start\n",
        "\n",
        "    for day in range(1, num_days + 1):\n",
        "        i = x_start + weekday * x_offset_rate\n",
        "        color = check_color_day(year, month, day, weekday)\n",
        "\n",
        "        if fill and check_dias_jogados(year, month, day, weekday):\n",
        "            pintar_dias_jogados(ax, i, j)\n",
        "\n",
        "        if fill and check_dias_nao_jogados(year, month, day, weekday):\n",
        "            pintar_dias_nao_jogados(ax, i, j)\n",
        "\n",
        "        label_day(ax, day, i, j, color)\n",
        "        weekday = (weekday + 1) % 7\n",
        "        if weekday == 0:\n",
        "            j += y_offset\n",
        "\n",
        "\n",
        "def main(year, month, grid=True, fill=True):\n",
        "    fig = plt.figure()\n",
        "    ax = fig.add_subplot()\n",
        "    ax.axis([0, 7, 0, 7])\n",
        "    ax.axis(\"off\")\n",
        "\n",
        "    if grid:\n",
        "        ax.axis(\"on\")\n",
        "        ax.grid(grid)\n",
        "        for tick in ax.xaxis.get_major_ticks():\n",
        "            tick.tick1line.set_visible(False)\n",
        "            tick.tick2line.set_visible(False)\n",
        "            tick.label1.set_visible(False)\n",
        "            tick.label2.set_visible(False)\n",
        "\n",
        "        for tick in ax.yaxis.get_major_ticks():\n",
        "            tick.tick1line.set_visible(False)\n",
        "            tick.tick2line.set_visible(False)\n",
        "            tick.label1.set_visible(False)\n",
        "            tick.label2.set_visible(False)\n",
        "    month_calendar(ax, year, month, fill)\n",
        "    plt.show()\n",
        "\n",
        "\n",
        "if __name__ == \"__main__\":\n",
        "\n",
        "    # pegando só os dias jogados de todos os meses\n",
        "    lista_dias_jogados = [(i.date().month, i.date().day) for i in df_data_list_fred['dia']]\n",
        "\n",
        "    # pegando só os dias não jogados no mês atual\n",
        "    start_of_month = datetime.date(today.year, today.month - 1, 1)\n",
        "    filtered_dates = [(index, date) for index, date in df_data_list_fred['dia'].iteritems() if date.month == today.month - 1]\n",
        "    lista_dias_nao_jogados_no_mes = [(date.month, date.day) for date in pd.date_range(start_of_month, today) if date not in [date for _, date in filtered_dates]]\n",
        "\n",
        "    year = datetime.date.today().year\n",
        "    month = datetime.date.today().month - 1\n",
        "    main(year, month, grid=True, fill=True)"
      ]
    },
    {
      "attachments": {},
      "cell_type": "markdown",
      "metadata": {
        "id": "BD_7chaRYXdT"
      },
      "source": [
        "## Estatísticas"
      ]
    },
    {
      "attachments": {},
      "cell_type": "markdown",
      "metadata": {},
      "source": [
        "#### Métricas para variáveis numéricas"
      ]
    },
    {
      "cell_type": "code",
      "execution_count": 548,
      "metadata": {},
      "outputs": [
        {
          "data": {
            "text/plain": [
              "{'df_data_list': {'nota': {'nota_soma': 215.5,\n",
              "   'nota_soma_essa_semana': 8.0,\n",
              "   'nota_soma_semana_passada': 34.0,\n",
              "   'nota_media': 6.0,\n",
              "   'nota_media_essa_semana': 8.0,\n",
              "   'nota_media_semana_passada': 6.8,\n",
              "   'nota_max': 9.0,\n",
              "   'nota_max_essa_semana': 8.0,\n",
              "   'nota_max_semana_passada': 9.0,\n",
              "   'nota_max_dia': '01/06/2023',\n",
              "   'nota_min': 2.0,\n",
              "   'nota_min_essa_semana': 8.0,\n",
              "   'nota_min_semana_passada': 5.0,\n",
              "   'nota_min_dia': '29/05/2023'},\n",
              "  'calorias': {'calorias_soma': 18815,\n",
              "   'calorias_soma_essa_semana': 653,\n",
              "   'calorias_soma_semana_passada': 1902,\n",
              "   'calorias_media': 522.6,\n",
              "   'calorias_media_essa_semana': 653.0,\n",
              "   'calorias_media_semana_passada': 380.4,\n",
              "   'calorias_max': 891,\n",
              "   'calorias_max_essa_semana': 653,\n",
              "   'calorias_max_semana_passada': 651,\n",
              "   'calorias_max_dia': '01/06/2023',\n",
              "   'calorias_min': 131,\n",
              "   'calorias_min_essa_semana': 653,\n",
              "   'calorias_min_semana_passada': 176,\n",
              "   'calorias_min_dia': '24/04/2023'},\n",
              "  'tempo_jogado': {'tempo_jogado_soma': 2059,\n",
              "   'tempo_jogado_soma_essa_semana': 56,\n",
              "   'tempo_jogado_soma_semana_passada': 227,\n",
              "   'tempo_jogado_media': 57.2,\n",
              "   'tempo_jogado_media_essa_semana': 56.0,\n",
              "   'tempo_jogado_media_semana_passada': 45.4,\n",
              "   'tempo_jogado_max': 84,\n",
              "   'tempo_jogado_max_essa_semana': 56,\n",
              "   'tempo_jogado_max_semana_passada': 61,\n",
              "   'tempo_jogado_max_dia': '03/05/2023',\n",
              "   'tempo_jogado_min': 18,\n",
              "   'tempo_jogado_min_essa_semana': 56,\n",
              "   'tempo_jogado_min_semana_passada': 18,\n",
              "   'tempo_jogado_min_dia': '20/06/2023'},\n",
              "  'animo_pra_jogar': {'animo_pra_jogar_soma': nan,\n",
              "   'animo_pra_jogar_soma_essa_semana': 7.0,\n",
              "   'animo_pra_jogar_soma_semana_passada': 37.0,\n",
              "   'animo_pra_jogar_media': 6.4,\n",
              "   'animo_pra_jogar_media_essa_semana': 7.0,\n",
              "   'animo_pra_jogar_media_semana_passada': 7.4,\n",
              "   'animo_pra_jogar_max': 10.0,\n",
              "   'animo_pra_jogar_max_essa_semana': 7.0,\n",
              "   'animo_pra_jogar_max_semana_passada': 10.0,\n",
              "   'animo_pra_jogar_max_dia': '20/06/2023',\n",
              "   'animo_pra_jogar_min': 4.0,\n",
              "   'animo_pra_jogar_min_essa_semana': 7.0,\n",
              "   'animo_pra_jogar_min_semana_passada': 5.0,\n",
              "   'animo_pra_jogar_min_dia': '30/05/2023'},\n",
              "  'tempo_de_descanso': {'tempo_de_descanso_soma': 19,\n",
              "   'tempo_de_descanso_soma_essa_semana': 0,\n",
              "   'tempo_de_descanso_soma_semana_passada': 5,\n",
              "   'tempo_de_descanso_media': 0.5,\n",
              "   'tempo_de_descanso_media_essa_semana': 0.0,\n",
              "   'tempo_de_descanso_media_semana_passada': 1.0,\n",
              "   'tempo_de_descanso_max': 5,\n",
              "   'tempo_de_descanso_max_essa_semana': 0,\n",
              "   'tempo_de_descanso_max_semana_passada': 5,\n",
              "   'tempo_de_descanso_max_dia': '20/06/2023',\n",
              "   'tempo_de_descanso_min': 0,\n",
              "   'tempo_de_descanso_min_essa_semana': 0,\n",
              "   'tempo_de_descanso_min_semana_passada': 0,\n",
              "   'tempo_de_descanso_min_dia': '22/05/2023'},\n",
              "  'calorias_por_min': {'calorias_por_min_soma': 328.0663753031276,\n",
              "   'calorias_por_min_soma_essa_semana': 11.660714285714286,\n",
              "   'calorias_por_min_soma_semana_passada': 42.3257422586521,\n",
              "   'calorias_por_min_media': 9.1,\n",
              "   'calorias_por_min_media_essa_semana': 11.7,\n",
              "   'calorias_por_min_media_semana_passada': 8.5,\n",
              "   'calorias_por_min_max': 12.0,\n",
              "   'calorias_por_min_max_essa_semana': 11.660714285714286,\n",
              "   'calorias_por_min_max_semana_passada': 10.672131147540984,\n",
              "   'calorias_por_min_max_dia': '16/05/2023',\n",
              "   'calorias_por_min_min': 5.24,\n",
              "   'calorias_por_min_min_essa_semana': 11.660714285714286,\n",
              "   'calorias_por_min_min_semana_passada': 5.72,\n",
              "   'calorias_por_min_min_dia': '24/04/2023'}},\n",
              " 'df_data_list_bia': {'nota': {'nota_soma': 71.0,\n",
              "   'nota_soma_essa_semana': 0,\n",
              "   'nota_soma_semana_passada': 10.0,\n",
              "   'nota_media': 4.7,\n",
              "   'nota_media_essa_semana': nan,\n",
              "   'nota_media_semana_passada': 5.0,\n",
              "   'nota_max': 7.0,\n",
              "   'nota_max_essa_semana': nan,\n",
              "   'nota_max_semana_passada': 5.0,\n",
              "   'nota_max_dia': '14/06/2023',\n",
              "   'nota_min': 2.0,\n",
              "   'nota_min_essa_semana': nan,\n",
              "   'nota_min_semana_passada': 5.0,\n",
              "   'nota_min_dia': '29/05/2023'},\n",
              "  'calorias': {'calorias_soma': 6026,\n",
              "   'calorias_soma_essa_semana': 0,\n",
              "   'calorias_soma_semana_passada': 624,\n",
              "   'calorias_media': 401.7,\n",
              "   'calorias_media_essa_semana': nan,\n",
              "   'calorias_media_semana_passada': 312.0,\n",
              "   'calorias_max': 611,\n",
              "   'calorias_max_essa_semana': nan,\n",
              "   'calorias_max_semana_passada': 338,\n",
              "   'calorias_max_dia': '03/05/2023',\n",
              "   'calorias_min': 131,\n",
              "   'calorias_min_essa_semana': nan,\n",
              "   'calorias_min_semana_passada': 286,\n",
              "   'calorias_min_dia': '24/04/2023'},\n",
              "  'tempo_jogado': {'tempo_jogado_soma': 876,\n",
              "   'tempo_jogado_soma_essa_semana': 0,\n",
              "   'tempo_jogado_soma_semana_passada': 100,\n",
              "   'tempo_jogado_media': 58.4,\n",
              "   'tempo_jogado_media_essa_semana': nan,\n",
              "   'tempo_jogado_media_semana_passada': 50.0,\n",
              "   'tempo_jogado_max': 83,\n",
              "   'tempo_jogado_max_essa_semana': nan,\n",
              "   'tempo_jogado_max_semana_passada': 50,\n",
              "   'tempo_jogado_max_dia': '03/05/2023',\n",
              "   'tempo_jogado_min': 25,\n",
              "   'tempo_jogado_min_essa_semana': nan,\n",
              "   'tempo_jogado_min_semana_passada': 50,\n",
              "   'tempo_jogado_min_dia': '24/04/2023'},\n",
              "  'animo_pra_jogar': {'animo_pra_jogar_soma': 80.0,\n",
              "   'animo_pra_jogar_soma_essa_semana': 0,\n",
              "   'animo_pra_jogar_soma_semana_passada': 11.0,\n",
              "   'animo_pra_jogar_media': 5.3,\n",
              "   'animo_pra_jogar_media_essa_semana': nan,\n",
              "   'animo_pra_jogar_media_semana_passada': 5.5,\n",
              "   'animo_pra_jogar_max': 8.0,\n",
              "   'animo_pra_jogar_max_essa_semana': nan,\n",
              "   'animo_pra_jogar_max_semana_passada': 6.0,\n",
              "   'animo_pra_jogar_max_dia': '29/05/2023',\n",
              "   'animo_pra_jogar_min': 4.0,\n",
              "   'animo_pra_jogar_min_essa_semana': nan,\n",
              "   'animo_pra_jogar_min_semana_passada': 5.0,\n",
              "   'animo_pra_jogar_min_dia': '30/05/2023'},\n",
              "  'tempo_de_descanso': {'tempo_de_descanso_soma': 3,\n",
              "   'tempo_de_descanso_soma_essa_semana': 0,\n",
              "   'tempo_de_descanso_soma_semana_passada': 0,\n",
              "   'tempo_de_descanso_media': 0.2,\n",
              "   'tempo_de_descanso_media_essa_semana': nan,\n",
              "   'tempo_de_descanso_media_semana_passada': 0.0,\n",
              "   'tempo_de_descanso_max': 3,\n",
              "   'tempo_de_descanso_max_essa_semana': nan,\n",
              "   'tempo_de_descanso_max_semana_passada': 0,\n",
              "   'tempo_de_descanso_max_dia': '29/05/2023',\n",
              "   'tempo_de_descanso_min': 0,\n",
              "   'tempo_de_descanso_min_essa_semana': nan,\n",
              "   'tempo_de_descanso_min_semana_passada': 0,\n",
              "   'tempo_de_descanso_min_dia': '21/06/2023'},\n",
              "  'calorias_por_min': {'calorias_por_min_soma': 101.41505566144164,\n",
              "   'calorias_por_min_soma_essa_semana': 0,\n",
              "   'calorias_por_min_soma_semana_passada': 12.48,\n",
              "   'calorias_por_min_media': 6.8,\n",
              "   'calorias_por_min_media_essa_semana': nan,\n",
              "   'calorias_por_min_media_semana_passada': 6.2,\n",
              "   'calorias_por_min_max': 7.986301369863014,\n",
              "   'calorias_por_min_max_essa_semana': nan,\n",
              "   'calorias_por_min_max_semana_passada': 6.76,\n",
              "   'calorias_por_min_max_dia': '26/04/2023',\n",
              "   'calorias_por_min_min': 5.24,\n",
              "   'calorias_por_min_min_essa_semana': nan,\n",
              "   'calorias_por_min_min_semana_passada': 5.72,\n",
              "   'calorias_por_min_min_dia': '24/04/2023'}},\n",
              " 'df_data_list_fred': {'nota': {'nota_soma': 144.5,\n",
              "   'nota_soma_essa_semana': 8.0,\n",
              "   'nota_soma_semana_passada': 24.0,\n",
              "   'nota_media': 6.9,\n",
              "   'nota_media_essa_semana': 8.0,\n",
              "   'nota_media_semana_passada': 8.0,\n",
              "   'nota_max': 9.0,\n",
              "   'nota_max_essa_semana': 8.0,\n",
              "   'nota_max_semana_passada': 9.0,\n",
              "   'nota_max_dia': '20/06/2023',\n",
              "   'nota_min': 3.0,\n",
              "   'nota_min_essa_semana': 8.0,\n",
              "   'nota_min_semana_passada': 7.0,\n",
              "   'nota_min_dia': '14/06/2023'},\n",
              "  'calorias': {'calorias_soma': 12789,\n",
              "   'calorias_soma_essa_semana': 653,\n",
              "   'calorias_soma_semana_passada': 1278,\n",
              "   'calorias_media': 609.0,\n",
              "   'calorias_media_essa_semana': 653.0,\n",
              "   'calorias_media_semana_passada': 426.0,\n",
              "   'calorias_max': 891,\n",
              "   'calorias_max_essa_semana': 653,\n",
              "   'calorias_max_semana_passada': 651,\n",
              "   'calorias_max_dia': '01/06/2023',\n",
              "   'calorias_min': 176,\n",
              "   'calorias_min_essa_semana': 653,\n",
              "   'calorias_min_semana_passada': 176,\n",
              "   'calorias_min_dia': '20/06/2023'},\n",
              "  'tempo_jogado': {'tempo_jogado_soma': 1183,\n",
              "   'tempo_jogado_soma_essa_semana': 56,\n",
              "   'tempo_jogado_soma_semana_passada': 127,\n",
              "   'tempo_jogado_media': 56.3,\n",
              "   'tempo_jogado_media_essa_semana': 56.0,\n",
              "   'tempo_jogado_media_semana_passada': 42.3,\n",
              "   'tempo_jogado_max': 84,\n",
              "   'tempo_jogado_max_essa_semana': 56,\n",
              "   'tempo_jogado_max_semana_passada': 61,\n",
              "   'tempo_jogado_max_dia': '03/05/2023',\n",
              "   'tempo_jogado_min': 18,\n",
              "   'tempo_jogado_min_essa_semana': 56,\n",
              "   'tempo_jogado_min_semana_passada': 18,\n",
              "   'tempo_jogado_min_dia': '20/06/2023'},\n",
              "  'animo_pra_jogar': {'animo_pra_jogar_soma': nan,\n",
              "   'animo_pra_jogar_soma_essa_semana': 7.0,\n",
              "   'animo_pra_jogar_soma_semana_passada': 26.0,\n",
              "   'animo_pra_jogar_media': 7.8,\n",
              "   'animo_pra_jogar_media_essa_semana': 7.0,\n",
              "   'animo_pra_jogar_media_semana_passada': 8.7,\n",
              "   'animo_pra_jogar_max': 10.0,\n",
              "   'animo_pra_jogar_max_essa_semana': 7.0,\n",
              "   'animo_pra_jogar_max_semana_passada': 10.0,\n",
              "   'animo_pra_jogar_max_dia': '20/06/2023',\n",
              "   'animo_pra_jogar_min': 5.0,\n",
              "   'animo_pra_jogar_min_essa_semana': 7.0,\n",
              "   'animo_pra_jogar_min_semana_passada': 8.0,\n",
              "   'animo_pra_jogar_min_dia': '30/05/2023'},\n",
              "  'tempo_de_descanso': {'tempo_de_descanso_soma': 16,\n",
              "   'tempo_de_descanso_soma_essa_semana': 0,\n",
              "   'tempo_de_descanso_soma_semana_passada': 5,\n",
              "   'tempo_de_descanso_media': 0.8,\n",
              "   'tempo_de_descanso_media_essa_semana': 0.0,\n",
              "   'tempo_de_descanso_media_semana_passada': 1.7,\n",
              "   'tempo_de_descanso_max': 5,\n",
              "   'tempo_de_descanso_max_essa_semana': 0,\n",
              "   'tempo_de_descanso_max_semana_passada': 5,\n",
              "   'tempo_de_descanso_max_dia': '20/06/2023',\n",
              "   'tempo_de_descanso_min': 0,\n",
              "   'tempo_de_descanso_min_essa_semana': 0,\n",
              "   'tempo_de_descanso_min_semana_passada': 0,\n",
              "   'tempo_de_descanso_min_dia': '26/06/2023'},\n",
              "  'calorias_por_min': {'calorias_por_min_soma': 226.65131964168594,\n",
              "   'calorias_por_min_soma_essa_semana': 11.660714285714286,\n",
              "   'calorias_por_min_soma_semana_passada': 29.8457422586521,\n",
              "   'calorias_por_min_media': 10.8,\n",
              "   'calorias_por_min_media_essa_semana': 11.7,\n",
              "   'calorias_por_min_media_semana_passada': 9.9,\n",
              "   'calorias_por_min_max': 12.0,\n",
              "   'calorias_por_min_max_essa_semana': 11.660714285714286,\n",
              "   'calorias_por_min_max_semana_passada': 10.672131147540984,\n",
              "   'calorias_por_min_max_dia': '16/05/2023',\n",
              "   'calorias_por_min_min': 9.395833333333334,\n",
              "   'calorias_por_min_min_essa_semana': 11.660714285714286,\n",
              "   'calorias_por_min_min_semana_passada': 9.395833333333334,\n",
              "   'calorias_por_min_min_dia': '21/06/2023'}}}"
            ]
          },
          "execution_count": 548,
          "metadata": {},
          "output_type": "execute_result"
        }
      ],
      "source": [
        "import datetime\n",
        "\n",
        "today = datetime.datetime.now() - datetime.timedelta(hours=3)\n",
        "current_week = datetime.date.isocalendar(today)[1]\n",
        "\n",
        "def calculo_numeric_stats(df, lista_metricas_numericas):\n",
        "    dict_metric_stats = {}\n",
        "    df_cleaned = df.dropna(subset=lista_metricas_numericas)\n",
        "\n",
        "    for metrica in lista_metricas_numericas:\n",
        "        metrica = str(metrica)\n",
        "        metric_soma = sum(df[metrica])\n",
        "        metric_soma_essa_semana = sum(df.query(f'numero_da_semana == {current_week}')[metrica])\n",
        "        metric_soma_semana_passada = sum(df.query(f'numero_da_semana == {current_week-1}')[metrica])\n",
        "        metric_media = round(df[metrica].mean(), 1)\n",
        "        metric_media_essa_semana = round(df.query(f'numero_da_semana == {current_week}')[metrica].mean(), 1)\n",
        "        metric_media_semana_passada = round(df.query(f'numero_da_semana == {current_week-1}')[metrica].mean(), 1)\n",
        "        metric_max = df[metrica].max()\n",
        "        metric_max_essa_semana = df.query(f'numero_da_semana == {current_week}')[metrica].max()\n",
        "        metric_max_semana_passada = df.query(f'numero_da_semana == {current_week-1}')[metrica].max()\n",
        "        metric_max_index = df[metrica].idxmax()\n",
        "        metric_max_dia = df.loc[metric_max_index, 'dia'].date().strftime('%d/%m/%Y')\n",
        "        metric_min = df_cleaned[metrica].min()\n",
        "        metric_min_essa_semana = df.query(f'numero_da_semana == {current_week}')[metrica].min()\n",
        "        metric_min_semana_passada = df.query(f'numero_da_semana == {current_week-1}')[metrica].min()\n",
        "        metric_min_index = df_cleaned[metrica].idxmin()\n",
        "        metric_min_dia = df.loc[metric_min_index, 'dia'].date().strftime('%d/%m/%Y')\n",
        "\n",
        "\n",
        "        dict_metric_stats[metrica] = {\n",
        "            f'{metrica}_soma': metric_soma,\n",
        "            f'{metrica}_soma_essa_semana': metric_soma_essa_semana,\n",
        "            f'{metrica}_soma_semana_passada': metric_soma_semana_passada,\n",
        "            f'{metrica}_media': metric_media,\n",
        "            f'{metrica}_media_essa_semana': metric_media_essa_semana,\n",
        "            f'{metrica}_media_semana_passada': metric_media_semana_passada,\n",
        "            f'{metrica}_max': metric_max,\n",
        "            f'{metrica}_max_essa_semana': metric_max_essa_semana,\n",
        "            f'{metrica}_max_semana_passada': metric_max_semana_passada,\n",
        "            f'{metrica}_max_dia': metric_max_dia,\n",
        "            f'{metrica}_min': metric_min,\n",
        "            f'{metrica}_min_essa_semana': metric_min_essa_semana,\n",
        "            f'{metrica}_min_semana_passada': metric_min_semana_passada,\n",
        "            f'{metrica}_min_dia': metric_min_dia\n",
        "        }\n",
        "\n",
        "    return dict_metric_stats\n",
        "\n",
        "lista_df = [df_data_list, df_data_list_bia, df_data_list_fred]\n",
        "lista_df_names = ['df_data_list', 'df_data_list_bia', 'df_data_list_fred']\n",
        "lista_metricas_numericas = ['nota', 'calorias', 'tempo_jogado', 'animo_pra_jogar', 'tempo_de_descanso', 'calorias_por_min']\n",
        "\n",
        "dict_numeric_stats = {}\n",
        "result = calculo_numeric_stats(specific_dataframe, lista_metricas_numericas)\n",
        "dict_numeric_stats['specific_dataframe'] = result\n",
        "\n",
        "dict_numeric_stats = {}\n",
        "\n",
        "for df, name in zip(lista_df, lista_df_names):\n",
        "    result = calculo_numeric_stats(df, lista_metricas_numericas)\n",
        "    dict_numeric_stats[name] = result\n",
        "\n",
        "dict_numeric_stats"
      ]
    },
    {
      "cell_type": "code",
      "execution_count": null,
      "metadata": {},
      "outputs": [],
      "source": [
        "def calculo_numeric_stats(df, lista_metricas_numericas):\n",
        "    dict_metric_stats = {}\n",
        "    df_cleaned = df.dropna(subset=lista_metricas_numericas)\n",
        "\n",
        "    for metrica in lista_metricas_numericas:\n",
        "        metrica = str(metrica)\n",
        "        metric_soma = sum(df[metrica])\n",
        "        metric_soma_essa_semana = sum(df.query('numero_da_semana == current_week')[metrica])\n",
        "        metric_media = round(df[metrica].mean(), 1)\n",
        "        metric_max = df[metrica].max()\n",
        "        metric_max_index = df[metrica].idxmax()\n",
        "        metric_max_dia = df.loc[metric_max_index, 'dia'].date().strftime('%d/%m/%Y')\n",
        "        metric_min = df_cleaned[metrica].min()\n",
        "        metric_min_index = df_cleaned[metrica].idxmin()\n",
        "        metric_min_dia = df.loc[metric_min_index, 'dia'].date().strftime('%d/%m/%Y')\n",
        "\n",
        "\n",
        "        dict_metric_stats[metrica] = {\n",
        "            f'{metrica}_soma': metric_soma,\n",
        "            f'{metrica}_media': metric_media,\n",
        "            f'{metrica}_max': metric_max,\n",
        "            f'{metrica}_max_dia': metric_max_dia,\n",
        "            f'{metrica}_min': metric_min,\n",
        "            f'{metrica}_min_dia': metric_min_dia\n",
        "        }\n",
        "\n",
        "    return dict_metric_stats\n",
        "\n",
        "\n",
        "lista_df = [df_data_list, df_data_list_bia, df_data_list_fred]\n",
        "lista_df_names = ['df_data_list', 'df_data_list_bia', 'df_data_list_fred']\n",
        "lista_metricas_numericas = ['nota', 'calorias', 'tempo_jogado', 'animo_pra_jogar', 'tempo_de_descanso', 'calorias_por_min']\n",
        "\n"
      ]
    },
    {
      "cell_type": "code",
      "execution_count": 539,
      "metadata": {},
      "outputs": [
        {
          "data": {
            "text/html": [
              "<div>\n",
              "<style scoped>\n",
              "    .dataframe tbody tr th:only-of-type {\n",
              "        vertical-align: middle;\n",
              "    }\n",
              "\n",
              "    .dataframe tbody tr th {\n",
              "        vertical-align: top;\n",
              "    }\n",
              "\n",
              "    .dataframe thead th {\n",
              "        text-align: right;\n",
              "    }\n",
              "</style>\n",
              "<table border=\"1\" class=\"dataframe\">\n",
              "  <thead>\n",
              "    <tr style=\"text-align: right;\">\n",
              "      <th></th>\n",
              "      <th>_id</th>\n",
              "      <th>jogador</th>\n",
              "      <th>dia</th>\n",
              "      <th>hora_do_jogo</th>\n",
              "      <th>tempo_de_descanso</th>\n",
              "      <th>jogou_sozinho</th>\n",
              "      <th>ouviu_musica</th>\n",
              "      <th>nota</th>\n",
              "      <th>pai</th>\n",
              "      <th>calorias</th>\n",
              "      <th>tempo_jogado</th>\n",
              "      <th>animo_pra_jogar</th>\n",
              "      <th>sentimento_do_dia</th>\n",
              "      <th>calorias_por_min</th>\n",
              "      <th>numero_da_semana</th>\n",
              "    </tr>\n",
              "  </thead>\n",
              "  <tbody>\n",
              "    <tr>\n",
              "      <th>0</th>\n",
              "      <td>6474257e1a1510fe3c358b15</td>\n",
              "      <td>Fred</td>\n",
              "      <td>2023-05-22</td>\n",
              "      <td>22:04:00</td>\n",
              "      <td>0</td>\n",
              "      <td>sim</td>\n",
              "      <td>não</td>\n",
              "      <td>6.0</td>\n",
              "      <td>11</td>\n",
              "      <td>325</td>\n",
              "      <td>30</td>\n",
              "      <td>6.0</td>\n",
              "      <td>Meh</td>\n",
              "      <td>10.833333</td>\n",
              "      <td>21</td>\n",
              "    </tr>\n",
              "    <tr>\n",
              "      <th>1</th>\n",
              "      <td>6474257e1a1510fe3c358b17</td>\n",
              "      <td>Fred</td>\n",
              "      <td>2023-05-16</td>\n",
              "      <td>20:13:00</td>\n",
              "      <td>0</td>\n",
              "      <td>não</td>\n",
              "      <td>não</td>\n",
              "      <td>5.0</td>\n",
              "      <td>16</td>\n",
              "      <td>264</td>\n",
              "      <td>22</td>\n",
              "      <td>NaN</td>\n",
              "      <td>não coletado</td>\n",
              "      <td>12.000000</td>\n",
              "      <td>20</td>\n",
              "    </tr>\n",
              "    <tr>\n",
              "      <th>2</th>\n",
              "      <td>6474257e1a1510fe3c358b1e</td>\n",
              "      <td>Fred</td>\n",
              "      <td>2023-04-26</td>\n",
              "      <td>21:35:00</td>\n",
              "      <td>0</td>\n",
              "      <td>não</td>\n",
              "      <td>não</td>\n",
              "      <td>7.0</td>\n",
              "      <td>26</td>\n",
              "      <td>821</td>\n",
              "      <td>73</td>\n",
              "      <td>NaN</td>\n",
              "      <td>não coletado</td>\n",
              "      <td>11.246575</td>\n",
              "      <td>17</td>\n",
              "    </tr>\n",
              "    <tr>\n",
              "      <th>3</th>\n",
              "      <td>6474257e1a1510fe3c358b1c</td>\n",
              "      <td>Fred</td>\n",
              "      <td>2023-04-25</td>\n",
              "      <td>12:24:00</td>\n",
              "      <td>0</td>\n",
              "      <td>não</td>\n",
              "      <td>não</td>\n",
              "      <td>6.0</td>\n",
              "      <td>16</td>\n",
              "      <td>529</td>\n",
              "      <td>50</td>\n",
              "      <td>NaN</td>\n",
              "      <td>não coletado</td>\n",
              "      <td>10.580000</td>\n",
              "      <td>17</td>\n",
              "    </tr>\n",
              "    <tr>\n",
              "      <th>4</th>\n",
              "      <td>6474257e1a1510fe3c358b18</td>\n",
              "      <td>Fred</td>\n",
              "      <td>2023-05-09</td>\n",
              "      <td>21:03:00</td>\n",
              "      <td>0</td>\n",
              "      <td>não</td>\n",
              "      <td>não</td>\n",
              "      <td>5.0</td>\n",
              "      <td>19</td>\n",
              "      <td>783</td>\n",
              "      <td>78</td>\n",
              "      <td>NaN</td>\n",
              "      <td>não coletado</td>\n",
              "      <td>10.038462</td>\n",
              "      <td>19</td>\n",
              "    </tr>\n",
              "    <tr>\n",
              "      <th>5</th>\n",
              "      <td>6474257e1a1510fe3c358b19</td>\n",
              "      <td>Fred</td>\n",
              "      <td>2023-05-08</td>\n",
              "      <td>12:37:00</td>\n",
              "      <td>0</td>\n",
              "      <td>não</td>\n",
              "      <td>não</td>\n",
              "      <td>8.0</td>\n",
              "      <td>21</td>\n",
              "      <td>560</td>\n",
              "      <td>51</td>\n",
              "      <td>NaN</td>\n",
              "      <td>não coletado</td>\n",
              "      <td>10.980392</td>\n",
              "      <td>19</td>\n",
              "    </tr>\n",
              "    <tr>\n",
              "      <th>6</th>\n",
              "      <td>6474257e1a1510fe3c358b13</td>\n",
              "      <td>Fred</td>\n",
              "      <td>2023-05-26</td>\n",
              "      <td>21:27:00</td>\n",
              "      <td>4</td>\n",
              "      <td>sim</td>\n",
              "      <td>sim</td>\n",
              "      <td>8.0</td>\n",
              "      <td>33</td>\n",
              "      <td>813</td>\n",
              "      <td>74</td>\n",
              "      <td>8.0</td>\n",
              "      <td>animado</td>\n",
              "      <td>10.986486</td>\n",
              "      <td>21</td>\n",
              "    </tr>\n",
              "    <tr>\n",
              "      <th>7</th>\n",
              "      <td>6474257e1a1510fe3c358b14</td>\n",
              "      <td>Fred</td>\n",
              "      <td>2023-05-25</td>\n",
              "      <td>12:19:00</td>\n",
              "      <td>2</td>\n",
              "      <td>sim</td>\n",
              "      <td>sim</td>\n",
              "      <td>8.5</td>\n",
              "      <td>35</td>\n",
              "      <td>538</td>\n",
              "      <td>50</td>\n",
              "      <td>8.0</td>\n",
              "      <td>animado</td>\n",
              "      <td>10.760000</td>\n",
              "      <td>21</td>\n",
              "    </tr>\n",
              "    <tr>\n",
              "      <th>8</th>\n",
              "      <td>6474257e1a1510fe3c358b16</td>\n",
              "      <td>Fred</td>\n",
              "      <td>2023-05-18</td>\n",
              "      <td>11:55:00</td>\n",
              "      <td>0</td>\n",
              "      <td>sim</td>\n",
              "      <td>não</td>\n",
              "      <td>7.0</td>\n",
              "      <td>14</td>\n",
              "      <td>310</td>\n",
              "      <td>30</td>\n",
              "      <td>NaN</td>\n",
              "      <td>não coletado</td>\n",
              "      <td>10.333333</td>\n",
              "      <td>20</td>\n",
              "    </tr>\n",
              "    <tr>\n",
              "      <th>9</th>\n",
              "      <td>6474257e1a1510fe3c358b1a</td>\n",
              "      <td>Fred</td>\n",
              "      <td>2023-05-05</td>\n",
              "      <td>12:12:00</td>\n",
              "      <td>0</td>\n",
              "      <td>não</td>\n",
              "      <td>não</td>\n",
              "      <td>7.0</td>\n",
              "      <td>14</td>\n",
              "      <td>543</td>\n",
              "      <td>50</td>\n",
              "      <td>NaN</td>\n",
              "      <td>não coletado</td>\n",
              "      <td>10.860000</td>\n",
              "      <td>18</td>\n",
              "    </tr>\n",
              "    <tr>\n",
              "      <th>10</th>\n",
              "      <td>6474257e1a1510fe3c358b1b</td>\n",
              "      <td>Fred</td>\n",
              "      <td>2023-05-03</td>\n",
              "      <td>11:49:00</td>\n",
              "      <td>0</td>\n",
              "      <td>não</td>\n",
              "      <td>não</td>\n",
              "      <td>6.0</td>\n",
              "      <td>31</td>\n",
              "      <td>880</td>\n",
              "      <td>84</td>\n",
              "      <td>NaN</td>\n",
              "      <td>não coletado</td>\n",
              "      <td>10.476190</td>\n",
              "      <td>18</td>\n",
              "    </tr>\n",
              "    <tr>\n",
              "      <th>11</th>\n",
              "      <td>6474257e1a1510fe3c358b1d</td>\n",
              "      <td>Fred</td>\n",
              "      <td>2023-04-30</td>\n",
              "      <td>19:30:00</td>\n",
              "      <td>0</td>\n",
              "      <td>não</td>\n",
              "      <td>não</td>\n",
              "      <td>7.0</td>\n",
              "      <td>22</td>\n",
              "      <td>751</td>\n",
              "      <td>69</td>\n",
              "      <td>NaN</td>\n",
              "      <td>não coletado</td>\n",
              "      <td>10.884058</td>\n",
              "      <td>17</td>\n",
              "    </tr>\n",
              "    <tr>\n",
              "      <th>12</th>\n",
              "      <td>64755072c3a73b3d1379967e</td>\n",
              "      <td>Fred</td>\n",
              "      <td>2023-05-29</td>\n",
              "      <td>21:30:00</td>\n",
              "      <td>2</td>\n",
              "      <td>não</td>\n",
              "      <td>não</td>\n",
              "      <td>7.0</td>\n",
              "      <td>20</td>\n",
              "      <td>755</td>\n",
              "      <td>65</td>\n",
              "      <td>8.0</td>\n",
              "      <td>Triste</td>\n",
              "      <td>11.615385</td>\n",
              "      <td>22</td>\n",
              "    </tr>\n",
              "    <tr>\n",
              "      <th>13</th>\n",
              "      <td>64755085c3a73b3d13799682</td>\n",
              "      <td>Bia</td>\n",
              "      <td>2023-05-29</td>\n",
              "      <td>21:30:00</td>\n",
              "      <td>3</td>\n",
              "      <td>não</td>\n",
              "      <td>não</td>\n",
              "      <td>2.0</td>\n",
              "      <td>62</td>\n",
              "      <td>458</td>\n",
              "      <td>60</td>\n",
              "      <td>8.0</td>\n",
              "      <td>Meh</td>\n",
              "      <td>7.633333</td>\n",
              "      <td>22</td>\n",
              "    </tr>\n",
              "    <tr>\n",
              "      <th>14</th>\n",
              "      <td>647695f03e5cd7e83594a78c</td>\n",
              "      <td>Fred</td>\n",
              "      <td>2023-05-30</td>\n",
              "      <td>20:30:00</td>\n",
              "      <td>0</td>\n",
              "      <td>não</td>\n",
              "      <td>não</td>\n",
              "      <td>6.0</td>\n",
              "      <td>12</td>\n",
              "      <td>657</td>\n",
              "      <td>67</td>\n",
              "      <td>5.0</td>\n",
              "      <td>Meh</td>\n",
              "      <td>9.805970</td>\n",
              "      <td>22</td>\n",
              "    </tr>\n",
              "    <tr>\n",
              "      <th>15</th>\n",
              "      <td>64769d533e5cd7e83594a790</td>\n",
              "      <td>Bia</td>\n",
              "      <td>2023-05-30</td>\n",
              "      <td>20:30:00</td>\n",
              "      <td>0</td>\n",
              "      <td>não</td>\n",
              "      <td>não</td>\n",
              "      <td>4.0</td>\n",
              "      <td>60</td>\n",
              "      <td>519</td>\n",
              "      <td>66</td>\n",
              "      <td>4.0</td>\n",
              "      <td>Esperançoso</td>\n",
              "      <td>7.863636</td>\n",
              "      <td>22</td>\n",
              "    </tr>\n",
              "    <tr>\n",
              "      <th>16</th>\n",
              "      <td>64769d9f3e5cd7e83594a792</td>\n",
              "      <td>Bia</td>\n",
              "      <td>2023-05-09</td>\n",
              "      <td>21:03:00</td>\n",
              "      <td>0</td>\n",
              "      <td>não</td>\n",
              "      <td>não</td>\n",
              "      <td>5.0</td>\n",
              "      <td>48</td>\n",
              "      <td>513</td>\n",
              "      <td>73</td>\n",
              "      <td>5.0</td>\n",
              "      <td>Animado</td>\n",
              "      <td>7.027397</td>\n",
              "      <td>19</td>\n",
              "    </tr>\n",
              "    <tr>\n",
              "      <th>17</th>\n",
              "      <td>64769dcc3e5cd7e83594a794</td>\n",
              "      <td>Bia</td>\n",
              "      <td>2023-05-08</td>\n",
              "      <td>12:37:00</td>\n",
              "      <td>0</td>\n",
              "      <td>não</td>\n",
              "      <td>não</td>\n",
              "      <td>5.0</td>\n",
              "      <td>16</td>\n",
              "      <td>283</td>\n",
              "      <td>52</td>\n",
              "      <td>5.0</td>\n",
              "      <td>Animado</td>\n",
              "      <td>5.442308</td>\n",
              "      <td>19</td>\n",
              "    </tr>\n",
              "    <tr>\n",
              "      <th>18</th>\n",
              "      <td>64769e013e5cd7e83594a796</td>\n",
              "      <td>Bia</td>\n",
              "      <td>2023-05-05</td>\n",
              "      <td>12:12:00</td>\n",
              "      <td>0</td>\n",
              "      <td>não</td>\n",
              "      <td>não</td>\n",
              "      <td>5.0</td>\n",
              "      <td>18</td>\n",
              "      <td>285</td>\n",
              "      <td>46</td>\n",
              "      <td>5.0</td>\n",
              "      <td>Animado</td>\n",
              "      <td>6.195652</td>\n",
              "      <td>18</td>\n",
              "    </tr>\n",
              "    <tr>\n",
              "      <th>19</th>\n",
              "      <td>64769e363e5cd7e83594a798</td>\n",
              "      <td>Bia</td>\n",
              "      <td>2023-05-03</td>\n",
              "      <td>19:30:00</td>\n",
              "      <td>0</td>\n",
              "      <td>não</td>\n",
              "      <td>não</td>\n",
              "      <td>5.0</td>\n",
              "      <td>75</td>\n",
              "      <td>611</td>\n",
              "      <td>83</td>\n",
              "      <td>5.0</td>\n",
              "      <td>Animado</td>\n",
              "      <td>7.361446</td>\n",
              "      <td>18</td>\n",
              "    </tr>\n",
              "    <tr>\n",
              "      <th>20</th>\n",
              "      <td>64769e683e5cd7e83594a79a</td>\n",
              "      <td>Bia</td>\n",
              "      <td>2023-04-30</td>\n",
              "      <td>19:30:00</td>\n",
              "      <td>0</td>\n",
              "      <td>não</td>\n",
              "      <td>não</td>\n",
              "      <td>5.0</td>\n",
              "      <td>11</td>\n",
              "      <td>374</td>\n",
              "      <td>70</td>\n",
              "      <td>5.0</td>\n",
              "      <td>Animado</td>\n",
              "      <td>5.342857</td>\n",
              "      <td>17</td>\n",
              "    </tr>\n",
              "    <tr>\n",
              "      <th>21</th>\n",
              "      <td>64769e923e5cd7e83594a79c</td>\n",
              "      <td>Bia</td>\n",
              "      <td>2023-04-26</td>\n",
              "      <td>21:30:00</td>\n",
              "      <td>0</td>\n",
              "      <td>não</td>\n",
              "      <td>não</td>\n",
              "      <td>5.0</td>\n",
              "      <td>63</td>\n",
              "      <td>583</td>\n",
              "      <td>73</td>\n",
              "      <td>5.0</td>\n",
              "      <td>Animado</td>\n",
              "      <td>7.986301</td>\n",
              "      <td>17</td>\n",
              "    </tr>\n",
              "    <tr>\n",
              "      <th>22</th>\n",
              "      <td>64769ebd3e5cd7e83594a79e</td>\n",
              "      <td>Bia</td>\n",
              "      <td>2023-04-25</td>\n",
              "      <td>12:14:00</td>\n",
              "      <td>0</td>\n",
              "      <td>não</td>\n",
              "      <td>não</td>\n",
              "      <td>5.0</td>\n",
              "      <td>54</td>\n",
              "      <td>386</td>\n",
              "      <td>52</td>\n",
              "      <td>5.0</td>\n",
              "      <td>Animado</td>\n",
              "      <td>7.423077</td>\n",
              "      <td>17</td>\n",
              "    </tr>\n",
              "    <tr>\n",
              "      <th>23</th>\n",
              "      <td>64769ee53e5cd7e83594a7a0</td>\n",
              "      <td>Bia</td>\n",
              "      <td>2023-04-24</td>\n",
              "      <td>22:12:00</td>\n",
              "      <td>0</td>\n",
              "      <td>não</td>\n",
              "      <td>não</td>\n",
              "      <td>5.0</td>\n",
              "      <td>12</td>\n",
              "      <td>131</td>\n",
              "      <td>25</td>\n",
              "      <td>5.0</td>\n",
              "      <td>Animado</td>\n",
              "      <td>5.240000</td>\n",
              "      <td>17</td>\n",
              "    </tr>\n",
              "    <tr>\n",
              "      <th>24</th>\n",
              "      <td>64769f0f3e5cd7e83594a7a2</td>\n",
              "      <td>Bia</td>\n",
              "      <td>2023-04-20</td>\n",
              "      <td>18:30:00</td>\n",
              "      <td>0</td>\n",
              "      <td>não</td>\n",
              "      <td>não</td>\n",
              "      <td>5.0</td>\n",
              "      <td>32</td>\n",
              "      <td>366</td>\n",
              "      <td>56</td>\n",
              "      <td>5.0</td>\n",
              "      <td>Animado</td>\n",
              "      <td>6.535714</td>\n",
              "      <td>16</td>\n",
              "    </tr>\n",
              "    <tr>\n",
              "      <th>25</th>\n",
              "      <td>6478cafc3e5cd7e83594a7ae</td>\n",
              "      <td>Fred</td>\n",
              "      <td>2023-06-01</td>\n",
              "      <td>12:30:00</td>\n",
              "      <td>0</td>\n",
              "      <td>não</td>\n",
              "      <td>não</td>\n",
              "      <td>9.0</td>\n",
              "      <td>47</td>\n",
              "      <td>891</td>\n",
              "      <td>78</td>\n",
              "      <td>9.0</td>\n",
              "      <td>Entusiasmado</td>\n",
              "      <td>11.423077</td>\n",
              "      <td>22</td>\n",
              "    </tr>\n",
              "    <tr>\n",
              "      <th>26</th>\n",
              "      <td>648a947bee84afa912c1466b</td>\n",
              "      <td>Fred</td>\n",
              "      <td>2023-06-14</td>\n",
              "      <td>20:30:00</td>\n",
              "      <td>3</td>\n",
              "      <td>não</td>\n",
              "      <td>não</td>\n",
              "      <td>3.0</td>\n",
              "      <td>25</td>\n",
              "      <td>742</td>\n",
              "      <td>68</td>\n",
              "      <td>9.0</td>\n",
              "      <td>Entusiasmado</td>\n",
              "      <td>10.911765</td>\n",
              "      <td>24</td>\n",
              "    </tr>\n",
              "    <tr>\n",
              "      <th>27</th>\n",
              "      <td>648d26a6ee84afa912c1466f</td>\n",
              "      <td>Fred</td>\n",
              "      <td>2023-06-16</td>\n",
              "      <td>22:15:00</td>\n",
              "      <td>0</td>\n",
              "      <td>não</td>\n",
              "      <td>não</td>\n",
              "      <td>7.0</td>\n",
              "      <td>28</td>\n",
              "      <td>696</td>\n",
              "      <td>61</td>\n",
              "      <td>8.0</td>\n",
              "      <td>Cansado</td>\n",
              "      <td>11.409836</td>\n",
              "      <td>24</td>\n",
              "    </tr>\n",
              "    <tr>\n",
              "      <th>28</th>\n",
              "      <td>648dd40fee84afa912c14674</td>\n",
              "      <td>Bia</td>\n",
              "      <td>2023-06-16</td>\n",
              "      <td>22:15:00</td>\n",
              "      <td>0</td>\n",
              "      <td>não</td>\n",
              "      <td>sim</td>\n",
              "      <td>3.0</td>\n",
              "      <td>39</td>\n",
              "      <td>434</td>\n",
              "      <td>60</td>\n",
              "      <td>6.0</td>\n",
              "      <td>Meh</td>\n",
              "      <td>7.233333</td>\n",
              "      <td>24</td>\n",
              "    </tr>\n",
              "    <tr>\n",
              "      <th>29</th>\n",
              "      <td>648dd50bee84afa912c14679</td>\n",
              "      <td>Bia</td>\n",
              "      <td>2023-06-14</td>\n",
              "      <td>20:30:00</td>\n",
              "      <td>0</td>\n",
              "      <td>não</td>\n",
              "      <td>não</td>\n",
              "      <td>7.0</td>\n",
              "      <td>52</td>\n",
              "      <td>459</td>\n",
              "      <td>60</td>\n",
              "      <td>6.0</td>\n",
              "      <td>Meh</td>\n",
              "      <td>7.650000</td>\n",
              "      <td>24</td>\n",
              "    </tr>\n",
              "    <tr>\n",
              "      <th>30</th>\n",
              "      <td>6491ec8fe237f2af8d243c3c</td>\n",
              "      <td>Fred</td>\n",
              "      <td>2023-06-20</td>\n",
              "      <td>12:14:00</td>\n",
              "      <td>5</td>\n",
              "      <td>não</td>\n",
              "      <td>não</td>\n",
              "      <td>7.0</td>\n",
              "      <td>22</td>\n",
              "      <td>651</td>\n",
              "      <td>61</td>\n",
              "      <td>8.0</td>\n",
              "      <td>Entusiasmado</td>\n",
              "      <td>10.672131</td>\n",
              "      <td>25</td>\n",
              "    </tr>\n",
              "    <tr>\n",
              "      <th>31</th>\n",
              "      <td>6491f1b1e237f2af8d243c44</td>\n",
              "      <td>Bia</td>\n",
              "      <td>2023-06-20</td>\n",
              "      <td>18:36:00</td>\n",
              "      <td>0</td>\n",
              "      <td>não</td>\n",
              "      <td>não</td>\n",
              "      <td>5.0</td>\n",
              "      <td>30</td>\n",
              "      <td>338</td>\n",
              "      <td>50</td>\n",
              "      <td>5.0</td>\n",
              "      <td>Meh</td>\n",
              "      <td>6.760000</td>\n",
              "      <td>25</td>\n",
              "    </tr>\n",
              "    <tr>\n",
              "      <th>32</th>\n",
              "      <td>64938064e237f2af8d243c4a</td>\n",
              "      <td>Fred</td>\n",
              "      <td>2023-06-20</td>\n",
              "      <td>21:15:00</td>\n",
              "      <td>0</td>\n",
              "      <td>sim</td>\n",
              "      <td>não</td>\n",
              "      <td>9.0</td>\n",
              "      <td>4</td>\n",
              "      <td>176</td>\n",
              "      <td>18</td>\n",
              "      <td>10.0</td>\n",
              "      <td>Animado</td>\n",
              "      <td>9.777778</td>\n",
              "      <td>25</td>\n",
              "    </tr>\n",
              "    <tr>\n",
              "      <th>33</th>\n",
              "      <td>64944c6ce237f2af8d243c4d</td>\n",
              "      <td>Bia</td>\n",
              "      <td>2023-06-21</td>\n",
              "      <td>13:28:00</td>\n",
              "      <td>0</td>\n",
              "      <td>não</td>\n",
              "      <td>não</td>\n",
              "      <td>5.0</td>\n",
              "      <td>11</td>\n",
              "      <td>286</td>\n",
              "      <td>50</td>\n",
              "      <td>6.0</td>\n",
              "      <td>Meh</td>\n",
              "      <td>5.720000</td>\n",
              "      <td>25</td>\n",
              "    </tr>\n",
              "    <tr>\n",
              "      <th>34</th>\n",
              "      <td>64950503e237f2af8d243c4f</td>\n",
              "      <td>Fred</td>\n",
              "      <td>2023-06-21</td>\n",
              "      <td>21:45:00</td>\n",
              "      <td>0</td>\n",
              "      <td>não</td>\n",
              "      <td>não</td>\n",
              "      <td>8.0</td>\n",
              "      <td>8</td>\n",
              "      <td>451</td>\n",
              "      <td>48</td>\n",
              "      <td>8.0</td>\n",
              "      <td>Animado</td>\n",
              "      <td>9.395833</td>\n",
              "      <td>25</td>\n",
              "    </tr>\n",
              "    <tr>\n",
              "      <th>35</th>\n",
              "      <td>649a34ba9f3bcd9f9943dc46</td>\n",
              "      <td>Fred</td>\n",
              "      <td>2023-06-26</td>\n",
              "      <td>12:30:00</td>\n",
              "      <td>0</td>\n",
              "      <td>não</td>\n",
              "      <td>não</td>\n",
              "      <td>8.0</td>\n",
              "      <td>35</td>\n",
              "      <td>653</td>\n",
              "      <td>56</td>\n",
              "      <td>7.0</td>\n",
              "      <td>Meh</td>\n",
              "      <td>11.660714</td>\n",
              "      <td>26</td>\n",
              "    </tr>\n",
              "  </tbody>\n",
              "</table>\n",
              "</div>"
            ],
            "text/plain": [
              "                         _id jogador        dia hora_do_jogo  \\\n",
              "0   6474257e1a1510fe3c358b15    Fred 2023-05-22     22:04:00   \n",
              "1   6474257e1a1510fe3c358b17    Fred 2023-05-16     20:13:00   \n",
              "2   6474257e1a1510fe3c358b1e    Fred 2023-04-26     21:35:00   \n",
              "3   6474257e1a1510fe3c358b1c    Fred 2023-04-25     12:24:00   \n",
              "4   6474257e1a1510fe3c358b18    Fred 2023-05-09     21:03:00   \n",
              "5   6474257e1a1510fe3c358b19    Fred 2023-05-08     12:37:00   \n",
              "6   6474257e1a1510fe3c358b13    Fred 2023-05-26     21:27:00   \n",
              "7   6474257e1a1510fe3c358b14    Fred 2023-05-25     12:19:00   \n",
              "8   6474257e1a1510fe3c358b16    Fred 2023-05-18     11:55:00   \n",
              "9   6474257e1a1510fe3c358b1a    Fred 2023-05-05     12:12:00   \n",
              "10  6474257e1a1510fe3c358b1b    Fred 2023-05-03     11:49:00   \n",
              "11  6474257e1a1510fe3c358b1d    Fred 2023-04-30     19:30:00   \n",
              "12  64755072c3a73b3d1379967e    Fred 2023-05-29     21:30:00   \n",
              "13  64755085c3a73b3d13799682     Bia 2023-05-29     21:30:00   \n",
              "14  647695f03e5cd7e83594a78c    Fred 2023-05-30     20:30:00   \n",
              "15  64769d533e5cd7e83594a790     Bia 2023-05-30     20:30:00   \n",
              "16  64769d9f3e5cd7e83594a792     Bia 2023-05-09     21:03:00   \n",
              "17  64769dcc3e5cd7e83594a794     Bia 2023-05-08     12:37:00   \n",
              "18  64769e013e5cd7e83594a796     Bia 2023-05-05     12:12:00   \n",
              "19  64769e363e5cd7e83594a798     Bia 2023-05-03     19:30:00   \n",
              "20  64769e683e5cd7e83594a79a     Bia 2023-04-30     19:30:00   \n",
              "21  64769e923e5cd7e83594a79c     Bia 2023-04-26     21:30:00   \n",
              "22  64769ebd3e5cd7e83594a79e     Bia 2023-04-25     12:14:00   \n",
              "23  64769ee53e5cd7e83594a7a0     Bia 2023-04-24     22:12:00   \n",
              "24  64769f0f3e5cd7e83594a7a2     Bia 2023-04-20     18:30:00   \n",
              "25  6478cafc3e5cd7e83594a7ae    Fred 2023-06-01     12:30:00   \n",
              "26  648a947bee84afa912c1466b    Fred 2023-06-14     20:30:00   \n",
              "27  648d26a6ee84afa912c1466f    Fred 2023-06-16     22:15:00   \n",
              "28  648dd40fee84afa912c14674     Bia 2023-06-16     22:15:00   \n",
              "29  648dd50bee84afa912c14679     Bia 2023-06-14     20:30:00   \n",
              "30  6491ec8fe237f2af8d243c3c    Fred 2023-06-20     12:14:00   \n",
              "31  6491f1b1e237f2af8d243c44     Bia 2023-06-20     18:36:00   \n",
              "32  64938064e237f2af8d243c4a    Fred 2023-06-20     21:15:00   \n",
              "33  64944c6ce237f2af8d243c4d     Bia 2023-06-21     13:28:00   \n",
              "34  64950503e237f2af8d243c4f    Fred 2023-06-21     21:45:00   \n",
              "35  649a34ba9f3bcd9f9943dc46    Fred 2023-06-26     12:30:00   \n",
              "\n",
              "    tempo_de_descanso jogou_sozinho ouviu_musica  nota  pai  calorias  \\\n",
              "0                   0           sim          não   6.0   11       325   \n",
              "1                   0           não          não   5.0   16       264   \n",
              "2                   0           não          não   7.0   26       821   \n",
              "3                   0           não          não   6.0   16       529   \n",
              "4                   0           não          não   5.0   19       783   \n",
              "5                   0           não          não   8.0   21       560   \n",
              "6                   4           sim          sim   8.0   33       813   \n",
              "7                   2           sim          sim   8.5   35       538   \n",
              "8                   0           sim          não   7.0   14       310   \n",
              "9                   0           não          não   7.0   14       543   \n",
              "10                  0           não          não   6.0   31       880   \n",
              "11                  0           não          não   7.0   22       751   \n",
              "12                  2           não          não   7.0   20       755   \n",
              "13                  3           não          não   2.0   62       458   \n",
              "14                  0           não          não   6.0   12       657   \n",
              "15                  0           não          não   4.0   60       519   \n",
              "16                  0           não          não   5.0   48       513   \n",
              "17                  0           não          não   5.0   16       283   \n",
              "18                  0           não          não   5.0   18       285   \n",
              "19                  0           não          não   5.0   75       611   \n",
              "20                  0           não          não   5.0   11       374   \n",
              "21                  0           não          não   5.0   63       583   \n",
              "22                  0           não          não   5.0   54       386   \n",
              "23                  0           não          não   5.0   12       131   \n",
              "24                  0           não          não   5.0   32       366   \n",
              "25                  0           não          não   9.0   47       891   \n",
              "26                  3           não          não   3.0   25       742   \n",
              "27                  0           não          não   7.0   28       696   \n",
              "28                  0           não          sim   3.0   39       434   \n",
              "29                  0           não          não   7.0   52       459   \n",
              "30                  5           não          não   7.0   22       651   \n",
              "31                  0           não          não   5.0   30       338   \n",
              "32                  0           sim          não   9.0    4       176   \n",
              "33                  0           não          não   5.0   11       286   \n",
              "34                  0           não          não   8.0    8       451   \n",
              "35                  0           não          não   8.0   35       653   \n",
              "\n",
              "    tempo_jogado  animo_pra_jogar sentimento_do_dia  calorias_por_min  \\\n",
              "0             30              6.0               Meh         10.833333   \n",
              "1             22              NaN      não coletado         12.000000   \n",
              "2             73              NaN      não coletado         11.246575   \n",
              "3             50              NaN      não coletado         10.580000   \n",
              "4             78              NaN      não coletado         10.038462   \n",
              "5             51              NaN      não coletado         10.980392   \n",
              "6             74              8.0           animado         10.986486   \n",
              "7             50              8.0           animado         10.760000   \n",
              "8             30              NaN      não coletado         10.333333   \n",
              "9             50              NaN      não coletado         10.860000   \n",
              "10            84              NaN      não coletado         10.476190   \n",
              "11            69              NaN      não coletado         10.884058   \n",
              "12            65              8.0            Triste         11.615385   \n",
              "13            60              8.0               Meh          7.633333   \n",
              "14            67              5.0               Meh          9.805970   \n",
              "15            66              4.0       Esperançoso          7.863636   \n",
              "16            73              5.0           Animado          7.027397   \n",
              "17            52              5.0           Animado          5.442308   \n",
              "18            46              5.0           Animado          6.195652   \n",
              "19            83              5.0           Animado          7.361446   \n",
              "20            70              5.0           Animado          5.342857   \n",
              "21            73              5.0           Animado          7.986301   \n",
              "22            52              5.0           Animado          7.423077   \n",
              "23            25              5.0           Animado          5.240000   \n",
              "24            56              5.0           Animado          6.535714   \n",
              "25            78              9.0      Entusiasmado         11.423077   \n",
              "26            68              9.0      Entusiasmado         10.911765   \n",
              "27            61              8.0           Cansado         11.409836   \n",
              "28            60              6.0               Meh          7.233333   \n",
              "29            60              6.0               Meh          7.650000   \n",
              "30            61              8.0      Entusiasmado         10.672131   \n",
              "31            50              5.0               Meh          6.760000   \n",
              "32            18             10.0           Animado          9.777778   \n",
              "33            50              6.0               Meh          5.720000   \n",
              "34            48              8.0           Animado          9.395833   \n",
              "35            56              7.0               Meh         11.660714   \n",
              "\n",
              "    numero_da_semana  \n",
              "0                 21  \n",
              "1                 20  \n",
              "2                 17  \n",
              "3                 17  \n",
              "4                 19  \n",
              "5                 19  \n",
              "6                 21  \n",
              "7                 21  \n",
              "8                 20  \n",
              "9                 18  \n",
              "10                18  \n",
              "11                17  \n",
              "12                22  \n",
              "13                22  \n",
              "14                22  \n",
              "15                22  \n",
              "16                19  \n",
              "17                19  \n",
              "18                18  \n",
              "19                18  \n",
              "20                17  \n",
              "21                17  \n",
              "22                17  \n",
              "23                17  \n",
              "24                16  \n",
              "25                22  \n",
              "26                24  \n",
              "27                24  \n",
              "28                24  \n",
              "29                24  \n",
              "30                25  \n",
              "31                25  \n",
              "32                25  \n",
              "33                25  \n",
              "34                25  \n",
              "35                26  "
            ]
          },
          "execution_count": 539,
          "metadata": {},
          "output_type": "execute_result"
        }
      ],
      "source": [
        "df_data_list"
      ]
    },
    {
      "attachments": {},
      "cell_type": "markdown",
      "metadata": {},
      "source": [
        "#### Métricas para variáveis binárias "
      ]
    },
    {
      "cell_type": "code",
      "execution_count": null,
      "metadata": {},
      "outputs": [
        {
          "data": {
            "text/plain": [
              "{'df_data_list': {'ouviu_musica_qtd': 35,\n",
              "  'ouviu_musica_nao': 32,\n",
              "  'ouviu_musica_sim': 3,\n",
              "  'ouviu_musica_nao_pctg': 91.4,\n",
              "  'ouviu_musica_sim_pctg': 8.6},\n",
              " 'df_data_list_bia': {'ouviu_musica_qtd': 15,\n",
              "  'ouviu_musica_nao': 14,\n",
              "  'ouviu_musica_sim': 1,\n",
              "  'ouviu_musica_nao_pctg': 93.3,\n",
              "  'ouviu_musica_sim_pctg': 6.7},\n",
              " 'df_data_list_fred': {'ouviu_musica_qtd': 20,\n",
              "  'ouviu_musica_nao': 18,\n",
              "  'ouviu_musica_sim': 2,\n",
              "  'ouviu_musica_nao_pctg': 90.0,\n",
              "  'ouviu_musica_sim_pctg': 10.0}}"
            ]
          },
          "execution_count": 171,
          "metadata": {},
          "output_type": "execute_result"
        }
      ],
      "source": [
        "def calculo_stats_binary(df, name, lista_metricas_binarias):\n",
        "    dict_binary_stats = {}  # Initialize the dictionary inside the loop\n",
        "    \n",
        "    for metrica in lista_metricas_binarias:\n",
        "        metric_qtd = len(df[metrica])\n",
        "        try:\n",
        "            metric_nao = list(df[metrica].sort_values().value_counts())[0]\n",
        "        except:\n",
        "            metric_nao = 0\n",
        "        try:\n",
        "            metric_sim = list(df[metrica].sort_values().value_counts())[1]\n",
        "        except:\n",
        "            metric_sim = 0\n",
        "        metric_nao_pctg = round(metric_nao/metric_qtd*100,1)\n",
        "        metric_sim_pctg = round(metric_sim/metric_qtd*100,1)\n",
        "        \n",
        "        dict_binary_stats[name] = {\n",
        "            f'{metrica}_qtd': metric_qtd,\n",
        "            f'{metrica}_nao': metric_nao,\n",
        "            f'{metrica}_sim': metric_sim,\n",
        "            f'{metrica}_nao_pctg': metric_nao_pctg,\n",
        "            f'{metrica}_sim_pctg': metric_sim_pctg\n",
        "            }\n",
        "        \n",
        "    return dict_binary_stats\n",
        "\n",
        "lista_df = [df_data_list, df_data_list_bia, df_data_list_fred]\n",
        "lista_df_names = ['df_data_list', 'df_data_list_bia', 'df_data_list_fred']\n",
        "lista_metricas_binarias = ['jogou_sozinho', 'ouviu_musica']\n",
        "lista_metricas_categorica = ['sentimento_do_dia']\n",
        "\n",
        "dict_binary_stats = {}  # Initialize the final dictionary outside the loop\n",
        "\n",
        "for df, name in zip(lista_df, lista_df_names):\n",
        "    result = calculo_stats_binary(df, name, lista_metricas_binarias)\n",
        "    dict_binary_stats.update(result)\n",
        "\n",
        "dict_binary_stats"
      ]
    },
    {
      "attachments": {},
      "cell_type": "markdown",
      "metadata": {},
      "source": [
        "#### Métricas para variáveis categóricas"
      ]
    },
    {
      "cell_type": "code",
      "execution_count": null,
      "metadata": {},
      "outputs": [
        {
          "data": {
            "text/plain": [
              "{'df_data_list': {'sentimento_do_dia_mais_comum': 'Animado',\n",
              "  'valor_sentimento_do_dia_mais_comum': 11,\n",
              "  'pctg_sentimento_do_dia_mais_comum': 42.3},\n",
              " 'df_data_list_bia': {'sentimento_do_dia_mais_comum': 'Animado',\n",
              "  'valor_sentimento_do_dia_mais_comum': 9,\n",
              "  'pctg_sentimento_do_dia_mais_comum': 60.0},\n",
              " 'df_data_list_fred': {'sentimento_do_dia_mais_comum': 'Entusiasmado',\n",
              "  'valor_sentimento_do_dia_mais_comum': 3,\n",
              "  'pctg_sentimento_do_dia_mais_comum': 27.3}}"
            ]
          },
          "execution_count": 197,
          "metadata": {},
          "output_type": "execute_result"
        }
      ],
      "source": [
        "def calculo_stats_categorics(df, name, lista_metricas_binarias):\n",
        "    dict_categoric_stats = {}  # Initialize the dictionary inside the loop\n",
        "    \n",
        "    for metrica in lista_metricas_binarias:\n",
        "        try:\n",
        "            dict_sentimentos = dict(df.query(f'{metrica} != \"não coletado\"')[metrica].value_counts())\n",
        "            metric_mais_comum = next(iter(dict_sentimentos))\n",
        "            valor_metric_mais_comum = dict_sentimentos[metric_mais_comum]\n",
        "            pctg_metric_mais_comum = round(dict_sentimentos[metric_mais_comum]/(sum(dict_sentimentos.values())) *100,1)\n",
        "        except:\n",
        "            metric_mais_comum = \"não informado 😞\"\n",
        "            valor_metric_mais_comum = 0\n",
        "            pctg_metric_mais_comum = 0\n",
        "\n",
        "        dict_categoric_stats[name] = {\n",
        "            f'{metrica}_mais_comum': metric_mais_comum,\n",
        "            f'valor_{metrica}_mais_comum' : valor_metric_mais_comum,\n",
        "            f'pctg_{metrica}_mais_comum' : pctg_metric_mais_comum\n",
        "            }\n",
        "        \n",
        "    return dict_categoric_stats\n",
        "\n",
        "lista_df = [df_data_list, df_data_list_bia, df_data_list_fred]\n",
        "lista_df_names = ['df_data_list', 'df_data_list_bia', 'df_data_list_fred']\n",
        "lista_metricas_categorica = ['sentimento_do_dia']\n",
        "\n",
        "dict_categoric_stats = {}  # Initialize the final dictionary outside the loop\n",
        "\n",
        "for df, name in zip(lista_df, lista_df_names):\n",
        "    result = calculo_stats_categorics(df, name, lista_metricas_categorica)\n",
        "    dict_categoric_stats.update(result)\n",
        "\n",
        "dict_categoric_stats"
      ]
    },
    {
      "attachments": {},
      "cell_type": "markdown",
      "metadata": {},
      "source": [
        "# Gráficos"
      ]
    },
    {
      "attachments": {},
      "cell_type": "markdown",
      "metadata": {},
      "source": [
        "## Variáveis numéricas"
      ]
    },
    {
      "cell_type": "code",
      "execution_count": null,
      "metadata": {},
      "outputs": [
        {
          "data": {
            "application/vnd.plotly.v1+json": {
              "config": {
                "plotlyServerURL": "https://plot.ly"
              },
              "data": [
                {
                  "alignmentgroup": "True",
                  "bingroup": "x",
                  "hovertemplate": "tempo_de_descanso=%{x}<br>count=%{y}<extra></extra>",
                  "legendgroup": "",
                  "marker": {
                    "color": "rgb(103,0,31)",
                    "pattern": {
                      "shape": ""
                    }
                  },
                  "name": "",
                  "offsetgroup": "",
                  "orientation": "v",
                  "showlegend": false,
                  "type": "histogram",
                  "x": [
                    0,
                    0,
                    5,
                    0,
                    3,
                    0,
                    0,
                    2,
                    4,
                    2,
                    0,
                    0,
                    0,
                    0,
                    0,
                    0,
                    0,
                    0,
                    0,
                    0
                  ],
                  "xaxis": "x",
                  "yaxis": "y"
                }
              ],
              "layout": {
                "autosize": false,
                "barmode": "relative",
                "height": 400,
                "legend": {
                  "tracegroupgap": 0
                },
                "template": {
                  "data": {
                    "candlestick": [
                      {
                        "decreasing": {
                          "line": {
                            "color": "#000033"
                          }
                        },
                        "increasing": {
                          "line": {
                            "color": "#000032"
                          }
                        },
                        "type": "candlestick"
                      }
                    ],
                    "contour": [
                      {
                        "colorscale": [
                          [
                            0,
                            "#000011"
                          ],
                          [
                            0.1111111111111111,
                            "#000012"
                          ],
                          [
                            0.2222222222222222,
                            "#000013"
                          ],
                          [
                            0.3333333333333333,
                            "#000014"
                          ],
                          [
                            0.4444444444444444,
                            "#000015"
                          ],
                          [
                            0.5555555555555556,
                            "#000016"
                          ],
                          [
                            0.6666666666666666,
                            "#000017"
                          ],
                          [
                            0.7777777777777778,
                            "#000018"
                          ],
                          [
                            0.8888888888888888,
                            "#000019"
                          ],
                          [
                            1,
                            "#000020"
                          ]
                        ],
                        "type": "contour"
                      }
                    ],
                    "contourcarpet": [
                      {
                        "colorscale": [
                          [
                            0,
                            "#000011"
                          ],
                          [
                            0.1111111111111111,
                            "#000012"
                          ],
                          [
                            0.2222222222222222,
                            "#000013"
                          ],
                          [
                            0.3333333333333333,
                            "#000014"
                          ],
                          [
                            0.4444444444444444,
                            "#000015"
                          ],
                          [
                            0.5555555555555556,
                            "#000016"
                          ],
                          [
                            0.6666666666666666,
                            "#000017"
                          ],
                          [
                            0.7777777777777778,
                            "#000018"
                          ],
                          [
                            0.8888888888888888,
                            "#000019"
                          ],
                          [
                            1,
                            "#000020"
                          ]
                        ],
                        "type": "contourcarpet"
                      }
                    ],
                    "heatmap": [
                      {
                        "colorscale": [
                          [
                            0,
                            "#000011"
                          ],
                          [
                            0.1111111111111111,
                            "#000012"
                          ],
                          [
                            0.2222222222222222,
                            "#000013"
                          ],
                          [
                            0.3333333333333333,
                            "#000014"
                          ],
                          [
                            0.4444444444444444,
                            "#000015"
                          ],
                          [
                            0.5555555555555556,
                            "#000016"
                          ],
                          [
                            0.6666666666666666,
                            "#000017"
                          ],
                          [
                            0.7777777777777778,
                            "#000018"
                          ],
                          [
                            0.8888888888888888,
                            "#000019"
                          ],
                          [
                            1,
                            "#000020"
                          ]
                        ],
                        "type": "heatmap"
                      }
                    ],
                    "histogram2d": [
                      {
                        "colorscale": [
                          [
                            0,
                            "#000011"
                          ],
                          [
                            0.1111111111111111,
                            "#000012"
                          ],
                          [
                            0.2222222222222222,
                            "#000013"
                          ],
                          [
                            0.3333333333333333,
                            "#000014"
                          ],
                          [
                            0.4444444444444444,
                            "#000015"
                          ],
                          [
                            0.5555555555555556,
                            "#000016"
                          ],
                          [
                            0.6666666666666666,
                            "#000017"
                          ],
                          [
                            0.7777777777777778,
                            "#000018"
                          ],
                          [
                            0.8888888888888888,
                            "#000019"
                          ],
                          [
                            1,
                            "#000020"
                          ]
                        ],
                        "type": "histogram2d"
                      }
                    ],
                    "icicle": [
                      {
                        "textfont": {
                          "color": "white"
                        },
                        "type": "icicle"
                      }
                    ],
                    "sankey": [
                      {
                        "textfont": {
                          "color": "#000036"
                        },
                        "type": "sankey"
                      }
                    ],
                    "scatter": [
                      {
                        "marker": {
                          "line": {
                            "width": 0
                          }
                        },
                        "type": "scatter"
                      }
                    ],
                    "table": [
                      {
                        "cells": {
                          "fill": {
                            "color": "#000038"
                          },
                          "font": {
                            "color": "#000037"
                          },
                          "line": {
                            "color": "#000039"
                          }
                        },
                        "header": {
                          "fill": {
                            "color": "#000040"
                          },
                          "font": {
                            "color": "#000036"
                          },
                          "line": {
                            "color": "#000039"
                          }
                        },
                        "type": "table"
                      }
                    ],
                    "waterfall": [
                      {
                        "connector": {
                          "line": {
                            "color": "#000036",
                            "width": 2
                          }
                        },
                        "decreasing": {
                          "marker": {
                            "color": "#000033"
                          }
                        },
                        "increasing": {
                          "marker": {
                            "color": "#000032"
                          }
                        },
                        "totals": {
                          "marker": {
                            "color": "#000034"
                          }
                        },
                        "type": "waterfall"
                      }
                    ]
                  },
                  "layout": {
                    "coloraxis": {
                      "colorscale": [
                        [
                          0,
                          "#000011"
                        ],
                        [
                          0.1111111111111111,
                          "#000012"
                        ],
                        [
                          0.2222222222222222,
                          "#000013"
                        ],
                        [
                          0.3333333333333333,
                          "#000014"
                        ],
                        [
                          0.4444444444444444,
                          "#000015"
                        ],
                        [
                          0.5555555555555556,
                          "#000016"
                        ],
                        [
                          0.6666666666666666,
                          "#000017"
                        ],
                        [
                          0.7777777777777778,
                          "#000018"
                        ],
                        [
                          0.8888888888888888,
                          "#000019"
                        ],
                        [
                          1,
                          "#000020"
                        ]
                      ]
                    },
                    "colorscale": {
                      "diverging": [
                        [
                          0,
                          "#000021"
                        ],
                        [
                          0.1,
                          "#000022"
                        ],
                        [
                          0.2,
                          "#000023"
                        ],
                        [
                          0.3,
                          "#000024"
                        ],
                        [
                          0.4,
                          "#000025"
                        ],
                        [
                          0.5,
                          "#000026"
                        ],
                        [
                          0.6,
                          "#000027"
                        ],
                        [
                          0.7,
                          "#000028"
                        ],
                        [
                          0.8,
                          "#000029"
                        ],
                        [
                          0.9,
                          "#000030"
                        ],
                        [
                          1,
                          "#000031"
                        ]
                      ],
                      "sequential": [
                        [
                          0,
                          "#000011"
                        ],
                        [
                          0.1111111111111111,
                          "#000012"
                        ],
                        [
                          0.2222222222222222,
                          "#000013"
                        ],
                        [
                          0.3333333333333333,
                          "#000014"
                        ],
                        [
                          0.4444444444444444,
                          "#000015"
                        ],
                        [
                          0.5555555555555556,
                          "#000016"
                        ],
                        [
                          0.6666666666666666,
                          "#000017"
                        ],
                        [
                          0.7777777777777778,
                          "#000018"
                        ],
                        [
                          0.8888888888888888,
                          "#000019"
                        ],
                        [
                          1,
                          "#000020"
                        ]
                      ],
                      "sequentialminus": [
                        [
                          0,
                          "#000011"
                        ],
                        [
                          0.1111111111111111,
                          "#000012"
                        ],
                        [
                          0.2222222222222222,
                          "#000013"
                        ],
                        [
                          0.3333333333333333,
                          "#000014"
                        ],
                        [
                          0.4444444444444444,
                          "#000015"
                        ],
                        [
                          0.5555555555555556,
                          "#000016"
                        ],
                        [
                          0.6666666666666666,
                          "#000017"
                        ],
                        [
                          0.7777777777777778,
                          "#000018"
                        ],
                        [
                          0.8888888888888888,
                          "#000019"
                        ],
                        [
                          1,
                          "#000020"
                        ]
                      ]
                    },
                    "colorway": [
                      "#000001",
                      "#000002",
                      "#000003",
                      "#000004",
                      "#000005",
                      "#000006",
                      "#000007",
                      "#000008",
                      "#000009",
                      "#000010"
                    ]
                  }
                },
                "title": {
                  "text": "tempo_de_descanso"
                },
                "width": 600,
                "xaxis": {
                  "anchor": "y",
                  "domain": [
                    0,
                    1
                  ],
                  "title": {
                    "text": "tempo_de_descanso"
                  }
                },
                "yaxis": {
                  "anchor": "x",
                  "domain": [
                    0,
                    1
                  ],
                  "title": {
                    "text": "count"
                  }
                }
              }
            }
          },
          "metadata": {},
          "output_type": "display_data"
        },
        {
          "data": {
            "application/vnd.plotly.v1+json": {
              "config": {
                "plotlyServerURL": "https://plot.ly"
              },
              "data": [
                {
                  "alignmentgroup": "True",
                  "bingroup": "x",
                  "hovertemplate": "nota=%{x}<br>count=%{y}<extra></extra>",
                  "legendgroup": "",
                  "marker": {
                    "color": "rgb(103,0,31)",
                    "pattern": {
                      "shape": ""
                    }
                  },
                  "name": "",
                  "offsetgroup": "",
                  "orientation": "v",
                  "showlegend": false,
                  "type": "histogram",
                  "x": [
                    8,
                    9,
                    7,
                    7,
                    3,
                    9,
                    6,
                    7,
                    8,
                    8.5,
                    6,
                    7,
                    5,
                    5,
                    8,
                    7,
                    6,
                    7,
                    7,
                    6
                  ],
                  "xaxis": "x",
                  "yaxis": "y"
                }
              ],
              "layout": {
                "autosize": false,
                "barmode": "relative",
                "height": 400,
                "legend": {
                  "tracegroupgap": 0
                },
                "template": {
                  "data": {
                    "candlestick": [
                      {
                        "decreasing": {
                          "line": {
                            "color": "#000033"
                          }
                        },
                        "increasing": {
                          "line": {
                            "color": "#000032"
                          }
                        },
                        "type": "candlestick"
                      }
                    ],
                    "contour": [
                      {
                        "colorscale": [
                          [
                            0,
                            "#000011"
                          ],
                          [
                            0.1111111111111111,
                            "#000012"
                          ],
                          [
                            0.2222222222222222,
                            "#000013"
                          ],
                          [
                            0.3333333333333333,
                            "#000014"
                          ],
                          [
                            0.4444444444444444,
                            "#000015"
                          ],
                          [
                            0.5555555555555556,
                            "#000016"
                          ],
                          [
                            0.6666666666666666,
                            "#000017"
                          ],
                          [
                            0.7777777777777778,
                            "#000018"
                          ],
                          [
                            0.8888888888888888,
                            "#000019"
                          ],
                          [
                            1,
                            "#000020"
                          ]
                        ],
                        "type": "contour"
                      }
                    ],
                    "contourcarpet": [
                      {
                        "colorscale": [
                          [
                            0,
                            "#000011"
                          ],
                          [
                            0.1111111111111111,
                            "#000012"
                          ],
                          [
                            0.2222222222222222,
                            "#000013"
                          ],
                          [
                            0.3333333333333333,
                            "#000014"
                          ],
                          [
                            0.4444444444444444,
                            "#000015"
                          ],
                          [
                            0.5555555555555556,
                            "#000016"
                          ],
                          [
                            0.6666666666666666,
                            "#000017"
                          ],
                          [
                            0.7777777777777778,
                            "#000018"
                          ],
                          [
                            0.8888888888888888,
                            "#000019"
                          ],
                          [
                            1,
                            "#000020"
                          ]
                        ],
                        "type": "contourcarpet"
                      }
                    ],
                    "heatmap": [
                      {
                        "colorscale": [
                          [
                            0,
                            "#000011"
                          ],
                          [
                            0.1111111111111111,
                            "#000012"
                          ],
                          [
                            0.2222222222222222,
                            "#000013"
                          ],
                          [
                            0.3333333333333333,
                            "#000014"
                          ],
                          [
                            0.4444444444444444,
                            "#000015"
                          ],
                          [
                            0.5555555555555556,
                            "#000016"
                          ],
                          [
                            0.6666666666666666,
                            "#000017"
                          ],
                          [
                            0.7777777777777778,
                            "#000018"
                          ],
                          [
                            0.8888888888888888,
                            "#000019"
                          ],
                          [
                            1,
                            "#000020"
                          ]
                        ],
                        "type": "heatmap"
                      }
                    ],
                    "histogram2d": [
                      {
                        "colorscale": [
                          [
                            0,
                            "#000011"
                          ],
                          [
                            0.1111111111111111,
                            "#000012"
                          ],
                          [
                            0.2222222222222222,
                            "#000013"
                          ],
                          [
                            0.3333333333333333,
                            "#000014"
                          ],
                          [
                            0.4444444444444444,
                            "#000015"
                          ],
                          [
                            0.5555555555555556,
                            "#000016"
                          ],
                          [
                            0.6666666666666666,
                            "#000017"
                          ],
                          [
                            0.7777777777777778,
                            "#000018"
                          ],
                          [
                            0.8888888888888888,
                            "#000019"
                          ],
                          [
                            1,
                            "#000020"
                          ]
                        ],
                        "type": "histogram2d"
                      }
                    ],
                    "icicle": [
                      {
                        "textfont": {
                          "color": "white"
                        },
                        "type": "icicle"
                      }
                    ],
                    "sankey": [
                      {
                        "textfont": {
                          "color": "#000036"
                        },
                        "type": "sankey"
                      }
                    ],
                    "scatter": [
                      {
                        "marker": {
                          "line": {
                            "width": 0
                          }
                        },
                        "type": "scatter"
                      }
                    ],
                    "table": [
                      {
                        "cells": {
                          "fill": {
                            "color": "#000038"
                          },
                          "font": {
                            "color": "#000037"
                          },
                          "line": {
                            "color": "#000039"
                          }
                        },
                        "header": {
                          "fill": {
                            "color": "#000040"
                          },
                          "font": {
                            "color": "#000036"
                          },
                          "line": {
                            "color": "#000039"
                          }
                        },
                        "type": "table"
                      }
                    ],
                    "waterfall": [
                      {
                        "connector": {
                          "line": {
                            "color": "#000036",
                            "width": 2
                          }
                        },
                        "decreasing": {
                          "marker": {
                            "color": "#000033"
                          }
                        },
                        "increasing": {
                          "marker": {
                            "color": "#000032"
                          }
                        },
                        "totals": {
                          "marker": {
                            "color": "#000034"
                          }
                        },
                        "type": "waterfall"
                      }
                    ]
                  },
                  "layout": {
                    "coloraxis": {
                      "colorscale": [
                        [
                          0,
                          "#000011"
                        ],
                        [
                          0.1111111111111111,
                          "#000012"
                        ],
                        [
                          0.2222222222222222,
                          "#000013"
                        ],
                        [
                          0.3333333333333333,
                          "#000014"
                        ],
                        [
                          0.4444444444444444,
                          "#000015"
                        ],
                        [
                          0.5555555555555556,
                          "#000016"
                        ],
                        [
                          0.6666666666666666,
                          "#000017"
                        ],
                        [
                          0.7777777777777778,
                          "#000018"
                        ],
                        [
                          0.8888888888888888,
                          "#000019"
                        ],
                        [
                          1,
                          "#000020"
                        ]
                      ]
                    },
                    "colorscale": {
                      "diverging": [
                        [
                          0,
                          "#000021"
                        ],
                        [
                          0.1,
                          "#000022"
                        ],
                        [
                          0.2,
                          "#000023"
                        ],
                        [
                          0.3,
                          "#000024"
                        ],
                        [
                          0.4,
                          "#000025"
                        ],
                        [
                          0.5,
                          "#000026"
                        ],
                        [
                          0.6,
                          "#000027"
                        ],
                        [
                          0.7,
                          "#000028"
                        ],
                        [
                          0.8,
                          "#000029"
                        ],
                        [
                          0.9,
                          "#000030"
                        ],
                        [
                          1,
                          "#000031"
                        ]
                      ],
                      "sequential": [
                        [
                          0,
                          "#000011"
                        ],
                        [
                          0.1111111111111111,
                          "#000012"
                        ],
                        [
                          0.2222222222222222,
                          "#000013"
                        ],
                        [
                          0.3333333333333333,
                          "#000014"
                        ],
                        [
                          0.4444444444444444,
                          "#000015"
                        ],
                        [
                          0.5555555555555556,
                          "#000016"
                        ],
                        [
                          0.6666666666666666,
                          "#000017"
                        ],
                        [
                          0.7777777777777778,
                          "#000018"
                        ],
                        [
                          0.8888888888888888,
                          "#000019"
                        ],
                        [
                          1,
                          "#000020"
                        ]
                      ],
                      "sequentialminus": [
                        [
                          0,
                          "#000011"
                        ],
                        [
                          0.1111111111111111,
                          "#000012"
                        ],
                        [
                          0.2222222222222222,
                          "#000013"
                        ],
                        [
                          0.3333333333333333,
                          "#000014"
                        ],
                        [
                          0.4444444444444444,
                          "#000015"
                        ],
                        [
                          0.5555555555555556,
                          "#000016"
                        ],
                        [
                          0.6666666666666666,
                          "#000017"
                        ],
                        [
                          0.7777777777777778,
                          "#000018"
                        ],
                        [
                          0.8888888888888888,
                          "#000019"
                        ],
                        [
                          1,
                          "#000020"
                        ]
                      ]
                    },
                    "colorway": [
                      "#000001",
                      "#000002",
                      "#000003",
                      "#000004",
                      "#000005",
                      "#000006",
                      "#000007",
                      "#000008",
                      "#000009",
                      "#000010"
                    ]
                  }
                },
                "title": {
                  "text": "nota"
                },
                "width": 600,
                "xaxis": {
                  "anchor": "y",
                  "domain": [
                    0,
                    1
                  ],
                  "title": {
                    "text": "nota"
                  }
                },
                "yaxis": {
                  "anchor": "x",
                  "domain": [
                    0,
                    1
                  ],
                  "title": {
                    "text": "count"
                  }
                }
              }
            }
          },
          "metadata": {},
          "output_type": "display_data"
        },
        {
          "data": {
            "application/vnd.plotly.v1+json": {
              "config": {
                "plotlyServerURL": "https://plot.ly"
              },
              "data": [
                {
                  "alignmentgroup": "True",
                  "bingroup": "x",
                  "hovertemplate": "pai=%{x}<br>count=%{y}<extra></extra>",
                  "legendgroup": "",
                  "marker": {
                    "color": "rgb(103,0,31)",
                    "pattern": {
                      "shape": ""
                    }
                  },
                  "name": "",
                  "offsetgroup": "",
                  "orientation": "v",
                  "showlegend": false,
                  "type": "histogram",
                  "x": [
                    8,
                    4,
                    22,
                    28,
                    25,
                    47,
                    12,
                    20,
                    33,
                    35,
                    11,
                    14,
                    16,
                    19,
                    21,
                    14,
                    31,
                    22,
                    26,
                    16
                  ],
                  "xaxis": "x",
                  "yaxis": "y"
                }
              ],
              "layout": {
                "autosize": false,
                "barmode": "relative",
                "height": 400,
                "legend": {
                  "tracegroupgap": 0
                },
                "template": {
                  "data": {
                    "candlestick": [
                      {
                        "decreasing": {
                          "line": {
                            "color": "#000033"
                          }
                        },
                        "increasing": {
                          "line": {
                            "color": "#000032"
                          }
                        },
                        "type": "candlestick"
                      }
                    ],
                    "contour": [
                      {
                        "colorscale": [
                          [
                            0,
                            "#000011"
                          ],
                          [
                            0.1111111111111111,
                            "#000012"
                          ],
                          [
                            0.2222222222222222,
                            "#000013"
                          ],
                          [
                            0.3333333333333333,
                            "#000014"
                          ],
                          [
                            0.4444444444444444,
                            "#000015"
                          ],
                          [
                            0.5555555555555556,
                            "#000016"
                          ],
                          [
                            0.6666666666666666,
                            "#000017"
                          ],
                          [
                            0.7777777777777778,
                            "#000018"
                          ],
                          [
                            0.8888888888888888,
                            "#000019"
                          ],
                          [
                            1,
                            "#000020"
                          ]
                        ],
                        "type": "contour"
                      }
                    ],
                    "contourcarpet": [
                      {
                        "colorscale": [
                          [
                            0,
                            "#000011"
                          ],
                          [
                            0.1111111111111111,
                            "#000012"
                          ],
                          [
                            0.2222222222222222,
                            "#000013"
                          ],
                          [
                            0.3333333333333333,
                            "#000014"
                          ],
                          [
                            0.4444444444444444,
                            "#000015"
                          ],
                          [
                            0.5555555555555556,
                            "#000016"
                          ],
                          [
                            0.6666666666666666,
                            "#000017"
                          ],
                          [
                            0.7777777777777778,
                            "#000018"
                          ],
                          [
                            0.8888888888888888,
                            "#000019"
                          ],
                          [
                            1,
                            "#000020"
                          ]
                        ],
                        "type": "contourcarpet"
                      }
                    ],
                    "heatmap": [
                      {
                        "colorscale": [
                          [
                            0,
                            "#000011"
                          ],
                          [
                            0.1111111111111111,
                            "#000012"
                          ],
                          [
                            0.2222222222222222,
                            "#000013"
                          ],
                          [
                            0.3333333333333333,
                            "#000014"
                          ],
                          [
                            0.4444444444444444,
                            "#000015"
                          ],
                          [
                            0.5555555555555556,
                            "#000016"
                          ],
                          [
                            0.6666666666666666,
                            "#000017"
                          ],
                          [
                            0.7777777777777778,
                            "#000018"
                          ],
                          [
                            0.8888888888888888,
                            "#000019"
                          ],
                          [
                            1,
                            "#000020"
                          ]
                        ],
                        "type": "heatmap"
                      }
                    ],
                    "histogram2d": [
                      {
                        "colorscale": [
                          [
                            0,
                            "#000011"
                          ],
                          [
                            0.1111111111111111,
                            "#000012"
                          ],
                          [
                            0.2222222222222222,
                            "#000013"
                          ],
                          [
                            0.3333333333333333,
                            "#000014"
                          ],
                          [
                            0.4444444444444444,
                            "#000015"
                          ],
                          [
                            0.5555555555555556,
                            "#000016"
                          ],
                          [
                            0.6666666666666666,
                            "#000017"
                          ],
                          [
                            0.7777777777777778,
                            "#000018"
                          ],
                          [
                            0.8888888888888888,
                            "#000019"
                          ],
                          [
                            1,
                            "#000020"
                          ]
                        ],
                        "type": "histogram2d"
                      }
                    ],
                    "icicle": [
                      {
                        "textfont": {
                          "color": "white"
                        },
                        "type": "icicle"
                      }
                    ],
                    "sankey": [
                      {
                        "textfont": {
                          "color": "#000036"
                        },
                        "type": "sankey"
                      }
                    ],
                    "scatter": [
                      {
                        "marker": {
                          "line": {
                            "width": 0
                          }
                        },
                        "type": "scatter"
                      }
                    ],
                    "table": [
                      {
                        "cells": {
                          "fill": {
                            "color": "#000038"
                          },
                          "font": {
                            "color": "#000037"
                          },
                          "line": {
                            "color": "#000039"
                          }
                        },
                        "header": {
                          "fill": {
                            "color": "#000040"
                          },
                          "font": {
                            "color": "#000036"
                          },
                          "line": {
                            "color": "#000039"
                          }
                        },
                        "type": "table"
                      }
                    ],
                    "waterfall": [
                      {
                        "connector": {
                          "line": {
                            "color": "#000036",
                            "width": 2
                          }
                        },
                        "decreasing": {
                          "marker": {
                            "color": "#000033"
                          }
                        },
                        "increasing": {
                          "marker": {
                            "color": "#000032"
                          }
                        },
                        "totals": {
                          "marker": {
                            "color": "#000034"
                          }
                        },
                        "type": "waterfall"
                      }
                    ]
                  },
                  "layout": {
                    "coloraxis": {
                      "colorscale": [
                        [
                          0,
                          "#000011"
                        ],
                        [
                          0.1111111111111111,
                          "#000012"
                        ],
                        [
                          0.2222222222222222,
                          "#000013"
                        ],
                        [
                          0.3333333333333333,
                          "#000014"
                        ],
                        [
                          0.4444444444444444,
                          "#000015"
                        ],
                        [
                          0.5555555555555556,
                          "#000016"
                        ],
                        [
                          0.6666666666666666,
                          "#000017"
                        ],
                        [
                          0.7777777777777778,
                          "#000018"
                        ],
                        [
                          0.8888888888888888,
                          "#000019"
                        ],
                        [
                          1,
                          "#000020"
                        ]
                      ]
                    },
                    "colorscale": {
                      "diverging": [
                        [
                          0,
                          "#000021"
                        ],
                        [
                          0.1,
                          "#000022"
                        ],
                        [
                          0.2,
                          "#000023"
                        ],
                        [
                          0.3,
                          "#000024"
                        ],
                        [
                          0.4,
                          "#000025"
                        ],
                        [
                          0.5,
                          "#000026"
                        ],
                        [
                          0.6,
                          "#000027"
                        ],
                        [
                          0.7,
                          "#000028"
                        ],
                        [
                          0.8,
                          "#000029"
                        ],
                        [
                          0.9,
                          "#000030"
                        ],
                        [
                          1,
                          "#000031"
                        ]
                      ],
                      "sequential": [
                        [
                          0,
                          "#000011"
                        ],
                        [
                          0.1111111111111111,
                          "#000012"
                        ],
                        [
                          0.2222222222222222,
                          "#000013"
                        ],
                        [
                          0.3333333333333333,
                          "#000014"
                        ],
                        [
                          0.4444444444444444,
                          "#000015"
                        ],
                        [
                          0.5555555555555556,
                          "#000016"
                        ],
                        [
                          0.6666666666666666,
                          "#000017"
                        ],
                        [
                          0.7777777777777778,
                          "#000018"
                        ],
                        [
                          0.8888888888888888,
                          "#000019"
                        ],
                        [
                          1,
                          "#000020"
                        ]
                      ],
                      "sequentialminus": [
                        [
                          0,
                          "#000011"
                        ],
                        [
                          0.1111111111111111,
                          "#000012"
                        ],
                        [
                          0.2222222222222222,
                          "#000013"
                        ],
                        [
                          0.3333333333333333,
                          "#000014"
                        ],
                        [
                          0.4444444444444444,
                          "#000015"
                        ],
                        [
                          0.5555555555555556,
                          "#000016"
                        ],
                        [
                          0.6666666666666666,
                          "#000017"
                        ],
                        [
                          0.7777777777777778,
                          "#000018"
                        ],
                        [
                          0.8888888888888888,
                          "#000019"
                        ],
                        [
                          1,
                          "#000020"
                        ]
                      ]
                    },
                    "colorway": [
                      "#000001",
                      "#000002",
                      "#000003",
                      "#000004",
                      "#000005",
                      "#000006",
                      "#000007",
                      "#000008",
                      "#000009",
                      "#000010"
                    ]
                  }
                },
                "title": {
                  "text": "pai"
                },
                "width": 600,
                "xaxis": {
                  "anchor": "y",
                  "domain": [
                    0,
                    1
                  ],
                  "title": {
                    "text": "pai"
                  }
                },
                "yaxis": {
                  "anchor": "x",
                  "domain": [
                    0,
                    1
                  ],
                  "title": {
                    "text": "count"
                  }
                }
              }
            }
          },
          "metadata": {},
          "output_type": "display_data"
        },
        {
          "data": {
            "application/vnd.plotly.v1+json": {
              "config": {
                "plotlyServerURL": "https://plot.ly"
              },
              "data": [
                {
                  "alignmentgroup": "True",
                  "bingroup": "x",
                  "hovertemplate": "calorias=%{x}<br>count=%{y}<extra></extra>",
                  "legendgroup": "",
                  "marker": {
                    "color": "rgb(103,0,31)",
                    "pattern": {
                      "shape": ""
                    }
                  },
                  "name": "",
                  "offsetgroup": "",
                  "orientation": "v",
                  "showlegend": false,
                  "type": "histogram",
                  "x": [
                    451,
                    176,
                    651,
                    696,
                    742,
                    891,
                    657,
                    755,
                    813,
                    538,
                    325,
                    310,
                    264,
                    783,
                    560,
                    543,
                    880,
                    751,
                    821,
                    529
                  ],
                  "xaxis": "x",
                  "yaxis": "y"
                }
              ],
              "layout": {
                "autosize": false,
                "barmode": "relative",
                "height": 400,
                "legend": {
                  "tracegroupgap": 0
                },
                "template": {
                  "data": {
                    "candlestick": [
                      {
                        "decreasing": {
                          "line": {
                            "color": "#000033"
                          }
                        },
                        "increasing": {
                          "line": {
                            "color": "#000032"
                          }
                        },
                        "type": "candlestick"
                      }
                    ],
                    "contour": [
                      {
                        "colorscale": [
                          [
                            0,
                            "#000011"
                          ],
                          [
                            0.1111111111111111,
                            "#000012"
                          ],
                          [
                            0.2222222222222222,
                            "#000013"
                          ],
                          [
                            0.3333333333333333,
                            "#000014"
                          ],
                          [
                            0.4444444444444444,
                            "#000015"
                          ],
                          [
                            0.5555555555555556,
                            "#000016"
                          ],
                          [
                            0.6666666666666666,
                            "#000017"
                          ],
                          [
                            0.7777777777777778,
                            "#000018"
                          ],
                          [
                            0.8888888888888888,
                            "#000019"
                          ],
                          [
                            1,
                            "#000020"
                          ]
                        ],
                        "type": "contour"
                      }
                    ],
                    "contourcarpet": [
                      {
                        "colorscale": [
                          [
                            0,
                            "#000011"
                          ],
                          [
                            0.1111111111111111,
                            "#000012"
                          ],
                          [
                            0.2222222222222222,
                            "#000013"
                          ],
                          [
                            0.3333333333333333,
                            "#000014"
                          ],
                          [
                            0.4444444444444444,
                            "#000015"
                          ],
                          [
                            0.5555555555555556,
                            "#000016"
                          ],
                          [
                            0.6666666666666666,
                            "#000017"
                          ],
                          [
                            0.7777777777777778,
                            "#000018"
                          ],
                          [
                            0.8888888888888888,
                            "#000019"
                          ],
                          [
                            1,
                            "#000020"
                          ]
                        ],
                        "type": "contourcarpet"
                      }
                    ],
                    "heatmap": [
                      {
                        "colorscale": [
                          [
                            0,
                            "#000011"
                          ],
                          [
                            0.1111111111111111,
                            "#000012"
                          ],
                          [
                            0.2222222222222222,
                            "#000013"
                          ],
                          [
                            0.3333333333333333,
                            "#000014"
                          ],
                          [
                            0.4444444444444444,
                            "#000015"
                          ],
                          [
                            0.5555555555555556,
                            "#000016"
                          ],
                          [
                            0.6666666666666666,
                            "#000017"
                          ],
                          [
                            0.7777777777777778,
                            "#000018"
                          ],
                          [
                            0.8888888888888888,
                            "#000019"
                          ],
                          [
                            1,
                            "#000020"
                          ]
                        ],
                        "type": "heatmap"
                      }
                    ],
                    "histogram2d": [
                      {
                        "colorscale": [
                          [
                            0,
                            "#000011"
                          ],
                          [
                            0.1111111111111111,
                            "#000012"
                          ],
                          [
                            0.2222222222222222,
                            "#000013"
                          ],
                          [
                            0.3333333333333333,
                            "#000014"
                          ],
                          [
                            0.4444444444444444,
                            "#000015"
                          ],
                          [
                            0.5555555555555556,
                            "#000016"
                          ],
                          [
                            0.6666666666666666,
                            "#000017"
                          ],
                          [
                            0.7777777777777778,
                            "#000018"
                          ],
                          [
                            0.8888888888888888,
                            "#000019"
                          ],
                          [
                            1,
                            "#000020"
                          ]
                        ],
                        "type": "histogram2d"
                      }
                    ],
                    "icicle": [
                      {
                        "textfont": {
                          "color": "white"
                        },
                        "type": "icicle"
                      }
                    ],
                    "sankey": [
                      {
                        "textfont": {
                          "color": "#000036"
                        },
                        "type": "sankey"
                      }
                    ],
                    "scatter": [
                      {
                        "marker": {
                          "line": {
                            "width": 0
                          }
                        },
                        "type": "scatter"
                      }
                    ],
                    "table": [
                      {
                        "cells": {
                          "fill": {
                            "color": "#000038"
                          },
                          "font": {
                            "color": "#000037"
                          },
                          "line": {
                            "color": "#000039"
                          }
                        },
                        "header": {
                          "fill": {
                            "color": "#000040"
                          },
                          "font": {
                            "color": "#000036"
                          },
                          "line": {
                            "color": "#000039"
                          }
                        },
                        "type": "table"
                      }
                    ],
                    "waterfall": [
                      {
                        "connector": {
                          "line": {
                            "color": "#000036",
                            "width": 2
                          }
                        },
                        "decreasing": {
                          "marker": {
                            "color": "#000033"
                          }
                        },
                        "increasing": {
                          "marker": {
                            "color": "#000032"
                          }
                        },
                        "totals": {
                          "marker": {
                            "color": "#000034"
                          }
                        },
                        "type": "waterfall"
                      }
                    ]
                  },
                  "layout": {
                    "coloraxis": {
                      "colorscale": [
                        [
                          0,
                          "#000011"
                        ],
                        [
                          0.1111111111111111,
                          "#000012"
                        ],
                        [
                          0.2222222222222222,
                          "#000013"
                        ],
                        [
                          0.3333333333333333,
                          "#000014"
                        ],
                        [
                          0.4444444444444444,
                          "#000015"
                        ],
                        [
                          0.5555555555555556,
                          "#000016"
                        ],
                        [
                          0.6666666666666666,
                          "#000017"
                        ],
                        [
                          0.7777777777777778,
                          "#000018"
                        ],
                        [
                          0.8888888888888888,
                          "#000019"
                        ],
                        [
                          1,
                          "#000020"
                        ]
                      ]
                    },
                    "colorscale": {
                      "diverging": [
                        [
                          0,
                          "#000021"
                        ],
                        [
                          0.1,
                          "#000022"
                        ],
                        [
                          0.2,
                          "#000023"
                        ],
                        [
                          0.3,
                          "#000024"
                        ],
                        [
                          0.4,
                          "#000025"
                        ],
                        [
                          0.5,
                          "#000026"
                        ],
                        [
                          0.6,
                          "#000027"
                        ],
                        [
                          0.7,
                          "#000028"
                        ],
                        [
                          0.8,
                          "#000029"
                        ],
                        [
                          0.9,
                          "#000030"
                        ],
                        [
                          1,
                          "#000031"
                        ]
                      ],
                      "sequential": [
                        [
                          0,
                          "#000011"
                        ],
                        [
                          0.1111111111111111,
                          "#000012"
                        ],
                        [
                          0.2222222222222222,
                          "#000013"
                        ],
                        [
                          0.3333333333333333,
                          "#000014"
                        ],
                        [
                          0.4444444444444444,
                          "#000015"
                        ],
                        [
                          0.5555555555555556,
                          "#000016"
                        ],
                        [
                          0.6666666666666666,
                          "#000017"
                        ],
                        [
                          0.7777777777777778,
                          "#000018"
                        ],
                        [
                          0.8888888888888888,
                          "#000019"
                        ],
                        [
                          1,
                          "#000020"
                        ]
                      ],
                      "sequentialminus": [
                        [
                          0,
                          "#000011"
                        ],
                        [
                          0.1111111111111111,
                          "#000012"
                        ],
                        [
                          0.2222222222222222,
                          "#000013"
                        ],
                        [
                          0.3333333333333333,
                          "#000014"
                        ],
                        [
                          0.4444444444444444,
                          "#000015"
                        ],
                        [
                          0.5555555555555556,
                          "#000016"
                        ],
                        [
                          0.6666666666666666,
                          "#000017"
                        ],
                        [
                          0.7777777777777778,
                          "#000018"
                        ],
                        [
                          0.8888888888888888,
                          "#000019"
                        ],
                        [
                          1,
                          "#000020"
                        ]
                      ]
                    },
                    "colorway": [
                      "#000001",
                      "#000002",
                      "#000003",
                      "#000004",
                      "#000005",
                      "#000006",
                      "#000007",
                      "#000008",
                      "#000009",
                      "#000010"
                    ]
                  }
                },
                "title": {
                  "text": "calorias"
                },
                "width": 600,
                "xaxis": {
                  "anchor": "y",
                  "domain": [
                    0,
                    1
                  ],
                  "title": {
                    "text": "calorias"
                  }
                },
                "yaxis": {
                  "anchor": "x",
                  "domain": [
                    0,
                    1
                  ],
                  "title": {
                    "text": "count"
                  }
                }
              }
            }
          },
          "metadata": {},
          "output_type": "display_data"
        },
        {
          "data": {
            "application/vnd.plotly.v1+json": {
              "config": {
                "plotlyServerURL": "https://plot.ly"
              },
              "data": [
                {
                  "alignmentgroup": "True",
                  "bingroup": "x",
                  "hovertemplate": "tempo_jogado=%{x}<br>count=%{y}<extra></extra>",
                  "legendgroup": "",
                  "marker": {
                    "color": "rgb(103,0,31)",
                    "pattern": {
                      "shape": ""
                    }
                  },
                  "name": "",
                  "offsetgroup": "",
                  "orientation": "v",
                  "showlegend": false,
                  "type": "histogram",
                  "x": [
                    48,
                    18,
                    61,
                    61,
                    68,
                    78,
                    67,
                    65,
                    74,
                    50,
                    30,
                    30,
                    22,
                    78,
                    51,
                    50,
                    84,
                    69,
                    73,
                    50
                  ],
                  "xaxis": "x",
                  "yaxis": "y"
                }
              ],
              "layout": {
                "autosize": false,
                "barmode": "relative",
                "height": 400,
                "legend": {
                  "tracegroupgap": 0
                },
                "template": {
                  "data": {
                    "candlestick": [
                      {
                        "decreasing": {
                          "line": {
                            "color": "#000033"
                          }
                        },
                        "increasing": {
                          "line": {
                            "color": "#000032"
                          }
                        },
                        "type": "candlestick"
                      }
                    ],
                    "contour": [
                      {
                        "colorscale": [
                          [
                            0,
                            "#000011"
                          ],
                          [
                            0.1111111111111111,
                            "#000012"
                          ],
                          [
                            0.2222222222222222,
                            "#000013"
                          ],
                          [
                            0.3333333333333333,
                            "#000014"
                          ],
                          [
                            0.4444444444444444,
                            "#000015"
                          ],
                          [
                            0.5555555555555556,
                            "#000016"
                          ],
                          [
                            0.6666666666666666,
                            "#000017"
                          ],
                          [
                            0.7777777777777778,
                            "#000018"
                          ],
                          [
                            0.8888888888888888,
                            "#000019"
                          ],
                          [
                            1,
                            "#000020"
                          ]
                        ],
                        "type": "contour"
                      }
                    ],
                    "contourcarpet": [
                      {
                        "colorscale": [
                          [
                            0,
                            "#000011"
                          ],
                          [
                            0.1111111111111111,
                            "#000012"
                          ],
                          [
                            0.2222222222222222,
                            "#000013"
                          ],
                          [
                            0.3333333333333333,
                            "#000014"
                          ],
                          [
                            0.4444444444444444,
                            "#000015"
                          ],
                          [
                            0.5555555555555556,
                            "#000016"
                          ],
                          [
                            0.6666666666666666,
                            "#000017"
                          ],
                          [
                            0.7777777777777778,
                            "#000018"
                          ],
                          [
                            0.8888888888888888,
                            "#000019"
                          ],
                          [
                            1,
                            "#000020"
                          ]
                        ],
                        "type": "contourcarpet"
                      }
                    ],
                    "heatmap": [
                      {
                        "colorscale": [
                          [
                            0,
                            "#000011"
                          ],
                          [
                            0.1111111111111111,
                            "#000012"
                          ],
                          [
                            0.2222222222222222,
                            "#000013"
                          ],
                          [
                            0.3333333333333333,
                            "#000014"
                          ],
                          [
                            0.4444444444444444,
                            "#000015"
                          ],
                          [
                            0.5555555555555556,
                            "#000016"
                          ],
                          [
                            0.6666666666666666,
                            "#000017"
                          ],
                          [
                            0.7777777777777778,
                            "#000018"
                          ],
                          [
                            0.8888888888888888,
                            "#000019"
                          ],
                          [
                            1,
                            "#000020"
                          ]
                        ],
                        "type": "heatmap"
                      }
                    ],
                    "histogram2d": [
                      {
                        "colorscale": [
                          [
                            0,
                            "#000011"
                          ],
                          [
                            0.1111111111111111,
                            "#000012"
                          ],
                          [
                            0.2222222222222222,
                            "#000013"
                          ],
                          [
                            0.3333333333333333,
                            "#000014"
                          ],
                          [
                            0.4444444444444444,
                            "#000015"
                          ],
                          [
                            0.5555555555555556,
                            "#000016"
                          ],
                          [
                            0.6666666666666666,
                            "#000017"
                          ],
                          [
                            0.7777777777777778,
                            "#000018"
                          ],
                          [
                            0.8888888888888888,
                            "#000019"
                          ],
                          [
                            1,
                            "#000020"
                          ]
                        ],
                        "type": "histogram2d"
                      }
                    ],
                    "icicle": [
                      {
                        "textfont": {
                          "color": "white"
                        },
                        "type": "icicle"
                      }
                    ],
                    "sankey": [
                      {
                        "textfont": {
                          "color": "#000036"
                        },
                        "type": "sankey"
                      }
                    ],
                    "scatter": [
                      {
                        "marker": {
                          "line": {
                            "width": 0
                          }
                        },
                        "type": "scatter"
                      }
                    ],
                    "table": [
                      {
                        "cells": {
                          "fill": {
                            "color": "#000038"
                          },
                          "font": {
                            "color": "#000037"
                          },
                          "line": {
                            "color": "#000039"
                          }
                        },
                        "header": {
                          "fill": {
                            "color": "#000040"
                          },
                          "font": {
                            "color": "#000036"
                          },
                          "line": {
                            "color": "#000039"
                          }
                        },
                        "type": "table"
                      }
                    ],
                    "waterfall": [
                      {
                        "connector": {
                          "line": {
                            "color": "#000036",
                            "width": 2
                          }
                        },
                        "decreasing": {
                          "marker": {
                            "color": "#000033"
                          }
                        },
                        "increasing": {
                          "marker": {
                            "color": "#000032"
                          }
                        },
                        "totals": {
                          "marker": {
                            "color": "#000034"
                          }
                        },
                        "type": "waterfall"
                      }
                    ]
                  },
                  "layout": {
                    "coloraxis": {
                      "colorscale": [
                        [
                          0,
                          "#000011"
                        ],
                        [
                          0.1111111111111111,
                          "#000012"
                        ],
                        [
                          0.2222222222222222,
                          "#000013"
                        ],
                        [
                          0.3333333333333333,
                          "#000014"
                        ],
                        [
                          0.4444444444444444,
                          "#000015"
                        ],
                        [
                          0.5555555555555556,
                          "#000016"
                        ],
                        [
                          0.6666666666666666,
                          "#000017"
                        ],
                        [
                          0.7777777777777778,
                          "#000018"
                        ],
                        [
                          0.8888888888888888,
                          "#000019"
                        ],
                        [
                          1,
                          "#000020"
                        ]
                      ]
                    },
                    "colorscale": {
                      "diverging": [
                        [
                          0,
                          "#000021"
                        ],
                        [
                          0.1,
                          "#000022"
                        ],
                        [
                          0.2,
                          "#000023"
                        ],
                        [
                          0.3,
                          "#000024"
                        ],
                        [
                          0.4,
                          "#000025"
                        ],
                        [
                          0.5,
                          "#000026"
                        ],
                        [
                          0.6,
                          "#000027"
                        ],
                        [
                          0.7,
                          "#000028"
                        ],
                        [
                          0.8,
                          "#000029"
                        ],
                        [
                          0.9,
                          "#000030"
                        ],
                        [
                          1,
                          "#000031"
                        ]
                      ],
                      "sequential": [
                        [
                          0,
                          "#000011"
                        ],
                        [
                          0.1111111111111111,
                          "#000012"
                        ],
                        [
                          0.2222222222222222,
                          "#000013"
                        ],
                        [
                          0.3333333333333333,
                          "#000014"
                        ],
                        [
                          0.4444444444444444,
                          "#000015"
                        ],
                        [
                          0.5555555555555556,
                          "#000016"
                        ],
                        [
                          0.6666666666666666,
                          "#000017"
                        ],
                        [
                          0.7777777777777778,
                          "#000018"
                        ],
                        [
                          0.8888888888888888,
                          "#000019"
                        ],
                        [
                          1,
                          "#000020"
                        ]
                      ],
                      "sequentialminus": [
                        [
                          0,
                          "#000011"
                        ],
                        [
                          0.1111111111111111,
                          "#000012"
                        ],
                        [
                          0.2222222222222222,
                          "#000013"
                        ],
                        [
                          0.3333333333333333,
                          "#000014"
                        ],
                        [
                          0.4444444444444444,
                          "#000015"
                        ],
                        [
                          0.5555555555555556,
                          "#000016"
                        ],
                        [
                          0.6666666666666666,
                          "#000017"
                        ],
                        [
                          0.7777777777777778,
                          "#000018"
                        ],
                        [
                          0.8888888888888888,
                          "#000019"
                        ],
                        [
                          1,
                          "#000020"
                        ]
                      ]
                    },
                    "colorway": [
                      "#000001",
                      "#000002",
                      "#000003",
                      "#000004",
                      "#000005",
                      "#000006",
                      "#000007",
                      "#000008",
                      "#000009",
                      "#000010"
                    ]
                  }
                },
                "title": {
                  "text": "tempo_jogado"
                },
                "width": 600,
                "xaxis": {
                  "anchor": "y",
                  "domain": [
                    0,
                    1
                  ],
                  "title": {
                    "text": "tempo_jogado"
                  }
                },
                "yaxis": {
                  "anchor": "x",
                  "domain": [
                    0,
                    1
                  ],
                  "title": {
                    "text": "count"
                  }
                }
              }
            }
          },
          "metadata": {},
          "output_type": "display_data"
        },
        {
          "data": {
            "application/vnd.plotly.v1+json": {
              "config": {
                "plotlyServerURL": "https://plot.ly"
              },
              "data": [
                {
                  "alignmentgroup": "True",
                  "bingroup": "x",
                  "hovertemplate": "animo_pra_jogar=%{x}<br>count=%{y}<extra></extra>",
                  "legendgroup": "",
                  "marker": {
                    "color": "rgb(103,0,31)",
                    "pattern": {
                      "shape": ""
                    }
                  },
                  "name": "",
                  "offsetgroup": "",
                  "orientation": "v",
                  "showlegend": false,
                  "type": "histogram",
                  "x": [
                    8,
                    10,
                    8,
                    8,
                    9,
                    9,
                    5,
                    8,
                    8,
                    8,
                    6,
                    null,
                    null,
                    null,
                    null,
                    null,
                    null,
                    null,
                    null,
                    null
                  ],
                  "xaxis": "x",
                  "yaxis": "y"
                }
              ],
              "layout": {
                "autosize": false,
                "barmode": "relative",
                "height": 400,
                "legend": {
                  "tracegroupgap": 0
                },
                "template": {
                  "data": {
                    "candlestick": [
                      {
                        "decreasing": {
                          "line": {
                            "color": "#000033"
                          }
                        },
                        "increasing": {
                          "line": {
                            "color": "#000032"
                          }
                        },
                        "type": "candlestick"
                      }
                    ],
                    "contour": [
                      {
                        "colorscale": [
                          [
                            0,
                            "#000011"
                          ],
                          [
                            0.1111111111111111,
                            "#000012"
                          ],
                          [
                            0.2222222222222222,
                            "#000013"
                          ],
                          [
                            0.3333333333333333,
                            "#000014"
                          ],
                          [
                            0.4444444444444444,
                            "#000015"
                          ],
                          [
                            0.5555555555555556,
                            "#000016"
                          ],
                          [
                            0.6666666666666666,
                            "#000017"
                          ],
                          [
                            0.7777777777777778,
                            "#000018"
                          ],
                          [
                            0.8888888888888888,
                            "#000019"
                          ],
                          [
                            1,
                            "#000020"
                          ]
                        ],
                        "type": "contour"
                      }
                    ],
                    "contourcarpet": [
                      {
                        "colorscale": [
                          [
                            0,
                            "#000011"
                          ],
                          [
                            0.1111111111111111,
                            "#000012"
                          ],
                          [
                            0.2222222222222222,
                            "#000013"
                          ],
                          [
                            0.3333333333333333,
                            "#000014"
                          ],
                          [
                            0.4444444444444444,
                            "#000015"
                          ],
                          [
                            0.5555555555555556,
                            "#000016"
                          ],
                          [
                            0.6666666666666666,
                            "#000017"
                          ],
                          [
                            0.7777777777777778,
                            "#000018"
                          ],
                          [
                            0.8888888888888888,
                            "#000019"
                          ],
                          [
                            1,
                            "#000020"
                          ]
                        ],
                        "type": "contourcarpet"
                      }
                    ],
                    "heatmap": [
                      {
                        "colorscale": [
                          [
                            0,
                            "#000011"
                          ],
                          [
                            0.1111111111111111,
                            "#000012"
                          ],
                          [
                            0.2222222222222222,
                            "#000013"
                          ],
                          [
                            0.3333333333333333,
                            "#000014"
                          ],
                          [
                            0.4444444444444444,
                            "#000015"
                          ],
                          [
                            0.5555555555555556,
                            "#000016"
                          ],
                          [
                            0.6666666666666666,
                            "#000017"
                          ],
                          [
                            0.7777777777777778,
                            "#000018"
                          ],
                          [
                            0.8888888888888888,
                            "#000019"
                          ],
                          [
                            1,
                            "#000020"
                          ]
                        ],
                        "type": "heatmap"
                      }
                    ],
                    "histogram2d": [
                      {
                        "colorscale": [
                          [
                            0,
                            "#000011"
                          ],
                          [
                            0.1111111111111111,
                            "#000012"
                          ],
                          [
                            0.2222222222222222,
                            "#000013"
                          ],
                          [
                            0.3333333333333333,
                            "#000014"
                          ],
                          [
                            0.4444444444444444,
                            "#000015"
                          ],
                          [
                            0.5555555555555556,
                            "#000016"
                          ],
                          [
                            0.6666666666666666,
                            "#000017"
                          ],
                          [
                            0.7777777777777778,
                            "#000018"
                          ],
                          [
                            0.8888888888888888,
                            "#000019"
                          ],
                          [
                            1,
                            "#000020"
                          ]
                        ],
                        "type": "histogram2d"
                      }
                    ],
                    "icicle": [
                      {
                        "textfont": {
                          "color": "white"
                        },
                        "type": "icicle"
                      }
                    ],
                    "sankey": [
                      {
                        "textfont": {
                          "color": "#000036"
                        },
                        "type": "sankey"
                      }
                    ],
                    "scatter": [
                      {
                        "marker": {
                          "line": {
                            "width": 0
                          }
                        },
                        "type": "scatter"
                      }
                    ],
                    "table": [
                      {
                        "cells": {
                          "fill": {
                            "color": "#000038"
                          },
                          "font": {
                            "color": "#000037"
                          },
                          "line": {
                            "color": "#000039"
                          }
                        },
                        "header": {
                          "fill": {
                            "color": "#000040"
                          },
                          "font": {
                            "color": "#000036"
                          },
                          "line": {
                            "color": "#000039"
                          }
                        },
                        "type": "table"
                      }
                    ],
                    "waterfall": [
                      {
                        "connector": {
                          "line": {
                            "color": "#000036",
                            "width": 2
                          }
                        },
                        "decreasing": {
                          "marker": {
                            "color": "#000033"
                          }
                        },
                        "increasing": {
                          "marker": {
                            "color": "#000032"
                          }
                        },
                        "totals": {
                          "marker": {
                            "color": "#000034"
                          }
                        },
                        "type": "waterfall"
                      }
                    ]
                  },
                  "layout": {
                    "coloraxis": {
                      "colorscale": [
                        [
                          0,
                          "#000011"
                        ],
                        [
                          0.1111111111111111,
                          "#000012"
                        ],
                        [
                          0.2222222222222222,
                          "#000013"
                        ],
                        [
                          0.3333333333333333,
                          "#000014"
                        ],
                        [
                          0.4444444444444444,
                          "#000015"
                        ],
                        [
                          0.5555555555555556,
                          "#000016"
                        ],
                        [
                          0.6666666666666666,
                          "#000017"
                        ],
                        [
                          0.7777777777777778,
                          "#000018"
                        ],
                        [
                          0.8888888888888888,
                          "#000019"
                        ],
                        [
                          1,
                          "#000020"
                        ]
                      ]
                    },
                    "colorscale": {
                      "diverging": [
                        [
                          0,
                          "#000021"
                        ],
                        [
                          0.1,
                          "#000022"
                        ],
                        [
                          0.2,
                          "#000023"
                        ],
                        [
                          0.3,
                          "#000024"
                        ],
                        [
                          0.4,
                          "#000025"
                        ],
                        [
                          0.5,
                          "#000026"
                        ],
                        [
                          0.6,
                          "#000027"
                        ],
                        [
                          0.7,
                          "#000028"
                        ],
                        [
                          0.8,
                          "#000029"
                        ],
                        [
                          0.9,
                          "#000030"
                        ],
                        [
                          1,
                          "#000031"
                        ]
                      ],
                      "sequential": [
                        [
                          0,
                          "#000011"
                        ],
                        [
                          0.1111111111111111,
                          "#000012"
                        ],
                        [
                          0.2222222222222222,
                          "#000013"
                        ],
                        [
                          0.3333333333333333,
                          "#000014"
                        ],
                        [
                          0.4444444444444444,
                          "#000015"
                        ],
                        [
                          0.5555555555555556,
                          "#000016"
                        ],
                        [
                          0.6666666666666666,
                          "#000017"
                        ],
                        [
                          0.7777777777777778,
                          "#000018"
                        ],
                        [
                          0.8888888888888888,
                          "#000019"
                        ],
                        [
                          1,
                          "#000020"
                        ]
                      ],
                      "sequentialminus": [
                        [
                          0,
                          "#000011"
                        ],
                        [
                          0.1111111111111111,
                          "#000012"
                        ],
                        [
                          0.2222222222222222,
                          "#000013"
                        ],
                        [
                          0.3333333333333333,
                          "#000014"
                        ],
                        [
                          0.4444444444444444,
                          "#000015"
                        ],
                        [
                          0.5555555555555556,
                          "#000016"
                        ],
                        [
                          0.6666666666666666,
                          "#000017"
                        ],
                        [
                          0.7777777777777778,
                          "#000018"
                        ],
                        [
                          0.8888888888888888,
                          "#000019"
                        ],
                        [
                          1,
                          "#000020"
                        ]
                      ]
                    },
                    "colorway": [
                      "#000001",
                      "#000002",
                      "#000003",
                      "#000004",
                      "#000005",
                      "#000006",
                      "#000007",
                      "#000008",
                      "#000009",
                      "#000010"
                    ]
                  }
                },
                "title": {
                  "text": "animo_pra_jogar"
                },
                "width": 600,
                "xaxis": {
                  "anchor": "y",
                  "domain": [
                    0,
                    1
                  ],
                  "title": {
                    "text": "animo_pra_jogar"
                  }
                },
                "yaxis": {
                  "anchor": "x",
                  "domain": [
                    0,
                    1
                  ],
                  "title": {
                    "text": "count"
                  }
                }
              }
            }
          },
          "metadata": {},
          "output_type": "display_data"
        },
        {
          "data": {
            "application/vnd.plotly.v1+json": {
              "config": {
                "plotlyServerURL": "https://plot.ly"
              },
              "data": [
                {
                  "alignmentgroup": "True",
                  "bingroup": "x",
                  "hovertemplate": "calorias_por_min=%{x}<br>count=%{y}<extra></extra>",
                  "legendgroup": "",
                  "marker": {
                    "color": "rgb(103,0,31)",
                    "pattern": {
                      "shape": ""
                    }
                  },
                  "name": "",
                  "offsetgroup": "",
                  "orientation": "v",
                  "showlegend": false,
                  "type": "histogram",
                  "x": [
                    9.395833333333334,
                    9.777777777777779,
                    10.672131147540984,
                    11.40983606557377,
                    10.911764705882353,
                    11.423076923076923,
                    9.805970149253731,
                    11.615384615384615,
                    10.986486486486486,
                    10.76,
                    10.833333333333334,
                    10.333333333333334,
                    12,
                    10.038461538461538,
                    10.980392156862745,
                    10.86,
                    10.476190476190476,
                    10.884057971014492,
                    11.246575342465754,
                    10.58
                  ],
                  "xaxis": "x",
                  "yaxis": "y"
                }
              ],
              "layout": {
                "autosize": false,
                "barmode": "relative",
                "height": 400,
                "legend": {
                  "tracegroupgap": 0
                },
                "template": {
                  "data": {
                    "candlestick": [
                      {
                        "decreasing": {
                          "line": {
                            "color": "#000033"
                          }
                        },
                        "increasing": {
                          "line": {
                            "color": "#000032"
                          }
                        },
                        "type": "candlestick"
                      }
                    ],
                    "contour": [
                      {
                        "colorscale": [
                          [
                            0,
                            "#000011"
                          ],
                          [
                            0.1111111111111111,
                            "#000012"
                          ],
                          [
                            0.2222222222222222,
                            "#000013"
                          ],
                          [
                            0.3333333333333333,
                            "#000014"
                          ],
                          [
                            0.4444444444444444,
                            "#000015"
                          ],
                          [
                            0.5555555555555556,
                            "#000016"
                          ],
                          [
                            0.6666666666666666,
                            "#000017"
                          ],
                          [
                            0.7777777777777778,
                            "#000018"
                          ],
                          [
                            0.8888888888888888,
                            "#000019"
                          ],
                          [
                            1,
                            "#000020"
                          ]
                        ],
                        "type": "contour"
                      }
                    ],
                    "contourcarpet": [
                      {
                        "colorscale": [
                          [
                            0,
                            "#000011"
                          ],
                          [
                            0.1111111111111111,
                            "#000012"
                          ],
                          [
                            0.2222222222222222,
                            "#000013"
                          ],
                          [
                            0.3333333333333333,
                            "#000014"
                          ],
                          [
                            0.4444444444444444,
                            "#000015"
                          ],
                          [
                            0.5555555555555556,
                            "#000016"
                          ],
                          [
                            0.6666666666666666,
                            "#000017"
                          ],
                          [
                            0.7777777777777778,
                            "#000018"
                          ],
                          [
                            0.8888888888888888,
                            "#000019"
                          ],
                          [
                            1,
                            "#000020"
                          ]
                        ],
                        "type": "contourcarpet"
                      }
                    ],
                    "heatmap": [
                      {
                        "colorscale": [
                          [
                            0,
                            "#000011"
                          ],
                          [
                            0.1111111111111111,
                            "#000012"
                          ],
                          [
                            0.2222222222222222,
                            "#000013"
                          ],
                          [
                            0.3333333333333333,
                            "#000014"
                          ],
                          [
                            0.4444444444444444,
                            "#000015"
                          ],
                          [
                            0.5555555555555556,
                            "#000016"
                          ],
                          [
                            0.6666666666666666,
                            "#000017"
                          ],
                          [
                            0.7777777777777778,
                            "#000018"
                          ],
                          [
                            0.8888888888888888,
                            "#000019"
                          ],
                          [
                            1,
                            "#000020"
                          ]
                        ],
                        "type": "heatmap"
                      }
                    ],
                    "histogram2d": [
                      {
                        "colorscale": [
                          [
                            0,
                            "#000011"
                          ],
                          [
                            0.1111111111111111,
                            "#000012"
                          ],
                          [
                            0.2222222222222222,
                            "#000013"
                          ],
                          [
                            0.3333333333333333,
                            "#000014"
                          ],
                          [
                            0.4444444444444444,
                            "#000015"
                          ],
                          [
                            0.5555555555555556,
                            "#000016"
                          ],
                          [
                            0.6666666666666666,
                            "#000017"
                          ],
                          [
                            0.7777777777777778,
                            "#000018"
                          ],
                          [
                            0.8888888888888888,
                            "#000019"
                          ],
                          [
                            1,
                            "#000020"
                          ]
                        ],
                        "type": "histogram2d"
                      }
                    ],
                    "icicle": [
                      {
                        "textfont": {
                          "color": "white"
                        },
                        "type": "icicle"
                      }
                    ],
                    "sankey": [
                      {
                        "textfont": {
                          "color": "#000036"
                        },
                        "type": "sankey"
                      }
                    ],
                    "scatter": [
                      {
                        "marker": {
                          "line": {
                            "width": 0
                          }
                        },
                        "type": "scatter"
                      }
                    ],
                    "table": [
                      {
                        "cells": {
                          "fill": {
                            "color": "#000038"
                          },
                          "font": {
                            "color": "#000037"
                          },
                          "line": {
                            "color": "#000039"
                          }
                        },
                        "header": {
                          "fill": {
                            "color": "#000040"
                          },
                          "font": {
                            "color": "#000036"
                          },
                          "line": {
                            "color": "#000039"
                          }
                        },
                        "type": "table"
                      }
                    ],
                    "waterfall": [
                      {
                        "connector": {
                          "line": {
                            "color": "#000036",
                            "width": 2
                          }
                        },
                        "decreasing": {
                          "marker": {
                            "color": "#000033"
                          }
                        },
                        "increasing": {
                          "marker": {
                            "color": "#000032"
                          }
                        },
                        "totals": {
                          "marker": {
                            "color": "#000034"
                          }
                        },
                        "type": "waterfall"
                      }
                    ]
                  },
                  "layout": {
                    "coloraxis": {
                      "colorscale": [
                        [
                          0,
                          "#000011"
                        ],
                        [
                          0.1111111111111111,
                          "#000012"
                        ],
                        [
                          0.2222222222222222,
                          "#000013"
                        ],
                        [
                          0.3333333333333333,
                          "#000014"
                        ],
                        [
                          0.4444444444444444,
                          "#000015"
                        ],
                        [
                          0.5555555555555556,
                          "#000016"
                        ],
                        [
                          0.6666666666666666,
                          "#000017"
                        ],
                        [
                          0.7777777777777778,
                          "#000018"
                        ],
                        [
                          0.8888888888888888,
                          "#000019"
                        ],
                        [
                          1,
                          "#000020"
                        ]
                      ]
                    },
                    "colorscale": {
                      "diverging": [
                        [
                          0,
                          "#000021"
                        ],
                        [
                          0.1,
                          "#000022"
                        ],
                        [
                          0.2,
                          "#000023"
                        ],
                        [
                          0.3,
                          "#000024"
                        ],
                        [
                          0.4,
                          "#000025"
                        ],
                        [
                          0.5,
                          "#000026"
                        ],
                        [
                          0.6,
                          "#000027"
                        ],
                        [
                          0.7,
                          "#000028"
                        ],
                        [
                          0.8,
                          "#000029"
                        ],
                        [
                          0.9,
                          "#000030"
                        ],
                        [
                          1,
                          "#000031"
                        ]
                      ],
                      "sequential": [
                        [
                          0,
                          "#000011"
                        ],
                        [
                          0.1111111111111111,
                          "#000012"
                        ],
                        [
                          0.2222222222222222,
                          "#000013"
                        ],
                        [
                          0.3333333333333333,
                          "#000014"
                        ],
                        [
                          0.4444444444444444,
                          "#000015"
                        ],
                        [
                          0.5555555555555556,
                          "#000016"
                        ],
                        [
                          0.6666666666666666,
                          "#000017"
                        ],
                        [
                          0.7777777777777778,
                          "#000018"
                        ],
                        [
                          0.8888888888888888,
                          "#000019"
                        ],
                        [
                          1,
                          "#000020"
                        ]
                      ],
                      "sequentialminus": [
                        [
                          0,
                          "#000011"
                        ],
                        [
                          0.1111111111111111,
                          "#000012"
                        ],
                        [
                          0.2222222222222222,
                          "#000013"
                        ],
                        [
                          0.3333333333333333,
                          "#000014"
                        ],
                        [
                          0.4444444444444444,
                          "#000015"
                        ],
                        [
                          0.5555555555555556,
                          "#000016"
                        ],
                        [
                          0.6666666666666666,
                          "#000017"
                        ],
                        [
                          0.7777777777777778,
                          "#000018"
                        ],
                        [
                          0.8888888888888888,
                          "#000019"
                        ],
                        [
                          1,
                          "#000020"
                        ]
                      ]
                    },
                    "colorway": [
                      "#000001",
                      "#000002",
                      "#000003",
                      "#000004",
                      "#000005",
                      "#000006",
                      "#000007",
                      "#000008",
                      "#000009",
                      "#000010"
                    ]
                  }
                },
                "title": {
                  "text": "calorias_por_min"
                },
                "width": 600,
                "xaxis": {
                  "anchor": "y",
                  "domain": [
                    0,
                    1
                  ],
                  "title": {
                    "text": "calorias_por_min"
                  }
                },
                "yaxis": {
                  "anchor": "x",
                  "domain": [
                    0,
                    1
                  ],
                  "title": {
                    "text": "count"
                  }
                }
              }
            }
          },
          "metadata": {},
          "output_type": "display_data"
        }
      ],
      "source": [
        "df_data_list_fred_colunas_numericas = ['tempo_de_descanso','nota','pai','calorias','tempo_jogado','animo_pra_jogar', 'calorias_por_min']\n",
        "for column in df_data_list_fred_colunas_numericas:\n",
        "    fig = px.histogram(df, \n",
        "                       x=column, \n",
        "                       title=column,\n",
        "                       color_discrete_sequence=px.colors.sequential.RdBu)\n",
        "    fig.update_layout(\n",
        "    autosize=False,\n",
        "    width=600,  # Set the desired width of the plot\n",
        "    height=400  # Set the desired height of the plot\n",
        "    )\n",
        "    fig.show()"
      ]
    },
    {
      "cell_type": "code",
      "execution_count": null,
      "metadata": {},
      "outputs": [
        {
          "data": {
            "application/vnd.plotly.v1+json": {
              "config": {
                "plotlyServerURL": "https://plot.ly"
              },
              "data": [
                {
                  "hovertemplate": "dia=%{x}<br>tempo_de_descanso=%{y}<extra></extra>",
                  "legendgroup": "",
                  "line": {
                    "color": "rgb(103,0,31)"
                  },
                  "marker": {
                    "symbol": "circle"
                  },
                  "mode": "lines",
                  "name": "",
                  "orientation": "v",
                  "showlegend": false,
                  "stackgroup": "1",
                  "type": "scatter",
                  "x": [
                    "2023-06-21T00:00:00",
                    "2023-06-20T00:00:00",
                    "2023-06-20T00:00:00",
                    "2023-06-16T00:00:00",
                    "2023-06-14T00:00:00",
                    "2023-06-01T00:00:00",
                    "2023-05-30T00:00:00",
                    "2023-05-29T00:00:00",
                    "2023-05-26T00:00:00",
                    "2023-05-25T00:00:00",
                    "2023-05-22T00:00:00",
                    "2023-05-18T00:00:00",
                    "2023-05-16T00:00:00",
                    "2023-05-09T00:00:00",
                    "2023-05-08T00:00:00",
                    "2023-05-05T00:00:00",
                    "2023-05-03T00:00:00",
                    "2023-04-30T00:00:00",
                    "2023-04-26T00:00:00",
                    "2023-04-25T00:00:00"
                  ],
                  "xaxis": "x",
                  "y": [
                    0,
                    0,
                    5,
                    0,
                    3,
                    0,
                    0,
                    2,
                    4,
                    2,
                    0,
                    0,
                    0,
                    0,
                    0,
                    0,
                    0,
                    0,
                    0,
                    0
                  ],
                  "yaxis": "y"
                }
              ],
              "layout": {
                "autosize": false,
                "height": 400,
                "legend": {
                  "tracegroupgap": 0
                },
                "template": {
                  "data": {
                    "candlestick": [
                      {
                        "decreasing": {
                          "line": {
                            "color": "#000033"
                          }
                        },
                        "increasing": {
                          "line": {
                            "color": "#000032"
                          }
                        },
                        "type": "candlestick"
                      }
                    ],
                    "contour": [
                      {
                        "colorscale": [
                          [
                            0,
                            "#000011"
                          ],
                          [
                            0.1111111111111111,
                            "#000012"
                          ],
                          [
                            0.2222222222222222,
                            "#000013"
                          ],
                          [
                            0.3333333333333333,
                            "#000014"
                          ],
                          [
                            0.4444444444444444,
                            "#000015"
                          ],
                          [
                            0.5555555555555556,
                            "#000016"
                          ],
                          [
                            0.6666666666666666,
                            "#000017"
                          ],
                          [
                            0.7777777777777778,
                            "#000018"
                          ],
                          [
                            0.8888888888888888,
                            "#000019"
                          ],
                          [
                            1,
                            "#000020"
                          ]
                        ],
                        "type": "contour"
                      }
                    ],
                    "contourcarpet": [
                      {
                        "colorscale": [
                          [
                            0,
                            "#000011"
                          ],
                          [
                            0.1111111111111111,
                            "#000012"
                          ],
                          [
                            0.2222222222222222,
                            "#000013"
                          ],
                          [
                            0.3333333333333333,
                            "#000014"
                          ],
                          [
                            0.4444444444444444,
                            "#000015"
                          ],
                          [
                            0.5555555555555556,
                            "#000016"
                          ],
                          [
                            0.6666666666666666,
                            "#000017"
                          ],
                          [
                            0.7777777777777778,
                            "#000018"
                          ],
                          [
                            0.8888888888888888,
                            "#000019"
                          ],
                          [
                            1,
                            "#000020"
                          ]
                        ],
                        "type": "contourcarpet"
                      }
                    ],
                    "heatmap": [
                      {
                        "colorscale": [
                          [
                            0,
                            "#000011"
                          ],
                          [
                            0.1111111111111111,
                            "#000012"
                          ],
                          [
                            0.2222222222222222,
                            "#000013"
                          ],
                          [
                            0.3333333333333333,
                            "#000014"
                          ],
                          [
                            0.4444444444444444,
                            "#000015"
                          ],
                          [
                            0.5555555555555556,
                            "#000016"
                          ],
                          [
                            0.6666666666666666,
                            "#000017"
                          ],
                          [
                            0.7777777777777778,
                            "#000018"
                          ],
                          [
                            0.8888888888888888,
                            "#000019"
                          ],
                          [
                            1,
                            "#000020"
                          ]
                        ],
                        "type": "heatmap"
                      }
                    ],
                    "histogram2d": [
                      {
                        "colorscale": [
                          [
                            0,
                            "#000011"
                          ],
                          [
                            0.1111111111111111,
                            "#000012"
                          ],
                          [
                            0.2222222222222222,
                            "#000013"
                          ],
                          [
                            0.3333333333333333,
                            "#000014"
                          ],
                          [
                            0.4444444444444444,
                            "#000015"
                          ],
                          [
                            0.5555555555555556,
                            "#000016"
                          ],
                          [
                            0.6666666666666666,
                            "#000017"
                          ],
                          [
                            0.7777777777777778,
                            "#000018"
                          ],
                          [
                            0.8888888888888888,
                            "#000019"
                          ],
                          [
                            1,
                            "#000020"
                          ]
                        ],
                        "type": "histogram2d"
                      }
                    ],
                    "icicle": [
                      {
                        "textfont": {
                          "color": "white"
                        },
                        "type": "icicle"
                      }
                    ],
                    "sankey": [
                      {
                        "textfont": {
                          "color": "#000036"
                        },
                        "type": "sankey"
                      }
                    ],
                    "scatter": [
                      {
                        "marker": {
                          "line": {
                            "width": 0
                          }
                        },
                        "type": "scatter"
                      }
                    ],
                    "table": [
                      {
                        "cells": {
                          "fill": {
                            "color": "#000038"
                          },
                          "font": {
                            "color": "#000037"
                          },
                          "line": {
                            "color": "#000039"
                          }
                        },
                        "header": {
                          "fill": {
                            "color": "#000040"
                          },
                          "font": {
                            "color": "#000036"
                          },
                          "line": {
                            "color": "#000039"
                          }
                        },
                        "type": "table"
                      }
                    ],
                    "waterfall": [
                      {
                        "connector": {
                          "line": {
                            "color": "#000036",
                            "width": 2
                          }
                        },
                        "decreasing": {
                          "marker": {
                            "color": "#000033"
                          }
                        },
                        "increasing": {
                          "marker": {
                            "color": "#000032"
                          }
                        },
                        "totals": {
                          "marker": {
                            "color": "#000034"
                          }
                        },
                        "type": "waterfall"
                      }
                    ]
                  },
                  "layout": {
                    "coloraxis": {
                      "colorscale": [
                        [
                          0,
                          "#000011"
                        ],
                        [
                          0.1111111111111111,
                          "#000012"
                        ],
                        [
                          0.2222222222222222,
                          "#000013"
                        ],
                        [
                          0.3333333333333333,
                          "#000014"
                        ],
                        [
                          0.4444444444444444,
                          "#000015"
                        ],
                        [
                          0.5555555555555556,
                          "#000016"
                        ],
                        [
                          0.6666666666666666,
                          "#000017"
                        ],
                        [
                          0.7777777777777778,
                          "#000018"
                        ],
                        [
                          0.8888888888888888,
                          "#000019"
                        ],
                        [
                          1,
                          "#000020"
                        ]
                      ]
                    },
                    "colorscale": {
                      "diverging": [
                        [
                          0,
                          "#000021"
                        ],
                        [
                          0.1,
                          "#000022"
                        ],
                        [
                          0.2,
                          "#000023"
                        ],
                        [
                          0.3,
                          "#000024"
                        ],
                        [
                          0.4,
                          "#000025"
                        ],
                        [
                          0.5,
                          "#000026"
                        ],
                        [
                          0.6,
                          "#000027"
                        ],
                        [
                          0.7,
                          "#000028"
                        ],
                        [
                          0.8,
                          "#000029"
                        ],
                        [
                          0.9,
                          "#000030"
                        ],
                        [
                          1,
                          "#000031"
                        ]
                      ],
                      "sequential": [
                        [
                          0,
                          "#000011"
                        ],
                        [
                          0.1111111111111111,
                          "#000012"
                        ],
                        [
                          0.2222222222222222,
                          "#000013"
                        ],
                        [
                          0.3333333333333333,
                          "#000014"
                        ],
                        [
                          0.4444444444444444,
                          "#000015"
                        ],
                        [
                          0.5555555555555556,
                          "#000016"
                        ],
                        [
                          0.6666666666666666,
                          "#000017"
                        ],
                        [
                          0.7777777777777778,
                          "#000018"
                        ],
                        [
                          0.8888888888888888,
                          "#000019"
                        ],
                        [
                          1,
                          "#000020"
                        ]
                      ],
                      "sequentialminus": [
                        [
                          0,
                          "#000011"
                        ],
                        [
                          0.1111111111111111,
                          "#000012"
                        ],
                        [
                          0.2222222222222222,
                          "#000013"
                        ],
                        [
                          0.3333333333333333,
                          "#000014"
                        ],
                        [
                          0.4444444444444444,
                          "#000015"
                        ],
                        [
                          0.5555555555555556,
                          "#000016"
                        ],
                        [
                          0.6666666666666666,
                          "#000017"
                        ],
                        [
                          0.7777777777777778,
                          "#000018"
                        ],
                        [
                          0.8888888888888888,
                          "#000019"
                        ],
                        [
                          1,
                          "#000020"
                        ]
                      ]
                    },
                    "colorway": [
                      "#000001",
                      "#000002",
                      "#000003",
                      "#000004",
                      "#000005",
                      "#000006",
                      "#000007",
                      "#000008",
                      "#000009",
                      "#000010"
                    ]
                  }
                },
                "title": {
                  "text": "tempo_de_descanso"
                },
                "width": 600,
                "xaxis": {
                  "anchor": "y",
                  "domain": [
                    0,
                    1
                  ],
                  "title": {
                    "text": "dia"
                  }
                },
                "yaxis": {
                  "anchor": "x",
                  "domain": [
                    0,
                    1
                  ],
                  "title": {
                    "text": "tempo_de_descanso"
                  }
                }
              }
            }
          },
          "metadata": {},
          "output_type": "display_data"
        },
        {
          "data": {
            "application/vnd.plotly.v1+json": {
              "config": {
                "plotlyServerURL": "https://plot.ly"
              },
              "data": [
                {
                  "hovertemplate": "dia=%{x}<br>nota=%{y}<extra></extra>",
                  "legendgroup": "",
                  "line": {
                    "color": "rgb(103,0,31)"
                  },
                  "marker": {
                    "symbol": "circle"
                  },
                  "mode": "lines",
                  "name": "",
                  "orientation": "v",
                  "showlegend": false,
                  "stackgroup": "1",
                  "type": "scatter",
                  "x": [
                    "2023-06-21T00:00:00",
                    "2023-06-20T00:00:00",
                    "2023-06-20T00:00:00",
                    "2023-06-16T00:00:00",
                    "2023-06-14T00:00:00",
                    "2023-06-01T00:00:00",
                    "2023-05-30T00:00:00",
                    "2023-05-29T00:00:00",
                    "2023-05-26T00:00:00",
                    "2023-05-25T00:00:00",
                    "2023-05-22T00:00:00",
                    "2023-05-18T00:00:00",
                    "2023-05-16T00:00:00",
                    "2023-05-09T00:00:00",
                    "2023-05-08T00:00:00",
                    "2023-05-05T00:00:00",
                    "2023-05-03T00:00:00",
                    "2023-04-30T00:00:00",
                    "2023-04-26T00:00:00",
                    "2023-04-25T00:00:00"
                  ],
                  "xaxis": "x",
                  "y": [
                    8,
                    9,
                    7,
                    7,
                    3,
                    9,
                    6,
                    7,
                    8,
                    8.5,
                    6,
                    7,
                    5,
                    5,
                    8,
                    7,
                    6,
                    7,
                    7,
                    6
                  ],
                  "yaxis": "y"
                }
              ],
              "layout": {
                "autosize": false,
                "height": 400,
                "legend": {
                  "tracegroupgap": 0
                },
                "template": {
                  "data": {
                    "candlestick": [
                      {
                        "decreasing": {
                          "line": {
                            "color": "#000033"
                          }
                        },
                        "increasing": {
                          "line": {
                            "color": "#000032"
                          }
                        },
                        "type": "candlestick"
                      }
                    ],
                    "contour": [
                      {
                        "colorscale": [
                          [
                            0,
                            "#000011"
                          ],
                          [
                            0.1111111111111111,
                            "#000012"
                          ],
                          [
                            0.2222222222222222,
                            "#000013"
                          ],
                          [
                            0.3333333333333333,
                            "#000014"
                          ],
                          [
                            0.4444444444444444,
                            "#000015"
                          ],
                          [
                            0.5555555555555556,
                            "#000016"
                          ],
                          [
                            0.6666666666666666,
                            "#000017"
                          ],
                          [
                            0.7777777777777778,
                            "#000018"
                          ],
                          [
                            0.8888888888888888,
                            "#000019"
                          ],
                          [
                            1,
                            "#000020"
                          ]
                        ],
                        "type": "contour"
                      }
                    ],
                    "contourcarpet": [
                      {
                        "colorscale": [
                          [
                            0,
                            "#000011"
                          ],
                          [
                            0.1111111111111111,
                            "#000012"
                          ],
                          [
                            0.2222222222222222,
                            "#000013"
                          ],
                          [
                            0.3333333333333333,
                            "#000014"
                          ],
                          [
                            0.4444444444444444,
                            "#000015"
                          ],
                          [
                            0.5555555555555556,
                            "#000016"
                          ],
                          [
                            0.6666666666666666,
                            "#000017"
                          ],
                          [
                            0.7777777777777778,
                            "#000018"
                          ],
                          [
                            0.8888888888888888,
                            "#000019"
                          ],
                          [
                            1,
                            "#000020"
                          ]
                        ],
                        "type": "contourcarpet"
                      }
                    ],
                    "heatmap": [
                      {
                        "colorscale": [
                          [
                            0,
                            "#000011"
                          ],
                          [
                            0.1111111111111111,
                            "#000012"
                          ],
                          [
                            0.2222222222222222,
                            "#000013"
                          ],
                          [
                            0.3333333333333333,
                            "#000014"
                          ],
                          [
                            0.4444444444444444,
                            "#000015"
                          ],
                          [
                            0.5555555555555556,
                            "#000016"
                          ],
                          [
                            0.6666666666666666,
                            "#000017"
                          ],
                          [
                            0.7777777777777778,
                            "#000018"
                          ],
                          [
                            0.8888888888888888,
                            "#000019"
                          ],
                          [
                            1,
                            "#000020"
                          ]
                        ],
                        "type": "heatmap"
                      }
                    ],
                    "histogram2d": [
                      {
                        "colorscale": [
                          [
                            0,
                            "#000011"
                          ],
                          [
                            0.1111111111111111,
                            "#000012"
                          ],
                          [
                            0.2222222222222222,
                            "#000013"
                          ],
                          [
                            0.3333333333333333,
                            "#000014"
                          ],
                          [
                            0.4444444444444444,
                            "#000015"
                          ],
                          [
                            0.5555555555555556,
                            "#000016"
                          ],
                          [
                            0.6666666666666666,
                            "#000017"
                          ],
                          [
                            0.7777777777777778,
                            "#000018"
                          ],
                          [
                            0.8888888888888888,
                            "#000019"
                          ],
                          [
                            1,
                            "#000020"
                          ]
                        ],
                        "type": "histogram2d"
                      }
                    ],
                    "icicle": [
                      {
                        "textfont": {
                          "color": "white"
                        },
                        "type": "icicle"
                      }
                    ],
                    "sankey": [
                      {
                        "textfont": {
                          "color": "#000036"
                        },
                        "type": "sankey"
                      }
                    ],
                    "scatter": [
                      {
                        "marker": {
                          "line": {
                            "width": 0
                          }
                        },
                        "type": "scatter"
                      }
                    ],
                    "table": [
                      {
                        "cells": {
                          "fill": {
                            "color": "#000038"
                          },
                          "font": {
                            "color": "#000037"
                          },
                          "line": {
                            "color": "#000039"
                          }
                        },
                        "header": {
                          "fill": {
                            "color": "#000040"
                          },
                          "font": {
                            "color": "#000036"
                          },
                          "line": {
                            "color": "#000039"
                          }
                        },
                        "type": "table"
                      }
                    ],
                    "waterfall": [
                      {
                        "connector": {
                          "line": {
                            "color": "#000036",
                            "width": 2
                          }
                        },
                        "decreasing": {
                          "marker": {
                            "color": "#000033"
                          }
                        },
                        "increasing": {
                          "marker": {
                            "color": "#000032"
                          }
                        },
                        "totals": {
                          "marker": {
                            "color": "#000034"
                          }
                        },
                        "type": "waterfall"
                      }
                    ]
                  },
                  "layout": {
                    "coloraxis": {
                      "colorscale": [
                        [
                          0,
                          "#000011"
                        ],
                        [
                          0.1111111111111111,
                          "#000012"
                        ],
                        [
                          0.2222222222222222,
                          "#000013"
                        ],
                        [
                          0.3333333333333333,
                          "#000014"
                        ],
                        [
                          0.4444444444444444,
                          "#000015"
                        ],
                        [
                          0.5555555555555556,
                          "#000016"
                        ],
                        [
                          0.6666666666666666,
                          "#000017"
                        ],
                        [
                          0.7777777777777778,
                          "#000018"
                        ],
                        [
                          0.8888888888888888,
                          "#000019"
                        ],
                        [
                          1,
                          "#000020"
                        ]
                      ]
                    },
                    "colorscale": {
                      "diverging": [
                        [
                          0,
                          "#000021"
                        ],
                        [
                          0.1,
                          "#000022"
                        ],
                        [
                          0.2,
                          "#000023"
                        ],
                        [
                          0.3,
                          "#000024"
                        ],
                        [
                          0.4,
                          "#000025"
                        ],
                        [
                          0.5,
                          "#000026"
                        ],
                        [
                          0.6,
                          "#000027"
                        ],
                        [
                          0.7,
                          "#000028"
                        ],
                        [
                          0.8,
                          "#000029"
                        ],
                        [
                          0.9,
                          "#000030"
                        ],
                        [
                          1,
                          "#000031"
                        ]
                      ],
                      "sequential": [
                        [
                          0,
                          "#000011"
                        ],
                        [
                          0.1111111111111111,
                          "#000012"
                        ],
                        [
                          0.2222222222222222,
                          "#000013"
                        ],
                        [
                          0.3333333333333333,
                          "#000014"
                        ],
                        [
                          0.4444444444444444,
                          "#000015"
                        ],
                        [
                          0.5555555555555556,
                          "#000016"
                        ],
                        [
                          0.6666666666666666,
                          "#000017"
                        ],
                        [
                          0.7777777777777778,
                          "#000018"
                        ],
                        [
                          0.8888888888888888,
                          "#000019"
                        ],
                        [
                          1,
                          "#000020"
                        ]
                      ],
                      "sequentialminus": [
                        [
                          0,
                          "#000011"
                        ],
                        [
                          0.1111111111111111,
                          "#000012"
                        ],
                        [
                          0.2222222222222222,
                          "#000013"
                        ],
                        [
                          0.3333333333333333,
                          "#000014"
                        ],
                        [
                          0.4444444444444444,
                          "#000015"
                        ],
                        [
                          0.5555555555555556,
                          "#000016"
                        ],
                        [
                          0.6666666666666666,
                          "#000017"
                        ],
                        [
                          0.7777777777777778,
                          "#000018"
                        ],
                        [
                          0.8888888888888888,
                          "#000019"
                        ],
                        [
                          1,
                          "#000020"
                        ]
                      ]
                    },
                    "colorway": [
                      "#000001",
                      "#000002",
                      "#000003",
                      "#000004",
                      "#000005",
                      "#000006",
                      "#000007",
                      "#000008",
                      "#000009",
                      "#000010"
                    ]
                  }
                },
                "title": {
                  "text": "nota"
                },
                "width": 600,
                "xaxis": {
                  "anchor": "y",
                  "domain": [
                    0,
                    1
                  ],
                  "title": {
                    "text": "dia"
                  }
                },
                "yaxis": {
                  "anchor": "x",
                  "domain": [
                    0,
                    1
                  ],
                  "title": {
                    "text": "nota"
                  }
                }
              }
            }
          },
          "metadata": {},
          "output_type": "display_data"
        },
        {
          "data": {
            "application/vnd.plotly.v1+json": {
              "config": {
                "plotlyServerURL": "https://plot.ly"
              },
              "data": [
                {
                  "hovertemplate": "dia=%{x}<br>pai=%{y}<extra></extra>",
                  "legendgroup": "",
                  "line": {
                    "color": "rgb(103,0,31)"
                  },
                  "marker": {
                    "symbol": "circle"
                  },
                  "mode": "lines",
                  "name": "",
                  "orientation": "v",
                  "showlegend": false,
                  "stackgroup": "1",
                  "type": "scatter",
                  "x": [
                    "2023-06-21T00:00:00",
                    "2023-06-20T00:00:00",
                    "2023-06-20T00:00:00",
                    "2023-06-16T00:00:00",
                    "2023-06-14T00:00:00",
                    "2023-06-01T00:00:00",
                    "2023-05-30T00:00:00",
                    "2023-05-29T00:00:00",
                    "2023-05-26T00:00:00",
                    "2023-05-25T00:00:00",
                    "2023-05-22T00:00:00",
                    "2023-05-18T00:00:00",
                    "2023-05-16T00:00:00",
                    "2023-05-09T00:00:00",
                    "2023-05-08T00:00:00",
                    "2023-05-05T00:00:00",
                    "2023-05-03T00:00:00",
                    "2023-04-30T00:00:00",
                    "2023-04-26T00:00:00",
                    "2023-04-25T00:00:00"
                  ],
                  "xaxis": "x",
                  "y": [
                    8,
                    4,
                    22,
                    28,
                    25,
                    47,
                    12,
                    20,
                    33,
                    35,
                    11,
                    14,
                    16,
                    19,
                    21,
                    14,
                    31,
                    22,
                    26,
                    16
                  ],
                  "yaxis": "y"
                }
              ],
              "layout": {
                "autosize": false,
                "height": 400,
                "legend": {
                  "tracegroupgap": 0
                },
                "template": {
                  "data": {
                    "candlestick": [
                      {
                        "decreasing": {
                          "line": {
                            "color": "#000033"
                          }
                        },
                        "increasing": {
                          "line": {
                            "color": "#000032"
                          }
                        },
                        "type": "candlestick"
                      }
                    ],
                    "contour": [
                      {
                        "colorscale": [
                          [
                            0,
                            "#000011"
                          ],
                          [
                            0.1111111111111111,
                            "#000012"
                          ],
                          [
                            0.2222222222222222,
                            "#000013"
                          ],
                          [
                            0.3333333333333333,
                            "#000014"
                          ],
                          [
                            0.4444444444444444,
                            "#000015"
                          ],
                          [
                            0.5555555555555556,
                            "#000016"
                          ],
                          [
                            0.6666666666666666,
                            "#000017"
                          ],
                          [
                            0.7777777777777778,
                            "#000018"
                          ],
                          [
                            0.8888888888888888,
                            "#000019"
                          ],
                          [
                            1,
                            "#000020"
                          ]
                        ],
                        "type": "contour"
                      }
                    ],
                    "contourcarpet": [
                      {
                        "colorscale": [
                          [
                            0,
                            "#000011"
                          ],
                          [
                            0.1111111111111111,
                            "#000012"
                          ],
                          [
                            0.2222222222222222,
                            "#000013"
                          ],
                          [
                            0.3333333333333333,
                            "#000014"
                          ],
                          [
                            0.4444444444444444,
                            "#000015"
                          ],
                          [
                            0.5555555555555556,
                            "#000016"
                          ],
                          [
                            0.6666666666666666,
                            "#000017"
                          ],
                          [
                            0.7777777777777778,
                            "#000018"
                          ],
                          [
                            0.8888888888888888,
                            "#000019"
                          ],
                          [
                            1,
                            "#000020"
                          ]
                        ],
                        "type": "contourcarpet"
                      }
                    ],
                    "heatmap": [
                      {
                        "colorscale": [
                          [
                            0,
                            "#000011"
                          ],
                          [
                            0.1111111111111111,
                            "#000012"
                          ],
                          [
                            0.2222222222222222,
                            "#000013"
                          ],
                          [
                            0.3333333333333333,
                            "#000014"
                          ],
                          [
                            0.4444444444444444,
                            "#000015"
                          ],
                          [
                            0.5555555555555556,
                            "#000016"
                          ],
                          [
                            0.6666666666666666,
                            "#000017"
                          ],
                          [
                            0.7777777777777778,
                            "#000018"
                          ],
                          [
                            0.8888888888888888,
                            "#000019"
                          ],
                          [
                            1,
                            "#000020"
                          ]
                        ],
                        "type": "heatmap"
                      }
                    ],
                    "histogram2d": [
                      {
                        "colorscale": [
                          [
                            0,
                            "#000011"
                          ],
                          [
                            0.1111111111111111,
                            "#000012"
                          ],
                          [
                            0.2222222222222222,
                            "#000013"
                          ],
                          [
                            0.3333333333333333,
                            "#000014"
                          ],
                          [
                            0.4444444444444444,
                            "#000015"
                          ],
                          [
                            0.5555555555555556,
                            "#000016"
                          ],
                          [
                            0.6666666666666666,
                            "#000017"
                          ],
                          [
                            0.7777777777777778,
                            "#000018"
                          ],
                          [
                            0.8888888888888888,
                            "#000019"
                          ],
                          [
                            1,
                            "#000020"
                          ]
                        ],
                        "type": "histogram2d"
                      }
                    ],
                    "icicle": [
                      {
                        "textfont": {
                          "color": "white"
                        },
                        "type": "icicle"
                      }
                    ],
                    "sankey": [
                      {
                        "textfont": {
                          "color": "#000036"
                        },
                        "type": "sankey"
                      }
                    ],
                    "scatter": [
                      {
                        "marker": {
                          "line": {
                            "width": 0
                          }
                        },
                        "type": "scatter"
                      }
                    ],
                    "table": [
                      {
                        "cells": {
                          "fill": {
                            "color": "#000038"
                          },
                          "font": {
                            "color": "#000037"
                          },
                          "line": {
                            "color": "#000039"
                          }
                        },
                        "header": {
                          "fill": {
                            "color": "#000040"
                          },
                          "font": {
                            "color": "#000036"
                          },
                          "line": {
                            "color": "#000039"
                          }
                        },
                        "type": "table"
                      }
                    ],
                    "waterfall": [
                      {
                        "connector": {
                          "line": {
                            "color": "#000036",
                            "width": 2
                          }
                        },
                        "decreasing": {
                          "marker": {
                            "color": "#000033"
                          }
                        },
                        "increasing": {
                          "marker": {
                            "color": "#000032"
                          }
                        },
                        "totals": {
                          "marker": {
                            "color": "#000034"
                          }
                        },
                        "type": "waterfall"
                      }
                    ]
                  },
                  "layout": {
                    "coloraxis": {
                      "colorscale": [
                        [
                          0,
                          "#000011"
                        ],
                        [
                          0.1111111111111111,
                          "#000012"
                        ],
                        [
                          0.2222222222222222,
                          "#000013"
                        ],
                        [
                          0.3333333333333333,
                          "#000014"
                        ],
                        [
                          0.4444444444444444,
                          "#000015"
                        ],
                        [
                          0.5555555555555556,
                          "#000016"
                        ],
                        [
                          0.6666666666666666,
                          "#000017"
                        ],
                        [
                          0.7777777777777778,
                          "#000018"
                        ],
                        [
                          0.8888888888888888,
                          "#000019"
                        ],
                        [
                          1,
                          "#000020"
                        ]
                      ]
                    },
                    "colorscale": {
                      "diverging": [
                        [
                          0,
                          "#000021"
                        ],
                        [
                          0.1,
                          "#000022"
                        ],
                        [
                          0.2,
                          "#000023"
                        ],
                        [
                          0.3,
                          "#000024"
                        ],
                        [
                          0.4,
                          "#000025"
                        ],
                        [
                          0.5,
                          "#000026"
                        ],
                        [
                          0.6,
                          "#000027"
                        ],
                        [
                          0.7,
                          "#000028"
                        ],
                        [
                          0.8,
                          "#000029"
                        ],
                        [
                          0.9,
                          "#000030"
                        ],
                        [
                          1,
                          "#000031"
                        ]
                      ],
                      "sequential": [
                        [
                          0,
                          "#000011"
                        ],
                        [
                          0.1111111111111111,
                          "#000012"
                        ],
                        [
                          0.2222222222222222,
                          "#000013"
                        ],
                        [
                          0.3333333333333333,
                          "#000014"
                        ],
                        [
                          0.4444444444444444,
                          "#000015"
                        ],
                        [
                          0.5555555555555556,
                          "#000016"
                        ],
                        [
                          0.6666666666666666,
                          "#000017"
                        ],
                        [
                          0.7777777777777778,
                          "#000018"
                        ],
                        [
                          0.8888888888888888,
                          "#000019"
                        ],
                        [
                          1,
                          "#000020"
                        ]
                      ],
                      "sequentialminus": [
                        [
                          0,
                          "#000011"
                        ],
                        [
                          0.1111111111111111,
                          "#000012"
                        ],
                        [
                          0.2222222222222222,
                          "#000013"
                        ],
                        [
                          0.3333333333333333,
                          "#000014"
                        ],
                        [
                          0.4444444444444444,
                          "#000015"
                        ],
                        [
                          0.5555555555555556,
                          "#000016"
                        ],
                        [
                          0.6666666666666666,
                          "#000017"
                        ],
                        [
                          0.7777777777777778,
                          "#000018"
                        ],
                        [
                          0.8888888888888888,
                          "#000019"
                        ],
                        [
                          1,
                          "#000020"
                        ]
                      ]
                    },
                    "colorway": [
                      "#000001",
                      "#000002",
                      "#000003",
                      "#000004",
                      "#000005",
                      "#000006",
                      "#000007",
                      "#000008",
                      "#000009",
                      "#000010"
                    ]
                  }
                },
                "title": {
                  "text": "pai"
                },
                "width": 600,
                "xaxis": {
                  "anchor": "y",
                  "domain": [
                    0,
                    1
                  ],
                  "title": {
                    "text": "dia"
                  }
                },
                "yaxis": {
                  "anchor": "x",
                  "domain": [
                    0,
                    1
                  ],
                  "title": {
                    "text": "pai"
                  }
                }
              }
            }
          },
          "metadata": {},
          "output_type": "display_data"
        },
        {
          "data": {
            "application/vnd.plotly.v1+json": {
              "config": {
                "plotlyServerURL": "https://plot.ly"
              },
              "data": [
                {
                  "hovertemplate": "dia=%{x}<br>calorias=%{y}<extra></extra>",
                  "legendgroup": "",
                  "line": {
                    "color": "rgb(103,0,31)"
                  },
                  "marker": {
                    "symbol": "circle"
                  },
                  "mode": "lines",
                  "name": "",
                  "orientation": "v",
                  "showlegend": false,
                  "stackgroup": "1",
                  "type": "scatter",
                  "x": [
                    "2023-06-21T00:00:00",
                    "2023-06-20T00:00:00",
                    "2023-06-20T00:00:00",
                    "2023-06-16T00:00:00",
                    "2023-06-14T00:00:00",
                    "2023-06-01T00:00:00",
                    "2023-05-30T00:00:00",
                    "2023-05-29T00:00:00",
                    "2023-05-26T00:00:00",
                    "2023-05-25T00:00:00",
                    "2023-05-22T00:00:00",
                    "2023-05-18T00:00:00",
                    "2023-05-16T00:00:00",
                    "2023-05-09T00:00:00",
                    "2023-05-08T00:00:00",
                    "2023-05-05T00:00:00",
                    "2023-05-03T00:00:00",
                    "2023-04-30T00:00:00",
                    "2023-04-26T00:00:00",
                    "2023-04-25T00:00:00"
                  ],
                  "xaxis": "x",
                  "y": [
                    451,
                    176,
                    651,
                    696,
                    742,
                    891,
                    657,
                    755,
                    813,
                    538,
                    325,
                    310,
                    264,
                    783,
                    560,
                    543,
                    880,
                    751,
                    821,
                    529
                  ],
                  "yaxis": "y"
                }
              ],
              "layout": {
                "autosize": false,
                "height": 400,
                "legend": {
                  "tracegroupgap": 0
                },
                "template": {
                  "data": {
                    "candlestick": [
                      {
                        "decreasing": {
                          "line": {
                            "color": "#000033"
                          }
                        },
                        "increasing": {
                          "line": {
                            "color": "#000032"
                          }
                        },
                        "type": "candlestick"
                      }
                    ],
                    "contour": [
                      {
                        "colorscale": [
                          [
                            0,
                            "#000011"
                          ],
                          [
                            0.1111111111111111,
                            "#000012"
                          ],
                          [
                            0.2222222222222222,
                            "#000013"
                          ],
                          [
                            0.3333333333333333,
                            "#000014"
                          ],
                          [
                            0.4444444444444444,
                            "#000015"
                          ],
                          [
                            0.5555555555555556,
                            "#000016"
                          ],
                          [
                            0.6666666666666666,
                            "#000017"
                          ],
                          [
                            0.7777777777777778,
                            "#000018"
                          ],
                          [
                            0.8888888888888888,
                            "#000019"
                          ],
                          [
                            1,
                            "#000020"
                          ]
                        ],
                        "type": "contour"
                      }
                    ],
                    "contourcarpet": [
                      {
                        "colorscale": [
                          [
                            0,
                            "#000011"
                          ],
                          [
                            0.1111111111111111,
                            "#000012"
                          ],
                          [
                            0.2222222222222222,
                            "#000013"
                          ],
                          [
                            0.3333333333333333,
                            "#000014"
                          ],
                          [
                            0.4444444444444444,
                            "#000015"
                          ],
                          [
                            0.5555555555555556,
                            "#000016"
                          ],
                          [
                            0.6666666666666666,
                            "#000017"
                          ],
                          [
                            0.7777777777777778,
                            "#000018"
                          ],
                          [
                            0.8888888888888888,
                            "#000019"
                          ],
                          [
                            1,
                            "#000020"
                          ]
                        ],
                        "type": "contourcarpet"
                      }
                    ],
                    "heatmap": [
                      {
                        "colorscale": [
                          [
                            0,
                            "#000011"
                          ],
                          [
                            0.1111111111111111,
                            "#000012"
                          ],
                          [
                            0.2222222222222222,
                            "#000013"
                          ],
                          [
                            0.3333333333333333,
                            "#000014"
                          ],
                          [
                            0.4444444444444444,
                            "#000015"
                          ],
                          [
                            0.5555555555555556,
                            "#000016"
                          ],
                          [
                            0.6666666666666666,
                            "#000017"
                          ],
                          [
                            0.7777777777777778,
                            "#000018"
                          ],
                          [
                            0.8888888888888888,
                            "#000019"
                          ],
                          [
                            1,
                            "#000020"
                          ]
                        ],
                        "type": "heatmap"
                      }
                    ],
                    "histogram2d": [
                      {
                        "colorscale": [
                          [
                            0,
                            "#000011"
                          ],
                          [
                            0.1111111111111111,
                            "#000012"
                          ],
                          [
                            0.2222222222222222,
                            "#000013"
                          ],
                          [
                            0.3333333333333333,
                            "#000014"
                          ],
                          [
                            0.4444444444444444,
                            "#000015"
                          ],
                          [
                            0.5555555555555556,
                            "#000016"
                          ],
                          [
                            0.6666666666666666,
                            "#000017"
                          ],
                          [
                            0.7777777777777778,
                            "#000018"
                          ],
                          [
                            0.8888888888888888,
                            "#000019"
                          ],
                          [
                            1,
                            "#000020"
                          ]
                        ],
                        "type": "histogram2d"
                      }
                    ],
                    "icicle": [
                      {
                        "textfont": {
                          "color": "white"
                        },
                        "type": "icicle"
                      }
                    ],
                    "sankey": [
                      {
                        "textfont": {
                          "color": "#000036"
                        },
                        "type": "sankey"
                      }
                    ],
                    "scatter": [
                      {
                        "marker": {
                          "line": {
                            "width": 0
                          }
                        },
                        "type": "scatter"
                      }
                    ],
                    "table": [
                      {
                        "cells": {
                          "fill": {
                            "color": "#000038"
                          },
                          "font": {
                            "color": "#000037"
                          },
                          "line": {
                            "color": "#000039"
                          }
                        },
                        "header": {
                          "fill": {
                            "color": "#000040"
                          },
                          "font": {
                            "color": "#000036"
                          },
                          "line": {
                            "color": "#000039"
                          }
                        },
                        "type": "table"
                      }
                    ],
                    "waterfall": [
                      {
                        "connector": {
                          "line": {
                            "color": "#000036",
                            "width": 2
                          }
                        },
                        "decreasing": {
                          "marker": {
                            "color": "#000033"
                          }
                        },
                        "increasing": {
                          "marker": {
                            "color": "#000032"
                          }
                        },
                        "totals": {
                          "marker": {
                            "color": "#000034"
                          }
                        },
                        "type": "waterfall"
                      }
                    ]
                  },
                  "layout": {
                    "coloraxis": {
                      "colorscale": [
                        [
                          0,
                          "#000011"
                        ],
                        [
                          0.1111111111111111,
                          "#000012"
                        ],
                        [
                          0.2222222222222222,
                          "#000013"
                        ],
                        [
                          0.3333333333333333,
                          "#000014"
                        ],
                        [
                          0.4444444444444444,
                          "#000015"
                        ],
                        [
                          0.5555555555555556,
                          "#000016"
                        ],
                        [
                          0.6666666666666666,
                          "#000017"
                        ],
                        [
                          0.7777777777777778,
                          "#000018"
                        ],
                        [
                          0.8888888888888888,
                          "#000019"
                        ],
                        [
                          1,
                          "#000020"
                        ]
                      ]
                    },
                    "colorscale": {
                      "diverging": [
                        [
                          0,
                          "#000021"
                        ],
                        [
                          0.1,
                          "#000022"
                        ],
                        [
                          0.2,
                          "#000023"
                        ],
                        [
                          0.3,
                          "#000024"
                        ],
                        [
                          0.4,
                          "#000025"
                        ],
                        [
                          0.5,
                          "#000026"
                        ],
                        [
                          0.6,
                          "#000027"
                        ],
                        [
                          0.7,
                          "#000028"
                        ],
                        [
                          0.8,
                          "#000029"
                        ],
                        [
                          0.9,
                          "#000030"
                        ],
                        [
                          1,
                          "#000031"
                        ]
                      ],
                      "sequential": [
                        [
                          0,
                          "#000011"
                        ],
                        [
                          0.1111111111111111,
                          "#000012"
                        ],
                        [
                          0.2222222222222222,
                          "#000013"
                        ],
                        [
                          0.3333333333333333,
                          "#000014"
                        ],
                        [
                          0.4444444444444444,
                          "#000015"
                        ],
                        [
                          0.5555555555555556,
                          "#000016"
                        ],
                        [
                          0.6666666666666666,
                          "#000017"
                        ],
                        [
                          0.7777777777777778,
                          "#000018"
                        ],
                        [
                          0.8888888888888888,
                          "#000019"
                        ],
                        [
                          1,
                          "#000020"
                        ]
                      ],
                      "sequentialminus": [
                        [
                          0,
                          "#000011"
                        ],
                        [
                          0.1111111111111111,
                          "#000012"
                        ],
                        [
                          0.2222222222222222,
                          "#000013"
                        ],
                        [
                          0.3333333333333333,
                          "#000014"
                        ],
                        [
                          0.4444444444444444,
                          "#000015"
                        ],
                        [
                          0.5555555555555556,
                          "#000016"
                        ],
                        [
                          0.6666666666666666,
                          "#000017"
                        ],
                        [
                          0.7777777777777778,
                          "#000018"
                        ],
                        [
                          0.8888888888888888,
                          "#000019"
                        ],
                        [
                          1,
                          "#000020"
                        ]
                      ]
                    },
                    "colorway": [
                      "#000001",
                      "#000002",
                      "#000003",
                      "#000004",
                      "#000005",
                      "#000006",
                      "#000007",
                      "#000008",
                      "#000009",
                      "#000010"
                    ]
                  }
                },
                "title": {
                  "text": "calorias"
                },
                "width": 600,
                "xaxis": {
                  "anchor": "y",
                  "domain": [
                    0,
                    1
                  ],
                  "title": {
                    "text": "dia"
                  }
                },
                "yaxis": {
                  "anchor": "x",
                  "domain": [
                    0,
                    1
                  ],
                  "title": {
                    "text": "calorias"
                  }
                }
              }
            }
          },
          "metadata": {},
          "output_type": "display_data"
        },
        {
          "data": {
            "application/vnd.plotly.v1+json": {
              "config": {
                "plotlyServerURL": "https://plot.ly"
              },
              "data": [
                {
                  "hovertemplate": "dia=%{x}<br>tempo_jogado=%{y}<extra></extra>",
                  "legendgroup": "",
                  "line": {
                    "color": "rgb(103,0,31)"
                  },
                  "marker": {
                    "symbol": "circle"
                  },
                  "mode": "lines",
                  "name": "",
                  "orientation": "v",
                  "showlegend": false,
                  "stackgroup": "1",
                  "type": "scatter",
                  "x": [
                    "2023-06-21T00:00:00",
                    "2023-06-20T00:00:00",
                    "2023-06-20T00:00:00",
                    "2023-06-16T00:00:00",
                    "2023-06-14T00:00:00",
                    "2023-06-01T00:00:00",
                    "2023-05-30T00:00:00",
                    "2023-05-29T00:00:00",
                    "2023-05-26T00:00:00",
                    "2023-05-25T00:00:00",
                    "2023-05-22T00:00:00",
                    "2023-05-18T00:00:00",
                    "2023-05-16T00:00:00",
                    "2023-05-09T00:00:00",
                    "2023-05-08T00:00:00",
                    "2023-05-05T00:00:00",
                    "2023-05-03T00:00:00",
                    "2023-04-30T00:00:00",
                    "2023-04-26T00:00:00",
                    "2023-04-25T00:00:00"
                  ],
                  "xaxis": "x",
                  "y": [
                    48,
                    18,
                    61,
                    61,
                    68,
                    78,
                    67,
                    65,
                    74,
                    50,
                    30,
                    30,
                    22,
                    78,
                    51,
                    50,
                    84,
                    69,
                    73,
                    50
                  ],
                  "yaxis": "y"
                }
              ],
              "layout": {
                "autosize": false,
                "height": 400,
                "legend": {
                  "tracegroupgap": 0
                },
                "template": {
                  "data": {
                    "candlestick": [
                      {
                        "decreasing": {
                          "line": {
                            "color": "#000033"
                          }
                        },
                        "increasing": {
                          "line": {
                            "color": "#000032"
                          }
                        },
                        "type": "candlestick"
                      }
                    ],
                    "contour": [
                      {
                        "colorscale": [
                          [
                            0,
                            "#000011"
                          ],
                          [
                            0.1111111111111111,
                            "#000012"
                          ],
                          [
                            0.2222222222222222,
                            "#000013"
                          ],
                          [
                            0.3333333333333333,
                            "#000014"
                          ],
                          [
                            0.4444444444444444,
                            "#000015"
                          ],
                          [
                            0.5555555555555556,
                            "#000016"
                          ],
                          [
                            0.6666666666666666,
                            "#000017"
                          ],
                          [
                            0.7777777777777778,
                            "#000018"
                          ],
                          [
                            0.8888888888888888,
                            "#000019"
                          ],
                          [
                            1,
                            "#000020"
                          ]
                        ],
                        "type": "contour"
                      }
                    ],
                    "contourcarpet": [
                      {
                        "colorscale": [
                          [
                            0,
                            "#000011"
                          ],
                          [
                            0.1111111111111111,
                            "#000012"
                          ],
                          [
                            0.2222222222222222,
                            "#000013"
                          ],
                          [
                            0.3333333333333333,
                            "#000014"
                          ],
                          [
                            0.4444444444444444,
                            "#000015"
                          ],
                          [
                            0.5555555555555556,
                            "#000016"
                          ],
                          [
                            0.6666666666666666,
                            "#000017"
                          ],
                          [
                            0.7777777777777778,
                            "#000018"
                          ],
                          [
                            0.8888888888888888,
                            "#000019"
                          ],
                          [
                            1,
                            "#000020"
                          ]
                        ],
                        "type": "contourcarpet"
                      }
                    ],
                    "heatmap": [
                      {
                        "colorscale": [
                          [
                            0,
                            "#000011"
                          ],
                          [
                            0.1111111111111111,
                            "#000012"
                          ],
                          [
                            0.2222222222222222,
                            "#000013"
                          ],
                          [
                            0.3333333333333333,
                            "#000014"
                          ],
                          [
                            0.4444444444444444,
                            "#000015"
                          ],
                          [
                            0.5555555555555556,
                            "#000016"
                          ],
                          [
                            0.6666666666666666,
                            "#000017"
                          ],
                          [
                            0.7777777777777778,
                            "#000018"
                          ],
                          [
                            0.8888888888888888,
                            "#000019"
                          ],
                          [
                            1,
                            "#000020"
                          ]
                        ],
                        "type": "heatmap"
                      }
                    ],
                    "histogram2d": [
                      {
                        "colorscale": [
                          [
                            0,
                            "#000011"
                          ],
                          [
                            0.1111111111111111,
                            "#000012"
                          ],
                          [
                            0.2222222222222222,
                            "#000013"
                          ],
                          [
                            0.3333333333333333,
                            "#000014"
                          ],
                          [
                            0.4444444444444444,
                            "#000015"
                          ],
                          [
                            0.5555555555555556,
                            "#000016"
                          ],
                          [
                            0.6666666666666666,
                            "#000017"
                          ],
                          [
                            0.7777777777777778,
                            "#000018"
                          ],
                          [
                            0.8888888888888888,
                            "#000019"
                          ],
                          [
                            1,
                            "#000020"
                          ]
                        ],
                        "type": "histogram2d"
                      }
                    ],
                    "icicle": [
                      {
                        "textfont": {
                          "color": "white"
                        },
                        "type": "icicle"
                      }
                    ],
                    "sankey": [
                      {
                        "textfont": {
                          "color": "#000036"
                        },
                        "type": "sankey"
                      }
                    ],
                    "scatter": [
                      {
                        "marker": {
                          "line": {
                            "width": 0
                          }
                        },
                        "type": "scatter"
                      }
                    ],
                    "table": [
                      {
                        "cells": {
                          "fill": {
                            "color": "#000038"
                          },
                          "font": {
                            "color": "#000037"
                          },
                          "line": {
                            "color": "#000039"
                          }
                        },
                        "header": {
                          "fill": {
                            "color": "#000040"
                          },
                          "font": {
                            "color": "#000036"
                          },
                          "line": {
                            "color": "#000039"
                          }
                        },
                        "type": "table"
                      }
                    ],
                    "waterfall": [
                      {
                        "connector": {
                          "line": {
                            "color": "#000036",
                            "width": 2
                          }
                        },
                        "decreasing": {
                          "marker": {
                            "color": "#000033"
                          }
                        },
                        "increasing": {
                          "marker": {
                            "color": "#000032"
                          }
                        },
                        "totals": {
                          "marker": {
                            "color": "#000034"
                          }
                        },
                        "type": "waterfall"
                      }
                    ]
                  },
                  "layout": {
                    "coloraxis": {
                      "colorscale": [
                        [
                          0,
                          "#000011"
                        ],
                        [
                          0.1111111111111111,
                          "#000012"
                        ],
                        [
                          0.2222222222222222,
                          "#000013"
                        ],
                        [
                          0.3333333333333333,
                          "#000014"
                        ],
                        [
                          0.4444444444444444,
                          "#000015"
                        ],
                        [
                          0.5555555555555556,
                          "#000016"
                        ],
                        [
                          0.6666666666666666,
                          "#000017"
                        ],
                        [
                          0.7777777777777778,
                          "#000018"
                        ],
                        [
                          0.8888888888888888,
                          "#000019"
                        ],
                        [
                          1,
                          "#000020"
                        ]
                      ]
                    },
                    "colorscale": {
                      "diverging": [
                        [
                          0,
                          "#000021"
                        ],
                        [
                          0.1,
                          "#000022"
                        ],
                        [
                          0.2,
                          "#000023"
                        ],
                        [
                          0.3,
                          "#000024"
                        ],
                        [
                          0.4,
                          "#000025"
                        ],
                        [
                          0.5,
                          "#000026"
                        ],
                        [
                          0.6,
                          "#000027"
                        ],
                        [
                          0.7,
                          "#000028"
                        ],
                        [
                          0.8,
                          "#000029"
                        ],
                        [
                          0.9,
                          "#000030"
                        ],
                        [
                          1,
                          "#000031"
                        ]
                      ],
                      "sequential": [
                        [
                          0,
                          "#000011"
                        ],
                        [
                          0.1111111111111111,
                          "#000012"
                        ],
                        [
                          0.2222222222222222,
                          "#000013"
                        ],
                        [
                          0.3333333333333333,
                          "#000014"
                        ],
                        [
                          0.4444444444444444,
                          "#000015"
                        ],
                        [
                          0.5555555555555556,
                          "#000016"
                        ],
                        [
                          0.6666666666666666,
                          "#000017"
                        ],
                        [
                          0.7777777777777778,
                          "#000018"
                        ],
                        [
                          0.8888888888888888,
                          "#000019"
                        ],
                        [
                          1,
                          "#000020"
                        ]
                      ],
                      "sequentialminus": [
                        [
                          0,
                          "#000011"
                        ],
                        [
                          0.1111111111111111,
                          "#000012"
                        ],
                        [
                          0.2222222222222222,
                          "#000013"
                        ],
                        [
                          0.3333333333333333,
                          "#000014"
                        ],
                        [
                          0.4444444444444444,
                          "#000015"
                        ],
                        [
                          0.5555555555555556,
                          "#000016"
                        ],
                        [
                          0.6666666666666666,
                          "#000017"
                        ],
                        [
                          0.7777777777777778,
                          "#000018"
                        ],
                        [
                          0.8888888888888888,
                          "#000019"
                        ],
                        [
                          1,
                          "#000020"
                        ]
                      ]
                    },
                    "colorway": [
                      "#000001",
                      "#000002",
                      "#000003",
                      "#000004",
                      "#000005",
                      "#000006",
                      "#000007",
                      "#000008",
                      "#000009",
                      "#000010"
                    ]
                  }
                },
                "title": {
                  "text": "tempo_jogado"
                },
                "width": 600,
                "xaxis": {
                  "anchor": "y",
                  "domain": [
                    0,
                    1
                  ],
                  "title": {
                    "text": "dia"
                  }
                },
                "yaxis": {
                  "anchor": "x",
                  "domain": [
                    0,
                    1
                  ],
                  "title": {
                    "text": "tempo_jogado"
                  }
                }
              }
            }
          },
          "metadata": {},
          "output_type": "display_data"
        },
        {
          "data": {
            "application/vnd.plotly.v1+json": {
              "config": {
                "plotlyServerURL": "https://plot.ly"
              },
              "data": [
                {
                  "hovertemplate": "dia=%{x}<br>animo_pra_jogar=%{y}<extra></extra>",
                  "legendgroup": "",
                  "line": {
                    "color": "rgb(103,0,31)"
                  },
                  "marker": {
                    "symbol": "circle"
                  },
                  "mode": "lines",
                  "name": "",
                  "orientation": "v",
                  "showlegend": false,
                  "stackgroup": "1",
                  "type": "scatter",
                  "x": [
                    "2023-06-21T00:00:00",
                    "2023-06-20T00:00:00",
                    "2023-06-20T00:00:00",
                    "2023-06-16T00:00:00",
                    "2023-06-14T00:00:00",
                    "2023-06-01T00:00:00",
                    "2023-05-30T00:00:00",
                    "2023-05-29T00:00:00",
                    "2023-05-26T00:00:00",
                    "2023-05-25T00:00:00",
                    "2023-05-22T00:00:00",
                    "2023-05-18T00:00:00",
                    "2023-05-16T00:00:00",
                    "2023-05-09T00:00:00",
                    "2023-05-08T00:00:00",
                    "2023-05-05T00:00:00",
                    "2023-05-03T00:00:00",
                    "2023-04-30T00:00:00",
                    "2023-04-26T00:00:00",
                    "2023-04-25T00:00:00"
                  ],
                  "xaxis": "x",
                  "y": [
                    8,
                    10,
                    8,
                    8,
                    9,
                    9,
                    5,
                    8,
                    8,
                    8,
                    6,
                    null,
                    null,
                    null,
                    null,
                    null,
                    null,
                    null,
                    null,
                    null
                  ],
                  "yaxis": "y"
                }
              ],
              "layout": {
                "autosize": false,
                "height": 400,
                "legend": {
                  "tracegroupgap": 0
                },
                "template": {
                  "data": {
                    "candlestick": [
                      {
                        "decreasing": {
                          "line": {
                            "color": "#000033"
                          }
                        },
                        "increasing": {
                          "line": {
                            "color": "#000032"
                          }
                        },
                        "type": "candlestick"
                      }
                    ],
                    "contour": [
                      {
                        "colorscale": [
                          [
                            0,
                            "#000011"
                          ],
                          [
                            0.1111111111111111,
                            "#000012"
                          ],
                          [
                            0.2222222222222222,
                            "#000013"
                          ],
                          [
                            0.3333333333333333,
                            "#000014"
                          ],
                          [
                            0.4444444444444444,
                            "#000015"
                          ],
                          [
                            0.5555555555555556,
                            "#000016"
                          ],
                          [
                            0.6666666666666666,
                            "#000017"
                          ],
                          [
                            0.7777777777777778,
                            "#000018"
                          ],
                          [
                            0.8888888888888888,
                            "#000019"
                          ],
                          [
                            1,
                            "#000020"
                          ]
                        ],
                        "type": "contour"
                      }
                    ],
                    "contourcarpet": [
                      {
                        "colorscale": [
                          [
                            0,
                            "#000011"
                          ],
                          [
                            0.1111111111111111,
                            "#000012"
                          ],
                          [
                            0.2222222222222222,
                            "#000013"
                          ],
                          [
                            0.3333333333333333,
                            "#000014"
                          ],
                          [
                            0.4444444444444444,
                            "#000015"
                          ],
                          [
                            0.5555555555555556,
                            "#000016"
                          ],
                          [
                            0.6666666666666666,
                            "#000017"
                          ],
                          [
                            0.7777777777777778,
                            "#000018"
                          ],
                          [
                            0.8888888888888888,
                            "#000019"
                          ],
                          [
                            1,
                            "#000020"
                          ]
                        ],
                        "type": "contourcarpet"
                      }
                    ],
                    "heatmap": [
                      {
                        "colorscale": [
                          [
                            0,
                            "#000011"
                          ],
                          [
                            0.1111111111111111,
                            "#000012"
                          ],
                          [
                            0.2222222222222222,
                            "#000013"
                          ],
                          [
                            0.3333333333333333,
                            "#000014"
                          ],
                          [
                            0.4444444444444444,
                            "#000015"
                          ],
                          [
                            0.5555555555555556,
                            "#000016"
                          ],
                          [
                            0.6666666666666666,
                            "#000017"
                          ],
                          [
                            0.7777777777777778,
                            "#000018"
                          ],
                          [
                            0.8888888888888888,
                            "#000019"
                          ],
                          [
                            1,
                            "#000020"
                          ]
                        ],
                        "type": "heatmap"
                      }
                    ],
                    "histogram2d": [
                      {
                        "colorscale": [
                          [
                            0,
                            "#000011"
                          ],
                          [
                            0.1111111111111111,
                            "#000012"
                          ],
                          [
                            0.2222222222222222,
                            "#000013"
                          ],
                          [
                            0.3333333333333333,
                            "#000014"
                          ],
                          [
                            0.4444444444444444,
                            "#000015"
                          ],
                          [
                            0.5555555555555556,
                            "#000016"
                          ],
                          [
                            0.6666666666666666,
                            "#000017"
                          ],
                          [
                            0.7777777777777778,
                            "#000018"
                          ],
                          [
                            0.8888888888888888,
                            "#000019"
                          ],
                          [
                            1,
                            "#000020"
                          ]
                        ],
                        "type": "histogram2d"
                      }
                    ],
                    "icicle": [
                      {
                        "textfont": {
                          "color": "white"
                        },
                        "type": "icicle"
                      }
                    ],
                    "sankey": [
                      {
                        "textfont": {
                          "color": "#000036"
                        },
                        "type": "sankey"
                      }
                    ],
                    "scatter": [
                      {
                        "marker": {
                          "line": {
                            "width": 0
                          }
                        },
                        "type": "scatter"
                      }
                    ],
                    "table": [
                      {
                        "cells": {
                          "fill": {
                            "color": "#000038"
                          },
                          "font": {
                            "color": "#000037"
                          },
                          "line": {
                            "color": "#000039"
                          }
                        },
                        "header": {
                          "fill": {
                            "color": "#000040"
                          },
                          "font": {
                            "color": "#000036"
                          },
                          "line": {
                            "color": "#000039"
                          }
                        },
                        "type": "table"
                      }
                    ],
                    "waterfall": [
                      {
                        "connector": {
                          "line": {
                            "color": "#000036",
                            "width": 2
                          }
                        },
                        "decreasing": {
                          "marker": {
                            "color": "#000033"
                          }
                        },
                        "increasing": {
                          "marker": {
                            "color": "#000032"
                          }
                        },
                        "totals": {
                          "marker": {
                            "color": "#000034"
                          }
                        },
                        "type": "waterfall"
                      }
                    ]
                  },
                  "layout": {
                    "coloraxis": {
                      "colorscale": [
                        [
                          0,
                          "#000011"
                        ],
                        [
                          0.1111111111111111,
                          "#000012"
                        ],
                        [
                          0.2222222222222222,
                          "#000013"
                        ],
                        [
                          0.3333333333333333,
                          "#000014"
                        ],
                        [
                          0.4444444444444444,
                          "#000015"
                        ],
                        [
                          0.5555555555555556,
                          "#000016"
                        ],
                        [
                          0.6666666666666666,
                          "#000017"
                        ],
                        [
                          0.7777777777777778,
                          "#000018"
                        ],
                        [
                          0.8888888888888888,
                          "#000019"
                        ],
                        [
                          1,
                          "#000020"
                        ]
                      ]
                    },
                    "colorscale": {
                      "diverging": [
                        [
                          0,
                          "#000021"
                        ],
                        [
                          0.1,
                          "#000022"
                        ],
                        [
                          0.2,
                          "#000023"
                        ],
                        [
                          0.3,
                          "#000024"
                        ],
                        [
                          0.4,
                          "#000025"
                        ],
                        [
                          0.5,
                          "#000026"
                        ],
                        [
                          0.6,
                          "#000027"
                        ],
                        [
                          0.7,
                          "#000028"
                        ],
                        [
                          0.8,
                          "#000029"
                        ],
                        [
                          0.9,
                          "#000030"
                        ],
                        [
                          1,
                          "#000031"
                        ]
                      ],
                      "sequential": [
                        [
                          0,
                          "#000011"
                        ],
                        [
                          0.1111111111111111,
                          "#000012"
                        ],
                        [
                          0.2222222222222222,
                          "#000013"
                        ],
                        [
                          0.3333333333333333,
                          "#000014"
                        ],
                        [
                          0.4444444444444444,
                          "#000015"
                        ],
                        [
                          0.5555555555555556,
                          "#000016"
                        ],
                        [
                          0.6666666666666666,
                          "#000017"
                        ],
                        [
                          0.7777777777777778,
                          "#000018"
                        ],
                        [
                          0.8888888888888888,
                          "#000019"
                        ],
                        [
                          1,
                          "#000020"
                        ]
                      ],
                      "sequentialminus": [
                        [
                          0,
                          "#000011"
                        ],
                        [
                          0.1111111111111111,
                          "#000012"
                        ],
                        [
                          0.2222222222222222,
                          "#000013"
                        ],
                        [
                          0.3333333333333333,
                          "#000014"
                        ],
                        [
                          0.4444444444444444,
                          "#000015"
                        ],
                        [
                          0.5555555555555556,
                          "#000016"
                        ],
                        [
                          0.6666666666666666,
                          "#000017"
                        ],
                        [
                          0.7777777777777778,
                          "#000018"
                        ],
                        [
                          0.8888888888888888,
                          "#000019"
                        ],
                        [
                          1,
                          "#000020"
                        ]
                      ]
                    },
                    "colorway": [
                      "#000001",
                      "#000002",
                      "#000003",
                      "#000004",
                      "#000005",
                      "#000006",
                      "#000007",
                      "#000008",
                      "#000009",
                      "#000010"
                    ]
                  }
                },
                "title": {
                  "text": "animo_pra_jogar"
                },
                "width": 600,
                "xaxis": {
                  "anchor": "y",
                  "domain": [
                    0,
                    1
                  ],
                  "title": {
                    "text": "dia"
                  }
                },
                "yaxis": {
                  "anchor": "x",
                  "domain": [
                    0,
                    1
                  ],
                  "title": {
                    "text": "animo_pra_jogar"
                  }
                }
              }
            }
          },
          "metadata": {},
          "output_type": "display_data"
        },
        {
          "data": {
            "application/vnd.plotly.v1+json": {
              "config": {
                "plotlyServerURL": "https://plot.ly"
              },
              "data": [
                {
                  "hovertemplate": "dia=%{x}<br>calorias_por_min=%{y}<extra></extra>",
                  "legendgroup": "",
                  "line": {
                    "color": "rgb(103,0,31)"
                  },
                  "marker": {
                    "symbol": "circle"
                  },
                  "mode": "lines",
                  "name": "",
                  "orientation": "v",
                  "showlegend": false,
                  "stackgroup": "1",
                  "type": "scatter",
                  "x": [
                    "2023-06-21T00:00:00",
                    "2023-06-20T00:00:00",
                    "2023-06-20T00:00:00",
                    "2023-06-16T00:00:00",
                    "2023-06-14T00:00:00",
                    "2023-06-01T00:00:00",
                    "2023-05-30T00:00:00",
                    "2023-05-29T00:00:00",
                    "2023-05-26T00:00:00",
                    "2023-05-25T00:00:00",
                    "2023-05-22T00:00:00",
                    "2023-05-18T00:00:00",
                    "2023-05-16T00:00:00",
                    "2023-05-09T00:00:00",
                    "2023-05-08T00:00:00",
                    "2023-05-05T00:00:00",
                    "2023-05-03T00:00:00",
                    "2023-04-30T00:00:00",
                    "2023-04-26T00:00:00",
                    "2023-04-25T00:00:00"
                  ],
                  "xaxis": "x",
                  "y": [
                    9.395833333333334,
                    9.777777777777779,
                    10.672131147540984,
                    11.40983606557377,
                    10.911764705882353,
                    11.423076923076923,
                    9.805970149253731,
                    11.615384615384615,
                    10.986486486486486,
                    10.76,
                    10.833333333333334,
                    10.333333333333334,
                    12,
                    10.038461538461538,
                    10.980392156862745,
                    10.86,
                    10.476190476190476,
                    10.884057971014492,
                    11.246575342465754,
                    10.58
                  ],
                  "yaxis": "y"
                }
              ],
              "layout": {
                "autosize": false,
                "height": 400,
                "legend": {
                  "tracegroupgap": 0
                },
                "template": {
                  "data": {
                    "candlestick": [
                      {
                        "decreasing": {
                          "line": {
                            "color": "#000033"
                          }
                        },
                        "increasing": {
                          "line": {
                            "color": "#000032"
                          }
                        },
                        "type": "candlestick"
                      }
                    ],
                    "contour": [
                      {
                        "colorscale": [
                          [
                            0,
                            "#000011"
                          ],
                          [
                            0.1111111111111111,
                            "#000012"
                          ],
                          [
                            0.2222222222222222,
                            "#000013"
                          ],
                          [
                            0.3333333333333333,
                            "#000014"
                          ],
                          [
                            0.4444444444444444,
                            "#000015"
                          ],
                          [
                            0.5555555555555556,
                            "#000016"
                          ],
                          [
                            0.6666666666666666,
                            "#000017"
                          ],
                          [
                            0.7777777777777778,
                            "#000018"
                          ],
                          [
                            0.8888888888888888,
                            "#000019"
                          ],
                          [
                            1,
                            "#000020"
                          ]
                        ],
                        "type": "contour"
                      }
                    ],
                    "contourcarpet": [
                      {
                        "colorscale": [
                          [
                            0,
                            "#000011"
                          ],
                          [
                            0.1111111111111111,
                            "#000012"
                          ],
                          [
                            0.2222222222222222,
                            "#000013"
                          ],
                          [
                            0.3333333333333333,
                            "#000014"
                          ],
                          [
                            0.4444444444444444,
                            "#000015"
                          ],
                          [
                            0.5555555555555556,
                            "#000016"
                          ],
                          [
                            0.6666666666666666,
                            "#000017"
                          ],
                          [
                            0.7777777777777778,
                            "#000018"
                          ],
                          [
                            0.8888888888888888,
                            "#000019"
                          ],
                          [
                            1,
                            "#000020"
                          ]
                        ],
                        "type": "contourcarpet"
                      }
                    ],
                    "heatmap": [
                      {
                        "colorscale": [
                          [
                            0,
                            "#000011"
                          ],
                          [
                            0.1111111111111111,
                            "#000012"
                          ],
                          [
                            0.2222222222222222,
                            "#000013"
                          ],
                          [
                            0.3333333333333333,
                            "#000014"
                          ],
                          [
                            0.4444444444444444,
                            "#000015"
                          ],
                          [
                            0.5555555555555556,
                            "#000016"
                          ],
                          [
                            0.6666666666666666,
                            "#000017"
                          ],
                          [
                            0.7777777777777778,
                            "#000018"
                          ],
                          [
                            0.8888888888888888,
                            "#000019"
                          ],
                          [
                            1,
                            "#000020"
                          ]
                        ],
                        "type": "heatmap"
                      }
                    ],
                    "histogram2d": [
                      {
                        "colorscale": [
                          [
                            0,
                            "#000011"
                          ],
                          [
                            0.1111111111111111,
                            "#000012"
                          ],
                          [
                            0.2222222222222222,
                            "#000013"
                          ],
                          [
                            0.3333333333333333,
                            "#000014"
                          ],
                          [
                            0.4444444444444444,
                            "#000015"
                          ],
                          [
                            0.5555555555555556,
                            "#000016"
                          ],
                          [
                            0.6666666666666666,
                            "#000017"
                          ],
                          [
                            0.7777777777777778,
                            "#000018"
                          ],
                          [
                            0.8888888888888888,
                            "#000019"
                          ],
                          [
                            1,
                            "#000020"
                          ]
                        ],
                        "type": "histogram2d"
                      }
                    ],
                    "icicle": [
                      {
                        "textfont": {
                          "color": "white"
                        },
                        "type": "icicle"
                      }
                    ],
                    "sankey": [
                      {
                        "textfont": {
                          "color": "#000036"
                        },
                        "type": "sankey"
                      }
                    ],
                    "scatter": [
                      {
                        "marker": {
                          "line": {
                            "width": 0
                          }
                        },
                        "type": "scatter"
                      }
                    ],
                    "table": [
                      {
                        "cells": {
                          "fill": {
                            "color": "#000038"
                          },
                          "font": {
                            "color": "#000037"
                          },
                          "line": {
                            "color": "#000039"
                          }
                        },
                        "header": {
                          "fill": {
                            "color": "#000040"
                          },
                          "font": {
                            "color": "#000036"
                          },
                          "line": {
                            "color": "#000039"
                          }
                        },
                        "type": "table"
                      }
                    ],
                    "waterfall": [
                      {
                        "connector": {
                          "line": {
                            "color": "#000036",
                            "width": 2
                          }
                        },
                        "decreasing": {
                          "marker": {
                            "color": "#000033"
                          }
                        },
                        "increasing": {
                          "marker": {
                            "color": "#000032"
                          }
                        },
                        "totals": {
                          "marker": {
                            "color": "#000034"
                          }
                        },
                        "type": "waterfall"
                      }
                    ]
                  },
                  "layout": {
                    "coloraxis": {
                      "colorscale": [
                        [
                          0,
                          "#000011"
                        ],
                        [
                          0.1111111111111111,
                          "#000012"
                        ],
                        [
                          0.2222222222222222,
                          "#000013"
                        ],
                        [
                          0.3333333333333333,
                          "#000014"
                        ],
                        [
                          0.4444444444444444,
                          "#000015"
                        ],
                        [
                          0.5555555555555556,
                          "#000016"
                        ],
                        [
                          0.6666666666666666,
                          "#000017"
                        ],
                        [
                          0.7777777777777778,
                          "#000018"
                        ],
                        [
                          0.8888888888888888,
                          "#000019"
                        ],
                        [
                          1,
                          "#000020"
                        ]
                      ]
                    },
                    "colorscale": {
                      "diverging": [
                        [
                          0,
                          "#000021"
                        ],
                        [
                          0.1,
                          "#000022"
                        ],
                        [
                          0.2,
                          "#000023"
                        ],
                        [
                          0.3,
                          "#000024"
                        ],
                        [
                          0.4,
                          "#000025"
                        ],
                        [
                          0.5,
                          "#000026"
                        ],
                        [
                          0.6,
                          "#000027"
                        ],
                        [
                          0.7,
                          "#000028"
                        ],
                        [
                          0.8,
                          "#000029"
                        ],
                        [
                          0.9,
                          "#000030"
                        ],
                        [
                          1,
                          "#000031"
                        ]
                      ],
                      "sequential": [
                        [
                          0,
                          "#000011"
                        ],
                        [
                          0.1111111111111111,
                          "#000012"
                        ],
                        [
                          0.2222222222222222,
                          "#000013"
                        ],
                        [
                          0.3333333333333333,
                          "#000014"
                        ],
                        [
                          0.4444444444444444,
                          "#000015"
                        ],
                        [
                          0.5555555555555556,
                          "#000016"
                        ],
                        [
                          0.6666666666666666,
                          "#000017"
                        ],
                        [
                          0.7777777777777778,
                          "#000018"
                        ],
                        [
                          0.8888888888888888,
                          "#000019"
                        ],
                        [
                          1,
                          "#000020"
                        ]
                      ],
                      "sequentialminus": [
                        [
                          0,
                          "#000011"
                        ],
                        [
                          0.1111111111111111,
                          "#000012"
                        ],
                        [
                          0.2222222222222222,
                          "#000013"
                        ],
                        [
                          0.3333333333333333,
                          "#000014"
                        ],
                        [
                          0.4444444444444444,
                          "#000015"
                        ],
                        [
                          0.5555555555555556,
                          "#000016"
                        ],
                        [
                          0.6666666666666666,
                          "#000017"
                        ],
                        [
                          0.7777777777777778,
                          "#000018"
                        ],
                        [
                          0.8888888888888888,
                          "#000019"
                        ],
                        [
                          1,
                          "#000020"
                        ]
                      ]
                    },
                    "colorway": [
                      "#000001",
                      "#000002",
                      "#000003",
                      "#000004",
                      "#000005",
                      "#000006",
                      "#000007",
                      "#000008",
                      "#000009",
                      "#000010"
                    ]
                  }
                },
                "title": {
                  "text": "calorias_por_min"
                },
                "width": 600,
                "xaxis": {
                  "anchor": "y",
                  "domain": [
                    0,
                    1
                  ],
                  "title": {
                    "text": "dia"
                  }
                },
                "yaxis": {
                  "anchor": "x",
                  "domain": [
                    0,
                    1
                  ],
                  "title": {
                    "text": "calorias_por_min"
                  }
                }
              }
            }
          },
          "metadata": {},
          "output_type": "display_data"
        }
      ],
      "source": [
        "df_data_list_fred_colunas_numericas = ['tempo_de_descanso','nota','pai','calorias','tempo_jogado','animo_pra_jogar', 'calorias_por_min']\n",
        "for column in df_data_list_fred_colunas_numericas:\n",
        "    fig = px.area(df, \n",
        "                  x='dia', \n",
        "                  y=column, \n",
        "                  title=column,\n",
        "                  color_discrete_sequence=px.colors.sequential.RdBu)\n",
        "    fig.update_layout(\n",
        "    autosize=False,\n",
        "    width=600,  # Set the desired width of the plot\n",
        "    height=400  # Set the desired height of the plot\n",
        "    )\n",
        "    # fig.update_traces(patch = {\"line_shape\":\"spline\"})\n",
        "    fig.show()"
      ]
    },
    {
      "attachments": {},
      "cell_type": "markdown",
      "metadata": {},
      "source": [
        "#### O que afeta o número de calorias?"
      ]
    },
    {
      "cell_type": "code",
      "execution_count": null,
      "metadata": {},
      "outputs": [
        {
          "data": {
            "application/vnd.plotly.v1+json": {
              "config": {
                "plotlyServerURL": "https://plot.ly"
              },
              "data": [
                {
                  "hovertemplate": "tempo_jogado=%{x}<br>calorias=%{y}<extra></extra>",
                  "legendgroup": "",
                  "marker": {
                    "color": "rgb(103,0,31)",
                    "symbol": "circle"
                  },
                  "mode": "markers",
                  "name": "",
                  "orientation": "v",
                  "showlegend": false,
                  "type": "scatter",
                  "x": [
                    48,
                    18,
                    61,
                    61,
                    68,
                    78,
                    67,
                    65,
                    74,
                    50,
                    30,
                    30,
                    22,
                    78,
                    51,
                    50,
                    84,
                    69,
                    73,
                    50
                  ],
                  "xaxis": "x",
                  "y": [
                    451,
                    176,
                    651,
                    696,
                    742,
                    891,
                    657,
                    755,
                    813,
                    538,
                    325,
                    310,
                    264,
                    783,
                    560,
                    543,
                    880,
                    751,
                    821,
                    529
                  ],
                  "yaxis": "y"
                }
              ],
              "layout": {
                "height": 400,
                "legend": {
                  "tracegroupgap": 0
                },
                "margin": {
                  "t": 60
                },
                "template": {
                  "data": {
                    "candlestick": [
                      {
                        "decreasing": {
                          "line": {
                            "color": "#000033"
                          }
                        },
                        "increasing": {
                          "line": {
                            "color": "#000032"
                          }
                        },
                        "type": "candlestick"
                      }
                    ],
                    "contour": [
                      {
                        "colorscale": [
                          [
                            0,
                            "#000011"
                          ],
                          [
                            0.1111111111111111,
                            "#000012"
                          ],
                          [
                            0.2222222222222222,
                            "#000013"
                          ],
                          [
                            0.3333333333333333,
                            "#000014"
                          ],
                          [
                            0.4444444444444444,
                            "#000015"
                          ],
                          [
                            0.5555555555555556,
                            "#000016"
                          ],
                          [
                            0.6666666666666666,
                            "#000017"
                          ],
                          [
                            0.7777777777777778,
                            "#000018"
                          ],
                          [
                            0.8888888888888888,
                            "#000019"
                          ],
                          [
                            1,
                            "#000020"
                          ]
                        ],
                        "type": "contour"
                      }
                    ],
                    "contourcarpet": [
                      {
                        "colorscale": [
                          [
                            0,
                            "#000011"
                          ],
                          [
                            0.1111111111111111,
                            "#000012"
                          ],
                          [
                            0.2222222222222222,
                            "#000013"
                          ],
                          [
                            0.3333333333333333,
                            "#000014"
                          ],
                          [
                            0.4444444444444444,
                            "#000015"
                          ],
                          [
                            0.5555555555555556,
                            "#000016"
                          ],
                          [
                            0.6666666666666666,
                            "#000017"
                          ],
                          [
                            0.7777777777777778,
                            "#000018"
                          ],
                          [
                            0.8888888888888888,
                            "#000019"
                          ],
                          [
                            1,
                            "#000020"
                          ]
                        ],
                        "type": "contourcarpet"
                      }
                    ],
                    "heatmap": [
                      {
                        "colorscale": [
                          [
                            0,
                            "#000011"
                          ],
                          [
                            0.1111111111111111,
                            "#000012"
                          ],
                          [
                            0.2222222222222222,
                            "#000013"
                          ],
                          [
                            0.3333333333333333,
                            "#000014"
                          ],
                          [
                            0.4444444444444444,
                            "#000015"
                          ],
                          [
                            0.5555555555555556,
                            "#000016"
                          ],
                          [
                            0.6666666666666666,
                            "#000017"
                          ],
                          [
                            0.7777777777777778,
                            "#000018"
                          ],
                          [
                            0.8888888888888888,
                            "#000019"
                          ],
                          [
                            1,
                            "#000020"
                          ]
                        ],
                        "type": "heatmap"
                      }
                    ],
                    "histogram2d": [
                      {
                        "colorscale": [
                          [
                            0,
                            "#000011"
                          ],
                          [
                            0.1111111111111111,
                            "#000012"
                          ],
                          [
                            0.2222222222222222,
                            "#000013"
                          ],
                          [
                            0.3333333333333333,
                            "#000014"
                          ],
                          [
                            0.4444444444444444,
                            "#000015"
                          ],
                          [
                            0.5555555555555556,
                            "#000016"
                          ],
                          [
                            0.6666666666666666,
                            "#000017"
                          ],
                          [
                            0.7777777777777778,
                            "#000018"
                          ],
                          [
                            0.8888888888888888,
                            "#000019"
                          ],
                          [
                            1,
                            "#000020"
                          ]
                        ],
                        "type": "histogram2d"
                      }
                    ],
                    "icicle": [
                      {
                        "textfont": {
                          "color": "white"
                        },
                        "type": "icicle"
                      }
                    ],
                    "sankey": [
                      {
                        "textfont": {
                          "color": "#000036"
                        },
                        "type": "sankey"
                      }
                    ],
                    "scatter": [
                      {
                        "marker": {
                          "line": {
                            "width": 0
                          }
                        },
                        "type": "scatter"
                      }
                    ],
                    "table": [
                      {
                        "cells": {
                          "fill": {
                            "color": "#000038"
                          },
                          "font": {
                            "color": "#000037"
                          },
                          "line": {
                            "color": "#000039"
                          }
                        },
                        "header": {
                          "fill": {
                            "color": "#000040"
                          },
                          "font": {
                            "color": "#000036"
                          },
                          "line": {
                            "color": "#000039"
                          }
                        },
                        "type": "table"
                      }
                    ],
                    "waterfall": [
                      {
                        "connector": {
                          "line": {
                            "color": "#000036",
                            "width": 2
                          }
                        },
                        "decreasing": {
                          "marker": {
                            "color": "#000033"
                          }
                        },
                        "increasing": {
                          "marker": {
                            "color": "#000032"
                          }
                        },
                        "totals": {
                          "marker": {
                            "color": "#000034"
                          }
                        },
                        "type": "waterfall"
                      }
                    ]
                  },
                  "layout": {
                    "coloraxis": {
                      "colorscale": [
                        [
                          0,
                          "#000011"
                        ],
                        [
                          0.1111111111111111,
                          "#000012"
                        ],
                        [
                          0.2222222222222222,
                          "#000013"
                        ],
                        [
                          0.3333333333333333,
                          "#000014"
                        ],
                        [
                          0.4444444444444444,
                          "#000015"
                        ],
                        [
                          0.5555555555555556,
                          "#000016"
                        ],
                        [
                          0.6666666666666666,
                          "#000017"
                        ],
                        [
                          0.7777777777777778,
                          "#000018"
                        ],
                        [
                          0.8888888888888888,
                          "#000019"
                        ],
                        [
                          1,
                          "#000020"
                        ]
                      ]
                    },
                    "colorscale": {
                      "diverging": [
                        [
                          0,
                          "#000021"
                        ],
                        [
                          0.1,
                          "#000022"
                        ],
                        [
                          0.2,
                          "#000023"
                        ],
                        [
                          0.3,
                          "#000024"
                        ],
                        [
                          0.4,
                          "#000025"
                        ],
                        [
                          0.5,
                          "#000026"
                        ],
                        [
                          0.6,
                          "#000027"
                        ],
                        [
                          0.7,
                          "#000028"
                        ],
                        [
                          0.8,
                          "#000029"
                        ],
                        [
                          0.9,
                          "#000030"
                        ],
                        [
                          1,
                          "#000031"
                        ]
                      ],
                      "sequential": [
                        [
                          0,
                          "#000011"
                        ],
                        [
                          0.1111111111111111,
                          "#000012"
                        ],
                        [
                          0.2222222222222222,
                          "#000013"
                        ],
                        [
                          0.3333333333333333,
                          "#000014"
                        ],
                        [
                          0.4444444444444444,
                          "#000015"
                        ],
                        [
                          0.5555555555555556,
                          "#000016"
                        ],
                        [
                          0.6666666666666666,
                          "#000017"
                        ],
                        [
                          0.7777777777777778,
                          "#000018"
                        ],
                        [
                          0.8888888888888888,
                          "#000019"
                        ],
                        [
                          1,
                          "#000020"
                        ]
                      ],
                      "sequentialminus": [
                        [
                          0,
                          "#000011"
                        ],
                        [
                          0.1111111111111111,
                          "#000012"
                        ],
                        [
                          0.2222222222222222,
                          "#000013"
                        ],
                        [
                          0.3333333333333333,
                          "#000014"
                        ],
                        [
                          0.4444444444444444,
                          "#000015"
                        ],
                        [
                          0.5555555555555556,
                          "#000016"
                        ],
                        [
                          0.6666666666666666,
                          "#000017"
                        ],
                        [
                          0.7777777777777778,
                          "#000018"
                        ],
                        [
                          0.8888888888888888,
                          "#000019"
                        ],
                        [
                          1,
                          "#000020"
                        ]
                      ]
                    },
                    "colorway": [
                      "#000001",
                      "#000002",
                      "#000003",
                      "#000004",
                      "#000005",
                      "#000006",
                      "#000007",
                      "#000008",
                      "#000009",
                      "#000010"
                    ]
                  }
                },
                "width": 600,
                "xaxis": {
                  "anchor": "y",
                  "domain": [
                    0,
                    1
                  ],
                  "title": {
                    "text": "tempo_jogado"
                  }
                },
                "yaxis": {
                  "anchor": "x",
                  "domain": [
                    0,
                    1
                  ],
                  "title": {
                    "text": "calorias"
                  }
                }
              }
            }
          },
          "metadata": {},
          "output_type": "display_data"
        }
      ],
      "source": [
        "fig = px.scatter(df_data_list_fred, \n",
        "                 x= 'tempo_jogado',\n",
        "                 y= 'calorias',\n",
        "                 color_discrete_sequence=px.colors.sequential.RdBu)\n",
        "fig.update_layout(\n",
        "width=600,\n",
        "height=400 \n",
        ")\n",
        "fig.show()"
      ]
    },
    {
      "cell_type": "code",
      "execution_count": null,
      "metadata": {},
      "outputs": [
        {
          "data": {
            "application/vnd.plotly.v1+json": {
              "config": {
                "plotlyServerURL": "https://plot.ly"
              },
              "data": [
                {
                  "hovertemplate": "animo_pra_jogar=%{x}<br>calorias=%{y}<extra></extra>",
                  "legendgroup": "",
                  "marker": {
                    "color": "rgb(103,0,31)",
                    "symbol": "circle"
                  },
                  "mode": "markers",
                  "name": "",
                  "orientation": "v",
                  "showlegend": false,
                  "type": "scatter",
                  "x": [
                    8,
                    10,
                    8,
                    8,
                    9,
                    9,
                    5,
                    8,
                    8,
                    8,
                    6,
                    null,
                    null,
                    null,
                    null,
                    null,
                    null,
                    null,
                    null,
                    null
                  ],
                  "xaxis": "x",
                  "y": [
                    451,
                    176,
                    651,
                    696,
                    742,
                    891,
                    657,
                    755,
                    813,
                    538,
                    325,
                    310,
                    264,
                    783,
                    560,
                    543,
                    880,
                    751,
                    821,
                    529
                  ],
                  "yaxis": "y"
                }
              ],
              "layout": {
                "height": 400,
                "legend": {
                  "tracegroupgap": 0
                },
                "margin": {
                  "t": 60
                },
                "template": {
                  "data": {
                    "candlestick": [
                      {
                        "decreasing": {
                          "line": {
                            "color": "#000033"
                          }
                        },
                        "increasing": {
                          "line": {
                            "color": "#000032"
                          }
                        },
                        "type": "candlestick"
                      }
                    ],
                    "contour": [
                      {
                        "colorscale": [
                          [
                            0,
                            "#000011"
                          ],
                          [
                            0.1111111111111111,
                            "#000012"
                          ],
                          [
                            0.2222222222222222,
                            "#000013"
                          ],
                          [
                            0.3333333333333333,
                            "#000014"
                          ],
                          [
                            0.4444444444444444,
                            "#000015"
                          ],
                          [
                            0.5555555555555556,
                            "#000016"
                          ],
                          [
                            0.6666666666666666,
                            "#000017"
                          ],
                          [
                            0.7777777777777778,
                            "#000018"
                          ],
                          [
                            0.8888888888888888,
                            "#000019"
                          ],
                          [
                            1,
                            "#000020"
                          ]
                        ],
                        "type": "contour"
                      }
                    ],
                    "contourcarpet": [
                      {
                        "colorscale": [
                          [
                            0,
                            "#000011"
                          ],
                          [
                            0.1111111111111111,
                            "#000012"
                          ],
                          [
                            0.2222222222222222,
                            "#000013"
                          ],
                          [
                            0.3333333333333333,
                            "#000014"
                          ],
                          [
                            0.4444444444444444,
                            "#000015"
                          ],
                          [
                            0.5555555555555556,
                            "#000016"
                          ],
                          [
                            0.6666666666666666,
                            "#000017"
                          ],
                          [
                            0.7777777777777778,
                            "#000018"
                          ],
                          [
                            0.8888888888888888,
                            "#000019"
                          ],
                          [
                            1,
                            "#000020"
                          ]
                        ],
                        "type": "contourcarpet"
                      }
                    ],
                    "heatmap": [
                      {
                        "colorscale": [
                          [
                            0,
                            "#000011"
                          ],
                          [
                            0.1111111111111111,
                            "#000012"
                          ],
                          [
                            0.2222222222222222,
                            "#000013"
                          ],
                          [
                            0.3333333333333333,
                            "#000014"
                          ],
                          [
                            0.4444444444444444,
                            "#000015"
                          ],
                          [
                            0.5555555555555556,
                            "#000016"
                          ],
                          [
                            0.6666666666666666,
                            "#000017"
                          ],
                          [
                            0.7777777777777778,
                            "#000018"
                          ],
                          [
                            0.8888888888888888,
                            "#000019"
                          ],
                          [
                            1,
                            "#000020"
                          ]
                        ],
                        "type": "heatmap"
                      }
                    ],
                    "histogram2d": [
                      {
                        "colorscale": [
                          [
                            0,
                            "#000011"
                          ],
                          [
                            0.1111111111111111,
                            "#000012"
                          ],
                          [
                            0.2222222222222222,
                            "#000013"
                          ],
                          [
                            0.3333333333333333,
                            "#000014"
                          ],
                          [
                            0.4444444444444444,
                            "#000015"
                          ],
                          [
                            0.5555555555555556,
                            "#000016"
                          ],
                          [
                            0.6666666666666666,
                            "#000017"
                          ],
                          [
                            0.7777777777777778,
                            "#000018"
                          ],
                          [
                            0.8888888888888888,
                            "#000019"
                          ],
                          [
                            1,
                            "#000020"
                          ]
                        ],
                        "type": "histogram2d"
                      }
                    ],
                    "icicle": [
                      {
                        "textfont": {
                          "color": "white"
                        },
                        "type": "icicle"
                      }
                    ],
                    "sankey": [
                      {
                        "textfont": {
                          "color": "#000036"
                        },
                        "type": "sankey"
                      }
                    ],
                    "scatter": [
                      {
                        "marker": {
                          "line": {
                            "width": 0
                          }
                        },
                        "type": "scatter"
                      }
                    ],
                    "table": [
                      {
                        "cells": {
                          "fill": {
                            "color": "#000038"
                          },
                          "font": {
                            "color": "#000037"
                          },
                          "line": {
                            "color": "#000039"
                          }
                        },
                        "header": {
                          "fill": {
                            "color": "#000040"
                          },
                          "font": {
                            "color": "#000036"
                          },
                          "line": {
                            "color": "#000039"
                          }
                        },
                        "type": "table"
                      }
                    ],
                    "waterfall": [
                      {
                        "connector": {
                          "line": {
                            "color": "#000036",
                            "width": 2
                          }
                        },
                        "decreasing": {
                          "marker": {
                            "color": "#000033"
                          }
                        },
                        "increasing": {
                          "marker": {
                            "color": "#000032"
                          }
                        },
                        "totals": {
                          "marker": {
                            "color": "#000034"
                          }
                        },
                        "type": "waterfall"
                      }
                    ]
                  },
                  "layout": {
                    "coloraxis": {
                      "colorscale": [
                        [
                          0,
                          "#000011"
                        ],
                        [
                          0.1111111111111111,
                          "#000012"
                        ],
                        [
                          0.2222222222222222,
                          "#000013"
                        ],
                        [
                          0.3333333333333333,
                          "#000014"
                        ],
                        [
                          0.4444444444444444,
                          "#000015"
                        ],
                        [
                          0.5555555555555556,
                          "#000016"
                        ],
                        [
                          0.6666666666666666,
                          "#000017"
                        ],
                        [
                          0.7777777777777778,
                          "#000018"
                        ],
                        [
                          0.8888888888888888,
                          "#000019"
                        ],
                        [
                          1,
                          "#000020"
                        ]
                      ]
                    },
                    "colorscale": {
                      "diverging": [
                        [
                          0,
                          "#000021"
                        ],
                        [
                          0.1,
                          "#000022"
                        ],
                        [
                          0.2,
                          "#000023"
                        ],
                        [
                          0.3,
                          "#000024"
                        ],
                        [
                          0.4,
                          "#000025"
                        ],
                        [
                          0.5,
                          "#000026"
                        ],
                        [
                          0.6,
                          "#000027"
                        ],
                        [
                          0.7,
                          "#000028"
                        ],
                        [
                          0.8,
                          "#000029"
                        ],
                        [
                          0.9,
                          "#000030"
                        ],
                        [
                          1,
                          "#000031"
                        ]
                      ],
                      "sequential": [
                        [
                          0,
                          "#000011"
                        ],
                        [
                          0.1111111111111111,
                          "#000012"
                        ],
                        [
                          0.2222222222222222,
                          "#000013"
                        ],
                        [
                          0.3333333333333333,
                          "#000014"
                        ],
                        [
                          0.4444444444444444,
                          "#000015"
                        ],
                        [
                          0.5555555555555556,
                          "#000016"
                        ],
                        [
                          0.6666666666666666,
                          "#000017"
                        ],
                        [
                          0.7777777777777778,
                          "#000018"
                        ],
                        [
                          0.8888888888888888,
                          "#000019"
                        ],
                        [
                          1,
                          "#000020"
                        ]
                      ],
                      "sequentialminus": [
                        [
                          0,
                          "#000011"
                        ],
                        [
                          0.1111111111111111,
                          "#000012"
                        ],
                        [
                          0.2222222222222222,
                          "#000013"
                        ],
                        [
                          0.3333333333333333,
                          "#000014"
                        ],
                        [
                          0.4444444444444444,
                          "#000015"
                        ],
                        [
                          0.5555555555555556,
                          "#000016"
                        ],
                        [
                          0.6666666666666666,
                          "#000017"
                        ],
                        [
                          0.7777777777777778,
                          "#000018"
                        ],
                        [
                          0.8888888888888888,
                          "#000019"
                        ],
                        [
                          1,
                          "#000020"
                        ]
                      ]
                    },
                    "colorway": [
                      "#000001",
                      "#000002",
                      "#000003",
                      "#000004",
                      "#000005",
                      "#000006",
                      "#000007",
                      "#000008",
                      "#000009",
                      "#000010"
                    ]
                  }
                },
                "width": 600,
                "xaxis": {
                  "anchor": "y",
                  "domain": [
                    0,
                    1
                  ],
                  "title": {
                    "text": "animo_pra_jogar"
                  }
                },
                "yaxis": {
                  "anchor": "x",
                  "domain": [
                    0,
                    1
                  ],
                  "title": {
                    "text": "calorias"
                  }
                }
              }
            }
          },
          "metadata": {},
          "output_type": "display_data"
        }
      ],
      "source": [
        "fig = px.scatter(df_data_list_fred, \n",
        "                 x= 'animo_pra_jogar',\n",
        "                 y= 'calorias',\n",
        "                 color_discrete_sequence=px.colors.sequential.RdBu)\n",
        "fig.update_layout(\n",
        "width=600,\n",
        "height=400 \n",
        ")\n",
        "fig.show()"
      ]
    },
    {
      "cell_type": "code",
      "execution_count": null,
      "metadata": {},
      "outputs": [
        {
          "data": {
            "application/vnd.plotly.v1+json": {
              "config": {
                "plotlyServerURL": "https://plot.ly"
              },
              "data": [
                {
                  "hovertemplate": "tempo_de_descanso=%{x}<br>calorias=%{y}<extra></extra>",
                  "legendgroup": "",
                  "marker": {
                    "color": "rgb(103,0,31)",
                    "symbol": "circle"
                  },
                  "mode": "markers",
                  "name": "",
                  "orientation": "v",
                  "showlegend": false,
                  "type": "scatter",
                  "x": [
                    0,
                    0,
                    5,
                    0,
                    3,
                    0,
                    0,
                    2,
                    4,
                    2,
                    0,
                    0,
                    0,
                    0,
                    0,
                    0,
                    0,
                    0,
                    0,
                    0
                  ],
                  "xaxis": "x",
                  "y": [
                    451,
                    176,
                    651,
                    696,
                    742,
                    891,
                    657,
                    755,
                    813,
                    538,
                    325,
                    310,
                    264,
                    783,
                    560,
                    543,
                    880,
                    751,
                    821,
                    529
                  ],
                  "yaxis": "y"
                }
              ],
              "layout": {
                "height": 400,
                "legend": {
                  "tracegroupgap": 0
                },
                "margin": {
                  "t": 60
                },
                "template": {
                  "data": {
                    "candlestick": [
                      {
                        "decreasing": {
                          "line": {
                            "color": "#000033"
                          }
                        },
                        "increasing": {
                          "line": {
                            "color": "#000032"
                          }
                        },
                        "type": "candlestick"
                      }
                    ],
                    "contour": [
                      {
                        "colorscale": [
                          [
                            0,
                            "#000011"
                          ],
                          [
                            0.1111111111111111,
                            "#000012"
                          ],
                          [
                            0.2222222222222222,
                            "#000013"
                          ],
                          [
                            0.3333333333333333,
                            "#000014"
                          ],
                          [
                            0.4444444444444444,
                            "#000015"
                          ],
                          [
                            0.5555555555555556,
                            "#000016"
                          ],
                          [
                            0.6666666666666666,
                            "#000017"
                          ],
                          [
                            0.7777777777777778,
                            "#000018"
                          ],
                          [
                            0.8888888888888888,
                            "#000019"
                          ],
                          [
                            1,
                            "#000020"
                          ]
                        ],
                        "type": "contour"
                      }
                    ],
                    "contourcarpet": [
                      {
                        "colorscale": [
                          [
                            0,
                            "#000011"
                          ],
                          [
                            0.1111111111111111,
                            "#000012"
                          ],
                          [
                            0.2222222222222222,
                            "#000013"
                          ],
                          [
                            0.3333333333333333,
                            "#000014"
                          ],
                          [
                            0.4444444444444444,
                            "#000015"
                          ],
                          [
                            0.5555555555555556,
                            "#000016"
                          ],
                          [
                            0.6666666666666666,
                            "#000017"
                          ],
                          [
                            0.7777777777777778,
                            "#000018"
                          ],
                          [
                            0.8888888888888888,
                            "#000019"
                          ],
                          [
                            1,
                            "#000020"
                          ]
                        ],
                        "type": "contourcarpet"
                      }
                    ],
                    "heatmap": [
                      {
                        "colorscale": [
                          [
                            0,
                            "#000011"
                          ],
                          [
                            0.1111111111111111,
                            "#000012"
                          ],
                          [
                            0.2222222222222222,
                            "#000013"
                          ],
                          [
                            0.3333333333333333,
                            "#000014"
                          ],
                          [
                            0.4444444444444444,
                            "#000015"
                          ],
                          [
                            0.5555555555555556,
                            "#000016"
                          ],
                          [
                            0.6666666666666666,
                            "#000017"
                          ],
                          [
                            0.7777777777777778,
                            "#000018"
                          ],
                          [
                            0.8888888888888888,
                            "#000019"
                          ],
                          [
                            1,
                            "#000020"
                          ]
                        ],
                        "type": "heatmap"
                      }
                    ],
                    "histogram2d": [
                      {
                        "colorscale": [
                          [
                            0,
                            "#000011"
                          ],
                          [
                            0.1111111111111111,
                            "#000012"
                          ],
                          [
                            0.2222222222222222,
                            "#000013"
                          ],
                          [
                            0.3333333333333333,
                            "#000014"
                          ],
                          [
                            0.4444444444444444,
                            "#000015"
                          ],
                          [
                            0.5555555555555556,
                            "#000016"
                          ],
                          [
                            0.6666666666666666,
                            "#000017"
                          ],
                          [
                            0.7777777777777778,
                            "#000018"
                          ],
                          [
                            0.8888888888888888,
                            "#000019"
                          ],
                          [
                            1,
                            "#000020"
                          ]
                        ],
                        "type": "histogram2d"
                      }
                    ],
                    "icicle": [
                      {
                        "textfont": {
                          "color": "white"
                        },
                        "type": "icicle"
                      }
                    ],
                    "sankey": [
                      {
                        "textfont": {
                          "color": "#000036"
                        },
                        "type": "sankey"
                      }
                    ],
                    "scatter": [
                      {
                        "marker": {
                          "line": {
                            "width": 0
                          }
                        },
                        "type": "scatter"
                      }
                    ],
                    "table": [
                      {
                        "cells": {
                          "fill": {
                            "color": "#000038"
                          },
                          "font": {
                            "color": "#000037"
                          },
                          "line": {
                            "color": "#000039"
                          }
                        },
                        "header": {
                          "fill": {
                            "color": "#000040"
                          },
                          "font": {
                            "color": "#000036"
                          },
                          "line": {
                            "color": "#000039"
                          }
                        },
                        "type": "table"
                      }
                    ],
                    "waterfall": [
                      {
                        "connector": {
                          "line": {
                            "color": "#000036",
                            "width": 2
                          }
                        },
                        "decreasing": {
                          "marker": {
                            "color": "#000033"
                          }
                        },
                        "increasing": {
                          "marker": {
                            "color": "#000032"
                          }
                        },
                        "totals": {
                          "marker": {
                            "color": "#000034"
                          }
                        },
                        "type": "waterfall"
                      }
                    ]
                  },
                  "layout": {
                    "coloraxis": {
                      "colorscale": [
                        [
                          0,
                          "#000011"
                        ],
                        [
                          0.1111111111111111,
                          "#000012"
                        ],
                        [
                          0.2222222222222222,
                          "#000013"
                        ],
                        [
                          0.3333333333333333,
                          "#000014"
                        ],
                        [
                          0.4444444444444444,
                          "#000015"
                        ],
                        [
                          0.5555555555555556,
                          "#000016"
                        ],
                        [
                          0.6666666666666666,
                          "#000017"
                        ],
                        [
                          0.7777777777777778,
                          "#000018"
                        ],
                        [
                          0.8888888888888888,
                          "#000019"
                        ],
                        [
                          1,
                          "#000020"
                        ]
                      ]
                    },
                    "colorscale": {
                      "diverging": [
                        [
                          0,
                          "#000021"
                        ],
                        [
                          0.1,
                          "#000022"
                        ],
                        [
                          0.2,
                          "#000023"
                        ],
                        [
                          0.3,
                          "#000024"
                        ],
                        [
                          0.4,
                          "#000025"
                        ],
                        [
                          0.5,
                          "#000026"
                        ],
                        [
                          0.6,
                          "#000027"
                        ],
                        [
                          0.7,
                          "#000028"
                        ],
                        [
                          0.8,
                          "#000029"
                        ],
                        [
                          0.9,
                          "#000030"
                        ],
                        [
                          1,
                          "#000031"
                        ]
                      ],
                      "sequential": [
                        [
                          0,
                          "#000011"
                        ],
                        [
                          0.1111111111111111,
                          "#000012"
                        ],
                        [
                          0.2222222222222222,
                          "#000013"
                        ],
                        [
                          0.3333333333333333,
                          "#000014"
                        ],
                        [
                          0.4444444444444444,
                          "#000015"
                        ],
                        [
                          0.5555555555555556,
                          "#000016"
                        ],
                        [
                          0.6666666666666666,
                          "#000017"
                        ],
                        [
                          0.7777777777777778,
                          "#000018"
                        ],
                        [
                          0.8888888888888888,
                          "#000019"
                        ],
                        [
                          1,
                          "#000020"
                        ]
                      ],
                      "sequentialminus": [
                        [
                          0,
                          "#000011"
                        ],
                        [
                          0.1111111111111111,
                          "#000012"
                        ],
                        [
                          0.2222222222222222,
                          "#000013"
                        ],
                        [
                          0.3333333333333333,
                          "#000014"
                        ],
                        [
                          0.4444444444444444,
                          "#000015"
                        ],
                        [
                          0.5555555555555556,
                          "#000016"
                        ],
                        [
                          0.6666666666666666,
                          "#000017"
                        ],
                        [
                          0.7777777777777778,
                          "#000018"
                        ],
                        [
                          0.8888888888888888,
                          "#000019"
                        ],
                        [
                          1,
                          "#000020"
                        ]
                      ]
                    },
                    "colorway": [
                      "#000001",
                      "#000002",
                      "#000003",
                      "#000004",
                      "#000005",
                      "#000006",
                      "#000007",
                      "#000008",
                      "#000009",
                      "#000010"
                    ]
                  }
                },
                "width": 600,
                "xaxis": {
                  "anchor": "y",
                  "domain": [
                    0,
                    1
                  ],
                  "title": {
                    "text": "tempo_de_descanso"
                  }
                },
                "yaxis": {
                  "anchor": "x",
                  "domain": [
                    0,
                    1
                  ],
                  "title": {
                    "text": "calorias"
                  }
                }
              }
            }
          },
          "metadata": {},
          "output_type": "display_data"
        }
      ],
      "source": [
        "fig = px.scatter(df_data_list_fred, \n",
        "                 x= 'tempo_de_descanso',\n",
        "                 y= 'calorias',\n",
        "                 color_discrete_sequence=px.colors.sequential.RdBu)\n",
        "fig.update_layout(\n",
        "width=600,\n",
        "height=400 \n",
        ")\n",
        "fig.show()"
      ]
    },
    {
      "cell_type": "code",
      "execution_count": 479,
      "metadata": {},
      "outputs": [
        {
          "data": {
            "application/vnd.plotly.v1+json": {
              "config": {
                "plotlyServerURL": "https://plot.ly"
              },
              "data": [
                {
                  "hovertemplate": "nota=%{x}<br>calorias=%{y}<extra></extra>",
                  "legendgroup": "",
                  "marker": {
                    "color": "rgb(103,0,31)",
                    "symbol": "circle"
                  },
                  "mode": "markers",
                  "name": "",
                  "orientation": "v",
                  "showlegend": false,
                  "type": "scatter",
                  "x": [
                    8,
                    8,
                    9,
                    7,
                    7,
                    3,
                    9,
                    6,
                    7,
                    8,
                    8.5,
                    6,
                    7,
                    5,
                    5,
                    8,
                    7,
                    6,
                    7,
                    7,
                    6
                  ],
                  "xaxis": "x",
                  "y": [
                    653,
                    451,
                    176,
                    651,
                    696,
                    742,
                    891,
                    657,
                    755,
                    813,
                    538,
                    325,
                    310,
                    264,
                    783,
                    560,
                    543,
                    880,
                    751,
                    821,
                    529
                  ],
                  "yaxis": "y"
                }
              ],
              "layout": {
                "height": 400,
                "legend": {
                  "tracegroupgap": 0
                },
                "margin": {
                  "t": 60
                },
                "template": {
                  "data": {
                    "candlestick": [
                      {
                        "decreasing": {
                          "line": {
                            "color": "#000033"
                          }
                        },
                        "increasing": {
                          "line": {
                            "color": "#000032"
                          }
                        },
                        "type": "candlestick"
                      }
                    ],
                    "contour": [
                      {
                        "colorscale": [
                          [
                            0,
                            "#000011"
                          ],
                          [
                            0.1111111111111111,
                            "#000012"
                          ],
                          [
                            0.2222222222222222,
                            "#000013"
                          ],
                          [
                            0.3333333333333333,
                            "#000014"
                          ],
                          [
                            0.4444444444444444,
                            "#000015"
                          ],
                          [
                            0.5555555555555556,
                            "#000016"
                          ],
                          [
                            0.6666666666666666,
                            "#000017"
                          ],
                          [
                            0.7777777777777778,
                            "#000018"
                          ],
                          [
                            0.8888888888888888,
                            "#000019"
                          ],
                          [
                            1,
                            "#000020"
                          ]
                        ],
                        "type": "contour"
                      }
                    ],
                    "contourcarpet": [
                      {
                        "colorscale": [
                          [
                            0,
                            "#000011"
                          ],
                          [
                            0.1111111111111111,
                            "#000012"
                          ],
                          [
                            0.2222222222222222,
                            "#000013"
                          ],
                          [
                            0.3333333333333333,
                            "#000014"
                          ],
                          [
                            0.4444444444444444,
                            "#000015"
                          ],
                          [
                            0.5555555555555556,
                            "#000016"
                          ],
                          [
                            0.6666666666666666,
                            "#000017"
                          ],
                          [
                            0.7777777777777778,
                            "#000018"
                          ],
                          [
                            0.8888888888888888,
                            "#000019"
                          ],
                          [
                            1,
                            "#000020"
                          ]
                        ],
                        "type": "contourcarpet"
                      }
                    ],
                    "heatmap": [
                      {
                        "colorscale": [
                          [
                            0,
                            "#000011"
                          ],
                          [
                            0.1111111111111111,
                            "#000012"
                          ],
                          [
                            0.2222222222222222,
                            "#000013"
                          ],
                          [
                            0.3333333333333333,
                            "#000014"
                          ],
                          [
                            0.4444444444444444,
                            "#000015"
                          ],
                          [
                            0.5555555555555556,
                            "#000016"
                          ],
                          [
                            0.6666666666666666,
                            "#000017"
                          ],
                          [
                            0.7777777777777778,
                            "#000018"
                          ],
                          [
                            0.8888888888888888,
                            "#000019"
                          ],
                          [
                            1,
                            "#000020"
                          ]
                        ],
                        "type": "heatmap"
                      }
                    ],
                    "histogram2d": [
                      {
                        "colorscale": [
                          [
                            0,
                            "#000011"
                          ],
                          [
                            0.1111111111111111,
                            "#000012"
                          ],
                          [
                            0.2222222222222222,
                            "#000013"
                          ],
                          [
                            0.3333333333333333,
                            "#000014"
                          ],
                          [
                            0.4444444444444444,
                            "#000015"
                          ],
                          [
                            0.5555555555555556,
                            "#000016"
                          ],
                          [
                            0.6666666666666666,
                            "#000017"
                          ],
                          [
                            0.7777777777777778,
                            "#000018"
                          ],
                          [
                            0.8888888888888888,
                            "#000019"
                          ],
                          [
                            1,
                            "#000020"
                          ]
                        ],
                        "type": "histogram2d"
                      }
                    ],
                    "icicle": [
                      {
                        "textfont": {
                          "color": "white"
                        },
                        "type": "icicle"
                      }
                    ],
                    "sankey": [
                      {
                        "textfont": {
                          "color": "#000036"
                        },
                        "type": "sankey"
                      }
                    ],
                    "scatter": [
                      {
                        "marker": {
                          "line": {
                            "width": 0
                          }
                        },
                        "type": "scatter"
                      }
                    ],
                    "table": [
                      {
                        "cells": {
                          "fill": {
                            "color": "#000038"
                          },
                          "font": {
                            "color": "#000037"
                          },
                          "line": {
                            "color": "#000039"
                          }
                        },
                        "header": {
                          "fill": {
                            "color": "#000040"
                          },
                          "font": {
                            "color": "#000036"
                          },
                          "line": {
                            "color": "#000039"
                          }
                        },
                        "type": "table"
                      }
                    ],
                    "waterfall": [
                      {
                        "connector": {
                          "line": {
                            "color": "#000036",
                            "width": 2
                          }
                        },
                        "decreasing": {
                          "marker": {
                            "color": "#000033"
                          }
                        },
                        "increasing": {
                          "marker": {
                            "color": "#000032"
                          }
                        },
                        "totals": {
                          "marker": {
                            "color": "#000034"
                          }
                        },
                        "type": "waterfall"
                      }
                    ]
                  },
                  "layout": {
                    "coloraxis": {
                      "colorscale": [
                        [
                          0,
                          "#000011"
                        ],
                        [
                          0.1111111111111111,
                          "#000012"
                        ],
                        [
                          0.2222222222222222,
                          "#000013"
                        ],
                        [
                          0.3333333333333333,
                          "#000014"
                        ],
                        [
                          0.4444444444444444,
                          "#000015"
                        ],
                        [
                          0.5555555555555556,
                          "#000016"
                        ],
                        [
                          0.6666666666666666,
                          "#000017"
                        ],
                        [
                          0.7777777777777778,
                          "#000018"
                        ],
                        [
                          0.8888888888888888,
                          "#000019"
                        ],
                        [
                          1,
                          "#000020"
                        ]
                      ]
                    },
                    "colorscale": {
                      "diverging": [
                        [
                          0,
                          "#000021"
                        ],
                        [
                          0.1,
                          "#000022"
                        ],
                        [
                          0.2,
                          "#000023"
                        ],
                        [
                          0.3,
                          "#000024"
                        ],
                        [
                          0.4,
                          "#000025"
                        ],
                        [
                          0.5,
                          "#000026"
                        ],
                        [
                          0.6,
                          "#000027"
                        ],
                        [
                          0.7,
                          "#000028"
                        ],
                        [
                          0.8,
                          "#000029"
                        ],
                        [
                          0.9,
                          "#000030"
                        ],
                        [
                          1,
                          "#000031"
                        ]
                      ],
                      "sequential": [
                        [
                          0,
                          "#000011"
                        ],
                        [
                          0.1111111111111111,
                          "#000012"
                        ],
                        [
                          0.2222222222222222,
                          "#000013"
                        ],
                        [
                          0.3333333333333333,
                          "#000014"
                        ],
                        [
                          0.4444444444444444,
                          "#000015"
                        ],
                        [
                          0.5555555555555556,
                          "#000016"
                        ],
                        [
                          0.6666666666666666,
                          "#000017"
                        ],
                        [
                          0.7777777777777778,
                          "#000018"
                        ],
                        [
                          0.8888888888888888,
                          "#000019"
                        ],
                        [
                          1,
                          "#000020"
                        ]
                      ],
                      "sequentialminus": [
                        [
                          0,
                          "#000011"
                        ],
                        [
                          0.1111111111111111,
                          "#000012"
                        ],
                        [
                          0.2222222222222222,
                          "#000013"
                        ],
                        [
                          0.3333333333333333,
                          "#000014"
                        ],
                        [
                          0.4444444444444444,
                          "#000015"
                        ],
                        [
                          0.5555555555555556,
                          "#000016"
                        ],
                        [
                          0.6666666666666666,
                          "#000017"
                        ],
                        [
                          0.7777777777777778,
                          "#000018"
                        ],
                        [
                          0.8888888888888888,
                          "#000019"
                        ],
                        [
                          1,
                          "#000020"
                        ]
                      ]
                    },
                    "colorway": [
                      "#000001",
                      "#000002",
                      "#000003",
                      "#000004",
                      "#000005",
                      "#000006",
                      "#000007",
                      "#000008",
                      "#000009",
                      "#000010"
                    ]
                  }
                },
                "width": 600,
                "xaxis": {
                  "anchor": "y",
                  "domain": [
                    0,
                    1
                  ],
                  "title": {
                    "text": "nota"
                  }
                },
                "yaxis": {
                  "anchor": "x",
                  "domain": [
                    0,
                    1
                  ],
                  "title": {
                    "text": "calorias"
                  }
                }
              }
            }
          },
          "metadata": {},
          "output_type": "display_data"
        }
      ],
      "source": [
        "fig = px.scatter(df_data_list_fred, \n",
        "                 x= 'nota',\n",
        "                 y= 'calorias',\n",
        "                 color_discrete_sequence=px.colors.sequential.RdBu)\n",
        "fig.update_layout(\n",
        "width=600,\n",
        "height=400 \n",
        ")\n",
        "fig.show()"
      ]
    },
    {
      "attachments": {},
      "cell_type": "markdown",
      "metadata": {},
      "source": [
        "#### O que afeta a nota?"
      ]
    },
    {
      "cell_type": "code",
      "execution_count": 480,
      "metadata": {},
      "outputs": [
        {
          "data": {
            "application/vnd.plotly.v1+json": {
              "config": {
                "plotlyServerURL": "https://plot.ly"
              },
              "data": [
                {
                  "hovertemplate": "calorias=%{x}<br>nota=%{y}<extra></extra>",
                  "legendgroup": "",
                  "marker": {
                    "color": "rgb(103,0,31)",
                    "symbol": "circle"
                  },
                  "mode": "markers",
                  "name": "",
                  "orientation": "v",
                  "showlegend": false,
                  "type": "scatter",
                  "x": [
                    653,
                    451,
                    176,
                    651,
                    696,
                    742,
                    891,
                    657,
                    755,
                    813,
                    538,
                    325,
                    310,
                    264,
                    783,
                    560,
                    543,
                    880,
                    751,
                    821,
                    529
                  ],
                  "xaxis": "x",
                  "y": [
                    8,
                    8,
                    9,
                    7,
                    7,
                    3,
                    9,
                    6,
                    7,
                    8,
                    8.5,
                    6,
                    7,
                    5,
                    5,
                    8,
                    7,
                    6,
                    7,
                    7,
                    6
                  ],
                  "yaxis": "y"
                }
              ],
              "layout": {
                "height": 400,
                "legend": {
                  "tracegroupgap": 0
                },
                "margin": {
                  "t": 60
                },
                "template": {
                  "data": {
                    "candlestick": [
                      {
                        "decreasing": {
                          "line": {
                            "color": "#000033"
                          }
                        },
                        "increasing": {
                          "line": {
                            "color": "#000032"
                          }
                        },
                        "type": "candlestick"
                      }
                    ],
                    "contour": [
                      {
                        "colorscale": [
                          [
                            0,
                            "#000011"
                          ],
                          [
                            0.1111111111111111,
                            "#000012"
                          ],
                          [
                            0.2222222222222222,
                            "#000013"
                          ],
                          [
                            0.3333333333333333,
                            "#000014"
                          ],
                          [
                            0.4444444444444444,
                            "#000015"
                          ],
                          [
                            0.5555555555555556,
                            "#000016"
                          ],
                          [
                            0.6666666666666666,
                            "#000017"
                          ],
                          [
                            0.7777777777777778,
                            "#000018"
                          ],
                          [
                            0.8888888888888888,
                            "#000019"
                          ],
                          [
                            1,
                            "#000020"
                          ]
                        ],
                        "type": "contour"
                      }
                    ],
                    "contourcarpet": [
                      {
                        "colorscale": [
                          [
                            0,
                            "#000011"
                          ],
                          [
                            0.1111111111111111,
                            "#000012"
                          ],
                          [
                            0.2222222222222222,
                            "#000013"
                          ],
                          [
                            0.3333333333333333,
                            "#000014"
                          ],
                          [
                            0.4444444444444444,
                            "#000015"
                          ],
                          [
                            0.5555555555555556,
                            "#000016"
                          ],
                          [
                            0.6666666666666666,
                            "#000017"
                          ],
                          [
                            0.7777777777777778,
                            "#000018"
                          ],
                          [
                            0.8888888888888888,
                            "#000019"
                          ],
                          [
                            1,
                            "#000020"
                          ]
                        ],
                        "type": "contourcarpet"
                      }
                    ],
                    "heatmap": [
                      {
                        "colorscale": [
                          [
                            0,
                            "#000011"
                          ],
                          [
                            0.1111111111111111,
                            "#000012"
                          ],
                          [
                            0.2222222222222222,
                            "#000013"
                          ],
                          [
                            0.3333333333333333,
                            "#000014"
                          ],
                          [
                            0.4444444444444444,
                            "#000015"
                          ],
                          [
                            0.5555555555555556,
                            "#000016"
                          ],
                          [
                            0.6666666666666666,
                            "#000017"
                          ],
                          [
                            0.7777777777777778,
                            "#000018"
                          ],
                          [
                            0.8888888888888888,
                            "#000019"
                          ],
                          [
                            1,
                            "#000020"
                          ]
                        ],
                        "type": "heatmap"
                      }
                    ],
                    "histogram2d": [
                      {
                        "colorscale": [
                          [
                            0,
                            "#000011"
                          ],
                          [
                            0.1111111111111111,
                            "#000012"
                          ],
                          [
                            0.2222222222222222,
                            "#000013"
                          ],
                          [
                            0.3333333333333333,
                            "#000014"
                          ],
                          [
                            0.4444444444444444,
                            "#000015"
                          ],
                          [
                            0.5555555555555556,
                            "#000016"
                          ],
                          [
                            0.6666666666666666,
                            "#000017"
                          ],
                          [
                            0.7777777777777778,
                            "#000018"
                          ],
                          [
                            0.8888888888888888,
                            "#000019"
                          ],
                          [
                            1,
                            "#000020"
                          ]
                        ],
                        "type": "histogram2d"
                      }
                    ],
                    "icicle": [
                      {
                        "textfont": {
                          "color": "white"
                        },
                        "type": "icicle"
                      }
                    ],
                    "sankey": [
                      {
                        "textfont": {
                          "color": "#000036"
                        },
                        "type": "sankey"
                      }
                    ],
                    "scatter": [
                      {
                        "marker": {
                          "line": {
                            "width": 0
                          }
                        },
                        "type": "scatter"
                      }
                    ],
                    "table": [
                      {
                        "cells": {
                          "fill": {
                            "color": "#000038"
                          },
                          "font": {
                            "color": "#000037"
                          },
                          "line": {
                            "color": "#000039"
                          }
                        },
                        "header": {
                          "fill": {
                            "color": "#000040"
                          },
                          "font": {
                            "color": "#000036"
                          },
                          "line": {
                            "color": "#000039"
                          }
                        },
                        "type": "table"
                      }
                    ],
                    "waterfall": [
                      {
                        "connector": {
                          "line": {
                            "color": "#000036",
                            "width": 2
                          }
                        },
                        "decreasing": {
                          "marker": {
                            "color": "#000033"
                          }
                        },
                        "increasing": {
                          "marker": {
                            "color": "#000032"
                          }
                        },
                        "totals": {
                          "marker": {
                            "color": "#000034"
                          }
                        },
                        "type": "waterfall"
                      }
                    ]
                  },
                  "layout": {
                    "coloraxis": {
                      "colorscale": [
                        [
                          0,
                          "#000011"
                        ],
                        [
                          0.1111111111111111,
                          "#000012"
                        ],
                        [
                          0.2222222222222222,
                          "#000013"
                        ],
                        [
                          0.3333333333333333,
                          "#000014"
                        ],
                        [
                          0.4444444444444444,
                          "#000015"
                        ],
                        [
                          0.5555555555555556,
                          "#000016"
                        ],
                        [
                          0.6666666666666666,
                          "#000017"
                        ],
                        [
                          0.7777777777777778,
                          "#000018"
                        ],
                        [
                          0.8888888888888888,
                          "#000019"
                        ],
                        [
                          1,
                          "#000020"
                        ]
                      ]
                    },
                    "colorscale": {
                      "diverging": [
                        [
                          0,
                          "#000021"
                        ],
                        [
                          0.1,
                          "#000022"
                        ],
                        [
                          0.2,
                          "#000023"
                        ],
                        [
                          0.3,
                          "#000024"
                        ],
                        [
                          0.4,
                          "#000025"
                        ],
                        [
                          0.5,
                          "#000026"
                        ],
                        [
                          0.6,
                          "#000027"
                        ],
                        [
                          0.7,
                          "#000028"
                        ],
                        [
                          0.8,
                          "#000029"
                        ],
                        [
                          0.9,
                          "#000030"
                        ],
                        [
                          1,
                          "#000031"
                        ]
                      ],
                      "sequential": [
                        [
                          0,
                          "#000011"
                        ],
                        [
                          0.1111111111111111,
                          "#000012"
                        ],
                        [
                          0.2222222222222222,
                          "#000013"
                        ],
                        [
                          0.3333333333333333,
                          "#000014"
                        ],
                        [
                          0.4444444444444444,
                          "#000015"
                        ],
                        [
                          0.5555555555555556,
                          "#000016"
                        ],
                        [
                          0.6666666666666666,
                          "#000017"
                        ],
                        [
                          0.7777777777777778,
                          "#000018"
                        ],
                        [
                          0.8888888888888888,
                          "#000019"
                        ],
                        [
                          1,
                          "#000020"
                        ]
                      ],
                      "sequentialminus": [
                        [
                          0,
                          "#000011"
                        ],
                        [
                          0.1111111111111111,
                          "#000012"
                        ],
                        [
                          0.2222222222222222,
                          "#000013"
                        ],
                        [
                          0.3333333333333333,
                          "#000014"
                        ],
                        [
                          0.4444444444444444,
                          "#000015"
                        ],
                        [
                          0.5555555555555556,
                          "#000016"
                        ],
                        [
                          0.6666666666666666,
                          "#000017"
                        ],
                        [
                          0.7777777777777778,
                          "#000018"
                        ],
                        [
                          0.8888888888888888,
                          "#000019"
                        ],
                        [
                          1,
                          "#000020"
                        ]
                      ]
                    },
                    "colorway": [
                      "#000001",
                      "#000002",
                      "#000003",
                      "#000004",
                      "#000005",
                      "#000006",
                      "#000007",
                      "#000008",
                      "#000009",
                      "#000010"
                    ]
                  }
                },
                "width": 600,
                "xaxis": {
                  "anchor": "y",
                  "domain": [
                    0,
                    1
                  ],
                  "title": {
                    "text": "calorias"
                  }
                },
                "yaxis": {
                  "anchor": "x",
                  "domain": [
                    0,
                    1
                  ],
                  "title": {
                    "text": "nota"
                  }
                }
              }
            }
          },
          "metadata": {},
          "output_type": "display_data"
        }
      ],
      "source": [
        "fig = px.scatter(df_data_list_fred, \n",
        "                 x= 'calorias',\n",
        "                 y= 'nota',\n",
        "                 color_discrete_sequence=px.colors.sequential.RdBu)\n",
        "fig.update_layout(\n",
        "width=600,\n",
        "height=400 \n",
        ")\n",
        "fig.show()"
      ]
    },
    {
      "cell_type": "code",
      "execution_count": 481,
      "metadata": {},
      "outputs": [
        {
          "data": {
            "application/vnd.plotly.v1+json": {
              "config": {
                "plotlyServerURL": "https://plot.ly"
              },
              "data": [
                {
                  "hovertemplate": "tempo_jogado=%{x}<br>nota=%{y}<extra></extra>",
                  "legendgroup": "",
                  "marker": {
                    "color": "rgb(103,0,31)",
                    "symbol": "circle"
                  },
                  "mode": "markers",
                  "name": "",
                  "orientation": "v",
                  "showlegend": false,
                  "type": "scatter",
                  "x": [
                    56,
                    48,
                    18,
                    61,
                    61,
                    68,
                    78,
                    67,
                    65,
                    74,
                    50,
                    30,
                    30,
                    22,
                    78,
                    51,
                    50,
                    84,
                    69,
                    73,
                    50
                  ],
                  "xaxis": "x",
                  "y": [
                    8,
                    8,
                    9,
                    7,
                    7,
                    3,
                    9,
                    6,
                    7,
                    8,
                    8.5,
                    6,
                    7,
                    5,
                    5,
                    8,
                    7,
                    6,
                    7,
                    7,
                    6
                  ],
                  "yaxis": "y"
                }
              ],
              "layout": {
                "height": 400,
                "legend": {
                  "tracegroupgap": 0
                },
                "margin": {
                  "t": 60
                },
                "template": {
                  "data": {
                    "candlestick": [
                      {
                        "decreasing": {
                          "line": {
                            "color": "#000033"
                          }
                        },
                        "increasing": {
                          "line": {
                            "color": "#000032"
                          }
                        },
                        "type": "candlestick"
                      }
                    ],
                    "contour": [
                      {
                        "colorscale": [
                          [
                            0,
                            "#000011"
                          ],
                          [
                            0.1111111111111111,
                            "#000012"
                          ],
                          [
                            0.2222222222222222,
                            "#000013"
                          ],
                          [
                            0.3333333333333333,
                            "#000014"
                          ],
                          [
                            0.4444444444444444,
                            "#000015"
                          ],
                          [
                            0.5555555555555556,
                            "#000016"
                          ],
                          [
                            0.6666666666666666,
                            "#000017"
                          ],
                          [
                            0.7777777777777778,
                            "#000018"
                          ],
                          [
                            0.8888888888888888,
                            "#000019"
                          ],
                          [
                            1,
                            "#000020"
                          ]
                        ],
                        "type": "contour"
                      }
                    ],
                    "contourcarpet": [
                      {
                        "colorscale": [
                          [
                            0,
                            "#000011"
                          ],
                          [
                            0.1111111111111111,
                            "#000012"
                          ],
                          [
                            0.2222222222222222,
                            "#000013"
                          ],
                          [
                            0.3333333333333333,
                            "#000014"
                          ],
                          [
                            0.4444444444444444,
                            "#000015"
                          ],
                          [
                            0.5555555555555556,
                            "#000016"
                          ],
                          [
                            0.6666666666666666,
                            "#000017"
                          ],
                          [
                            0.7777777777777778,
                            "#000018"
                          ],
                          [
                            0.8888888888888888,
                            "#000019"
                          ],
                          [
                            1,
                            "#000020"
                          ]
                        ],
                        "type": "contourcarpet"
                      }
                    ],
                    "heatmap": [
                      {
                        "colorscale": [
                          [
                            0,
                            "#000011"
                          ],
                          [
                            0.1111111111111111,
                            "#000012"
                          ],
                          [
                            0.2222222222222222,
                            "#000013"
                          ],
                          [
                            0.3333333333333333,
                            "#000014"
                          ],
                          [
                            0.4444444444444444,
                            "#000015"
                          ],
                          [
                            0.5555555555555556,
                            "#000016"
                          ],
                          [
                            0.6666666666666666,
                            "#000017"
                          ],
                          [
                            0.7777777777777778,
                            "#000018"
                          ],
                          [
                            0.8888888888888888,
                            "#000019"
                          ],
                          [
                            1,
                            "#000020"
                          ]
                        ],
                        "type": "heatmap"
                      }
                    ],
                    "histogram2d": [
                      {
                        "colorscale": [
                          [
                            0,
                            "#000011"
                          ],
                          [
                            0.1111111111111111,
                            "#000012"
                          ],
                          [
                            0.2222222222222222,
                            "#000013"
                          ],
                          [
                            0.3333333333333333,
                            "#000014"
                          ],
                          [
                            0.4444444444444444,
                            "#000015"
                          ],
                          [
                            0.5555555555555556,
                            "#000016"
                          ],
                          [
                            0.6666666666666666,
                            "#000017"
                          ],
                          [
                            0.7777777777777778,
                            "#000018"
                          ],
                          [
                            0.8888888888888888,
                            "#000019"
                          ],
                          [
                            1,
                            "#000020"
                          ]
                        ],
                        "type": "histogram2d"
                      }
                    ],
                    "icicle": [
                      {
                        "textfont": {
                          "color": "white"
                        },
                        "type": "icicle"
                      }
                    ],
                    "sankey": [
                      {
                        "textfont": {
                          "color": "#000036"
                        },
                        "type": "sankey"
                      }
                    ],
                    "scatter": [
                      {
                        "marker": {
                          "line": {
                            "width": 0
                          }
                        },
                        "type": "scatter"
                      }
                    ],
                    "table": [
                      {
                        "cells": {
                          "fill": {
                            "color": "#000038"
                          },
                          "font": {
                            "color": "#000037"
                          },
                          "line": {
                            "color": "#000039"
                          }
                        },
                        "header": {
                          "fill": {
                            "color": "#000040"
                          },
                          "font": {
                            "color": "#000036"
                          },
                          "line": {
                            "color": "#000039"
                          }
                        },
                        "type": "table"
                      }
                    ],
                    "waterfall": [
                      {
                        "connector": {
                          "line": {
                            "color": "#000036",
                            "width": 2
                          }
                        },
                        "decreasing": {
                          "marker": {
                            "color": "#000033"
                          }
                        },
                        "increasing": {
                          "marker": {
                            "color": "#000032"
                          }
                        },
                        "totals": {
                          "marker": {
                            "color": "#000034"
                          }
                        },
                        "type": "waterfall"
                      }
                    ]
                  },
                  "layout": {
                    "coloraxis": {
                      "colorscale": [
                        [
                          0,
                          "#000011"
                        ],
                        [
                          0.1111111111111111,
                          "#000012"
                        ],
                        [
                          0.2222222222222222,
                          "#000013"
                        ],
                        [
                          0.3333333333333333,
                          "#000014"
                        ],
                        [
                          0.4444444444444444,
                          "#000015"
                        ],
                        [
                          0.5555555555555556,
                          "#000016"
                        ],
                        [
                          0.6666666666666666,
                          "#000017"
                        ],
                        [
                          0.7777777777777778,
                          "#000018"
                        ],
                        [
                          0.8888888888888888,
                          "#000019"
                        ],
                        [
                          1,
                          "#000020"
                        ]
                      ]
                    },
                    "colorscale": {
                      "diverging": [
                        [
                          0,
                          "#000021"
                        ],
                        [
                          0.1,
                          "#000022"
                        ],
                        [
                          0.2,
                          "#000023"
                        ],
                        [
                          0.3,
                          "#000024"
                        ],
                        [
                          0.4,
                          "#000025"
                        ],
                        [
                          0.5,
                          "#000026"
                        ],
                        [
                          0.6,
                          "#000027"
                        ],
                        [
                          0.7,
                          "#000028"
                        ],
                        [
                          0.8,
                          "#000029"
                        ],
                        [
                          0.9,
                          "#000030"
                        ],
                        [
                          1,
                          "#000031"
                        ]
                      ],
                      "sequential": [
                        [
                          0,
                          "#000011"
                        ],
                        [
                          0.1111111111111111,
                          "#000012"
                        ],
                        [
                          0.2222222222222222,
                          "#000013"
                        ],
                        [
                          0.3333333333333333,
                          "#000014"
                        ],
                        [
                          0.4444444444444444,
                          "#000015"
                        ],
                        [
                          0.5555555555555556,
                          "#000016"
                        ],
                        [
                          0.6666666666666666,
                          "#000017"
                        ],
                        [
                          0.7777777777777778,
                          "#000018"
                        ],
                        [
                          0.8888888888888888,
                          "#000019"
                        ],
                        [
                          1,
                          "#000020"
                        ]
                      ],
                      "sequentialminus": [
                        [
                          0,
                          "#000011"
                        ],
                        [
                          0.1111111111111111,
                          "#000012"
                        ],
                        [
                          0.2222222222222222,
                          "#000013"
                        ],
                        [
                          0.3333333333333333,
                          "#000014"
                        ],
                        [
                          0.4444444444444444,
                          "#000015"
                        ],
                        [
                          0.5555555555555556,
                          "#000016"
                        ],
                        [
                          0.6666666666666666,
                          "#000017"
                        ],
                        [
                          0.7777777777777778,
                          "#000018"
                        ],
                        [
                          0.8888888888888888,
                          "#000019"
                        ],
                        [
                          1,
                          "#000020"
                        ]
                      ]
                    },
                    "colorway": [
                      "#000001",
                      "#000002",
                      "#000003",
                      "#000004",
                      "#000005",
                      "#000006",
                      "#000007",
                      "#000008",
                      "#000009",
                      "#000010"
                    ]
                  }
                },
                "width": 600,
                "xaxis": {
                  "anchor": "y",
                  "domain": [
                    0,
                    1
                  ],
                  "title": {
                    "text": "tempo_jogado"
                  }
                },
                "yaxis": {
                  "anchor": "x",
                  "domain": [
                    0,
                    1
                  ],
                  "title": {
                    "text": "nota"
                  }
                }
              }
            }
          },
          "metadata": {},
          "output_type": "display_data"
        }
      ],
      "source": [
        "fig = px.scatter(df_data_list_fred, \n",
        "                 x= 'tempo_jogado',\n",
        "                 y= 'nota',\n",
        "                 color_discrete_sequence=px.colors.sequential.RdBu)\n",
        "fig.update_layout(\n",
        "width=600,\n",
        "height=400 \n",
        ")\n",
        "fig.show()"
      ]
    },
    {
      "cell_type": "code",
      "execution_count": 482,
      "metadata": {},
      "outputs": [
        {
          "data": {
            "application/vnd.plotly.v1+json": {
              "config": {
                "plotlyServerURL": "https://plot.ly"
              },
              "data": [
                {
                  "hovertemplate": "animo_pra_jogar=%{x}<br>nota=%{y}<extra></extra>",
                  "legendgroup": "",
                  "marker": {
                    "color": "rgb(103,0,31)",
                    "symbol": "circle"
                  },
                  "mode": "markers",
                  "name": "",
                  "orientation": "v",
                  "showlegend": false,
                  "type": "scatter",
                  "x": [
                    7,
                    8,
                    10,
                    8,
                    8,
                    9,
                    9,
                    5,
                    8,
                    8,
                    8,
                    6,
                    null,
                    null,
                    null,
                    null,
                    null,
                    null,
                    null,
                    null,
                    null
                  ],
                  "xaxis": "x",
                  "y": [
                    8,
                    8,
                    9,
                    7,
                    7,
                    3,
                    9,
                    6,
                    7,
                    8,
                    8.5,
                    6,
                    7,
                    5,
                    5,
                    8,
                    7,
                    6,
                    7,
                    7,
                    6
                  ],
                  "yaxis": "y"
                }
              ],
              "layout": {
                "height": 400,
                "legend": {
                  "tracegroupgap": 0
                },
                "margin": {
                  "t": 60
                },
                "template": {
                  "data": {
                    "candlestick": [
                      {
                        "decreasing": {
                          "line": {
                            "color": "#000033"
                          }
                        },
                        "increasing": {
                          "line": {
                            "color": "#000032"
                          }
                        },
                        "type": "candlestick"
                      }
                    ],
                    "contour": [
                      {
                        "colorscale": [
                          [
                            0,
                            "#000011"
                          ],
                          [
                            0.1111111111111111,
                            "#000012"
                          ],
                          [
                            0.2222222222222222,
                            "#000013"
                          ],
                          [
                            0.3333333333333333,
                            "#000014"
                          ],
                          [
                            0.4444444444444444,
                            "#000015"
                          ],
                          [
                            0.5555555555555556,
                            "#000016"
                          ],
                          [
                            0.6666666666666666,
                            "#000017"
                          ],
                          [
                            0.7777777777777778,
                            "#000018"
                          ],
                          [
                            0.8888888888888888,
                            "#000019"
                          ],
                          [
                            1,
                            "#000020"
                          ]
                        ],
                        "type": "contour"
                      }
                    ],
                    "contourcarpet": [
                      {
                        "colorscale": [
                          [
                            0,
                            "#000011"
                          ],
                          [
                            0.1111111111111111,
                            "#000012"
                          ],
                          [
                            0.2222222222222222,
                            "#000013"
                          ],
                          [
                            0.3333333333333333,
                            "#000014"
                          ],
                          [
                            0.4444444444444444,
                            "#000015"
                          ],
                          [
                            0.5555555555555556,
                            "#000016"
                          ],
                          [
                            0.6666666666666666,
                            "#000017"
                          ],
                          [
                            0.7777777777777778,
                            "#000018"
                          ],
                          [
                            0.8888888888888888,
                            "#000019"
                          ],
                          [
                            1,
                            "#000020"
                          ]
                        ],
                        "type": "contourcarpet"
                      }
                    ],
                    "heatmap": [
                      {
                        "colorscale": [
                          [
                            0,
                            "#000011"
                          ],
                          [
                            0.1111111111111111,
                            "#000012"
                          ],
                          [
                            0.2222222222222222,
                            "#000013"
                          ],
                          [
                            0.3333333333333333,
                            "#000014"
                          ],
                          [
                            0.4444444444444444,
                            "#000015"
                          ],
                          [
                            0.5555555555555556,
                            "#000016"
                          ],
                          [
                            0.6666666666666666,
                            "#000017"
                          ],
                          [
                            0.7777777777777778,
                            "#000018"
                          ],
                          [
                            0.8888888888888888,
                            "#000019"
                          ],
                          [
                            1,
                            "#000020"
                          ]
                        ],
                        "type": "heatmap"
                      }
                    ],
                    "histogram2d": [
                      {
                        "colorscale": [
                          [
                            0,
                            "#000011"
                          ],
                          [
                            0.1111111111111111,
                            "#000012"
                          ],
                          [
                            0.2222222222222222,
                            "#000013"
                          ],
                          [
                            0.3333333333333333,
                            "#000014"
                          ],
                          [
                            0.4444444444444444,
                            "#000015"
                          ],
                          [
                            0.5555555555555556,
                            "#000016"
                          ],
                          [
                            0.6666666666666666,
                            "#000017"
                          ],
                          [
                            0.7777777777777778,
                            "#000018"
                          ],
                          [
                            0.8888888888888888,
                            "#000019"
                          ],
                          [
                            1,
                            "#000020"
                          ]
                        ],
                        "type": "histogram2d"
                      }
                    ],
                    "icicle": [
                      {
                        "textfont": {
                          "color": "white"
                        },
                        "type": "icicle"
                      }
                    ],
                    "sankey": [
                      {
                        "textfont": {
                          "color": "#000036"
                        },
                        "type": "sankey"
                      }
                    ],
                    "scatter": [
                      {
                        "marker": {
                          "line": {
                            "width": 0
                          }
                        },
                        "type": "scatter"
                      }
                    ],
                    "table": [
                      {
                        "cells": {
                          "fill": {
                            "color": "#000038"
                          },
                          "font": {
                            "color": "#000037"
                          },
                          "line": {
                            "color": "#000039"
                          }
                        },
                        "header": {
                          "fill": {
                            "color": "#000040"
                          },
                          "font": {
                            "color": "#000036"
                          },
                          "line": {
                            "color": "#000039"
                          }
                        },
                        "type": "table"
                      }
                    ],
                    "waterfall": [
                      {
                        "connector": {
                          "line": {
                            "color": "#000036",
                            "width": 2
                          }
                        },
                        "decreasing": {
                          "marker": {
                            "color": "#000033"
                          }
                        },
                        "increasing": {
                          "marker": {
                            "color": "#000032"
                          }
                        },
                        "totals": {
                          "marker": {
                            "color": "#000034"
                          }
                        },
                        "type": "waterfall"
                      }
                    ]
                  },
                  "layout": {
                    "coloraxis": {
                      "colorscale": [
                        [
                          0,
                          "#000011"
                        ],
                        [
                          0.1111111111111111,
                          "#000012"
                        ],
                        [
                          0.2222222222222222,
                          "#000013"
                        ],
                        [
                          0.3333333333333333,
                          "#000014"
                        ],
                        [
                          0.4444444444444444,
                          "#000015"
                        ],
                        [
                          0.5555555555555556,
                          "#000016"
                        ],
                        [
                          0.6666666666666666,
                          "#000017"
                        ],
                        [
                          0.7777777777777778,
                          "#000018"
                        ],
                        [
                          0.8888888888888888,
                          "#000019"
                        ],
                        [
                          1,
                          "#000020"
                        ]
                      ]
                    },
                    "colorscale": {
                      "diverging": [
                        [
                          0,
                          "#000021"
                        ],
                        [
                          0.1,
                          "#000022"
                        ],
                        [
                          0.2,
                          "#000023"
                        ],
                        [
                          0.3,
                          "#000024"
                        ],
                        [
                          0.4,
                          "#000025"
                        ],
                        [
                          0.5,
                          "#000026"
                        ],
                        [
                          0.6,
                          "#000027"
                        ],
                        [
                          0.7,
                          "#000028"
                        ],
                        [
                          0.8,
                          "#000029"
                        ],
                        [
                          0.9,
                          "#000030"
                        ],
                        [
                          1,
                          "#000031"
                        ]
                      ],
                      "sequential": [
                        [
                          0,
                          "#000011"
                        ],
                        [
                          0.1111111111111111,
                          "#000012"
                        ],
                        [
                          0.2222222222222222,
                          "#000013"
                        ],
                        [
                          0.3333333333333333,
                          "#000014"
                        ],
                        [
                          0.4444444444444444,
                          "#000015"
                        ],
                        [
                          0.5555555555555556,
                          "#000016"
                        ],
                        [
                          0.6666666666666666,
                          "#000017"
                        ],
                        [
                          0.7777777777777778,
                          "#000018"
                        ],
                        [
                          0.8888888888888888,
                          "#000019"
                        ],
                        [
                          1,
                          "#000020"
                        ]
                      ],
                      "sequentialminus": [
                        [
                          0,
                          "#000011"
                        ],
                        [
                          0.1111111111111111,
                          "#000012"
                        ],
                        [
                          0.2222222222222222,
                          "#000013"
                        ],
                        [
                          0.3333333333333333,
                          "#000014"
                        ],
                        [
                          0.4444444444444444,
                          "#000015"
                        ],
                        [
                          0.5555555555555556,
                          "#000016"
                        ],
                        [
                          0.6666666666666666,
                          "#000017"
                        ],
                        [
                          0.7777777777777778,
                          "#000018"
                        ],
                        [
                          0.8888888888888888,
                          "#000019"
                        ],
                        [
                          1,
                          "#000020"
                        ]
                      ]
                    },
                    "colorway": [
                      "#000001",
                      "#000002",
                      "#000003",
                      "#000004",
                      "#000005",
                      "#000006",
                      "#000007",
                      "#000008",
                      "#000009",
                      "#000010"
                    ]
                  }
                },
                "width": 600,
                "xaxis": {
                  "anchor": "y",
                  "domain": [
                    0,
                    1
                  ],
                  "title": {
                    "text": "animo_pra_jogar"
                  }
                },
                "yaxis": {
                  "anchor": "x",
                  "domain": [
                    0,
                    1
                  ],
                  "title": {
                    "text": "nota"
                  }
                }
              }
            }
          },
          "metadata": {},
          "output_type": "display_data"
        }
      ],
      "source": [
        "fig = px.scatter(df_data_list_fred, \n",
        "                 x= 'animo_pra_jogar',\n",
        "                 y= 'nota',\n",
        "                 color_discrete_sequence=px.colors.sequential.RdBu)\n",
        "fig.update_layout(\n",
        "width=600,\n",
        "height=400 \n",
        ")\n",
        "fig.show()"
      ]
    },
    {
      "cell_type": "code",
      "execution_count": 483,
      "metadata": {},
      "outputs": [
        {
          "data": {
            "application/vnd.plotly.v1+json": {
              "config": {
                "plotlyServerURL": "https://plot.ly"
              },
              "data": [
                {
                  "hovertemplate": "tempo_de_descanso=%{x}<br>nota=%{y}<extra></extra>",
                  "legendgroup": "",
                  "marker": {
                    "color": "rgb(103,0,31)",
                    "symbol": "circle"
                  },
                  "mode": "markers",
                  "name": "",
                  "orientation": "v",
                  "showlegend": false,
                  "type": "scatter",
                  "x": [
                    0,
                    0,
                    0,
                    5,
                    0,
                    3,
                    0,
                    0,
                    2,
                    4,
                    2,
                    0,
                    0,
                    0,
                    0,
                    0,
                    0,
                    0,
                    0,
                    0,
                    0
                  ],
                  "xaxis": "x",
                  "y": [
                    8,
                    8,
                    9,
                    7,
                    7,
                    3,
                    9,
                    6,
                    7,
                    8,
                    8.5,
                    6,
                    7,
                    5,
                    5,
                    8,
                    7,
                    6,
                    7,
                    7,
                    6
                  ],
                  "yaxis": "y"
                }
              ],
              "layout": {
                "height": 400,
                "legend": {
                  "tracegroupgap": 0
                },
                "margin": {
                  "t": 60
                },
                "template": {
                  "data": {
                    "candlestick": [
                      {
                        "decreasing": {
                          "line": {
                            "color": "#000033"
                          }
                        },
                        "increasing": {
                          "line": {
                            "color": "#000032"
                          }
                        },
                        "type": "candlestick"
                      }
                    ],
                    "contour": [
                      {
                        "colorscale": [
                          [
                            0,
                            "#000011"
                          ],
                          [
                            0.1111111111111111,
                            "#000012"
                          ],
                          [
                            0.2222222222222222,
                            "#000013"
                          ],
                          [
                            0.3333333333333333,
                            "#000014"
                          ],
                          [
                            0.4444444444444444,
                            "#000015"
                          ],
                          [
                            0.5555555555555556,
                            "#000016"
                          ],
                          [
                            0.6666666666666666,
                            "#000017"
                          ],
                          [
                            0.7777777777777778,
                            "#000018"
                          ],
                          [
                            0.8888888888888888,
                            "#000019"
                          ],
                          [
                            1,
                            "#000020"
                          ]
                        ],
                        "type": "contour"
                      }
                    ],
                    "contourcarpet": [
                      {
                        "colorscale": [
                          [
                            0,
                            "#000011"
                          ],
                          [
                            0.1111111111111111,
                            "#000012"
                          ],
                          [
                            0.2222222222222222,
                            "#000013"
                          ],
                          [
                            0.3333333333333333,
                            "#000014"
                          ],
                          [
                            0.4444444444444444,
                            "#000015"
                          ],
                          [
                            0.5555555555555556,
                            "#000016"
                          ],
                          [
                            0.6666666666666666,
                            "#000017"
                          ],
                          [
                            0.7777777777777778,
                            "#000018"
                          ],
                          [
                            0.8888888888888888,
                            "#000019"
                          ],
                          [
                            1,
                            "#000020"
                          ]
                        ],
                        "type": "contourcarpet"
                      }
                    ],
                    "heatmap": [
                      {
                        "colorscale": [
                          [
                            0,
                            "#000011"
                          ],
                          [
                            0.1111111111111111,
                            "#000012"
                          ],
                          [
                            0.2222222222222222,
                            "#000013"
                          ],
                          [
                            0.3333333333333333,
                            "#000014"
                          ],
                          [
                            0.4444444444444444,
                            "#000015"
                          ],
                          [
                            0.5555555555555556,
                            "#000016"
                          ],
                          [
                            0.6666666666666666,
                            "#000017"
                          ],
                          [
                            0.7777777777777778,
                            "#000018"
                          ],
                          [
                            0.8888888888888888,
                            "#000019"
                          ],
                          [
                            1,
                            "#000020"
                          ]
                        ],
                        "type": "heatmap"
                      }
                    ],
                    "histogram2d": [
                      {
                        "colorscale": [
                          [
                            0,
                            "#000011"
                          ],
                          [
                            0.1111111111111111,
                            "#000012"
                          ],
                          [
                            0.2222222222222222,
                            "#000013"
                          ],
                          [
                            0.3333333333333333,
                            "#000014"
                          ],
                          [
                            0.4444444444444444,
                            "#000015"
                          ],
                          [
                            0.5555555555555556,
                            "#000016"
                          ],
                          [
                            0.6666666666666666,
                            "#000017"
                          ],
                          [
                            0.7777777777777778,
                            "#000018"
                          ],
                          [
                            0.8888888888888888,
                            "#000019"
                          ],
                          [
                            1,
                            "#000020"
                          ]
                        ],
                        "type": "histogram2d"
                      }
                    ],
                    "icicle": [
                      {
                        "textfont": {
                          "color": "white"
                        },
                        "type": "icicle"
                      }
                    ],
                    "sankey": [
                      {
                        "textfont": {
                          "color": "#000036"
                        },
                        "type": "sankey"
                      }
                    ],
                    "scatter": [
                      {
                        "marker": {
                          "line": {
                            "width": 0
                          }
                        },
                        "type": "scatter"
                      }
                    ],
                    "table": [
                      {
                        "cells": {
                          "fill": {
                            "color": "#000038"
                          },
                          "font": {
                            "color": "#000037"
                          },
                          "line": {
                            "color": "#000039"
                          }
                        },
                        "header": {
                          "fill": {
                            "color": "#000040"
                          },
                          "font": {
                            "color": "#000036"
                          },
                          "line": {
                            "color": "#000039"
                          }
                        },
                        "type": "table"
                      }
                    ],
                    "waterfall": [
                      {
                        "connector": {
                          "line": {
                            "color": "#000036",
                            "width": 2
                          }
                        },
                        "decreasing": {
                          "marker": {
                            "color": "#000033"
                          }
                        },
                        "increasing": {
                          "marker": {
                            "color": "#000032"
                          }
                        },
                        "totals": {
                          "marker": {
                            "color": "#000034"
                          }
                        },
                        "type": "waterfall"
                      }
                    ]
                  },
                  "layout": {
                    "coloraxis": {
                      "colorscale": [
                        [
                          0,
                          "#000011"
                        ],
                        [
                          0.1111111111111111,
                          "#000012"
                        ],
                        [
                          0.2222222222222222,
                          "#000013"
                        ],
                        [
                          0.3333333333333333,
                          "#000014"
                        ],
                        [
                          0.4444444444444444,
                          "#000015"
                        ],
                        [
                          0.5555555555555556,
                          "#000016"
                        ],
                        [
                          0.6666666666666666,
                          "#000017"
                        ],
                        [
                          0.7777777777777778,
                          "#000018"
                        ],
                        [
                          0.8888888888888888,
                          "#000019"
                        ],
                        [
                          1,
                          "#000020"
                        ]
                      ]
                    },
                    "colorscale": {
                      "diverging": [
                        [
                          0,
                          "#000021"
                        ],
                        [
                          0.1,
                          "#000022"
                        ],
                        [
                          0.2,
                          "#000023"
                        ],
                        [
                          0.3,
                          "#000024"
                        ],
                        [
                          0.4,
                          "#000025"
                        ],
                        [
                          0.5,
                          "#000026"
                        ],
                        [
                          0.6,
                          "#000027"
                        ],
                        [
                          0.7,
                          "#000028"
                        ],
                        [
                          0.8,
                          "#000029"
                        ],
                        [
                          0.9,
                          "#000030"
                        ],
                        [
                          1,
                          "#000031"
                        ]
                      ],
                      "sequential": [
                        [
                          0,
                          "#000011"
                        ],
                        [
                          0.1111111111111111,
                          "#000012"
                        ],
                        [
                          0.2222222222222222,
                          "#000013"
                        ],
                        [
                          0.3333333333333333,
                          "#000014"
                        ],
                        [
                          0.4444444444444444,
                          "#000015"
                        ],
                        [
                          0.5555555555555556,
                          "#000016"
                        ],
                        [
                          0.6666666666666666,
                          "#000017"
                        ],
                        [
                          0.7777777777777778,
                          "#000018"
                        ],
                        [
                          0.8888888888888888,
                          "#000019"
                        ],
                        [
                          1,
                          "#000020"
                        ]
                      ],
                      "sequentialminus": [
                        [
                          0,
                          "#000011"
                        ],
                        [
                          0.1111111111111111,
                          "#000012"
                        ],
                        [
                          0.2222222222222222,
                          "#000013"
                        ],
                        [
                          0.3333333333333333,
                          "#000014"
                        ],
                        [
                          0.4444444444444444,
                          "#000015"
                        ],
                        [
                          0.5555555555555556,
                          "#000016"
                        ],
                        [
                          0.6666666666666666,
                          "#000017"
                        ],
                        [
                          0.7777777777777778,
                          "#000018"
                        ],
                        [
                          0.8888888888888888,
                          "#000019"
                        ],
                        [
                          1,
                          "#000020"
                        ]
                      ]
                    },
                    "colorway": [
                      "#000001",
                      "#000002",
                      "#000003",
                      "#000004",
                      "#000005",
                      "#000006",
                      "#000007",
                      "#000008",
                      "#000009",
                      "#000010"
                    ]
                  }
                },
                "width": 600,
                "xaxis": {
                  "anchor": "y",
                  "domain": [
                    0,
                    1
                  ],
                  "title": {
                    "text": "tempo_de_descanso"
                  }
                },
                "yaxis": {
                  "anchor": "x",
                  "domain": [
                    0,
                    1
                  ],
                  "title": {
                    "text": "nota"
                  }
                }
              }
            }
          },
          "metadata": {},
          "output_type": "display_data"
        }
      ],
      "source": [
        "fig = px.scatter(df_data_list_fred, \n",
        "                 x= 'tempo_de_descanso',\n",
        "                 y= 'nota',\n",
        "                 color_discrete_sequence=px.colors.sequential.RdBu)\n",
        "fig.update_layout(\n",
        "width=600,\n",
        "height=400 \n",
        ")\n",
        "fig.show()"
      ]
    },
    {
      "attachments": {},
      "cell_type": "markdown",
      "metadata": {},
      "source": [
        "#### O que afeta o PAI?"
      ]
    },
    {
      "cell_type": "code",
      "execution_count": 484,
      "metadata": {},
      "outputs": [
        {
          "data": {
            "application/vnd.plotly.v1+json": {
              "config": {
                "plotlyServerURL": "https://plot.ly"
              },
              "data": [
                {
                  "hovertemplate": "tempo_de_descanso=%{x}<br>pai=%{y}<extra></extra>",
                  "legendgroup": "",
                  "marker": {
                    "color": "rgb(103,0,31)",
                    "symbol": "circle"
                  },
                  "mode": "markers",
                  "name": "",
                  "orientation": "v",
                  "showlegend": false,
                  "type": "scatter",
                  "x": [
                    0,
                    0,
                    0,
                    5,
                    0,
                    3,
                    0,
                    0,
                    2,
                    4,
                    2,
                    0,
                    0,
                    0,
                    0,
                    0,
                    0,
                    0,
                    0,
                    0,
                    0
                  ],
                  "xaxis": "x",
                  "y": [
                    35,
                    8,
                    4,
                    22,
                    28,
                    25,
                    47,
                    12,
                    20,
                    33,
                    35,
                    11,
                    14,
                    16,
                    19,
                    21,
                    14,
                    31,
                    22,
                    26,
                    16
                  ],
                  "yaxis": "y"
                }
              ],
              "layout": {
                "height": 400,
                "legend": {
                  "tracegroupgap": 0
                },
                "margin": {
                  "t": 60
                },
                "template": {
                  "data": {
                    "candlestick": [
                      {
                        "decreasing": {
                          "line": {
                            "color": "#000033"
                          }
                        },
                        "increasing": {
                          "line": {
                            "color": "#000032"
                          }
                        },
                        "type": "candlestick"
                      }
                    ],
                    "contour": [
                      {
                        "colorscale": [
                          [
                            0,
                            "#000011"
                          ],
                          [
                            0.1111111111111111,
                            "#000012"
                          ],
                          [
                            0.2222222222222222,
                            "#000013"
                          ],
                          [
                            0.3333333333333333,
                            "#000014"
                          ],
                          [
                            0.4444444444444444,
                            "#000015"
                          ],
                          [
                            0.5555555555555556,
                            "#000016"
                          ],
                          [
                            0.6666666666666666,
                            "#000017"
                          ],
                          [
                            0.7777777777777778,
                            "#000018"
                          ],
                          [
                            0.8888888888888888,
                            "#000019"
                          ],
                          [
                            1,
                            "#000020"
                          ]
                        ],
                        "type": "contour"
                      }
                    ],
                    "contourcarpet": [
                      {
                        "colorscale": [
                          [
                            0,
                            "#000011"
                          ],
                          [
                            0.1111111111111111,
                            "#000012"
                          ],
                          [
                            0.2222222222222222,
                            "#000013"
                          ],
                          [
                            0.3333333333333333,
                            "#000014"
                          ],
                          [
                            0.4444444444444444,
                            "#000015"
                          ],
                          [
                            0.5555555555555556,
                            "#000016"
                          ],
                          [
                            0.6666666666666666,
                            "#000017"
                          ],
                          [
                            0.7777777777777778,
                            "#000018"
                          ],
                          [
                            0.8888888888888888,
                            "#000019"
                          ],
                          [
                            1,
                            "#000020"
                          ]
                        ],
                        "type": "contourcarpet"
                      }
                    ],
                    "heatmap": [
                      {
                        "colorscale": [
                          [
                            0,
                            "#000011"
                          ],
                          [
                            0.1111111111111111,
                            "#000012"
                          ],
                          [
                            0.2222222222222222,
                            "#000013"
                          ],
                          [
                            0.3333333333333333,
                            "#000014"
                          ],
                          [
                            0.4444444444444444,
                            "#000015"
                          ],
                          [
                            0.5555555555555556,
                            "#000016"
                          ],
                          [
                            0.6666666666666666,
                            "#000017"
                          ],
                          [
                            0.7777777777777778,
                            "#000018"
                          ],
                          [
                            0.8888888888888888,
                            "#000019"
                          ],
                          [
                            1,
                            "#000020"
                          ]
                        ],
                        "type": "heatmap"
                      }
                    ],
                    "histogram2d": [
                      {
                        "colorscale": [
                          [
                            0,
                            "#000011"
                          ],
                          [
                            0.1111111111111111,
                            "#000012"
                          ],
                          [
                            0.2222222222222222,
                            "#000013"
                          ],
                          [
                            0.3333333333333333,
                            "#000014"
                          ],
                          [
                            0.4444444444444444,
                            "#000015"
                          ],
                          [
                            0.5555555555555556,
                            "#000016"
                          ],
                          [
                            0.6666666666666666,
                            "#000017"
                          ],
                          [
                            0.7777777777777778,
                            "#000018"
                          ],
                          [
                            0.8888888888888888,
                            "#000019"
                          ],
                          [
                            1,
                            "#000020"
                          ]
                        ],
                        "type": "histogram2d"
                      }
                    ],
                    "icicle": [
                      {
                        "textfont": {
                          "color": "white"
                        },
                        "type": "icicle"
                      }
                    ],
                    "sankey": [
                      {
                        "textfont": {
                          "color": "#000036"
                        },
                        "type": "sankey"
                      }
                    ],
                    "scatter": [
                      {
                        "marker": {
                          "line": {
                            "width": 0
                          }
                        },
                        "type": "scatter"
                      }
                    ],
                    "table": [
                      {
                        "cells": {
                          "fill": {
                            "color": "#000038"
                          },
                          "font": {
                            "color": "#000037"
                          },
                          "line": {
                            "color": "#000039"
                          }
                        },
                        "header": {
                          "fill": {
                            "color": "#000040"
                          },
                          "font": {
                            "color": "#000036"
                          },
                          "line": {
                            "color": "#000039"
                          }
                        },
                        "type": "table"
                      }
                    ],
                    "waterfall": [
                      {
                        "connector": {
                          "line": {
                            "color": "#000036",
                            "width": 2
                          }
                        },
                        "decreasing": {
                          "marker": {
                            "color": "#000033"
                          }
                        },
                        "increasing": {
                          "marker": {
                            "color": "#000032"
                          }
                        },
                        "totals": {
                          "marker": {
                            "color": "#000034"
                          }
                        },
                        "type": "waterfall"
                      }
                    ]
                  },
                  "layout": {
                    "coloraxis": {
                      "colorscale": [
                        [
                          0,
                          "#000011"
                        ],
                        [
                          0.1111111111111111,
                          "#000012"
                        ],
                        [
                          0.2222222222222222,
                          "#000013"
                        ],
                        [
                          0.3333333333333333,
                          "#000014"
                        ],
                        [
                          0.4444444444444444,
                          "#000015"
                        ],
                        [
                          0.5555555555555556,
                          "#000016"
                        ],
                        [
                          0.6666666666666666,
                          "#000017"
                        ],
                        [
                          0.7777777777777778,
                          "#000018"
                        ],
                        [
                          0.8888888888888888,
                          "#000019"
                        ],
                        [
                          1,
                          "#000020"
                        ]
                      ]
                    },
                    "colorscale": {
                      "diverging": [
                        [
                          0,
                          "#000021"
                        ],
                        [
                          0.1,
                          "#000022"
                        ],
                        [
                          0.2,
                          "#000023"
                        ],
                        [
                          0.3,
                          "#000024"
                        ],
                        [
                          0.4,
                          "#000025"
                        ],
                        [
                          0.5,
                          "#000026"
                        ],
                        [
                          0.6,
                          "#000027"
                        ],
                        [
                          0.7,
                          "#000028"
                        ],
                        [
                          0.8,
                          "#000029"
                        ],
                        [
                          0.9,
                          "#000030"
                        ],
                        [
                          1,
                          "#000031"
                        ]
                      ],
                      "sequential": [
                        [
                          0,
                          "#000011"
                        ],
                        [
                          0.1111111111111111,
                          "#000012"
                        ],
                        [
                          0.2222222222222222,
                          "#000013"
                        ],
                        [
                          0.3333333333333333,
                          "#000014"
                        ],
                        [
                          0.4444444444444444,
                          "#000015"
                        ],
                        [
                          0.5555555555555556,
                          "#000016"
                        ],
                        [
                          0.6666666666666666,
                          "#000017"
                        ],
                        [
                          0.7777777777777778,
                          "#000018"
                        ],
                        [
                          0.8888888888888888,
                          "#000019"
                        ],
                        [
                          1,
                          "#000020"
                        ]
                      ],
                      "sequentialminus": [
                        [
                          0,
                          "#000011"
                        ],
                        [
                          0.1111111111111111,
                          "#000012"
                        ],
                        [
                          0.2222222222222222,
                          "#000013"
                        ],
                        [
                          0.3333333333333333,
                          "#000014"
                        ],
                        [
                          0.4444444444444444,
                          "#000015"
                        ],
                        [
                          0.5555555555555556,
                          "#000016"
                        ],
                        [
                          0.6666666666666666,
                          "#000017"
                        ],
                        [
                          0.7777777777777778,
                          "#000018"
                        ],
                        [
                          0.8888888888888888,
                          "#000019"
                        ],
                        [
                          1,
                          "#000020"
                        ]
                      ]
                    },
                    "colorway": [
                      "#000001",
                      "#000002",
                      "#000003",
                      "#000004",
                      "#000005",
                      "#000006",
                      "#000007",
                      "#000008",
                      "#000009",
                      "#000010"
                    ]
                  }
                },
                "width": 600,
                "xaxis": {
                  "anchor": "y",
                  "domain": [
                    0,
                    1
                  ],
                  "title": {
                    "text": "tempo_de_descanso"
                  }
                },
                "yaxis": {
                  "anchor": "x",
                  "domain": [
                    0,
                    1
                  ],
                  "title": {
                    "text": "pai"
                  }
                }
              }
            }
          },
          "metadata": {},
          "output_type": "display_data"
        }
      ],
      "source": [
        "fig = px.scatter(df_data_list_fred, \n",
        "                 x= 'tempo_de_descanso',\n",
        "                 y= 'pai',\n",
        "                 color_discrete_sequence=px.colors.sequential.RdBu)\n",
        "fig.update_layout(\n",
        "width=600,\n",
        "height=400 \n",
        ")\n",
        "fig.show()"
      ]
    },
    {
      "cell_type": "code",
      "execution_count": 485,
      "metadata": {},
      "outputs": [
        {
          "data": {
            "application/vnd.plotly.v1+json": {
              "config": {
                "plotlyServerURL": "https://plot.ly"
              },
              "data": [
                {
                  "hovertemplate": "tempo_jogado=%{x}<br>pai=%{y}<extra></extra>",
                  "legendgroup": "",
                  "marker": {
                    "color": "rgb(103,0,31)",
                    "symbol": "circle"
                  },
                  "mode": "markers",
                  "name": "",
                  "orientation": "v",
                  "showlegend": false,
                  "type": "scatter",
                  "x": [
                    56,
                    48,
                    18,
                    61,
                    61,
                    68,
                    78,
                    67,
                    65,
                    74,
                    50,
                    30,
                    30,
                    22,
                    78,
                    51,
                    50,
                    84,
                    69,
                    73,
                    50
                  ],
                  "xaxis": "x",
                  "y": [
                    35,
                    8,
                    4,
                    22,
                    28,
                    25,
                    47,
                    12,
                    20,
                    33,
                    35,
                    11,
                    14,
                    16,
                    19,
                    21,
                    14,
                    31,
                    22,
                    26,
                    16
                  ],
                  "yaxis": "y"
                }
              ],
              "layout": {
                "height": 400,
                "legend": {
                  "tracegroupgap": 0
                },
                "margin": {
                  "t": 60
                },
                "template": {
                  "data": {
                    "candlestick": [
                      {
                        "decreasing": {
                          "line": {
                            "color": "#000033"
                          }
                        },
                        "increasing": {
                          "line": {
                            "color": "#000032"
                          }
                        },
                        "type": "candlestick"
                      }
                    ],
                    "contour": [
                      {
                        "colorscale": [
                          [
                            0,
                            "#000011"
                          ],
                          [
                            0.1111111111111111,
                            "#000012"
                          ],
                          [
                            0.2222222222222222,
                            "#000013"
                          ],
                          [
                            0.3333333333333333,
                            "#000014"
                          ],
                          [
                            0.4444444444444444,
                            "#000015"
                          ],
                          [
                            0.5555555555555556,
                            "#000016"
                          ],
                          [
                            0.6666666666666666,
                            "#000017"
                          ],
                          [
                            0.7777777777777778,
                            "#000018"
                          ],
                          [
                            0.8888888888888888,
                            "#000019"
                          ],
                          [
                            1,
                            "#000020"
                          ]
                        ],
                        "type": "contour"
                      }
                    ],
                    "contourcarpet": [
                      {
                        "colorscale": [
                          [
                            0,
                            "#000011"
                          ],
                          [
                            0.1111111111111111,
                            "#000012"
                          ],
                          [
                            0.2222222222222222,
                            "#000013"
                          ],
                          [
                            0.3333333333333333,
                            "#000014"
                          ],
                          [
                            0.4444444444444444,
                            "#000015"
                          ],
                          [
                            0.5555555555555556,
                            "#000016"
                          ],
                          [
                            0.6666666666666666,
                            "#000017"
                          ],
                          [
                            0.7777777777777778,
                            "#000018"
                          ],
                          [
                            0.8888888888888888,
                            "#000019"
                          ],
                          [
                            1,
                            "#000020"
                          ]
                        ],
                        "type": "contourcarpet"
                      }
                    ],
                    "heatmap": [
                      {
                        "colorscale": [
                          [
                            0,
                            "#000011"
                          ],
                          [
                            0.1111111111111111,
                            "#000012"
                          ],
                          [
                            0.2222222222222222,
                            "#000013"
                          ],
                          [
                            0.3333333333333333,
                            "#000014"
                          ],
                          [
                            0.4444444444444444,
                            "#000015"
                          ],
                          [
                            0.5555555555555556,
                            "#000016"
                          ],
                          [
                            0.6666666666666666,
                            "#000017"
                          ],
                          [
                            0.7777777777777778,
                            "#000018"
                          ],
                          [
                            0.8888888888888888,
                            "#000019"
                          ],
                          [
                            1,
                            "#000020"
                          ]
                        ],
                        "type": "heatmap"
                      }
                    ],
                    "histogram2d": [
                      {
                        "colorscale": [
                          [
                            0,
                            "#000011"
                          ],
                          [
                            0.1111111111111111,
                            "#000012"
                          ],
                          [
                            0.2222222222222222,
                            "#000013"
                          ],
                          [
                            0.3333333333333333,
                            "#000014"
                          ],
                          [
                            0.4444444444444444,
                            "#000015"
                          ],
                          [
                            0.5555555555555556,
                            "#000016"
                          ],
                          [
                            0.6666666666666666,
                            "#000017"
                          ],
                          [
                            0.7777777777777778,
                            "#000018"
                          ],
                          [
                            0.8888888888888888,
                            "#000019"
                          ],
                          [
                            1,
                            "#000020"
                          ]
                        ],
                        "type": "histogram2d"
                      }
                    ],
                    "icicle": [
                      {
                        "textfont": {
                          "color": "white"
                        },
                        "type": "icicle"
                      }
                    ],
                    "sankey": [
                      {
                        "textfont": {
                          "color": "#000036"
                        },
                        "type": "sankey"
                      }
                    ],
                    "scatter": [
                      {
                        "marker": {
                          "line": {
                            "width": 0
                          }
                        },
                        "type": "scatter"
                      }
                    ],
                    "table": [
                      {
                        "cells": {
                          "fill": {
                            "color": "#000038"
                          },
                          "font": {
                            "color": "#000037"
                          },
                          "line": {
                            "color": "#000039"
                          }
                        },
                        "header": {
                          "fill": {
                            "color": "#000040"
                          },
                          "font": {
                            "color": "#000036"
                          },
                          "line": {
                            "color": "#000039"
                          }
                        },
                        "type": "table"
                      }
                    ],
                    "waterfall": [
                      {
                        "connector": {
                          "line": {
                            "color": "#000036",
                            "width": 2
                          }
                        },
                        "decreasing": {
                          "marker": {
                            "color": "#000033"
                          }
                        },
                        "increasing": {
                          "marker": {
                            "color": "#000032"
                          }
                        },
                        "totals": {
                          "marker": {
                            "color": "#000034"
                          }
                        },
                        "type": "waterfall"
                      }
                    ]
                  },
                  "layout": {
                    "coloraxis": {
                      "colorscale": [
                        [
                          0,
                          "#000011"
                        ],
                        [
                          0.1111111111111111,
                          "#000012"
                        ],
                        [
                          0.2222222222222222,
                          "#000013"
                        ],
                        [
                          0.3333333333333333,
                          "#000014"
                        ],
                        [
                          0.4444444444444444,
                          "#000015"
                        ],
                        [
                          0.5555555555555556,
                          "#000016"
                        ],
                        [
                          0.6666666666666666,
                          "#000017"
                        ],
                        [
                          0.7777777777777778,
                          "#000018"
                        ],
                        [
                          0.8888888888888888,
                          "#000019"
                        ],
                        [
                          1,
                          "#000020"
                        ]
                      ]
                    },
                    "colorscale": {
                      "diverging": [
                        [
                          0,
                          "#000021"
                        ],
                        [
                          0.1,
                          "#000022"
                        ],
                        [
                          0.2,
                          "#000023"
                        ],
                        [
                          0.3,
                          "#000024"
                        ],
                        [
                          0.4,
                          "#000025"
                        ],
                        [
                          0.5,
                          "#000026"
                        ],
                        [
                          0.6,
                          "#000027"
                        ],
                        [
                          0.7,
                          "#000028"
                        ],
                        [
                          0.8,
                          "#000029"
                        ],
                        [
                          0.9,
                          "#000030"
                        ],
                        [
                          1,
                          "#000031"
                        ]
                      ],
                      "sequential": [
                        [
                          0,
                          "#000011"
                        ],
                        [
                          0.1111111111111111,
                          "#000012"
                        ],
                        [
                          0.2222222222222222,
                          "#000013"
                        ],
                        [
                          0.3333333333333333,
                          "#000014"
                        ],
                        [
                          0.4444444444444444,
                          "#000015"
                        ],
                        [
                          0.5555555555555556,
                          "#000016"
                        ],
                        [
                          0.6666666666666666,
                          "#000017"
                        ],
                        [
                          0.7777777777777778,
                          "#000018"
                        ],
                        [
                          0.8888888888888888,
                          "#000019"
                        ],
                        [
                          1,
                          "#000020"
                        ]
                      ],
                      "sequentialminus": [
                        [
                          0,
                          "#000011"
                        ],
                        [
                          0.1111111111111111,
                          "#000012"
                        ],
                        [
                          0.2222222222222222,
                          "#000013"
                        ],
                        [
                          0.3333333333333333,
                          "#000014"
                        ],
                        [
                          0.4444444444444444,
                          "#000015"
                        ],
                        [
                          0.5555555555555556,
                          "#000016"
                        ],
                        [
                          0.6666666666666666,
                          "#000017"
                        ],
                        [
                          0.7777777777777778,
                          "#000018"
                        ],
                        [
                          0.8888888888888888,
                          "#000019"
                        ],
                        [
                          1,
                          "#000020"
                        ]
                      ]
                    },
                    "colorway": [
                      "#000001",
                      "#000002",
                      "#000003",
                      "#000004",
                      "#000005",
                      "#000006",
                      "#000007",
                      "#000008",
                      "#000009",
                      "#000010"
                    ]
                  }
                },
                "width": 600,
                "xaxis": {
                  "anchor": "y",
                  "domain": [
                    0,
                    1
                  ],
                  "title": {
                    "text": "tempo_jogado"
                  }
                },
                "yaxis": {
                  "anchor": "x",
                  "domain": [
                    0,
                    1
                  ],
                  "title": {
                    "text": "pai"
                  }
                }
              }
            }
          },
          "metadata": {},
          "output_type": "display_data"
        }
      ],
      "source": [
        "fig = px.scatter(df_data_list_fred, \n",
        "                 x= 'tempo_jogado',\n",
        "                 y= 'pai',\n",
        "                 color_discrete_sequence=px.colors.sequential.RdBu)\n",
        "fig.update_layout(\n",
        "width=600,\n",
        "height=400 \n",
        ")\n",
        "fig.show()"
      ]
    },
    {
      "cell_type": "code",
      "execution_count": 486,
      "metadata": {},
      "outputs": [
        {
          "data": {
            "application/vnd.plotly.v1+json": {
              "config": {
                "plotlyServerURL": "https://plot.ly"
              },
              "data": [
                {
                  "hovertemplate": "nota=%{x}<br>pai=%{y}<extra></extra>",
                  "legendgroup": "",
                  "marker": {
                    "color": "rgb(103,0,31)",
                    "symbol": "circle"
                  },
                  "mode": "markers",
                  "name": "",
                  "orientation": "v",
                  "showlegend": false,
                  "type": "scatter",
                  "x": [
                    8,
                    8,
                    9,
                    7,
                    7,
                    3,
                    9,
                    6,
                    7,
                    8,
                    8.5,
                    6,
                    7,
                    5,
                    5,
                    8,
                    7,
                    6,
                    7,
                    7,
                    6
                  ],
                  "xaxis": "x",
                  "y": [
                    35,
                    8,
                    4,
                    22,
                    28,
                    25,
                    47,
                    12,
                    20,
                    33,
                    35,
                    11,
                    14,
                    16,
                    19,
                    21,
                    14,
                    31,
                    22,
                    26,
                    16
                  ],
                  "yaxis": "y"
                }
              ],
              "layout": {
                "height": 400,
                "legend": {
                  "tracegroupgap": 0
                },
                "margin": {
                  "t": 60
                },
                "template": {
                  "data": {
                    "candlestick": [
                      {
                        "decreasing": {
                          "line": {
                            "color": "#000033"
                          }
                        },
                        "increasing": {
                          "line": {
                            "color": "#000032"
                          }
                        },
                        "type": "candlestick"
                      }
                    ],
                    "contour": [
                      {
                        "colorscale": [
                          [
                            0,
                            "#000011"
                          ],
                          [
                            0.1111111111111111,
                            "#000012"
                          ],
                          [
                            0.2222222222222222,
                            "#000013"
                          ],
                          [
                            0.3333333333333333,
                            "#000014"
                          ],
                          [
                            0.4444444444444444,
                            "#000015"
                          ],
                          [
                            0.5555555555555556,
                            "#000016"
                          ],
                          [
                            0.6666666666666666,
                            "#000017"
                          ],
                          [
                            0.7777777777777778,
                            "#000018"
                          ],
                          [
                            0.8888888888888888,
                            "#000019"
                          ],
                          [
                            1,
                            "#000020"
                          ]
                        ],
                        "type": "contour"
                      }
                    ],
                    "contourcarpet": [
                      {
                        "colorscale": [
                          [
                            0,
                            "#000011"
                          ],
                          [
                            0.1111111111111111,
                            "#000012"
                          ],
                          [
                            0.2222222222222222,
                            "#000013"
                          ],
                          [
                            0.3333333333333333,
                            "#000014"
                          ],
                          [
                            0.4444444444444444,
                            "#000015"
                          ],
                          [
                            0.5555555555555556,
                            "#000016"
                          ],
                          [
                            0.6666666666666666,
                            "#000017"
                          ],
                          [
                            0.7777777777777778,
                            "#000018"
                          ],
                          [
                            0.8888888888888888,
                            "#000019"
                          ],
                          [
                            1,
                            "#000020"
                          ]
                        ],
                        "type": "contourcarpet"
                      }
                    ],
                    "heatmap": [
                      {
                        "colorscale": [
                          [
                            0,
                            "#000011"
                          ],
                          [
                            0.1111111111111111,
                            "#000012"
                          ],
                          [
                            0.2222222222222222,
                            "#000013"
                          ],
                          [
                            0.3333333333333333,
                            "#000014"
                          ],
                          [
                            0.4444444444444444,
                            "#000015"
                          ],
                          [
                            0.5555555555555556,
                            "#000016"
                          ],
                          [
                            0.6666666666666666,
                            "#000017"
                          ],
                          [
                            0.7777777777777778,
                            "#000018"
                          ],
                          [
                            0.8888888888888888,
                            "#000019"
                          ],
                          [
                            1,
                            "#000020"
                          ]
                        ],
                        "type": "heatmap"
                      }
                    ],
                    "histogram2d": [
                      {
                        "colorscale": [
                          [
                            0,
                            "#000011"
                          ],
                          [
                            0.1111111111111111,
                            "#000012"
                          ],
                          [
                            0.2222222222222222,
                            "#000013"
                          ],
                          [
                            0.3333333333333333,
                            "#000014"
                          ],
                          [
                            0.4444444444444444,
                            "#000015"
                          ],
                          [
                            0.5555555555555556,
                            "#000016"
                          ],
                          [
                            0.6666666666666666,
                            "#000017"
                          ],
                          [
                            0.7777777777777778,
                            "#000018"
                          ],
                          [
                            0.8888888888888888,
                            "#000019"
                          ],
                          [
                            1,
                            "#000020"
                          ]
                        ],
                        "type": "histogram2d"
                      }
                    ],
                    "icicle": [
                      {
                        "textfont": {
                          "color": "white"
                        },
                        "type": "icicle"
                      }
                    ],
                    "sankey": [
                      {
                        "textfont": {
                          "color": "#000036"
                        },
                        "type": "sankey"
                      }
                    ],
                    "scatter": [
                      {
                        "marker": {
                          "line": {
                            "width": 0
                          }
                        },
                        "type": "scatter"
                      }
                    ],
                    "table": [
                      {
                        "cells": {
                          "fill": {
                            "color": "#000038"
                          },
                          "font": {
                            "color": "#000037"
                          },
                          "line": {
                            "color": "#000039"
                          }
                        },
                        "header": {
                          "fill": {
                            "color": "#000040"
                          },
                          "font": {
                            "color": "#000036"
                          },
                          "line": {
                            "color": "#000039"
                          }
                        },
                        "type": "table"
                      }
                    ],
                    "waterfall": [
                      {
                        "connector": {
                          "line": {
                            "color": "#000036",
                            "width": 2
                          }
                        },
                        "decreasing": {
                          "marker": {
                            "color": "#000033"
                          }
                        },
                        "increasing": {
                          "marker": {
                            "color": "#000032"
                          }
                        },
                        "totals": {
                          "marker": {
                            "color": "#000034"
                          }
                        },
                        "type": "waterfall"
                      }
                    ]
                  },
                  "layout": {
                    "coloraxis": {
                      "colorscale": [
                        [
                          0,
                          "#000011"
                        ],
                        [
                          0.1111111111111111,
                          "#000012"
                        ],
                        [
                          0.2222222222222222,
                          "#000013"
                        ],
                        [
                          0.3333333333333333,
                          "#000014"
                        ],
                        [
                          0.4444444444444444,
                          "#000015"
                        ],
                        [
                          0.5555555555555556,
                          "#000016"
                        ],
                        [
                          0.6666666666666666,
                          "#000017"
                        ],
                        [
                          0.7777777777777778,
                          "#000018"
                        ],
                        [
                          0.8888888888888888,
                          "#000019"
                        ],
                        [
                          1,
                          "#000020"
                        ]
                      ]
                    },
                    "colorscale": {
                      "diverging": [
                        [
                          0,
                          "#000021"
                        ],
                        [
                          0.1,
                          "#000022"
                        ],
                        [
                          0.2,
                          "#000023"
                        ],
                        [
                          0.3,
                          "#000024"
                        ],
                        [
                          0.4,
                          "#000025"
                        ],
                        [
                          0.5,
                          "#000026"
                        ],
                        [
                          0.6,
                          "#000027"
                        ],
                        [
                          0.7,
                          "#000028"
                        ],
                        [
                          0.8,
                          "#000029"
                        ],
                        [
                          0.9,
                          "#000030"
                        ],
                        [
                          1,
                          "#000031"
                        ]
                      ],
                      "sequential": [
                        [
                          0,
                          "#000011"
                        ],
                        [
                          0.1111111111111111,
                          "#000012"
                        ],
                        [
                          0.2222222222222222,
                          "#000013"
                        ],
                        [
                          0.3333333333333333,
                          "#000014"
                        ],
                        [
                          0.4444444444444444,
                          "#000015"
                        ],
                        [
                          0.5555555555555556,
                          "#000016"
                        ],
                        [
                          0.6666666666666666,
                          "#000017"
                        ],
                        [
                          0.7777777777777778,
                          "#000018"
                        ],
                        [
                          0.8888888888888888,
                          "#000019"
                        ],
                        [
                          1,
                          "#000020"
                        ]
                      ],
                      "sequentialminus": [
                        [
                          0,
                          "#000011"
                        ],
                        [
                          0.1111111111111111,
                          "#000012"
                        ],
                        [
                          0.2222222222222222,
                          "#000013"
                        ],
                        [
                          0.3333333333333333,
                          "#000014"
                        ],
                        [
                          0.4444444444444444,
                          "#000015"
                        ],
                        [
                          0.5555555555555556,
                          "#000016"
                        ],
                        [
                          0.6666666666666666,
                          "#000017"
                        ],
                        [
                          0.7777777777777778,
                          "#000018"
                        ],
                        [
                          0.8888888888888888,
                          "#000019"
                        ],
                        [
                          1,
                          "#000020"
                        ]
                      ]
                    },
                    "colorway": [
                      "#000001",
                      "#000002",
                      "#000003",
                      "#000004",
                      "#000005",
                      "#000006",
                      "#000007",
                      "#000008",
                      "#000009",
                      "#000010"
                    ]
                  }
                },
                "width": 600,
                "xaxis": {
                  "anchor": "y",
                  "domain": [
                    0,
                    1
                  ],
                  "title": {
                    "text": "nota"
                  }
                },
                "yaxis": {
                  "anchor": "x",
                  "domain": [
                    0,
                    1
                  ],
                  "title": {
                    "text": "pai"
                  }
                }
              }
            }
          },
          "metadata": {},
          "output_type": "display_data"
        }
      ],
      "source": [
        "fig = px.scatter(df_data_list_fred, \n",
        "                 x= 'nota',\n",
        "                 y= 'pai',\n",
        "                 color_discrete_sequence=px.colors.sequential.RdBu)\n",
        "fig.update_layout(\n",
        "width=600,\n",
        "height=400 \n",
        ")\n",
        "fig.show()"
      ]
    },
    {
      "cell_type": "code",
      "execution_count": 487,
      "metadata": {},
      "outputs": [
        {
          "data": {
            "application/vnd.plotly.v1+json": {
              "config": {
                "plotlyServerURL": "https://plot.ly"
              },
              "data": [
                {
                  "hovertemplate": "animo_pra_jogar=%{x}<br>pai=%{y}<extra></extra>",
                  "legendgroup": "",
                  "marker": {
                    "color": "rgb(103,0,31)",
                    "symbol": "circle"
                  },
                  "mode": "markers",
                  "name": "",
                  "orientation": "v",
                  "showlegend": false,
                  "type": "scatter",
                  "x": [
                    7,
                    8,
                    10,
                    8,
                    8,
                    9,
                    9,
                    5,
                    8,
                    8,
                    8,
                    6,
                    null,
                    null,
                    null,
                    null,
                    null,
                    null,
                    null,
                    null,
                    null
                  ],
                  "xaxis": "x",
                  "y": [
                    35,
                    8,
                    4,
                    22,
                    28,
                    25,
                    47,
                    12,
                    20,
                    33,
                    35,
                    11,
                    14,
                    16,
                    19,
                    21,
                    14,
                    31,
                    22,
                    26,
                    16
                  ],
                  "yaxis": "y"
                }
              ],
              "layout": {
                "height": 400,
                "legend": {
                  "tracegroupgap": 0
                },
                "margin": {
                  "t": 60
                },
                "template": {
                  "data": {
                    "candlestick": [
                      {
                        "decreasing": {
                          "line": {
                            "color": "#000033"
                          }
                        },
                        "increasing": {
                          "line": {
                            "color": "#000032"
                          }
                        },
                        "type": "candlestick"
                      }
                    ],
                    "contour": [
                      {
                        "colorscale": [
                          [
                            0,
                            "#000011"
                          ],
                          [
                            0.1111111111111111,
                            "#000012"
                          ],
                          [
                            0.2222222222222222,
                            "#000013"
                          ],
                          [
                            0.3333333333333333,
                            "#000014"
                          ],
                          [
                            0.4444444444444444,
                            "#000015"
                          ],
                          [
                            0.5555555555555556,
                            "#000016"
                          ],
                          [
                            0.6666666666666666,
                            "#000017"
                          ],
                          [
                            0.7777777777777778,
                            "#000018"
                          ],
                          [
                            0.8888888888888888,
                            "#000019"
                          ],
                          [
                            1,
                            "#000020"
                          ]
                        ],
                        "type": "contour"
                      }
                    ],
                    "contourcarpet": [
                      {
                        "colorscale": [
                          [
                            0,
                            "#000011"
                          ],
                          [
                            0.1111111111111111,
                            "#000012"
                          ],
                          [
                            0.2222222222222222,
                            "#000013"
                          ],
                          [
                            0.3333333333333333,
                            "#000014"
                          ],
                          [
                            0.4444444444444444,
                            "#000015"
                          ],
                          [
                            0.5555555555555556,
                            "#000016"
                          ],
                          [
                            0.6666666666666666,
                            "#000017"
                          ],
                          [
                            0.7777777777777778,
                            "#000018"
                          ],
                          [
                            0.8888888888888888,
                            "#000019"
                          ],
                          [
                            1,
                            "#000020"
                          ]
                        ],
                        "type": "contourcarpet"
                      }
                    ],
                    "heatmap": [
                      {
                        "colorscale": [
                          [
                            0,
                            "#000011"
                          ],
                          [
                            0.1111111111111111,
                            "#000012"
                          ],
                          [
                            0.2222222222222222,
                            "#000013"
                          ],
                          [
                            0.3333333333333333,
                            "#000014"
                          ],
                          [
                            0.4444444444444444,
                            "#000015"
                          ],
                          [
                            0.5555555555555556,
                            "#000016"
                          ],
                          [
                            0.6666666666666666,
                            "#000017"
                          ],
                          [
                            0.7777777777777778,
                            "#000018"
                          ],
                          [
                            0.8888888888888888,
                            "#000019"
                          ],
                          [
                            1,
                            "#000020"
                          ]
                        ],
                        "type": "heatmap"
                      }
                    ],
                    "histogram2d": [
                      {
                        "colorscale": [
                          [
                            0,
                            "#000011"
                          ],
                          [
                            0.1111111111111111,
                            "#000012"
                          ],
                          [
                            0.2222222222222222,
                            "#000013"
                          ],
                          [
                            0.3333333333333333,
                            "#000014"
                          ],
                          [
                            0.4444444444444444,
                            "#000015"
                          ],
                          [
                            0.5555555555555556,
                            "#000016"
                          ],
                          [
                            0.6666666666666666,
                            "#000017"
                          ],
                          [
                            0.7777777777777778,
                            "#000018"
                          ],
                          [
                            0.8888888888888888,
                            "#000019"
                          ],
                          [
                            1,
                            "#000020"
                          ]
                        ],
                        "type": "histogram2d"
                      }
                    ],
                    "icicle": [
                      {
                        "textfont": {
                          "color": "white"
                        },
                        "type": "icicle"
                      }
                    ],
                    "sankey": [
                      {
                        "textfont": {
                          "color": "#000036"
                        },
                        "type": "sankey"
                      }
                    ],
                    "scatter": [
                      {
                        "marker": {
                          "line": {
                            "width": 0
                          }
                        },
                        "type": "scatter"
                      }
                    ],
                    "table": [
                      {
                        "cells": {
                          "fill": {
                            "color": "#000038"
                          },
                          "font": {
                            "color": "#000037"
                          },
                          "line": {
                            "color": "#000039"
                          }
                        },
                        "header": {
                          "fill": {
                            "color": "#000040"
                          },
                          "font": {
                            "color": "#000036"
                          },
                          "line": {
                            "color": "#000039"
                          }
                        },
                        "type": "table"
                      }
                    ],
                    "waterfall": [
                      {
                        "connector": {
                          "line": {
                            "color": "#000036",
                            "width": 2
                          }
                        },
                        "decreasing": {
                          "marker": {
                            "color": "#000033"
                          }
                        },
                        "increasing": {
                          "marker": {
                            "color": "#000032"
                          }
                        },
                        "totals": {
                          "marker": {
                            "color": "#000034"
                          }
                        },
                        "type": "waterfall"
                      }
                    ]
                  },
                  "layout": {
                    "coloraxis": {
                      "colorscale": [
                        [
                          0,
                          "#000011"
                        ],
                        [
                          0.1111111111111111,
                          "#000012"
                        ],
                        [
                          0.2222222222222222,
                          "#000013"
                        ],
                        [
                          0.3333333333333333,
                          "#000014"
                        ],
                        [
                          0.4444444444444444,
                          "#000015"
                        ],
                        [
                          0.5555555555555556,
                          "#000016"
                        ],
                        [
                          0.6666666666666666,
                          "#000017"
                        ],
                        [
                          0.7777777777777778,
                          "#000018"
                        ],
                        [
                          0.8888888888888888,
                          "#000019"
                        ],
                        [
                          1,
                          "#000020"
                        ]
                      ]
                    },
                    "colorscale": {
                      "diverging": [
                        [
                          0,
                          "#000021"
                        ],
                        [
                          0.1,
                          "#000022"
                        ],
                        [
                          0.2,
                          "#000023"
                        ],
                        [
                          0.3,
                          "#000024"
                        ],
                        [
                          0.4,
                          "#000025"
                        ],
                        [
                          0.5,
                          "#000026"
                        ],
                        [
                          0.6,
                          "#000027"
                        ],
                        [
                          0.7,
                          "#000028"
                        ],
                        [
                          0.8,
                          "#000029"
                        ],
                        [
                          0.9,
                          "#000030"
                        ],
                        [
                          1,
                          "#000031"
                        ]
                      ],
                      "sequential": [
                        [
                          0,
                          "#000011"
                        ],
                        [
                          0.1111111111111111,
                          "#000012"
                        ],
                        [
                          0.2222222222222222,
                          "#000013"
                        ],
                        [
                          0.3333333333333333,
                          "#000014"
                        ],
                        [
                          0.4444444444444444,
                          "#000015"
                        ],
                        [
                          0.5555555555555556,
                          "#000016"
                        ],
                        [
                          0.6666666666666666,
                          "#000017"
                        ],
                        [
                          0.7777777777777778,
                          "#000018"
                        ],
                        [
                          0.8888888888888888,
                          "#000019"
                        ],
                        [
                          1,
                          "#000020"
                        ]
                      ],
                      "sequentialminus": [
                        [
                          0,
                          "#000011"
                        ],
                        [
                          0.1111111111111111,
                          "#000012"
                        ],
                        [
                          0.2222222222222222,
                          "#000013"
                        ],
                        [
                          0.3333333333333333,
                          "#000014"
                        ],
                        [
                          0.4444444444444444,
                          "#000015"
                        ],
                        [
                          0.5555555555555556,
                          "#000016"
                        ],
                        [
                          0.6666666666666666,
                          "#000017"
                        ],
                        [
                          0.7777777777777778,
                          "#000018"
                        ],
                        [
                          0.8888888888888888,
                          "#000019"
                        ],
                        [
                          1,
                          "#000020"
                        ]
                      ]
                    },
                    "colorway": [
                      "#000001",
                      "#000002",
                      "#000003",
                      "#000004",
                      "#000005",
                      "#000006",
                      "#000007",
                      "#000008",
                      "#000009",
                      "#000010"
                    ]
                  }
                },
                "width": 600,
                "xaxis": {
                  "anchor": "y",
                  "domain": [
                    0,
                    1
                  ],
                  "title": {
                    "text": "animo_pra_jogar"
                  }
                },
                "yaxis": {
                  "anchor": "x",
                  "domain": [
                    0,
                    1
                  ],
                  "title": {
                    "text": "pai"
                  }
                }
              }
            }
          },
          "metadata": {},
          "output_type": "display_data"
        }
      ],
      "source": [
        "fig = px.scatter(df_data_list_fred, \n",
        "                 x= 'animo_pra_jogar',\n",
        "                 y= 'pai',\n",
        "                 color_discrete_sequence=px.colors.sequential.RdBu)\n",
        "fig.update_layout(\n",
        "width=600,\n",
        "height=400 \n",
        ")\n",
        "fig.show()"
      ]
    },
    {
      "attachments": {},
      "cell_type": "markdown",
      "metadata": {},
      "source": [
        "#### Matriz de correlação"
      ]
    },
    {
      "cell_type": "code",
      "execution_count": 488,
      "metadata": {},
      "outputs": [
        {
          "data": {
            "application/vnd.plotly.v1+json": {
              "config": {
                "plotlyServerURL": "https://plot.ly"
              },
              "data": [
                {
                  "colorscale": [
                    [
                      0,
                      "#053061"
                    ],
                    [
                      0.5,
                      "#FFFFFF"
                    ],
                    [
                      1,
                      "#67001F"
                    ]
                  ],
                  "type": "heatmap",
                  "z": [
                    [
                      0.10447728037156115,
                      -0.04520754027431505,
                      0.5509568378003926,
                      0.23867221046066844,
                      0.08372476340768135,
                      0.062095339721865865,
                      1
                    ],
                    [
                      0.21102143546322866,
                      0.26101694915254225,
                      0.1763746223015145,
                      -0.02112135516511462,
                      -0.08608071524265969,
                      1,
                      0.062095339721865865
                    ],
                    [
                      0.2347636534679519,
                      -0.12143575570645662,
                      0.6226685407576745,
                      0.9854375440389487,
                      1,
                      -0.08608071524265969,
                      0.08372476340768135
                    ],
                    [
                      0.2505991076908349,
                      -0.08521036265814076,
                      0.7035208257831401,
                      1,
                      0.9854375440389487,
                      -0.02112135516511462,
                      0.23867221046066844
                    ],
                    [
                      0.24453226905606923,
                      0.21868524697541353,
                      1,
                      0.7035208257831401,
                      0.6226685407576745,
                      0.1763746223015145,
                      0.5509568378003926
                    ],
                    [
                      -0.07060539165094806,
                      1,
                      0.21868524697541353,
                      -0.08521036265814076,
                      -0.12143575570645662,
                      0.26101694915254225,
                      -0.04520754027431505
                    ],
                    [
                      1,
                      -0.07060539165094806,
                      0.24453226905606923,
                      0.2505991076908349,
                      0.2347636534679519,
                      0.21102143546322866,
                      0.10447728037156115
                    ]
                  ]
                }
              ],
              "layout": {
                "height": 600,
                "margin": {
                  "b": 100,
                  "l": 150,
                  "r": 150,
                  "t": 100
                },
                "plot_bgcolor": "#E5ECF6",
                "template": {
                  "data": {
                    "candlestick": [
                      {
                        "decreasing": {
                          "line": {
                            "color": "#000033"
                          }
                        },
                        "increasing": {
                          "line": {
                            "color": "#000032"
                          }
                        },
                        "type": "candlestick"
                      }
                    ],
                    "contour": [
                      {
                        "colorscale": [
                          [
                            0,
                            "#000011"
                          ],
                          [
                            0.1111111111111111,
                            "#000012"
                          ],
                          [
                            0.2222222222222222,
                            "#000013"
                          ],
                          [
                            0.3333333333333333,
                            "#000014"
                          ],
                          [
                            0.4444444444444444,
                            "#000015"
                          ],
                          [
                            0.5555555555555556,
                            "#000016"
                          ],
                          [
                            0.6666666666666666,
                            "#000017"
                          ],
                          [
                            0.7777777777777778,
                            "#000018"
                          ],
                          [
                            0.8888888888888888,
                            "#000019"
                          ],
                          [
                            1,
                            "#000020"
                          ]
                        ],
                        "type": "contour"
                      }
                    ],
                    "contourcarpet": [
                      {
                        "colorscale": [
                          [
                            0,
                            "#000011"
                          ],
                          [
                            0.1111111111111111,
                            "#000012"
                          ],
                          [
                            0.2222222222222222,
                            "#000013"
                          ],
                          [
                            0.3333333333333333,
                            "#000014"
                          ],
                          [
                            0.4444444444444444,
                            "#000015"
                          ],
                          [
                            0.5555555555555556,
                            "#000016"
                          ],
                          [
                            0.6666666666666666,
                            "#000017"
                          ],
                          [
                            0.7777777777777778,
                            "#000018"
                          ],
                          [
                            0.8888888888888888,
                            "#000019"
                          ],
                          [
                            1,
                            "#000020"
                          ]
                        ],
                        "type": "contourcarpet"
                      }
                    ],
                    "heatmap": [
                      {
                        "colorscale": [
                          [
                            0,
                            "#000011"
                          ],
                          [
                            0.1111111111111111,
                            "#000012"
                          ],
                          [
                            0.2222222222222222,
                            "#000013"
                          ],
                          [
                            0.3333333333333333,
                            "#000014"
                          ],
                          [
                            0.4444444444444444,
                            "#000015"
                          ],
                          [
                            0.5555555555555556,
                            "#000016"
                          ],
                          [
                            0.6666666666666666,
                            "#000017"
                          ],
                          [
                            0.7777777777777778,
                            "#000018"
                          ],
                          [
                            0.8888888888888888,
                            "#000019"
                          ],
                          [
                            1,
                            "#000020"
                          ]
                        ],
                        "type": "heatmap"
                      }
                    ],
                    "histogram2d": [
                      {
                        "colorscale": [
                          [
                            0,
                            "#000011"
                          ],
                          [
                            0.1111111111111111,
                            "#000012"
                          ],
                          [
                            0.2222222222222222,
                            "#000013"
                          ],
                          [
                            0.3333333333333333,
                            "#000014"
                          ],
                          [
                            0.4444444444444444,
                            "#000015"
                          ],
                          [
                            0.5555555555555556,
                            "#000016"
                          ],
                          [
                            0.6666666666666666,
                            "#000017"
                          ],
                          [
                            0.7777777777777778,
                            "#000018"
                          ],
                          [
                            0.8888888888888888,
                            "#000019"
                          ],
                          [
                            1,
                            "#000020"
                          ]
                        ],
                        "type": "histogram2d"
                      }
                    ],
                    "icicle": [
                      {
                        "textfont": {
                          "color": "white"
                        },
                        "type": "icicle"
                      }
                    ],
                    "sankey": [
                      {
                        "textfont": {
                          "color": "#000036"
                        },
                        "type": "sankey"
                      }
                    ],
                    "scatter": [
                      {
                        "marker": {
                          "line": {
                            "width": 0
                          }
                        },
                        "type": "scatter"
                      }
                    ],
                    "table": [
                      {
                        "cells": {
                          "fill": {
                            "color": "#000038"
                          },
                          "font": {
                            "color": "#000037"
                          },
                          "line": {
                            "color": "#000039"
                          }
                        },
                        "header": {
                          "fill": {
                            "color": "#000040"
                          },
                          "font": {
                            "color": "#000036"
                          },
                          "line": {
                            "color": "#000039"
                          }
                        },
                        "type": "table"
                      }
                    ],
                    "waterfall": [
                      {
                        "connector": {
                          "line": {
                            "color": "#000036",
                            "width": 2
                          }
                        },
                        "decreasing": {
                          "marker": {
                            "color": "#000033"
                          }
                        },
                        "increasing": {
                          "marker": {
                            "color": "#000032"
                          }
                        },
                        "totals": {
                          "marker": {
                            "color": "#000034"
                          }
                        },
                        "type": "waterfall"
                      }
                    ]
                  },
                  "layout": {
                    "coloraxis": {
                      "colorscale": [
                        [
                          0,
                          "#000011"
                        ],
                        [
                          0.1111111111111111,
                          "#000012"
                        ],
                        [
                          0.2222222222222222,
                          "#000013"
                        ],
                        [
                          0.3333333333333333,
                          "#000014"
                        ],
                        [
                          0.4444444444444444,
                          "#000015"
                        ],
                        [
                          0.5555555555555556,
                          "#000016"
                        ],
                        [
                          0.6666666666666666,
                          "#000017"
                        ],
                        [
                          0.7777777777777778,
                          "#000018"
                        ],
                        [
                          0.8888888888888888,
                          "#000019"
                        ],
                        [
                          1,
                          "#000020"
                        ]
                      ]
                    },
                    "colorscale": {
                      "diverging": [
                        [
                          0,
                          "#000021"
                        ],
                        [
                          0.1,
                          "#000022"
                        ],
                        [
                          0.2,
                          "#000023"
                        ],
                        [
                          0.3,
                          "#000024"
                        ],
                        [
                          0.4,
                          "#000025"
                        ],
                        [
                          0.5,
                          "#000026"
                        ],
                        [
                          0.6,
                          "#000027"
                        ],
                        [
                          0.7,
                          "#000028"
                        ],
                        [
                          0.8,
                          "#000029"
                        ],
                        [
                          0.9,
                          "#000030"
                        ],
                        [
                          1,
                          "#000031"
                        ]
                      ],
                      "sequential": [
                        [
                          0,
                          "#000011"
                        ],
                        [
                          0.1111111111111111,
                          "#000012"
                        ],
                        [
                          0.2222222222222222,
                          "#000013"
                        ],
                        [
                          0.3333333333333333,
                          "#000014"
                        ],
                        [
                          0.4444444444444444,
                          "#000015"
                        ],
                        [
                          0.5555555555555556,
                          "#000016"
                        ],
                        [
                          0.6666666666666666,
                          "#000017"
                        ],
                        [
                          0.7777777777777778,
                          "#000018"
                        ],
                        [
                          0.8888888888888888,
                          "#000019"
                        ],
                        [
                          1,
                          "#000020"
                        ]
                      ],
                      "sequentialminus": [
                        [
                          0,
                          "#000011"
                        ],
                        [
                          0.1111111111111111,
                          "#000012"
                        ],
                        [
                          0.2222222222222222,
                          "#000013"
                        ],
                        [
                          0.3333333333333333,
                          "#000014"
                        ],
                        [
                          0.4444444444444444,
                          "#000015"
                        ],
                        [
                          0.5555555555555556,
                          "#000016"
                        ],
                        [
                          0.6666666666666666,
                          "#000017"
                        ],
                        [
                          0.7777777777777778,
                          "#000018"
                        ],
                        [
                          0.8888888888888888,
                          "#000019"
                        ],
                        [
                          1,
                          "#000020"
                        ]
                      ]
                    },
                    "colorway": [
                      "#000001",
                      "#000002",
                      "#000003",
                      "#000004",
                      "#000005",
                      "#000006",
                      "#000007",
                      "#000008",
                      "#000009",
                      "#000010"
                    ]
                  }
                },
                "title": {
                  "text": "Heatmap das variáveis numéricas"
                },
                "width": 750,
                "xaxis": {
                  "ticktext": [
                    "tempo_de_descanso",
                    "nota",
                    "pai",
                    "calorias",
                    "tempo_jogado",
                    "animo_pra_jogar",
                    "calorias_por_min"
                  ],
                  "tickvals": [
                    0,
                    1,
                    2,
                    3,
                    4,
                    5,
                    6
                  ]
                },
                "yaxis": {
                  "ticktext": [
                    "calorias_por_min",
                    "animo_pra_jogar",
                    "tempo_jogado",
                    "calorias",
                    "pai",
                    "nota",
                    "tempo_de_descanso"
                  ],
                  "tickvals": [
                    0,
                    1,
                    2,
                    3,
                    4,
                    5,
                    6
                  ]
                }
              }
            }
          },
          "metadata": {},
          "output_type": "display_data"
        }
      ],
      "source": [
        "import plotly.graph_objects as go\n",
        "import plotly.io as pio\n",
        "import numpy as np\n",
        "\n",
        "# Define the color scale similar to RdBu\n",
        "colorscale = [\n",
        "    [0, '#053061'],  # Dark blue\n",
        "    [0.5, '#FFFFFF'],  # White\n",
        "    [1, '#67001F']  # Dark red\n",
        "]\n",
        "\n",
        "cols = list(df_data_list_fred[df_data_list_fred_colunas_numericas].columns)\n",
        "flipped_cols = cols[::-1]\n",
        "corr = df_data_list_fred[df_data_list_fred_colunas_numericas].corr()\n",
        "array_corr = np.array(corr)\n",
        "flipped_array_corr = np.flip(array_corr, axis=0)\n",
        "\n",
        "# Create the heatmap\n",
        "fig = go.Figure(data=go.Heatmap(z=flipped_array_corr, \n",
        "                                colorscale=colorscale))\n",
        "\n",
        "# Set layout properties\n",
        "fig.update_layout(\n",
        "    title='Heatmap das variáveis numéricas',\n",
        "    xaxis=dict(ticktext=cols, tickvals=np.arange(len(cols))),\n",
        "    yaxis=dict(ticktext=flipped_cols, tickvals=np.arange(len(flipped_cols)))\n",
        ")\n",
        "fig.update_layout(\n",
        "    width=750,\n",
        "    height=600,\n",
        "    margin=dict(l=150, r=150, t=100, b=100),\n",
        "    plot_bgcolor='#E5ECF6'\n",
        ")\n",
        "\n",
        "# Show the heatmap\n",
        "pio.show(fig)\n"
      ]
    },
    {
      "attachments": {},
      "cell_type": "markdown",
      "metadata": {},
      "source": [
        "## Variáveis categóricas"
      ]
    },
    {
      "cell_type": "code",
      "execution_count": 489,
      "metadata": {},
      "outputs": [
        {
          "data": {
            "application/vnd.plotly.v1+json": {
              "config": {
                "plotlyServerURL": "https://plot.ly"
              },
              "data": [
                {
                  "domain": {
                    "x": [
                      0,
                      1
                    ],
                    "y": [
                      0,
                      1
                    ]
                  },
                  "hovertemplate": "label=%{label}<br>value=%{value}<extra></extra>",
                  "labels": [
                    "não",
                    "sim"
                  ],
                  "legendgroup": "",
                  "name": "",
                  "showlegend": true,
                  "type": "pie",
                  "values": [
                    16,
                    5
                  ]
                }
              ],
              "layout": {
                "height": 400,
                "legend": {
                  "tracegroupgap": 0
                },
                "piecolorway": [
                  "rgb(103,0,31)",
                  "rgb(178,24,43)",
                  "rgb(214,96,77)",
                  "rgb(244,165,130)",
                  "rgb(253,219,199)",
                  "rgb(247,247,247)",
                  "rgb(209,229,240)",
                  "rgb(146,197,222)",
                  "rgb(67,147,195)",
                  "rgb(33,102,172)",
                  "rgb(5,48,97)"
                ],
                "template": {
                  "data": {
                    "candlestick": [
                      {
                        "decreasing": {
                          "line": {
                            "color": "#000033"
                          }
                        },
                        "increasing": {
                          "line": {
                            "color": "#000032"
                          }
                        },
                        "type": "candlestick"
                      }
                    ],
                    "contour": [
                      {
                        "colorscale": [
                          [
                            0,
                            "#000011"
                          ],
                          [
                            0.1111111111111111,
                            "#000012"
                          ],
                          [
                            0.2222222222222222,
                            "#000013"
                          ],
                          [
                            0.3333333333333333,
                            "#000014"
                          ],
                          [
                            0.4444444444444444,
                            "#000015"
                          ],
                          [
                            0.5555555555555556,
                            "#000016"
                          ],
                          [
                            0.6666666666666666,
                            "#000017"
                          ],
                          [
                            0.7777777777777778,
                            "#000018"
                          ],
                          [
                            0.8888888888888888,
                            "#000019"
                          ],
                          [
                            1,
                            "#000020"
                          ]
                        ],
                        "type": "contour"
                      }
                    ],
                    "contourcarpet": [
                      {
                        "colorscale": [
                          [
                            0,
                            "#000011"
                          ],
                          [
                            0.1111111111111111,
                            "#000012"
                          ],
                          [
                            0.2222222222222222,
                            "#000013"
                          ],
                          [
                            0.3333333333333333,
                            "#000014"
                          ],
                          [
                            0.4444444444444444,
                            "#000015"
                          ],
                          [
                            0.5555555555555556,
                            "#000016"
                          ],
                          [
                            0.6666666666666666,
                            "#000017"
                          ],
                          [
                            0.7777777777777778,
                            "#000018"
                          ],
                          [
                            0.8888888888888888,
                            "#000019"
                          ],
                          [
                            1,
                            "#000020"
                          ]
                        ],
                        "type": "contourcarpet"
                      }
                    ],
                    "heatmap": [
                      {
                        "colorscale": [
                          [
                            0,
                            "#000011"
                          ],
                          [
                            0.1111111111111111,
                            "#000012"
                          ],
                          [
                            0.2222222222222222,
                            "#000013"
                          ],
                          [
                            0.3333333333333333,
                            "#000014"
                          ],
                          [
                            0.4444444444444444,
                            "#000015"
                          ],
                          [
                            0.5555555555555556,
                            "#000016"
                          ],
                          [
                            0.6666666666666666,
                            "#000017"
                          ],
                          [
                            0.7777777777777778,
                            "#000018"
                          ],
                          [
                            0.8888888888888888,
                            "#000019"
                          ],
                          [
                            1,
                            "#000020"
                          ]
                        ],
                        "type": "heatmap"
                      }
                    ],
                    "histogram2d": [
                      {
                        "colorscale": [
                          [
                            0,
                            "#000011"
                          ],
                          [
                            0.1111111111111111,
                            "#000012"
                          ],
                          [
                            0.2222222222222222,
                            "#000013"
                          ],
                          [
                            0.3333333333333333,
                            "#000014"
                          ],
                          [
                            0.4444444444444444,
                            "#000015"
                          ],
                          [
                            0.5555555555555556,
                            "#000016"
                          ],
                          [
                            0.6666666666666666,
                            "#000017"
                          ],
                          [
                            0.7777777777777778,
                            "#000018"
                          ],
                          [
                            0.8888888888888888,
                            "#000019"
                          ],
                          [
                            1,
                            "#000020"
                          ]
                        ],
                        "type": "histogram2d"
                      }
                    ],
                    "icicle": [
                      {
                        "textfont": {
                          "color": "white"
                        },
                        "type": "icicle"
                      }
                    ],
                    "sankey": [
                      {
                        "textfont": {
                          "color": "#000036"
                        },
                        "type": "sankey"
                      }
                    ],
                    "scatter": [
                      {
                        "marker": {
                          "line": {
                            "width": 0
                          }
                        },
                        "type": "scatter"
                      }
                    ],
                    "table": [
                      {
                        "cells": {
                          "fill": {
                            "color": "#000038"
                          },
                          "font": {
                            "color": "#000037"
                          },
                          "line": {
                            "color": "#000039"
                          }
                        },
                        "header": {
                          "fill": {
                            "color": "#000040"
                          },
                          "font": {
                            "color": "#000036"
                          },
                          "line": {
                            "color": "#000039"
                          }
                        },
                        "type": "table"
                      }
                    ],
                    "waterfall": [
                      {
                        "connector": {
                          "line": {
                            "color": "#000036",
                            "width": 2
                          }
                        },
                        "decreasing": {
                          "marker": {
                            "color": "#000033"
                          }
                        },
                        "increasing": {
                          "marker": {
                            "color": "#000032"
                          }
                        },
                        "totals": {
                          "marker": {
                            "color": "#000034"
                          }
                        },
                        "type": "waterfall"
                      }
                    ]
                  },
                  "layout": {
                    "coloraxis": {
                      "colorscale": [
                        [
                          0,
                          "#000011"
                        ],
                        [
                          0.1111111111111111,
                          "#000012"
                        ],
                        [
                          0.2222222222222222,
                          "#000013"
                        ],
                        [
                          0.3333333333333333,
                          "#000014"
                        ],
                        [
                          0.4444444444444444,
                          "#000015"
                        ],
                        [
                          0.5555555555555556,
                          "#000016"
                        ],
                        [
                          0.6666666666666666,
                          "#000017"
                        ],
                        [
                          0.7777777777777778,
                          "#000018"
                        ],
                        [
                          0.8888888888888888,
                          "#000019"
                        ],
                        [
                          1,
                          "#000020"
                        ]
                      ]
                    },
                    "colorscale": {
                      "diverging": [
                        [
                          0,
                          "#000021"
                        ],
                        [
                          0.1,
                          "#000022"
                        ],
                        [
                          0.2,
                          "#000023"
                        ],
                        [
                          0.3,
                          "#000024"
                        ],
                        [
                          0.4,
                          "#000025"
                        ],
                        [
                          0.5,
                          "#000026"
                        ],
                        [
                          0.6,
                          "#000027"
                        ],
                        [
                          0.7,
                          "#000028"
                        ],
                        [
                          0.8,
                          "#000029"
                        ],
                        [
                          0.9,
                          "#000030"
                        ],
                        [
                          1,
                          "#000031"
                        ]
                      ],
                      "sequential": [
                        [
                          0,
                          "#000011"
                        ],
                        [
                          0.1111111111111111,
                          "#000012"
                        ],
                        [
                          0.2222222222222222,
                          "#000013"
                        ],
                        [
                          0.3333333333333333,
                          "#000014"
                        ],
                        [
                          0.4444444444444444,
                          "#000015"
                        ],
                        [
                          0.5555555555555556,
                          "#000016"
                        ],
                        [
                          0.6666666666666666,
                          "#000017"
                        ],
                        [
                          0.7777777777777778,
                          "#000018"
                        ],
                        [
                          0.8888888888888888,
                          "#000019"
                        ],
                        [
                          1,
                          "#000020"
                        ]
                      ],
                      "sequentialminus": [
                        [
                          0,
                          "#000011"
                        ],
                        [
                          0.1111111111111111,
                          "#000012"
                        ],
                        [
                          0.2222222222222222,
                          "#000013"
                        ],
                        [
                          0.3333333333333333,
                          "#000014"
                        ],
                        [
                          0.4444444444444444,
                          "#000015"
                        ],
                        [
                          0.5555555555555556,
                          "#000016"
                        ],
                        [
                          0.6666666666666666,
                          "#000017"
                        ],
                        [
                          0.7777777777777778,
                          "#000018"
                        ],
                        [
                          0.8888888888888888,
                          "#000019"
                        ],
                        [
                          1,
                          "#000020"
                        ]
                      ]
                    },
                    "colorway": [
                      "#000001",
                      "#000002",
                      "#000003",
                      "#000004",
                      "#000005",
                      "#000006",
                      "#000007",
                      "#000008",
                      "#000009",
                      "#000010"
                    ]
                  }
                },
                "title": {
                  "text": "jogou sozinho?"
                },
                "width": 600
              }
            }
          },
          "metadata": {},
          "output_type": "display_data"
        }
      ],
      "source": [
        "fig = px.pie(df_data_list_fred, \n",
        "       values = df_data_list_fred['jogou_sozinho'].value_counts(), \n",
        "       names = df_data_list_fred['jogou_sozinho'].unique(),\n",
        "       title='jogou sozinho?',\n",
        "       color_discrete_sequence=px.colors.sequential.RdBu)\n",
        "fig.update_layout(\n",
        "width=600,\n",
        "height=400 \n",
        ")\n",
        "fig.show()"
      ]
    },
    {
      "cell_type": "code",
      "execution_count": 490,
      "metadata": {},
      "outputs": [
        {
          "data": {
            "application/vnd.plotly.v1+json": {
              "config": {
                "plotlyServerURL": "https://plot.ly"
              },
              "data": [
                {
                  "alignmentgroup": "True",
                  "hovertemplate": "x=%{x}<br>y=%{y}<br>text=%{text}<extra></extra>",
                  "legendgroup": "",
                  "marker": {
                    "color": "rgb(103,0,31)",
                    "pattern": {
                      "shape": ""
                    }
                  },
                  "name": "",
                  "offsetgroup": "",
                  "orientation": "v",
                  "showlegend": false,
                  "text": [
                    "7.70",
                    "6.62"
                  ],
                  "textposition": "auto",
                  "type": "bar",
                  "x": [
                    "Sim",
                    "Não"
                  ],
                  "xaxis": "x",
                  "y": [
                    7.7,
                    6.625
                  ],
                  "yaxis": "y"
                }
              ],
              "layout": {
                "barmode": "relative",
                "height": 400,
                "legend": {
                  "tracegroupgap": 0
                },
                "template": {
                  "data": {
                    "candlestick": [
                      {
                        "decreasing": {
                          "line": {
                            "color": "#000033"
                          }
                        },
                        "increasing": {
                          "line": {
                            "color": "#000032"
                          }
                        },
                        "type": "candlestick"
                      }
                    ],
                    "contour": [
                      {
                        "colorscale": [
                          [
                            0,
                            "#000011"
                          ],
                          [
                            0.1111111111111111,
                            "#000012"
                          ],
                          [
                            0.2222222222222222,
                            "#000013"
                          ],
                          [
                            0.3333333333333333,
                            "#000014"
                          ],
                          [
                            0.4444444444444444,
                            "#000015"
                          ],
                          [
                            0.5555555555555556,
                            "#000016"
                          ],
                          [
                            0.6666666666666666,
                            "#000017"
                          ],
                          [
                            0.7777777777777778,
                            "#000018"
                          ],
                          [
                            0.8888888888888888,
                            "#000019"
                          ],
                          [
                            1,
                            "#000020"
                          ]
                        ],
                        "type": "contour"
                      }
                    ],
                    "contourcarpet": [
                      {
                        "colorscale": [
                          [
                            0,
                            "#000011"
                          ],
                          [
                            0.1111111111111111,
                            "#000012"
                          ],
                          [
                            0.2222222222222222,
                            "#000013"
                          ],
                          [
                            0.3333333333333333,
                            "#000014"
                          ],
                          [
                            0.4444444444444444,
                            "#000015"
                          ],
                          [
                            0.5555555555555556,
                            "#000016"
                          ],
                          [
                            0.6666666666666666,
                            "#000017"
                          ],
                          [
                            0.7777777777777778,
                            "#000018"
                          ],
                          [
                            0.8888888888888888,
                            "#000019"
                          ],
                          [
                            1,
                            "#000020"
                          ]
                        ],
                        "type": "contourcarpet"
                      }
                    ],
                    "heatmap": [
                      {
                        "colorscale": [
                          [
                            0,
                            "#000011"
                          ],
                          [
                            0.1111111111111111,
                            "#000012"
                          ],
                          [
                            0.2222222222222222,
                            "#000013"
                          ],
                          [
                            0.3333333333333333,
                            "#000014"
                          ],
                          [
                            0.4444444444444444,
                            "#000015"
                          ],
                          [
                            0.5555555555555556,
                            "#000016"
                          ],
                          [
                            0.6666666666666666,
                            "#000017"
                          ],
                          [
                            0.7777777777777778,
                            "#000018"
                          ],
                          [
                            0.8888888888888888,
                            "#000019"
                          ],
                          [
                            1,
                            "#000020"
                          ]
                        ],
                        "type": "heatmap"
                      }
                    ],
                    "histogram2d": [
                      {
                        "colorscale": [
                          [
                            0,
                            "#000011"
                          ],
                          [
                            0.1111111111111111,
                            "#000012"
                          ],
                          [
                            0.2222222222222222,
                            "#000013"
                          ],
                          [
                            0.3333333333333333,
                            "#000014"
                          ],
                          [
                            0.4444444444444444,
                            "#000015"
                          ],
                          [
                            0.5555555555555556,
                            "#000016"
                          ],
                          [
                            0.6666666666666666,
                            "#000017"
                          ],
                          [
                            0.7777777777777778,
                            "#000018"
                          ],
                          [
                            0.8888888888888888,
                            "#000019"
                          ],
                          [
                            1,
                            "#000020"
                          ]
                        ],
                        "type": "histogram2d"
                      }
                    ],
                    "icicle": [
                      {
                        "textfont": {
                          "color": "white"
                        },
                        "type": "icicle"
                      }
                    ],
                    "sankey": [
                      {
                        "textfont": {
                          "color": "#000036"
                        },
                        "type": "sankey"
                      }
                    ],
                    "scatter": [
                      {
                        "marker": {
                          "line": {
                            "width": 0
                          }
                        },
                        "type": "scatter"
                      }
                    ],
                    "table": [
                      {
                        "cells": {
                          "fill": {
                            "color": "#000038"
                          },
                          "font": {
                            "color": "#000037"
                          },
                          "line": {
                            "color": "#000039"
                          }
                        },
                        "header": {
                          "fill": {
                            "color": "#000040"
                          },
                          "font": {
                            "color": "#000036"
                          },
                          "line": {
                            "color": "#000039"
                          }
                        },
                        "type": "table"
                      }
                    ],
                    "waterfall": [
                      {
                        "connector": {
                          "line": {
                            "color": "#000036",
                            "width": 2
                          }
                        },
                        "decreasing": {
                          "marker": {
                            "color": "#000033"
                          }
                        },
                        "increasing": {
                          "marker": {
                            "color": "#000032"
                          }
                        },
                        "totals": {
                          "marker": {
                            "color": "#000034"
                          }
                        },
                        "type": "waterfall"
                      }
                    ]
                  },
                  "layout": {
                    "coloraxis": {
                      "colorscale": [
                        [
                          0,
                          "#000011"
                        ],
                        [
                          0.1111111111111111,
                          "#000012"
                        ],
                        [
                          0.2222222222222222,
                          "#000013"
                        ],
                        [
                          0.3333333333333333,
                          "#000014"
                        ],
                        [
                          0.4444444444444444,
                          "#000015"
                        ],
                        [
                          0.5555555555555556,
                          "#000016"
                        ],
                        [
                          0.6666666666666666,
                          "#000017"
                        ],
                        [
                          0.7777777777777778,
                          "#000018"
                        ],
                        [
                          0.8888888888888888,
                          "#000019"
                        ],
                        [
                          1,
                          "#000020"
                        ]
                      ]
                    },
                    "colorscale": {
                      "diverging": [
                        [
                          0,
                          "#000021"
                        ],
                        [
                          0.1,
                          "#000022"
                        ],
                        [
                          0.2,
                          "#000023"
                        ],
                        [
                          0.3,
                          "#000024"
                        ],
                        [
                          0.4,
                          "#000025"
                        ],
                        [
                          0.5,
                          "#000026"
                        ],
                        [
                          0.6,
                          "#000027"
                        ],
                        [
                          0.7,
                          "#000028"
                        ],
                        [
                          0.8,
                          "#000029"
                        ],
                        [
                          0.9,
                          "#000030"
                        ],
                        [
                          1,
                          "#000031"
                        ]
                      ],
                      "sequential": [
                        [
                          0,
                          "#000011"
                        ],
                        [
                          0.1111111111111111,
                          "#000012"
                        ],
                        [
                          0.2222222222222222,
                          "#000013"
                        ],
                        [
                          0.3333333333333333,
                          "#000014"
                        ],
                        [
                          0.4444444444444444,
                          "#000015"
                        ],
                        [
                          0.5555555555555556,
                          "#000016"
                        ],
                        [
                          0.6666666666666666,
                          "#000017"
                        ],
                        [
                          0.7777777777777778,
                          "#000018"
                        ],
                        [
                          0.8888888888888888,
                          "#000019"
                        ],
                        [
                          1,
                          "#000020"
                        ]
                      ],
                      "sequentialminus": [
                        [
                          0,
                          "#000011"
                        ],
                        [
                          0.1111111111111111,
                          "#000012"
                        ],
                        [
                          0.2222222222222222,
                          "#000013"
                        ],
                        [
                          0.3333333333333333,
                          "#000014"
                        ],
                        [
                          0.4444444444444444,
                          "#000015"
                        ],
                        [
                          0.5555555555555556,
                          "#000016"
                        ],
                        [
                          0.6666666666666666,
                          "#000017"
                        ],
                        [
                          0.7777777777777778,
                          "#000018"
                        ],
                        [
                          0.8888888888888888,
                          "#000019"
                        ],
                        [
                          1,
                          "#000020"
                        ]
                      ]
                    },
                    "colorway": [
                      "#000001",
                      "#000002",
                      "#000003",
                      "#000004",
                      "#000005",
                      "#000006",
                      "#000007",
                      "#000008",
                      "#000009",
                      "#000010"
                    ]
                  }
                },
                "title": {
                  "text": "Jogou Sozinho?"
                },
                "width": 600,
                "xaxis": {
                  "anchor": "y",
                  "domain": [
                    0,
                    1
                  ],
                  "title": {}
                },
                "yaxis": {
                  "anchor": "x",
                  "domain": [
                    0,
                    1
                  ],
                  "title": {
                    "text": "nota média"
                  }
                }
              }
            }
          },
          "metadata": {},
          "output_type": "display_data"
        }
      ],
      "source": [
        "import plotly.express as px\n",
        "\n",
        "nota_media_jogou_sozinho = df_data_list_fred.query('jogou_sozinho == \"sim\"')['nota'].mean()\n",
        "nota_media_jogou_com_mais_gente = df_data_list_fred.query('jogou_sozinho == \"não\"')['nota'].mean()\n",
        "\n",
        "fig = px.bar(x=['Sim', 'Não'],\n",
        "             y=[nota_media_jogou_sozinho, nota_media_jogou_com_mais_gente],\n",
        "             title='Jogou Sozinho?',\n",
        "             text=[f'{nota_media_jogou_sozinho:.2f}', f'{nota_media_jogou_com_mais_gente:.2f}'],\n",
        "             color_discrete_sequence=px.colors.sequential.RdBu)\n",
        "\n",
        "fig.update_layout(\n",
        "    width=600,\n",
        "    height=400,\n",
        "    yaxis_title= 'nota média',\n",
        "    xaxis_title= None\n",
        ")\n",
        "\n",
        "fig.show()"
      ]
    },
    {
      "cell_type": "code",
      "execution_count": 491,
      "metadata": {},
      "outputs": [
        {
          "data": {
            "application/vnd.plotly.v1+json": {
              "config": {
                "plotlyServerURL": "https://plot.ly"
              },
              "data": [
                {
                  "alignmentgroup": "True",
                  "hovertemplate": "x=%{x}<br>y=%{y}<br>text=%{text}<extra></extra>",
                  "legendgroup": "",
                  "marker": {
                    "color": "rgb(103,0,31)",
                    "pattern": {
                      "shape": ""
                    }
                  },
                  "name": "",
                  "offsetgroup": "",
                  "orientation": "v",
                  "showlegend": false,
                  "text": [
                    "9.00",
                    "9.00"
                  ],
                  "textposition": "auto",
                  "type": "bar",
                  "x": [
                    "Sim",
                    "Não"
                  ],
                  "xaxis": "x",
                  "y": [
                    9,
                    9
                  ],
                  "yaxis": "y"
                }
              ],
              "layout": {
                "barmode": "relative",
                "height": 400,
                "legend": {
                  "tracegroupgap": 0
                },
                "template": {
                  "data": {
                    "candlestick": [
                      {
                        "decreasing": {
                          "line": {
                            "color": "#000033"
                          }
                        },
                        "increasing": {
                          "line": {
                            "color": "#000032"
                          }
                        },
                        "type": "candlestick"
                      }
                    ],
                    "contour": [
                      {
                        "colorscale": [
                          [
                            0,
                            "#000011"
                          ],
                          [
                            0.1111111111111111,
                            "#000012"
                          ],
                          [
                            0.2222222222222222,
                            "#000013"
                          ],
                          [
                            0.3333333333333333,
                            "#000014"
                          ],
                          [
                            0.4444444444444444,
                            "#000015"
                          ],
                          [
                            0.5555555555555556,
                            "#000016"
                          ],
                          [
                            0.6666666666666666,
                            "#000017"
                          ],
                          [
                            0.7777777777777778,
                            "#000018"
                          ],
                          [
                            0.8888888888888888,
                            "#000019"
                          ],
                          [
                            1,
                            "#000020"
                          ]
                        ],
                        "type": "contour"
                      }
                    ],
                    "contourcarpet": [
                      {
                        "colorscale": [
                          [
                            0,
                            "#000011"
                          ],
                          [
                            0.1111111111111111,
                            "#000012"
                          ],
                          [
                            0.2222222222222222,
                            "#000013"
                          ],
                          [
                            0.3333333333333333,
                            "#000014"
                          ],
                          [
                            0.4444444444444444,
                            "#000015"
                          ],
                          [
                            0.5555555555555556,
                            "#000016"
                          ],
                          [
                            0.6666666666666666,
                            "#000017"
                          ],
                          [
                            0.7777777777777778,
                            "#000018"
                          ],
                          [
                            0.8888888888888888,
                            "#000019"
                          ],
                          [
                            1,
                            "#000020"
                          ]
                        ],
                        "type": "contourcarpet"
                      }
                    ],
                    "heatmap": [
                      {
                        "colorscale": [
                          [
                            0,
                            "#000011"
                          ],
                          [
                            0.1111111111111111,
                            "#000012"
                          ],
                          [
                            0.2222222222222222,
                            "#000013"
                          ],
                          [
                            0.3333333333333333,
                            "#000014"
                          ],
                          [
                            0.4444444444444444,
                            "#000015"
                          ],
                          [
                            0.5555555555555556,
                            "#000016"
                          ],
                          [
                            0.6666666666666666,
                            "#000017"
                          ],
                          [
                            0.7777777777777778,
                            "#000018"
                          ],
                          [
                            0.8888888888888888,
                            "#000019"
                          ],
                          [
                            1,
                            "#000020"
                          ]
                        ],
                        "type": "heatmap"
                      }
                    ],
                    "histogram2d": [
                      {
                        "colorscale": [
                          [
                            0,
                            "#000011"
                          ],
                          [
                            0.1111111111111111,
                            "#000012"
                          ],
                          [
                            0.2222222222222222,
                            "#000013"
                          ],
                          [
                            0.3333333333333333,
                            "#000014"
                          ],
                          [
                            0.4444444444444444,
                            "#000015"
                          ],
                          [
                            0.5555555555555556,
                            "#000016"
                          ],
                          [
                            0.6666666666666666,
                            "#000017"
                          ],
                          [
                            0.7777777777777778,
                            "#000018"
                          ],
                          [
                            0.8888888888888888,
                            "#000019"
                          ],
                          [
                            1,
                            "#000020"
                          ]
                        ],
                        "type": "histogram2d"
                      }
                    ],
                    "icicle": [
                      {
                        "textfont": {
                          "color": "white"
                        },
                        "type": "icicle"
                      }
                    ],
                    "sankey": [
                      {
                        "textfont": {
                          "color": "#000036"
                        },
                        "type": "sankey"
                      }
                    ],
                    "scatter": [
                      {
                        "marker": {
                          "line": {
                            "width": 0
                          }
                        },
                        "type": "scatter"
                      }
                    ],
                    "table": [
                      {
                        "cells": {
                          "fill": {
                            "color": "#000038"
                          },
                          "font": {
                            "color": "#000037"
                          },
                          "line": {
                            "color": "#000039"
                          }
                        },
                        "header": {
                          "fill": {
                            "color": "#000040"
                          },
                          "font": {
                            "color": "#000036"
                          },
                          "line": {
                            "color": "#000039"
                          }
                        },
                        "type": "table"
                      }
                    ],
                    "waterfall": [
                      {
                        "connector": {
                          "line": {
                            "color": "#000036",
                            "width": 2
                          }
                        },
                        "decreasing": {
                          "marker": {
                            "color": "#000033"
                          }
                        },
                        "increasing": {
                          "marker": {
                            "color": "#000032"
                          }
                        },
                        "totals": {
                          "marker": {
                            "color": "#000034"
                          }
                        },
                        "type": "waterfall"
                      }
                    ]
                  },
                  "layout": {
                    "coloraxis": {
                      "colorscale": [
                        [
                          0,
                          "#000011"
                        ],
                        [
                          0.1111111111111111,
                          "#000012"
                        ],
                        [
                          0.2222222222222222,
                          "#000013"
                        ],
                        [
                          0.3333333333333333,
                          "#000014"
                        ],
                        [
                          0.4444444444444444,
                          "#000015"
                        ],
                        [
                          0.5555555555555556,
                          "#000016"
                        ],
                        [
                          0.6666666666666666,
                          "#000017"
                        ],
                        [
                          0.7777777777777778,
                          "#000018"
                        ],
                        [
                          0.8888888888888888,
                          "#000019"
                        ],
                        [
                          1,
                          "#000020"
                        ]
                      ]
                    },
                    "colorscale": {
                      "diverging": [
                        [
                          0,
                          "#000021"
                        ],
                        [
                          0.1,
                          "#000022"
                        ],
                        [
                          0.2,
                          "#000023"
                        ],
                        [
                          0.3,
                          "#000024"
                        ],
                        [
                          0.4,
                          "#000025"
                        ],
                        [
                          0.5,
                          "#000026"
                        ],
                        [
                          0.6,
                          "#000027"
                        ],
                        [
                          0.7,
                          "#000028"
                        ],
                        [
                          0.8,
                          "#000029"
                        ],
                        [
                          0.9,
                          "#000030"
                        ],
                        [
                          1,
                          "#000031"
                        ]
                      ],
                      "sequential": [
                        [
                          0,
                          "#000011"
                        ],
                        [
                          0.1111111111111111,
                          "#000012"
                        ],
                        [
                          0.2222222222222222,
                          "#000013"
                        ],
                        [
                          0.3333333333333333,
                          "#000014"
                        ],
                        [
                          0.4444444444444444,
                          "#000015"
                        ],
                        [
                          0.5555555555555556,
                          "#000016"
                        ],
                        [
                          0.6666666666666666,
                          "#000017"
                        ],
                        [
                          0.7777777777777778,
                          "#000018"
                        ],
                        [
                          0.8888888888888888,
                          "#000019"
                        ],
                        [
                          1,
                          "#000020"
                        ]
                      ],
                      "sequentialminus": [
                        [
                          0,
                          "#000011"
                        ],
                        [
                          0.1111111111111111,
                          "#000012"
                        ],
                        [
                          0.2222222222222222,
                          "#000013"
                        ],
                        [
                          0.3333333333333333,
                          "#000014"
                        ],
                        [
                          0.4444444444444444,
                          "#000015"
                        ],
                        [
                          0.5555555555555556,
                          "#000016"
                        ],
                        [
                          0.6666666666666666,
                          "#000017"
                        ],
                        [
                          0.7777777777777778,
                          "#000018"
                        ],
                        [
                          0.8888888888888888,
                          "#000019"
                        ],
                        [
                          1,
                          "#000020"
                        ]
                      ]
                    },
                    "colorway": [
                      "#000001",
                      "#000002",
                      "#000003",
                      "#000004",
                      "#000005",
                      "#000006",
                      "#000007",
                      "#000008",
                      "#000009",
                      "#000010"
                    ]
                  }
                },
                "title": {
                  "text": "Jogou Sozinho?"
                },
                "width": 600,
                "xaxis": {
                  "anchor": "y",
                  "domain": [
                    0,
                    1
                  ],
                  "title": {}
                },
                "yaxis": {
                  "anchor": "x",
                  "domain": [
                    0,
                    1
                  ],
                  "title": {
                    "text": "nota mais alta"
                  }
                }
              }
            }
          },
          "metadata": {},
          "output_type": "display_data"
        }
      ],
      "source": [
        "import plotly.express as px\n",
        "\n",
        "nota_media_jogou_sozinho = df_data_list_fred.query('jogou_sozinho == \"sim\"')['nota'].max()\n",
        "nota_media_jogou_com_mais_gente = df_data_list_fred.query('jogou_sozinho == \"não\"')['nota'].max()\n",
        "\n",
        "fig = px.bar(x=['Sim', 'Não'],\n",
        "             y=[nota_media_jogou_sozinho, nota_media_jogou_com_mais_gente],\n",
        "             title='Jogou Sozinho?',\n",
        "             text=[f'{nota_media_jogou_sozinho:.2f}', f'{nota_media_jogou_com_mais_gente:.2f}'],\n",
        "             color_discrete_sequence=px.colors.sequential.RdBu)\n",
        "\n",
        "fig.update_layout(\n",
        "    width=600,\n",
        "    height=400,\n",
        "    yaxis_title= 'nota mais alta',\n",
        "    xaxis_title= None\n",
        ")\n",
        "\n",
        "fig.show()"
      ]
    },
    {
      "cell_type": "code",
      "execution_count": 492,
      "metadata": {},
      "outputs": [
        {
          "data": {
            "application/vnd.plotly.v1+json": {
              "config": {
                "plotlyServerURL": "https://plot.ly"
              },
              "data": [
                {
                  "domain": {
                    "x": [
                      0,
                      1
                    ],
                    "y": [
                      0,
                      1
                    ]
                  },
                  "hovertemplate": "label=%{label}<br>value=%{value}<extra></extra>",
                  "labels": [
                    "não",
                    "sim"
                  ],
                  "legendgroup": "",
                  "name": "",
                  "showlegend": true,
                  "type": "pie",
                  "values": [
                    19,
                    2
                  ]
                }
              ],
              "layout": {
                "height": 400,
                "legend": {
                  "tracegroupgap": 0
                },
                "piecolorway": [
                  "rgb(103,0,31)",
                  "rgb(178,24,43)",
                  "rgb(214,96,77)",
                  "rgb(244,165,130)",
                  "rgb(253,219,199)",
                  "rgb(247,247,247)",
                  "rgb(209,229,240)",
                  "rgb(146,197,222)",
                  "rgb(67,147,195)",
                  "rgb(33,102,172)",
                  "rgb(5,48,97)"
                ],
                "template": {
                  "data": {
                    "candlestick": [
                      {
                        "decreasing": {
                          "line": {
                            "color": "#000033"
                          }
                        },
                        "increasing": {
                          "line": {
                            "color": "#000032"
                          }
                        },
                        "type": "candlestick"
                      }
                    ],
                    "contour": [
                      {
                        "colorscale": [
                          [
                            0,
                            "#000011"
                          ],
                          [
                            0.1111111111111111,
                            "#000012"
                          ],
                          [
                            0.2222222222222222,
                            "#000013"
                          ],
                          [
                            0.3333333333333333,
                            "#000014"
                          ],
                          [
                            0.4444444444444444,
                            "#000015"
                          ],
                          [
                            0.5555555555555556,
                            "#000016"
                          ],
                          [
                            0.6666666666666666,
                            "#000017"
                          ],
                          [
                            0.7777777777777778,
                            "#000018"
                          ],
                          [
                            0.8888888888888888,
                            "#000019"
                          ],
                          [
                            1,
                            "#000020"
                          ]
                        ],
                        "type": "contour"
                      }
                    ],
                    "contourcarpet": [
                      {
                        "colorscale": [
                          [
                            0,
                            "#000011"
                          ],
                          [
                            0.1111111111111111,
                            "#000012"
                          ],
                          [
                            0.2222222222222222,
                            "#000013"
                          ],
                          [
                            0.3333333333333333,
                            "#000014"
                          ],
                          [
                            0.4444444444444444,
                            "#000015"
                          ],
                          [
                            0.5555555555555556,
                            "#000016"
                          ],
                          [
                            0.6666666666666666,
                            "#000017"
                          ],
                          [
                            0.7777777777777778,
                            "#000018"
                          ],
                          [
                            0.8888888888888888,
                            "#000019"
                          ],
                          [
                            1,
                            "#000020"
                          ]
                        ],
                        "type": "contourcarpet"
                      }
                    ],
                    "heatmap": [
                      {
                        "colorscale": [
                          [
                            0,
                            "#000011"
                          ],
                          [
                            0.1111111111111111,
                            "#000012"
                          ],
                          [
                            0.2222222222222222,
                            "#000013"
                          ],
                          [
                            0.3333333333333333,
                            "#000014"
                          ],
                          [
                            0.4444444444444444,
                            "#000015"
                          ],
                          [
                            0.5555555555555556,
                            "#000016"
                          ],
                          [
                            0.6666666666666666,
                            "#000017"
                          ],
                          [
                            0.7777777777777778,
                            "#000018"
                          ],
                          [
                            0.8888888888888888,
                            "#000019"
                          ],
                          [
                            1,
                            "#000020"
                          ]
                        ],
                        "type": "heatmap"
                      }
                    ],
                    "histogram2d": [
                      {
                        "colorscale": [
                          [
                            0,
                            "#000011"
                          ],
                          [
                            0.1111111111111111,
                            "#000012"
                          ],
                          [
                            0.2222222222222222,
                            "#000013"
                          ],
                          [
                            0.3333333333333333,
                            "#000014"
                          ],
                          [
                            0.4444444444444444,
                            "#000015"
                          ],
                          [
                            0.5555555555555556,
                            "#000016"
                          ],
                          [
                            0.6666666666666666,
                            "#000017"
                          ],
                          [
                            0.7777777777777778,
                            "#000018"
                          ],
                          [
                            0.8888888888888888,
                            "#000019"
                          ],
                          [
                            1,
                            "#000020"
                          ]
                        ],
                        "type": "histogram2d"
                      }
                    ],
                    "icicle": [
                      {
                        "textfont": {
                          "color": "white"
                        },
                        "type": "icicle"
                      }
                    ],
                    "sankey": [
                      {
                        "textfont": {
                          "color": "#000036"
                        },
                        "type": "sankey"
                      }
                    ],
                    "scatter": [
                      {
                        "marker": {
                          "line": {
                            "width": 0
                          }
                        },
                        "type": "scatter"
                      }
                    ],
                    "table": [
                      {
                        "cells": {
                          "fill": {
                            "color": "#000038"
                          },
                          "font": {
                            "color": "#000037"
                          },
                          "line": {
                            "color": "#000039"
                          }
                        },
                        "header": {
                          "fill": {
                            "color": "#000040"
                          },
                          "font": {
                            "color": "#000036"
                          },
                          "line": {
                            "color": "#000039"
                          }
                        },
                        "type": "table"
                      }
                    ],
                    "waterfall": [
                      {
                        "connector": {
                          "line": {
                            "color": "#000036",
                            "width": 2
                          }
                        },
                        "decreasing": {
                          "marker": {
                            "color": "#000033"
                          }
                        },
                        "increasing": {
                          "marker": {
                            "color": "#000032"
                          }
                        },
                        "totals": {
                          "marker": {
                            "color": "#000034"
                          }
                        },
                        "type": "waterfall"
                      }
                    ]
                  },
                  "layout": {
                    "coloraxis": {
                      "colorscale": [
                        [
                          0,
                          "#000011"
                        ],
                        [
                          0.1111111111111111,
                          "#000012"
                        ],
                        [
                          0.2222222222222222,
                          "#000013"
                        ],
                        [
                          0.3333333333333333,
                          "#000014"
                        ],
                        [
                          0.4444444444444444,
                          "#000015"
                        ],
                        [
                          0.5555555555555556,
                          "#000016"
                        ],
                        [
                          0.6666666666666666,
                          "#000017"
                        ],
                        [
                          0.7777777777777778,
                          "#000018"
                        ],
                        [
                          0.8888888888888888,
                          "#000019"
                        ],
                        [
                          1,
                          "#000020"
                        ]
                      ]
                    },
                    "colorscale": {
                      "diverging": [
                        [
                          0,
                          "#000021"
                        ],
                        [
                          0.1,
                          "#000022"
                        ],
                        [
                          0.2,
                          "#000023"
                        ],
                        [
                          0.3,
                          "#000024"
                        ],
                        [
                          0.4,
                          "#000025"
                        ],
                        [
                          0.5,
                          "#000026"
                        ],
                        [
                          0.6,
                          "#000027"
                        ],
                        [
                          0.7,
                          "#000028"
                        ],
                        [
                          0.8,
                          "#000029"
                        ],
                        [
                          0.9,
                          "#000030"
                        ],
                        [
                          1,
                          "#000031"
                        ]
                      ],
                      "sequential": [
                        [
                          0,
                          "#000011"
                        ],
                        [
                          0.1111111111111111,
                          "#000012"
                        ],
                        [
                          0.2222222222222222,
                          "#000013"
                        ],
                        [
                          0.3333333333333333,
                          "#000014"
                        ],
                        [
                          0.4444444444444444,
                          "#000015"
                        ],
                        [
                          0.5555555555555556,
                          "#000016"
                        ],
                        [
                          0.6666666666666666,
                          "#000017"
                        ],
                        [
                          0.7777777777777778,
                          "#000018"
                        ],
                        [
                          0.8888888888888888,
                          "#000019"
                        ],
                        [
                          1,
                          "#000020"
                        ]
                      ],
                      "sequentialminus": [
                        [
                          0,
                          "#000011"
                        ],
                        [
                          0.1111111111111111,
                          "#000012"
                        ],
                        [
                          0.2222222222222222,
                          "#000013"
                        ],
                        [
                          0.3333333333333333,
                          "#000014"
                        ],
                        [
                          0.4444444444444444,
                          "#000015"
                        ],
                        [
                          0.5555555555555556,
                          "#000016"
                        ],
                        [
                          0.6666666666666666,
                          "#000017"
                        ],
                        [
                          0.7777777777777778,
                          "#000018"
                        ],
                        [
                          0.8888888888888888,
                          "#000019"
                        ],
                        [
                          1,
                          "#000020"
                        ]
                      ]
                    },
                    "colorway": [
                      "#000001",
                      "#000002",
                      "#000003",
                      "#000004",
                      "#000005",
                      "#000006",
                      "#000007",
                      "#000008",
                      "#000009",
                      "#000010"
                    ]
                  }
                },
                "title": {
                  "text": "ouviu música?"
                },
                "width": 600
              }
            }
          },
          "metadata": {},
          "output_type": "display_data"
        }
      ],
      "source": [
        "fig = px.pie(df_data_list_fred, \n",
        "       values = df_data_list_fred['ouviu_musica'].value_counts(), \n",
        "       names = df_data_list_fred['ouviu_musica'].unique(),\n",
        "       title='ouviu música?',\n",
        "       color_discrete_sequence=px.colors.sequential.RdBu)\n",
        "fig.update_layout(\n",
        "width=600,  # Set the desired width of the plot\n",
        "height=400  # Set the desired height of the plot\n",
        ")\n",
        "fig.show()"
      ]
    },
    {
      "cell_type": "code",
      "execution_count": 493,
      "metadata": {},
      "outputs": [
        {
          "data": {
            "application/vnd.plotly.v1+json": {
              "config": {
                "plotlyServerURL": "https://plot.ly"
              },
              "data": [
                {
                  "alignmentgroup": "True",
                  "hovertemplate": "x=%{x}<br>y=%{y}<br>text=%{text}<extra></extra>",
                  "legendgroup": "",
                  "marker": {
                    "color": "rgb(103,0,31)",
                    "pattern": {
                      "shape": ""
                    }
                  },
                  "name": "",
                  "offsetgroup": "",
                  "orientation": "v",
                  "showlegend": false,
                  "text": [
                    "8.25",
                    "6.74"
                  ],
                  "textposition": "auto",
                  "type": "bar",
                  "x": [
                    "Sim",
                    "Não"
                  ],
                  "xaxis": "x",
                  "y": [
                    8.25,
                    6.7368421052631575
                  ],
                  "yaxis": "y"
                }
              ],
              "layout": {
                "barmode": "relative",
                "height": 400,
                "legend": {
                  "tracegroupgap": 0
                },
                "template": {
                  "data": {
                    "candlestick": [
                      {
                        "decreasing": {
                          "line": {
                            "color": "#000033"
                          }
                        },
                        "increasing": {
                          "line": {
                            "color": "#000032"
                          }
                        },
                        "type": "candlestick"
                      }
                    ],
                    "contour": [
                      {
                        "colorscale": [
                          [
                            0,
                            "#000011"
                          ],
                          [
                            0.1111111111111111,
                            "#000012"
                          ],
                          [
                            0.2222222222222222,
                            "#000013"
                          ],
                          [
                            0.3333333333333333,
                            "#000014"
                          ],
                          [
                            0.4444444444444444,
                            "#000015"
                          ],
                          [
                            0.5555555555555556,
                            "#000016"
                          ],
                          [
                            0.6666666666666666,
                            "#000017"
                          ],
                          [
                            0.7777777777777778,
                            "#000018"
                          ],
                          [
                            0.8888888888888888,
                            "#000019"
                          ],
                          [
                            1,
                            "#000020"
                          ]
                        ],
                        "type": "contour"
                      }
                    ],
                    "contourcarpet": [
                      {
                        "colorscale": [
                          [
                            0,
                            "#000011"
                          ],
                          [
                            0.1111111111111111,
                            "#000012"
                          ],
                          [
                            0.2222222222222222,
                            "#000013"
                          ],
                          [
                            0.3333333333333333,
                            "#000014"
                          ],
                          [
                            0.4444444444444444,
                            "#000015"
                          ],
                          [
                            0.5555555555555556,
                            "#000016"
                          ],
                          [
                            0.6666666666666666,
                            "#000017"
                          ],
                          [
                            0.7777777777777778,
                            "#000018"
                          ],
                          [
                            0.8888888888888888,
                            "#000019"
                          ],
                          [
                            1,
                            "#000020"
                          ]
                        ],
                        "type": "contourcarpet"
                      }
                    ],
                    "heatmap": [
                      {
                        "colorscale": [
                          [
                            0,
                            "#000011"
                          ],
                          [
                            0.1111111111111111,
                            "#000012"
                          ],
                          [
                            0.2222222222222222,
                            "#000013"
                          ],
                          [
                            0.3333333333333333,
                            "#000014"
                          ],
                          [
                            0.4444444444444444,
                            "#000015"
                          ],
                          [
                            0.5555555555555556,
                            "#000016"
                          ],
                          [
                            0.6666666666666666,
                            "#000017"
                          ],
                          [
                            0.7777777777777778,
                            "#000018"
                          ],
                          [
                            0.8888888888888888,
                            "#000019"
                          ],
                          [
                            1,
                            "#000020"
                          ]
                        ],
                        "type": "heatmap"
                      }
                    ],
                    "histogram2d": [
                      {
                        "colorscale": [
                          [
                            0,
                            "#000011"
                          ],
                          [
                            0.1111111111111111,
                            "#000012"
                          ],
                          [
                            0.2222222222222222,
                            "#000013"
                          ],
                          [
                            0.3333333333333333,
                            "#000014"
                          ],
                          [
                            0.4444444444444444,
                            "#000015"
                          ],
                          [
                            0.5555555555555556,
                            "#000016"
                          ],
                          [
                            0.6666666666666666,
                            "#000017"
                          ],
                          [
                            0.7777777777777778,
                            "#000018"
                          ],
                          [
                            0.8888888888888888,
                            "#000019"
                          ],
                          [
                            1,
                            "#000020"
                          ]
                        ],
                        "type": "histogram2d"
                      }
                    ],
                    "icicle": [
                      {
                        "textfont": {
                          "color": "white"
                        },
                        "type": "icicle"
                      }
                    ],
                    "sankey": [
                      {
                        "textfont": {
                          "color": "#000036"
                        },
                        "type": "sankey"
                      }
                    ],
                    "scatter": [
                      {
                        "marker": {
                          "line": {
                            "width": 0
                          }
                        },
                        "type": "scatter"
                      }
                    ],
                    "table": [
                      {
                        "cells": {
                          "fill": {
                            "color": "#000038"
                          },
                          "font": {
                            "color": "#000037"
                          },
                          "line": {
                            "color": "#000039"
                          }
                        },
                        "header": {
                          "fill": {
                            "color": "#000040"
                          },
                          "font": {
                            "color": "#000036"
                          },
                          "line": {
                            "color": "#000039"
                          }
                        },
                        "type": "table"
                      }
                    ],
                    "waterfall": [
                      {
                        "connector": {
                          "line": {
                            "color": "#000036",
                            "width": 2
                          }
                        },
                        "decreasing": {
                          "marker": {
                            "color": "#000033"
                          }
                        },
                        "increasing": {
                          "marker": {
                            "color": "#000032"
                          }
                        },
                        "totals": {
                          "marker": {
                            "color": "#000034"
                          }
                        },
                        "type": "waterfall"
                      }
                    ]
                  },
                  "layout": {
                    "coloraxis": {
                      "colorscale": [
                        [
                          0,
                          "#000011"
                        ],
                        [
                          0.1111111111111111,
                          "#000012"
                        ],
                        [
                          0.2222222222222222,
                          "#000013"
                        ],
                        [
                          0.3333333333333333,
                          "#000014"
                        ],
                        [
                          0.4444444444444444,
                          "#000015"
                        ],
                        [
                          0.5555555555555556,
                          "#000016"
                        ],
                        [
                          0.6666666666666666,
                          "#000017"
                        ],
                        [
                          0.7777777777777778,
                          "#000018"
                        ],
                        [
                          0.8888888888888888,
                          "#000019"
                        ],
                        [
                          1,
                          "#000020"
                        ]
                      ]
                    },
                    "colorscale": {
                      "diverging": [
                        [
                          0,
                          "#000021"
                        ],
                        [
                          0.1,
                          "#000022"
                        ],
                        [
                          0.2,
                          "#000023"
                        ],
                        [
                          0.3,
                          "#000024"
                        ],
                        [
                          0.4,
                          "#000025"
                        ],
                        [
                          0.5,
                          "#000026"
                        ],
                        [
                          0.6,
                          "#000027"
                        ],
                        [
                          0.7,
                          "#000028"
                        ],
                        [
                          0.8,
                          "#000029"
                        ],
                        [
                          0.9,
                          "#000030"
                        ],
                        [
                          1,
                          "#000031"
                        ]
                      ],
                      "sequential": [
                        [
                          0,
                          "#000011"
                        ],
                        [
                          0.1111111111111111,
                          "#000012"
                        ],
                        [
                          0.2222222222222222,
                          "#000013"
                        ],
                        [
                          0.3333333333333333,
                          "#000014"
                        ],
                        [
                          0.4444444444444444,
                          "#000015"
                        ],
                        [
                          0.5555555555555556,
                          "#000016"
                        ],
                        [
                          0.6666666666666666,
                          "#000017"
                        ],
                        [
                          0.7777777777777778,
                          "#000018"
                        ],
                        [
                          0.8888888888888888,
                          "#000019"
                        ],
                        [
                          1,
                          "#000020"
                        ]
                      ],
                      "sequentialminus": [
                        [
                          0,
                          "#000011"
                        ],
                        [
                          0.1111111111111111,
                          "#000012"
                        ],
                        [
                          0.2222222222222222,
                          "#000013"
                        ],
                        [
                          0.3333333333333333,
                          "#000014"
                        ],
                        [
                          0.4444444444444444,
                          "#000015"
                        ],
                        [
                          0.5555555555555556,
                          "#000016"
                        ],
                        [
                          0.6666666666666666,
                          "#000017"
                        ],
                        [
                          0.7777777777777778,
                          "#000018"
                        ],
                        [
                          0.8888888888888888,
                          "#000019"
                        ],
                        [
                          1,
                          "#000020"
                        ]
                      ]
                    },
                    "colorway": [
                      "#000001",
                      "#000002",
                      "#000003",
                      "#000004",
                      "#000005",
                      "#000006",
                      "#000007",
                      "#000008",
                      "#000009",
                      "#000010"
                    ]
                  }
                },
                "title": {
                  "text": "ouviu música?"
                },
                "width": 600,
                "xaxis": {
                  "anchor": "y",
                  "domain": [
                    0,
                    1
                  ],
                  "title": {}
                },
                "yaxis": {
                  "anchor": "x",
                  "domain": [
                    0,
                    1
                  ],
                  "title": {
                    "text": "nota média"
                  }
                }
              }
            }
          },
          "metadata": {},
          "output_type": "display_data"
        }
      ],
      "source": [
        "import plotly.express as px\n",
        "\n",
        "nota_media_ouviu_musica = df_data_list_fred.query('ouviu_musica == \"sim\"')['nota'].mean()\n",
        "nota_media_jogou_com_mais_gente = df_data_list_fred.query('ouviu_musica == \"não\"')['nota'].mean()\n",
        "\n",
        "fig = px.bar(x=['Sim', 'Não'],\n",
        "             y=[nota_media_ouviu_musica, nota_media_jogou_com_mais_gente],\n",
        "             title='ouviu música?',\n",
        "             text=[f'{nota_media_ouviu_musica:.2f}', f'{nota_media_jogou_com_mais_gente:.2f}'],\n",
        "             color_discrete_sequence=px.colors.sequential.RdBu)\n",
        "\n",
        "fig.update_layout(\n",
        "    width=600,\n",
        "    height=400,\n",
        "    yaxis_title= 'nota média',\n",
        "    xaxis_title= None\n",
        ")\n",
        "\n",
        "fig.show()"
      ]
    },
    {
      "cell_type": "code",
      "execution_count": 494,
      "metadata": {},
      "outputs": [
        {
          "data": {
            "application/vnd.plotly.v1+json": {
              "config": {
                "plotlyServerURL": "https://plot.ly"
              },
              "data": [
                {
                  "alignmentgroup": "True",
                  "hovertemplate": "x=%{x}<br>y=%{y}<br>text=%{text}<extra></extra>",
                  "legendgroup": "",
                  "marker": {
                    "color": "rgb(103,0,31)",
                    "pattern": {
                      "shape": ""
                    }
                  },
                  "name": "",
                  "offsetgroup": "",
                  "orientation": "v",
                  "showlegend": false,
                  "text": [
                    "8.50",
                    "9.00"
                  ],
                  "textposition": "auto",
                  "type": "bar",
                  "x": [
                    "Sim",
                    "Não"
                  ],
                  "xaxis": "x",
                  "y": [
                    8.5,
                    9
                  ],
                  "yaxis": "y"
                }
              ],
              "layout": {
                "barmode": "relative",
                "height": 400,
                "legend": {
                  "tracegroupgap": 0
                },
                "template": {
                  "data": {
                    "candlestick": [
                      {
                        "decreasing": {
                          "line": {
                            "color": "#000033"
                          }
                        },
                        "increasing": {
                          "line": {
                            "color": "#000032"
                          }
                        },
                        "type": "candlestick"
                      }
                    ],
                    "contour": [
                      {
                        "colorscale": [
                          [
                            0,
                            "#000011"
                          ],
                          [
                            0.1111111111111111,
                            "#000012"
                          ],
                          [
                            0.2222222222222222,
                            "#000013"
                          ],
                          [
                            0.3333333333333333,
                            "#000014"
                          ],
                          [
                            0.4444444444444444,
                            "#000015"
                          ],
                          [
                            0.5555555555555556,
                            "#000016"
                          ],
                          [
                            0.6666666666666666,
                            "#000017"
                          ],
                          [
                            0.7777777777777778,
                            "#000018"
                          ],
                          [
                            0.8888888888888888,
                            "#000019"
                          ],
                          [
                            1,
                            "#000020"
                          ]
                        ],
                        "type": "contour"
                      }
                    ],
                    "contourcarpet": [
                      {
                        "colorscale": [
                          [
                            0,
                            "#000011"
                          ],
                          [
                            0.1111111111111111,
                            "#000012"
                          ],
                          [
                            0.2222222222222222,
                            "#000013"
                          ],
                          [
                            0.3333333333333333,
                            "#000014"
                          ],
                          [
                            0.4444444444444444,
                            "#000015"
                          ],
                          [
                            0.5555555555555556,
                            "#000016"
                          ],
                          [
                            0.6666666666666666,
                            "#000017"
                          ],
                          [
                            0.7777777777777778,
                            "#000018"
                          ],
                          [
                            0.8888888888888888,
                            "#000019"
                          ],
                          [
                            1,
                            "#000020"
                          ]
                        ],
                        "type": "contourcarpet"
                      }
                    ],
                    "heatmap": [
                      {
                        "colorscale": [
                          [
                            0,
                            "#000011"
                          ],
                          [
                            0.1111111111111111,
                            "#000012"
                          ],
                          [
                            0.2222222222222222,
                            "#000013"
                          ],
                          [
                            0.3333333333333333,
                            "#000014"
                          ],
                          [
                            0.4444444444444444,
                            "#000015"
                          ],
                          [
                            0.5555555555555556,
                            "#000016"
                          ],
                          [
                            0.6666666666666666,
                            "#000017"
                          ],
                          [
                            0.7777777777777778,
                            "#000018"
                          ],
                          [
                            0.8888888888888888,
                            "#000019"
                          ],
                          [
                            1,
                            "#000020"
                          ]
                        ],
                        "type": "heatmap"
                      }
                    ],
                    "histogram2d": [
                      {
                        "colorscale": [
                          [
                            0,
                            "#000011"
                          ],
                          [
                            0.1111111111111111,
                            "#000012"
                          ],
                          [
                            0.2222222222222222,
                            "#000013"
                          ],
                          [
                            0.3333333333333333,
                            "#000014"
                          ],
                          [
                            0.4444444444444444,
                            "#000015"
                          ],
                          [
                            0.5555555555555556,
                            "#000016"
                          ],
                          [
                            0.6666666666666666,
                            "#000017"
                          ],
                          [
                            0.7777777777777778,
                            "#000018"
                          ],
                          [
                            0.8888888888888888,
                            "#000019"
                          ],
                          [
                            1,
                            "#000020"
                          ]
                        ],
                        "type": "histogram2d"
                      }
                    ],
                    "icicle": [
                      {
                        "textfont": {
                          "color": "white"
                        },
                        "type": "icicle"
                      }
                    ],
                    "sankey": [
                      {
                        "textfont": {
                          "color": "#000036"
                        },
                        "type": "sankey"
                      }
                    ],
                    "scatter": [
                      {
                        "marker": {
                          "line": {
                            "width": 0
                          }
                        },
                        "type": "scatter"
                      }
                    ],
                    "table": [
                      {
                        "cells": {
                          "fill": {
                            "color": "#000038"
                          },
                          "font": {
                            "color": "#000037"
                          },
                          "line": {
                            "color": "#000039"
                          }
                        },
                        "header": {
                          "fill": {
                            "color": "#000040"
                          },
                          "font": {
                            "color": "#000036"
                          },
                          "line": {
                            "color": "#000039"
                          }
                        },
                        "type": "table"
                      }
                    ],
                    "waterfall": [
                      {
                        "connector": {
                          "line": {
                            "color": "#000036",
                            "width": 2
                          }
                        },
                        "decreasing": {
                          "marker": {
                            "color": "#000033"
                          }
                        },
                        "increasing": {
                          "marker": {
                            "color": "#000032"
                          }
                        },
                        "totals": {
                          "marker": {
                            "color": "#000034"
                          }
                        },
                        "type": "waterfall"
                      }
                    ]
                  },
                  "layout": {
                    "coloraxis": {
                      "colorscale": [
                        [
                          0,
                          "#000011"
                        ],
                        [
                          0.1111111111111111,
                          "#000012"
                        ],
                        [
                          0.2222222222222222,
                          "#000013"
                        ],
                        [
                          0.3333333333333333,
                          "#000014"
                        ],
                        [
                          0.4444444444444444,
                          "#000015"
                        ],
                        [
                          0.5555555555555556,
                          "#000016"
                        ],
                        [
                          0.6666666666666666,
                          "#000017"
                        ],
                        [
                          0.7777777777777778,
                          "#000018"
                        ],
                        [
                          0.8888888888888888,
                          "#000019"
                        ],
                        [
                          1,
                          "#000020"
                        ]
                      ]
                    },
                    "colorscale": {
                      "diverging": [
                        [
                          0,
                          "#000021"
                        ],
                        [
                          0.1,
                          "#000022"
                        ],
                        [
                          0.2,
                          "#000023"
                        ],
                        [
                          0.3,
                          "#000024"
                        ],
                        [
                          0.4,
                          "#000025"
                        ],
                        [
                          0.5,
                          "#000026"
                        ],
                        [
                          0.6,
                          "#000027"
                        ],
                        [
                          0.7,
                          "#000028"
                        ],
                        [
                          0.8,
                          "#000029"
                        ],
                        [
                          0.9,
                          "#000030"
                        ],
                        [
                          1,
                          "#000031"
                        ]
                      ],
                      "sequential": [
                        [
                          0,
                          "#000011"
                        ],
                        [
                          0.1111111111111111,
                          "#000012"
                        ],
                        [
                          0.2222222222222222,
                          "#000013"
                        ],
                        [
                          0.3333333333333333,
                          "#000014"
                        ],
                        [
                          0.4444444444444444,
                          "#000015"
                        ],
                        [
                          0.5555555555555556,
                          "#000016"
                        ],
                        [
                          0.6666666666666666,
                          "#000017"
                        ],
                        [
                          0.7777777777777778,
                          "#000018"
                        ],
                        [
                          0.8888888888888888,
                          "#000019"
                        ],
                        [
                          1,
                          "#000020"
                        ]
                      ],
                      "sequentialminus": [
                        [
                          0,
                          "#000011"
                        ],
                        [
                          0.1111111111111111,
                          "#000012"
                        ],
                        [
                          0.2222222222222222,
                          "#000013"
                        ],
                        [
                          0.3333333333333333,
                          "#000014"
                        ],
                        [
                          0.4444444444444444,
                          "#000015"
                        ],
                        [
                          0.5555555555555556,
                          "#000016"
                        ],
                        [
                          0.6666666666666666,
                          "#000017"
                        ],
                        [
                          0.7777777777777778,
                          "#000018"
                        ],
                        [
                          0.8888888888888888,
                          "#000019"
                        ],
                        [
                          1,
                          "#000020"
                        ]
                      ]
                    },
                    "colorway": [
                      "#000001",
                      "#000002",
                      "#000003",
                      "#000004",
                      "#000005",
                      "#000006",
                      "#000007",
                      "#000008",
                      "#000009",
                      "#000010"
                    ]
                  }
                },
                "title": {
                  "text": "ouviu música?"
                },
                "width": 600,
                "xaxis": {
                  "anchor": "y",
                  "domain": [
                    0,
                    1
                  ],
                  "title": {}
                },
                "yaxis": {
                  "anchor": "x",
                  "domain": [
                    0,
                    1
                  ],
                  "title": {
                    "text": "nota mais alta"
                  }
                }
              }
            }
          },
          "metadata": {},
          "output_type": "display_data"
        }
      ],
      "source": [
        "import plotly.express as px\n",
        "\n",
        "nota_media_ouviu_musica = df_data_list_fred.query('ouviu_musica == \"sim\"')['nota'].max()\n",
        "nota_media_jogou_com_mais_gente = df_data_list_fred.query('ouviu_musica == \"não\"')['nota'].max()\n",
        "\n",
        "fig = px.bar(x=['Sim', 'Não'],\n",
        "             y=[nota_media_ouviu_musica, nota_media_jogou_com_mais_gente],\n",
        "             title='ouviu música?',\n",
        "             text=[f'{nota_media_ouviu_musica:.2f}', f'{nota_media_jogou_com_mais_gente:.2f}'],\n",
        "             color_discrete_sequence=px.colors.sequential.RdBu)\n",
        "\n",
        "fig.update_layout(\n",
        "    width=600,\n",
        "    height=400,\n",
        "    yaxis_title= 'nota mais alta',\n",
        "    xaxis_title= None\n",
        ")\n",
        "\n",
        "fig.show()"
      ]
    },
    {
      "cell_type": "code",
      "execution_count": 495,
      "metadata": {},
      "outputs": [
        {
          "data": {
            "application/vnd.plotly.v1+json": {
              "config": {
                "plotlyServerURL": "https://plot.ly"
              },
              "data": [
                {
                  "alignmentgroup": "True",
                  "bingroup": "x",
                  "hovertemplate": "sentimento_do_dia=%{x}<br>count=%{y}<extra></extra>",
                  "legendgroup": "",
                  "marker": {
                    "color": "rgb(103,0,31)",
                    "pattern": {
                      "shape": ""
                    }
                  },
                  "name": "",
                  "offsetgroup": "",
                  "orientation": "v",
                  "showlegend": false,
                  "type": "histogram",
                  "x": [
                    "Meh",
                    "não coletado",
                    "não coletado",
                    "não coletado",
                    "não coletado",
                    "não coletado",
                    "animado",
                    "animado",
                    "não coletado",
                    "não coletado",
                    "não coletado",
                    "não coletado",
                    "Triste",
                    "Meh",
                    "Meh",
                    "Esperançoso",
                    "Animado",
                    "Animado",
                    "Animado",
                    "Animado",
                    "Animado",
                    "Animado",
                    "Animado",
                    "Animado",
                    "Animado",
                    "Entusiasmado",
                    "Entusiasmado",
                    "Cansado",
                    "Meh",
                    "Meh",
                    "Entusiasmado",
                    "Meh",
                    "Animado",
                    "Meh",
                    "Animado",
                    "Meh"
                  ],
                  "xaxis": "x",
                  "yaxis": "y"
                }
              ],
              "layout": {
                "autosize": false,
                "barmode": "relative",
                "height": 400,
                "legend": {
                  "tracegroupgap": 0
                },
                "template": {
                  "data": {
                    "candlestick": [
                      {
                        "decreasing": {
                          "line": {
                            "color": "#000033"
                          }
                        },
                        "increasing": {
                          "line": {
                            "color": "#000032"
                          }
                        },
                        "type": "candlestick"
                      }
                    ],
                    "contour": [
                      {
                        "colorscale": [
                          [
                            0,
                            "#000011"
                          ],
                          [
                            0.1111111111111111,
                            "#000012"
                          ],
                          [
                            0.2222222222222222,
                            "#000013"
                          ],
                          [
                            0.3333333333333333,
                            "#000014"
                          ],
                          [
                            0.4444444444444444,
                            "#000015"
                          ],
                          [
                            0.5555555555555556,
                            "#000016"
                          ],
                          [
                            0.6666666666666666,
                            "#000017"
                          ],
                          [
                            0.7777777777777778,
                            "#000018"
                          ],
                          [
                            0.8888888888888888,
                            "#000019"
                          ],
                          [
                            1,
                            "#000020"
                          ]
                        ],
                        "type": "contour"
                      }
                    ],
                    "contourcarpet": [
                      {
                        "colorscale": [
                          [
                            0,
                            "#000011"
                          ],
                          [
                            0.1111111111111111,
                            "#000012"
                          ],
                          [
                            0.2222222222222222,
                            "#000013"
                          ],
                          [
                            0.3333333333333333,
                            "#000014"
                          ],
                          [
                            0.4444444444444444,
                            "#000015"
                          ],
                          [
                            0.5555555555555556,
                            "#000016"
                          ],
                          [
                            0.6666666666666666,
                            "#000017"
                          ],
                          [
                            0.7777777777777778,
                            "#000018"
                          ],
                          [
                            0.8888888888888888,
                            "#000019"
                          ],
                          [
                            1,
                            "#000020"
                          ]
                        ],
                        "type": "contourcarpet"
                      }
                    ],
                    "heatmap": [
                      {
                        "colorscale": [
                          [
                            0,
                            "#000011"
                          ],
                          [
                            0.1111111111111111,
                            "#000012"
                          ],
                          [
                            0.2222222222222222,
                            "#000013"
                          ],
                          [
                            0.3333333333333333,
                            "#000014"
                          ],
                          [
                            0.4444444444444444,
                            "#000015"
                          ],
                          [
                            0.5555555555555556,
                            "#000016"
                          ],
                          [
                            0.6666666666666666,
                            "#000017"
                          ],
                          [
                            0.7777777777777778,
                            "#000018"
                          ],
                          [
                            0.8888888888888888,
                            "#000019"
                          ],
                          [
                            1,
                            "#000020"
                          ]
                        ],
                        "type": "heatmap"
                      }
                    ],
                    "histogram2d": [
                      {
                        "colorscale": [
                          [
                            0,
                            "#000011"
                          ],
                          [
                            0.1111111111111111,
                            "#000012"
                          ],
                          [
                            0.2222222222222222,
                            "#000013"
                          ],
                          [
                            0.3333333333333333,
                            "#000014"
                          ],
                          [
                            0.4444444444444444,
                            "#000015"
                          ],
                          [
                            0.5555555555555556,
                            "#000016"
                          ],
                          [
                            0.6666666666666666,
                            "#000017"
                          ],
                          [
                            0.7777777777777778,
                            "#000018"
                          ],
                          [
                            0.8888888888888888,
                            "#000019"
                          ],
                          [
                            1,
                            "#000020"
                          ]
                        ],
                        "type": "histogram2d"
                      }
                    ],
                    "icicle": [
                      {
                        "textfont": {
                          "color": "white"
                        },
                        "type": "icicle"
                      }
                    ],
                    "sankey": [
                      {
                        "textfont": {
                          "color": "#000036"
                        },
                        "type": "sankey"
                      }
                    ],
                    "scatter": [
                      {
                        "marker": {
                          "line": {
                            "width": 0
                          }
                        },
                        "type": "scatter"
                      }
                    ],
                    "table": [
                      {
                        "cells": {
                          "fill": {
                            "color": "#000038"
                          },
                          "font": {
                            "color": "#000037"
                          },
                          "line": {
                            "color": "#000039"
                          }
                        },
                        "header": {
                          "fill": {
                            "color": "#000040"
                          },
                          "font": {
                            "color": "#000036"
                          },
                          "line": {
                            "color": "#000039"
                          }
                        },
                        "type": "table"
                      }
                    ],
                    "waterfall": [
                      {
                        "connector": {
                          "line": {
                            "color": "#000036",
                            "width": 2
                          }
                        },
                        "decreasing": {
                          "marker": {
                            "color": "#000033"
                          }
                        },
                        "increasing": {
                          "marker": {
                            "color": "#000032"
                          }
                        },
                        "totals": {
                          "marker": {
                            "color": "#000034"
                          }
                        },
                        "type": "waterfall"
                      }
                    ]
                  },
                  "layout": {
                    "coloraxis": {
                      "colorscale": [
                        [
                          0,
                          "#000011"
                        ],
                        [
                          0.1111111111111111,
                          "#000012"
                        ],
                        [
                          0.2222222222222222,
                          "#000013"
                        ],
                        [
                          0.3333333333333333,
                          "#000014"
                        ],
                        [
                          0.4444444444444444,
                          "#000015"
                        ],
                        [
                          0.5555555555555556,
                          "#000016"
                        ],
                        [
                          0.6666666666666666,
                          "#000017"
                        ],
                        [
                          0.7777777777777778,
                          "#000018"
                        ],
                        [
                          0.8888888888888888,
                          "#000019"
                        ],
                        [
                          1,
                          "#000020"
                        ]
                      ]
                    },
                    "colorscale": {
                      "diverging": [
                        [
                          0,
                          "#000021"
                        ],
                        [
                          0.1,
                          "#000022"
                        ],
                        [
                          0.2,
                          "#000023"
                        ],
                        [
                          0.3,
                          "#000024"
                        ],
                        [
                          0.4,
                          "#000025"
                        ],
                        [
                          0.5,
                          "#000026"
                        ],
                        [
                          0.6,
                          "#000027"
                        ],
                        [
                          0.7,
                          "#000028"
                        ],
                        [
                          0.8,
                          "#000029"
                        ],
                        [
                          0.9,
                          "#000030"
                        ],
                        [
                          1,
                          "#000031"
                        ]
                      ],
                      "sequential": [
                        [
                          0,
                          "#000011"
                        ],
                        [
                          0.1111111111111111,
                          "#000012"
                        ],
                        [
                          0.2222222222222222,
                          "#000013"
                        ],
                        [
                          0.3333333333333333,
                          "#000014"
                        ],
                        [
                          0.4444444444444444,
                          "#000015"
                        ],
                        [
                          0.5555555555555556,
                          "#000016"
                        ],
                        [
                          0.6666666666666666,
                          "#000017"
                        ],
                        [
                          0.7777777777777778,
                          "#000018"
                        ],
                        [
                          0.8888888888888888,
                          "#000019"
                        ],
                        [
                          1,
                          "#000020"
                        ]
                      ],
                      "sequentialminus": [
                        [
                          0,
                          "#000011"
                        ],
                        [
                          0.1111111111111111,
                          "#000012"
                        ],
                        [
                          0.2222222222222222,
                          "#000013"
                        ],
                        [
                          0.3333333333333333,
                          "#000014"
                        ],
                        [
                          0.4444444444444444,
                          "#000015"
                        ],
                        [
                          0.5555555555555556,
                          "#000016"
                        ],
                        [
                          0.6666666666666666,
                          "#000017"
                        ],
                        [
                          0.7777777777777778,
                          "#000018"
                        ],
                        [
                          0.8888888888888888,
                          "#000019"
                        ],
                        [
                          1,
                          "#000020"
                        ]
                      ]
                    },
                    "colorway": [
                      "#000001",
                      "#000002",
                      "#000003",
                      "#000004",
                      "#000005",
                      "#000006",
                      "#000007",
                      "#000008",
                      "#000009",
                      "#000010"
                    ]
                  }
                },
                "title": {
                  "text": "sentimento_do_dia"
                },
                "width": 600,
                "xaxis": {
                  "anchor": "y",
                  "domain": [
                    0,
                    1
                  ],
                  "title": {
                    "text": "sentimento_do_dia"
                  }
                },
                "yaxis": {
                  "anchor": "x",
                  "domain": [
                    0,
                    1
                  ],
                  "title": {
                    "text": "count"
                  }
                }
              }
            }
          },
          "metadata": {},
          "output_type": "display_data"
        }
      ],
      "source": [
        "df_data_list_fred_colunas = ['sentimento_do_dia']\n",
        "for column in df_data_list_fred_colunas:\n",
        "    fig = px.histogram(df, \n",
        "                       x=column, \n",
        "                       title=column,\n",
        "                       color_discrete_sequence=px.colors.sequential.RdBu)\n",
        "    fig.update_layout(\n",
        "    autosize=False,\n",
        "    width=600,  # Set the desired width of the plot\n",
        "    height=400  # Set the desired height of the plot\n",
        "    )\n",
        "    fig.show()"
      ]
    },
    {
      "attachments": {},
      "cell_type": "markdown",
      "metadata": {},
      "source": [
        "## Nota média entre os dataframes"
      ]
    },
    {
      "cell_type": "code",
      "execution_count": 496,
      "metadata": {},
      "outputs": [],
      "source": [
        "data = [dict_numeric_stats[i].values() for i in dict_numeric_stats.keys()]"
      ]
    },
    {
      "cell_type": "code",
      "execution_count": 497,
      "metadata": {},
      "outputs": [
        {
          "data": {
            "image/png": "[encoded data removed]",
            "text/plain": [
              "<Figure size 432x288 with 1 Axes>"
            ]
          },
          "metadata": {
            "needs_background": "light"
          },
          "output_type": "display_data"
        }
      ],
      "source": [
        "# Extract 'nota_media' values\n",
        "nota_media_values = [dict_numeric_stats[key]['nota']['nota_media'] for key in dict_numeric_stats.keys()]\n",
        "\n",
        "# Plotting\n",
        "plt.bar(range(len(nota_media_values)), nota_media_values)\n",
        "plt.xlabel('DataFrame')\n",
        "plt.ylabel('nota_media')\n",
        "plt.xticks(range(len(dict_numeric_stats)), dict_numeric_stats.keys())\n",
        "plt.title('nota_media across Dataframes')\n",
        "plt.show()\n"
      ]
    },
    {
      "attachments": {},
      "cell_type": "markdown",
      "metadata": {
        "id": "JTYULgxnSfVH"
      },
      "source": [
        "# Weather API"
      ]
    },
    {
      "cell_type": "code",
      "execution_count": 498,
      "metadata": {
        "id": "OTnujlLWVL5W"
      },
      "outputs": [],
      "source": [
        "import requests"
      ]
    },
    {
      "cell_type": "code",
      "execution_count": 527,
      "metadata": {
        "id": "3PvJPxY6syty"
      },
      "outputs": [],
      "source": [
        "api_key = 'ff5f7420accc4535a4711638232706'\n",
        "location = '-22.712629515340414, -47.6460788617793'\n",
        "api_url = f'http://api.weatherapi.com/v1/current.json?key={api_key}&q={location}&aqi=yes'\n",
        "\n",
        "response = requests.get(api_url)\n",
        "response_json = response.json()"
      ]
    },
    {
      "cell_type": "code",
      "execution_count": 530,
      "metadata": {
        "id": "F22ixep-X0Yu"
      },
      "outputs": [
        {
          "data": {
            "text/plain": [
              "16.4"
            ]
          },
          "execution_count": 530,
          "metadata": {},
          "output_type": "execute_result"
        }
      ],
      "source": [
        "temp_c = response_json['current']['temp_c']\n",
        "condition = response_json['current']['condition']['text']\n",
        "humidity = response_json['current']['humidity']\n",
        "feelslike_c = response_json['current']['feelslike_c']\n",
        "\n",
        "temp_c"
      ]
    },
    {
      "cell_type": "code",
      "execution_count": 529,
      "metadata": {
        "colab": {
          "base_uri": "https://localhost:8080/",
          "height": 206
        },
        "id": "gXEQmaeMbjln",
        "outputId": "6143b85f-9d5e-48d0-c263-fd2dd590d3e1"
      },
      "outputs": [
        {
          "data": {
            "text/html": [
              "<div>\n",
              "<style scoped>\n",
              "    .dataframe tbody tr th:only-of-type {\n",
              "        vertical-align: middle;\n",
              "    }\n",
              "\n",
              "    .dataframe tbody tr th {\n",
              "        vertical-align: top;\n",
              "    }\n",
              "\n",
              "    .dataframe thead th {\n",
              "        text-align: right;\n",
              "    }\n",
              "</style>\n",
              "<table border=\"1\" class=\"dataframe\">\n",
              "  <thead>\n",
              "    <tr style=\"text-align: right;\">\n",
              "      <th></th>\n",
              "      <th>dia</th>\n",
              "      <th>hora_do_jogo</th>\n",
              "    </tr>\n",
              "  </thead>\n",
              "  <tbody>\n",
              "    <tr>\n",
              "      <th>35</th>\n",
              "      <td>2023-06-26</td>\n",
              "      <td>12:30:00</td>\n",
              "    </tr>\n",
              "    <tr>\n",
              "      <th>34</th>\n",
              "      <td>2023-06-21</td>\n",
              "      <td>21:45:00</td>\n",
              "    </tr>\n",
              "    <tr>\n",
              "      <th>32</th>\n",
              "      <td>2023-06-20</td>\n",
              "      <td>21:15:00</td>\n",
              "    </tr>\n",
              "    <tr>\n",
              "      <th>30</th>\n",
              "      <td>2023-06-20</td>\n",
              "      <td>12:14:00</td>\n",
              "    </tr>\n",
              "    <tr>\n",
              "      <th>27</th>\n",
              "      <td>2023-06-16</td>\n",
              "      <td>22:15:00</td>\n",
              "    </tr>\n",
              "  </tbody>\n",
              "</table>\n",
              "</div>"
            ],
            "text/plain": [
              "          dia hora_do_jogo\n",
              "35 2023-06-26     12:30:00\n",
              "34 2023-06-21     21:45:00\n",
              "32 2023-06-20     21:15:00\n",
              "30 2023-06-20     12:14:00\n",
              "27 2023-06-16     22:15:00"
            ]
          },
          "execution_count": 529,
          "metadata": {},
          "output_type": "execute_result"
        }
      ],
      "source": [
        "df_data_list_fred[['dia','hora_do_jogo']].head()"
      ]
    },
    {
      "cell_type": "code",
      "execution_count": 513,
      "metadata": {
        "id": "WN0DlM8BdVQc"
      },
      "outputs": [],
      "source": [
        "df_data_list_fred_teste = df_data_list_fred.copy()\n",
        "# Convert 'dia' column to datetime\n",
        "df_data_list_fred_teste['dia'] = pd.to_datetime(df_data_list_fred_teste['dia'])\n",
        "# Convert 'hora_do_jogo' column to string\n",
        "df_data_list_fred_teste['hora_do_jogo'] = df_data_list_fred_teste['hora_do_jogo'].astype(str)\n",
        "# Concatenate 'dia' and 'hora_do_jogo' columns into a single datetime column\n",
        "df_data_list_fred_teste['datetime'] = df_data_list_fred_teste['dia'].dt.date.astype(str) + ' ' + df_data_list_fred_teste['hora_do_jogo']\n",
        "# Convert 'datetime' column to datetime\n",
        "df_data_list_fred_teste['datetime'] = pd.to_datetime(df_data_list_fred_teste['datetime'])\n",
        "# Drop the original 'dia' and 'hora_do_jogo' columns if needed\n",
        "df_data_list_fred_teste = df_data_list_fred_teste.drop(['dia', 'hora_do_jogo'], axis=1)\n",
        "df_data_list_fred_teste = df_data_list_fred_teste[['datetime']]\n",
        "df_data_list_fred_teste['unix_timestamp'] = df_data_list_fred_teste['datetime'].apply(lambda x: x.timestamp()).astype(int)\n",
        "df_data_list_fred_teste['rounded_datetime'] = df_data_list_fred_teste['datetime'].dt.strftime('%Y-%m-%d %H:00')"
      ]
    },
    {
      "cell_type": "code",
      "execution_count": 514,
      "metadata": {
        "id": "TIRe4VW4cooG"
      },
      "outputs": [],
      "source": [
        "datetime = (df_data_list_fred_teste['datetime'].iloc[-1])\n",
        "rounded_datetime = (df_data_list_fred_teste['rounded_datetime'].iloc[-1])\n",
        "unix = (df_data_list_fred_teste['unix_timestamp'].iloc[-1])"
      ]
    },
    {
      "cell_type": "code",
      "execution_count": 515,
      "metadata": {
        "colab": {
          "base_uri": "https://localhost:8080/"
        },
        "id": "8C9vw0CSe1jP",
        "outputId": "66a21743-acdf-453c-e91a-bb09fbd3cdde"
      },
      "outputs": [
        {
          "name": "stdout",
          "output_type": "stream",
          "text": [
            "2023-04-25 12:24:00\n",
            "2023-04-25 12:00\n",
            "1682425440\n"
          ]
        }
      ],
      "source": [
        "print(datetime)\n",
        "print(rounded_datetime)\n",
        "print(unix)"
      ]
    },
    {
      "cell_type": "code",
      "execution_count": 535,
      "metadata": {
        "id": "JmT4M38Ib0Lf"
      },
      "outputs": [
        {
          "data": {
            "text/plain": [
              "{'error': {'code': 2008, 'message': 'API key has been disabled.'}}"
            ]
          },
          "execution_count": 535,
          "metadata": {},
          "output_type": "execute_result"
        }
      ],
      "source": [
        "api_url = f'http://api.weatherapi.com/v1/history.json?key=ff5f7420accc4535a4711638232706=-22.712629515340414,-47.6460788617793&unixdt={unix}'\n",
        "response = requests.get(api_url)\n",
        "response_json = response.json()\n",
        "response_json"
      ]
    },
    {
      "cell_type": "code",
      "execution_count": 531,
      "metadata": {
        "id": "3HPcQW3GkfBO"
      },
      "outputs": [],
      "source": [
        "lista_unix_jogados = list(df_data_list_fred_teste['unix_timestamp'])\n",
        "dict_response_json = {}\n",
        "\n",
        "for i, unix_item in enumerate(lista_unix_jogados):\n",
        "  api_url = f'http://api.weatherapi.com/v1/history.json?key=ff5f7420accc4535a4711638232706=-22.712629515340414, -47.6460788617793&unixdt={unix_item}'\n",
        "  response = requests.get(api_url)\n",
        "  response_json = response.json()\n",
        "  dict_response_json[f'response_{unix_item}'] = response_json"
      ]
    },
    {
      "cell_type": "code",
      "execution_count": 532,
      "metadata": {},
      "outputs": [
        {
          "data": {
            "text/plain": [
              "{'error': {'code': 2008, 'message': 'API key has been disabled.'}}"
            ]
          },
          "execution_count": 532,
          "metadata": {},
          "output_type": "execute_result"
        }
      ],
      "source": [
        "dict_response_json[f'response_{unix_item}']"
      ]
    },
    {
      "cell_type": "code",
      "execution_count": 533,
      "metadata": {
        "id": "fzLiAYB6Zjny"
      },
      "outputs": [
        {
          "ename": "KeyError",
          "evalue": "'forecast'",
          "output_type": "error",
          "traceback": [
            "\u001b[1;31m---------------------------------------------------------------------------\u001b[0m",
            "\u001b[1;31mKeyError\u001b[0m                                  Traceback (most recent call last)",
            "\u001b[1;32m~\\AppData\\Local\\Temp/ipykernel_1008/2705267133.py\u001b[0m in \u001b[0;36m<module>\u001b[1;34m\u001b[0m\n\u001b[0;32m      4\u001b[0m \u001b[1;32mfor\u001b[0m \u001b[0mdatetime_item\u001b[0m \u001b[1;32min\u001b[0m \u001b[0mlista_datetimes_jogados\u001b[0m\u001b[1;33m:\u001b[0m\u001b[1;33m\u001b[0m\u001b[1;33m\u001b[0m\u001b[0m\n\u001b[0;32m      5\u001b[0m   \u001b[1;32mfor\u001b[0m \u001b[0mresponse\u001b[0m \u001b[1;32min\u001b[0m \u001b[0mdict_response_json\u001b[0m\u001b[1;33m:\u001b[0m\u001b[1;33m\u001b[0m\u001b[1;33m\u001b[0m\u001b[0m\n\u001b[1;32m----> 6\u001b[1;33m     \u001b[0mresponse_element\u001b[0m \u001b[1;33m=\u001b[0m \u001b[0mdict_response_json\u001b[0m\u001b[1;33m[\u001b[0m\u001b[0mresponse\u001b[0m\u001b[1;33m]\u001b[0m\u001b[1;33m[\u001b[0m\u001b[1;34m'forecast'\u001b[0m\u001b[1;33m]\u001b[0m\u001b[1;33m[\u001b[0m\u001b[1;34m'forecastday'\u001b[0m\u001b[1;33m]\u001b[0m\u001b[1;33m[\u001b[0m\u001b[1;36m0\u001b[0m\u001b[1;33m]\u001b[0m\u001b[1;33m[\u001b[0m\u001b[1;34m'hour'\u001b[0m\u001b[1;33m]\u001b[0m\u001b[1;33m\u001b[0m\u001b[1;33m\u001b[0m\u001b[0m\n\u001b[0m\u001b[0;32m      7\u001b[0m     \u001b[1;32mfor\u001b[0m \u001b[0mi\u001b[0m \u001b[1;32min\u001b[0m \u001b[0mrange\u001b[0m\u001b[1;33m(\u001b[0m\u001b[1;36m1\u001b[0m\u001b[1;33m,\u001b[0m \u001b[1;36m24\u001b[0m\u001b[1;33m)\u001b[0m\u001b[1;33m:\u001b[0m\u001b[1;33m\u001b[0m\u001b[1;33m\u001b[0m\u001b[0m\n\u001b[0;32m      8\u001b[0m       \u001b[0melement\u001b[0m \u001b[1;33m=\u001b[0m \u001b[0mresponse_element\u001b[0m\u001b[1;33m[\u001b[0m\u001b[0mi\u001b[0m\u001b[1;33m]\u001b[0m\u001b[1;33m\u001b[0m\u001b[1;33m\u001b[0m\u001b[0m\n",
            "\u001b[1;31mKeyError\u001b[0m: 'forecast'"
          ]
        }
      ],
      "source": [
        "dict_weather = {}\n",
        "lista_datetimes_jogados = list(df_data_list_fred_teste['rounded_datetime'])\n",
        "\n",
        "for datetime_item in lista_datetimes_jogados:\n",
        "  for response in dict_response_json:\n",
        "    response_element = dict_response_json[response]['forecast']['forecastday'][0]['hour']\n",
        "    for i in range(1, 24):\n",
        "      element = response_element[i]\n",
        "      element_datetime = element['time']\n",
        "      if element_datetime == datetime_item:\n",
        "        temp_c = element['temp_c']\n",
        "        condition = element['condition']['text']\n",
        "        humidity = element['humidity']\n",
        "        feelslike_c = element['feelslike_c']\n",
        "        trimmed_key = response.replace('response_', '')\n",
        "        dict_weather[trimmed_key] = {\n",
        "        'datetime': datetime_item,\n",
        "        'temp_c': temp_c,\n",
        "        'condition': condition,\n",
        "        'humidity' : humidity,\n",
        "        'feelslike_c' : feelslike_c\n",
        "        }"
      ]
    },
    {
      "cell_type": "code",
      "execution_count": null,
      "metadata": {},
      "outputs": [
        {
          "data": {
            "text/html": [
              "<div>\n",
              "<style scoped>\n",
              "    .dataframe tbody tr th:only-of-type {\n",
              "        vertical-align: middle;\n",
              "    }\n",
              "\n",
              "    .dataframe tbody tr th {\n",
              "        vertical-align: top;\n",
              "    }\n",
              "\n",
              "    .dataframe thead th {\n",
              "        text-align: right;\n",
              "    }\n",
              "</style>\n",
              "<table border=\"1\" class=\"dataframe\">\n",
              "  <thead>\n",
              "    <tr style=\"text-align: right;\">\n",
              "      <th></th>\n",
              "      <th>datetime</th>\n",
              "      <th>unix_timestamp</th>\n",
              "      <th>rounded_datetime</th>\n",
              "    </tr>\n",
              "  </thead>\n",
              "  <tbody>\n",
              "    <tr>\n",
              "      <th>34</th>\n",
              "      <td>2023-06-21 21:45:00</td>\n",
              "      <td>1687383900</td>\n",
              "      <td>2023-06-21 21:00</td>\n",
              "    </tr>\n",
              "    <tr>\n",
              "      <th>32</th>\n",
              "      <td>2023-06-20 21:15:00</td>\n",
              "      <td>1687295700</td>\n",
              "      <td>2023-06-20 21:00</td>\n",
              "    </tr>\n",
              "    <tr>\n",
              "      <th>30</th>\n",
              "      <td>2023-06-20 12:14:00</td>\n",
              "      <td>1687263240</td>\n",
              "      <td>2023-06-20 12:00</td>\n",
              "    </tr>\n",
              "    <tr>\n",
              "      <th>27</th>\n",
              "      <td>2023-06-16 22:15:00</td>\n",
              "      <td>1686953700</td>\n",
              "      <td>2023-06-16 22:00</td>\n",
              "    </tr>\n",
              "    <tr>\n",
              "      <th>26</th>\n",
              "      <td>2023-06-14 20:30:00</td>\n",
              "      <td>1686774600</td>\n",
              "      <td>2023-06-14 20:00</td>\n",
              "    </tr>\n",
              "  </tbody>\n",
              "</table>\n",
              "</div>"
            ],
            "text/plain": [
              "              datetime  unix_timestamp  rounded_datetime\n",
              "34 2023-06-21 21:45:00      1687383900  2023-06-21 21:00\n",
              "32 2023-06-20 21:15:00      1687295700  2023-06-20 21:00\n",
              "30 2023-06-20 12:14:00      1687263240  2023-06-20 12:00\n",
              "27 2023-06-16 22:15:00      1686953700  2023-06-16 22:00\n",
              "26 2023-06-14 20:30:00      1686774600  2023-06-14 20:00"
            ]
          },
          "execution_count": 186,
          "metadata": {},
          "output_type": "execute_result"
        }
      ],
      "source": [
        "df_data_list_fred_teste.head()"
      ]
    },
    {
      "cell_type": "code",
      "execution_count": null,
      "metadata": {
        "colab": {
          "base_uri": "https://localhost:8080/"
        },
        "id": "rWRFOec-1OfP",
        "outputId": "28bc38ce-cdbd-4217-d9f7-836ac880d331"
      },
      "outputs": [
        {
          "name": "stdout",
          "output_type": "stream",
          "text": [
            "date: 2023-06-21 21:45:00\n",
            "temp_c: 24.0\n"
          ]
        }
      ],
      "source": [
        "date_unix = df_data_list_fred_teste['unix_timestamp'].max()\n",
        "date = df_data_list_fred_teste['datetime'].max()\n",
        "\n",
        "condition = dict_weather[str(date_unix)]['condition']\n",
        "print(\"date:\", date)\n",
        "print(\"temp_c:\", temp_c)"
      ]
    },
    {
      "attachments": {},
      "cell_type": "markdown",
      "metadata": {
        "id": "UZXXzKGpt8d8"
      },
      "source": [
        "# Sugestões"
      ]
    },
    {
      "attachments": {},
      "cell_type": "markdown",
      "metadata": {
        "id": "wxyIvKBTuIGo"
      },
      "source": [
        "- [x] **Total number of games played:** Count the number of rows in the dataframe.\n",
        "- [x] **Average game rating:** Calculate the average value of the 'nota' column.\n",
        "- [x] **Total calories burned:** Sum up the values in the 'calorias' column.\n",
        "- [x] **Average playing time:** Calculate the mean of the 'tempo_jogado' column.\n",
        "- [x] **Percentage of solo games:** Calculate the percentage of games where 'jogou_sozinho' is True.\n",
        "- [x] **Average rest time between games:** Calculate the average value of the 'tempo_de_descanso' column.\n",
        "- [x] **Weekly game count:** Group the dataframe by 'numero_da_semana' and count the number of games in each week.\n",
        "- [x] **Average animo_pra_jogar:** Calculate the mean of the 'animo_pra_jogar' column.\n",
        "- [x] **Distribution of game ratings:** Create a histogram to visualize the distribution of game ratings ('nota').\n",
        "- [x] **Game duration trend over time:** Plot a line chart showing the trend of game durations over different dates.\n",
        "\n",
        "For the streamlit dashboard:\n",
        "\n",
        "- [ ] Create a bar chart to display the total number of games played for each player ('jogador').\n",
        "- [x] Create a line chart to show the trend of game ratings ('nota') over time.\n",
        "- [x] Create a pie chart to illustrate the percentage of solo games versus games played with others.\n",
        "- [x] Create a scatter plot to plot the relationship between 'calorias' burned and 'tempo_jogado'.\n",
        "- [x] Create a heatmap to display the correlation matrix of different columns in the dataframe.\n",
        "\n",
        "Additional data collection:\n",
        "\n",
        "- [ ] **Tracking shooting accuracy:** Record the number of shots taken and made during each game.\n",
        "- [ ] **Tracking opponent's team details:** Collect information about the opposing team, such as their skill level, team composition, etc.\n",
        "- [ ] **Tracking game locations:** Keep track of the different locations where games are played.\n",
        "- [ ] **Tracking game outcomes:** Record whether the game was won or lost.\n",
        "- [ ] **Tracking player performance:** Collect individual player statistics, such as points scored, rebounds, assists, etc.\n",
        "\n",
        "Next steps:\n",
        "\n",
        "- [ ] Perform exploratory data analysis to identify patterns, trends, and insights.\n",
        "- [ ] Create more visualizations and charts to gain a better understanding of the data.\n",
        "- [ ] Develop the Streamlit dashboard using the chosen visualizations and metrics.\n",
        "- [ ] Continuously collect data from each game to keep the dashboard up to date.\n",
        "- [ ] Enhance the dashboard and analysis based on feedback and new insights gained.\n",
        "\n",
        "Remember to consider your specific goals and objectives while selecting metrics and developing the dashboard.\n"
      ]
    },
    {
      "cell_type": "code",
      "execution_count": null,
      "metadata": {
        "id": "m1Xv1c7auhDy"
      },
      "outputs": [],
      "source": []
    },
    {
      "cell_type": "code",
      "execution_count": null,
      "metadata": {},
      "outputs": [],
      "source": []
    },
    {
      "cell_type": "code",
      "execution_count": null,
      "metadata": {},
      "outputs": [],
      "source": []
    },
    {
      "cell_type": "code",
      "execution_count": null,
      "metadata": {},
      "outputs": [],
      "source": []
    },
    {
      "cell_type": "code",
      "execution_count": null,
      "metadata": {},
      "outputs": [],
      "source": []
    }
  ],
  "metadata": {
    "colab": {
      "provenance": [],
      "toc_visible": true
    },
    "kernelspec": {
      "display_name": "Python 3",
      "name": "python3"
    },
    "language_info": {
      "codemirror_mode": {
        "name": "ipython",
        "version": 3
      },
      "file_extension": ".py",
      "mimetype": "text/x-python",
      "name": "python",
      "nbconvert_exporter": "python",
      "pygments_lexer": "ipython3",
      "version": "3.9.6"
    }
  },
  "nbformat": 4,
  "nbformat_minor": 0
}
